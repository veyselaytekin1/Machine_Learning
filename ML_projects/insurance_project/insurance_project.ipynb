{
 "cells": [
  {
   "cell_type": "markdown",
   "id": "c0312701",
   "metadata": {},
   "source": [
    "<div class=\"alert alert-block alert-info alert\">\n",
    "\n",
    "# <span style=\" color:red\">WELCOME!\n",
    "    \n",
    "Bu projede bir saglik kurulusundan alinan gercek veri setiyleyalisacagiz, burda amacimiz, bir makine ögrenmesi\n",
    "    modeli olusturup, ve bu modelin bize tahminler yapmasini saglamak\n",
    "</span>"
   ]
  },
  {
   "cell_type": "code",
   "execution_count": 1,
   "id": "386140ff",
   "metadata": {},
   "outputs": [],
   "source": [
    "#pip install -U scikit-learn"
   ]
  },
  {
   "cell_type": "code",
   "execution_count": 2,
   "id": "432947b4",
   "metadata": {},
   "outputs": [],
   "source": [
    "import pandas as pd\n",
    "import numpy as np\n",
    "import seaborn as sns\n",
    "import matplotlib.pyplot as plt\n",
    "from sklearn.model_selection import train_test_split #verilerimizi bölmek icin\n",
    "from sklearn.linear_model import LinearRegression #linear regression modeli icin\n",
    "from sklearn.metrics import mean_squared_error #mean squered error icin,tahminlerin dogrulugunu ölcecegiz\n",
    "import math     #mean squered error da kare alacagim icin bunu import ediyorum"
   ]
  },
  {
   "cell_type": "code",
   "execution_count": 3,
   "id": "228a97be",
   "metadata": {},
   "outputs": [],
   "source": [
    "data = pd.read_csv('https://raw.githubusercontent.com/TirendazAcademy/MACHINE-LEARNING-TUTORIAL/5a768f2a515639782f87878e54525ebbf328a74b/Datasets/insurance.csv')"
   ]
  },
  {
   "cell_type": "code",
   "execution_count": 4,
   "id": "5571c9a1",
   "metadata": {},
   "outputs": [
    {
     "data": {
      "text/html": [
       "<div>\n",
       "<style scoped>\n",
       "    .dataframe tbody tr th:only-of-type {\n",
       "        vertical-align: middle;\n",
       "    }\n",
       "\n",
       "    .dataframe tbody tr th {\n",
       "        vertical-align: top;\n",
       "    }\n",
       "\n",
       "    .dataframe thead th {\n",
       "        text-align: right;\n",
       "    }\n",
       "</style>\n",
       "<table border=\"1\" class=\"dataframe\">\n",
       "  <thead>\n",
       "    <tr style=\"text-align: right;\">\n",
       "      <th></th>\n",
       "      <th>age</th>\n",
       "      <th>sex</th>\n",
       "      <th>bmi</th>\n",
       "      <th>children</th>\n",
       "      <th>smoker</th>\n",
       "      <th>region</th>\n",
       "      <th>charges</th>\n",
       "    </tr>\n",
       "  </thead>\n",
       "  <tbody>\n",
       "    <tr>\n",
       "      <th>0</th>\n",
       "      <td>19</td>\n",
       "      <td>female</td>\n",
       "      <td>27.900</td>\n",
       "      <td>0</td>\n",
       "      <td>yes</td>\n",
       "      <td>southwest</td>\n",
       "      <td>16884.92400</td>\n",
       "    </tr>\n",
       "    <tr>\n",
       "      <th>1</th>\n",
       "      <td>18</td>\n",
       "      <td>male</td>\n",
       "      <td>33.770</td>\n",
       "      <td>1</td>\n",
       "      <td>no</td>\n",
       "      <td>southeast</td>\n",
       "      <td>1725.55230</td>\n",
       "    </tr>\n",
       "    <tr>\n",
       "      <th>2</th>\n",
       "      <td>28</td>\n",
       "      <td>male</td>\n",
       "      <td>33.000</td>\n",
       "      <td>3</td>\n",
       "      <td>no</td>\n",
       "      <td>southeast</td>\n",
       "      <td>4449.46200</td>\n",
       "    </tr>\n",
       "    <tr>\n",
       "      <th>3</th>\n",
       "      <td>33</td>\n",
       "      <td>male</td>\n",
       "      <td>22.705</td>\n",
       "      <td>0</td>\n",
       "      <td>no</td>\n",
       "      <td>northwest</td>\n",
       "      <td>21984.47061</td>\n",
       "    </tr>\n",
       "    <tr>\n",
       "      <th>4</th>\n",
       "      <td>32</td>\n",
       "      <td>male</td>\n",
       "      <td>28.880</td>\n",
       "      <td>0</td>\n",
       "      <td>no</td>\n",
       "      <td>northwest</td>\n",
       "      <td>3866.85520</td>\n",
       "    </tr>\n",
       "  </tbody>\n",
       "</table>\n",
       "</div>"
      ],
      "text/plain": [
       "   age     sex     bmi  children smoker     region      charges\n",
       "0   19  female  27.900         0    yes  southwest  16884.92400\n",
       "1   18    male  33.770         1     no  southeast   1725.55230\n",
       "2   28    male  33.000         3     no  southeast   4449.46200\n",
       "3   33    male  22.705         0     no  northwest  21984.47061\n",
       "4   32    male  28.880         0     no  northwest   3866.85520"
      ]
     },
     "execution_count": 4,
     "metadata": {},
     "output_type": "execute_result"
    }
   ],
   "source": [
    "data.head()\n",
    "\n",
    "#bmi vucut kitle indexi"
   ]
  },
  {
   "cell_type": "code",
   "execution_count": 5,
   "id": "84eae07c",
   "metadata": {},
   "outputs": [],
   "source": [
    "data.to_csv('insurance.csv')"
   ]
  },
  {
   "cell_type": "code",
   "execution_count": 6,
   "id": "ecec3828",
   "metadata": {},
   "outputs": [
    {
     "name": "stdout",
     "output_type": "stream",
     "text": [
      "<class 'pandas.core.frame.DataFrame'>\n",
      "RangeIndex: 1338 entries, 0 to 1337\n",
      "Data columns (total 7 columns):\n",
      " #   Column    Non-Null Count  Dtype  \n",
      "---  ------    --------------  -----  \n",
      " 0   age       1338 non-null   int64  \n",
      " 1   sex       1338 non-null   object \n",
      " 2   bmi       1338 non-null   float64\n",
      " 3   children  1338 non-null   int64  \n",
      " 4   smoker    1338 non-null   object \n",
      " 5   region    1338 non-null   object \n",
      " 6   charges   1338 non-null   float64\n",
      "dtypes: float64(2), int64(2), object(3)\n",
      "memory usage: 73.3+ KB\n"
     ]
    }
   ],
   "source": [
    "data.info()"
   ]
  },
  {
   "cell_type": "code",
   "execution_count": 7,
   "id": "878d9797",
   "metadata": {},
   "outputs": [
    {
     "data": {
      "text/plain": [
       "(1338, 7)"
      ]
     },
     "execution_count": 7,
     "metadata": {},
     "output_type": "execute_result"
    }
   ],
   "source": [
    "data.shape"
   ]
  },
  {
   "cell_type": "code",
   "execution_count": 8,
   "id": "ed7d5086",
   "metadata": {},
   "outputs": [
    {
     "data": {
      "text/html": [
       "<div>\n",
       "<style scoped>\n",
       "    .dataframe tbody tr th:only-of-type {\n",
       "        vertical-align: middle;\n",
       "    }\n",
       "\n",
       "    .dataframe tbody tr th {\n",
       "        vertical-align: top;\n",
       "    }\n",
       "\n",
       "    .dataframe thead th {\n",
       "        text-align: right;\n",
       "    }\n",
       "</style>\n",
       "<table border=\"1\" class=\"dataframe\">\n",
       "  <thead>\n",
       "    <tr style=\"text-align: right;\">\n",
       "      <th></th>\n",
       "      <th>age</th>\n",
       "      <th>sex</th>\n",
       "      <th>bmi</th>\n",
       "      <th>children</th>\n",
       "      <th>smoker</th>\n",
       "      <th>region</th>\n",
       "      <th>charges</th>\n",
       "    </tr>\n",
       "  </thead>\n",
       "  <tbody>\n",
       "    <tr>\n",
       "      <th>216</th>\n",
       "      <td>53</td>\n",
       "      <td>female</td>\n",
       "      <td>26.6</td>\n",
       "      <td>0</td>\n",
       "      <td>no</td>\n",
       "      <td>northwest</td>\n",
       "      <td>10355.641</td>\n",
       "    </tr>\n",
       "  </tbody>\n",
       "</table>\n",
       "</div>"
      ],
      "text/plain": [
       "     age     sex   bmi  children smoker     region    charges\n",
       "216   53  female  26.6         0     no  northwest  10355.641"
      ]
     },
     "execution_count": 8,
     "metadata": {},
     "output_type": "execute_result"
    }
   ],
   "source": [
    "data[216:217] \n",
    "\n",
    "#en sonda bu verimizin gercek degeri ile modelimizin tahminini kiyaslayacagiz"
   ]
  },
  {
   "cell_type": "code",
   "execution_count": null,
   "id": "6091215c",
   "metadata": {},
   "outputs": [],
   "source": []
  },
  {
   "cell_type": "code",
   "execution_count": 9,
   "id": "adf18d52",
   "metadata": {},
   "outputs": [
    {
     "data": {
      "text/plain": [
       "age         0\n",
       "sex         0\n",
       "bmi         0\n",
       "children    0\n",
       "smoker      0\n",
       "region      0\n",
       "charges     0\n",
       "dtype: int64"
      ]
     },
     "execution_count": 9,
     "metadata": {},
     "output_type": "execute_result"
    }
   ],
   "source": [
    "data.isnull().sum()  #data is clear"
   ]
  },
  {
   "cell_type": "code",
   "execution_count": 10,
   "id": "f7dc7043",
   "metadata": {},
   "outputs": [
    {
     "data": {
      "text/plain": [
       "0"
      ]
     },
     "execution_count": 10,
     "metadata": {},
     "output_type": "execute_result"
    }
   ],
   "source": [
    "data.isnull().sum().sum()"
   ]
  },
  {
   "cell_type": "code",
   "execution_count": 11,
   "id": "b1b52a6d",
   "metadata": {},
   "outputs": [
    {
     "data": {
      "text/plain": [
       "age           int64\n",
       "sex          object\n",
       "bmi         float64\n",
       "children      int64\n",
       "smoker       object\n",
       "region       object\n",
       "charges     float64\n",
       "dtype: object"
      ]
     },
     "execution_count": 11,
     "metadata": {},
     "output_type": "execute_result"
    }
   ],
   "source": [
    "data.dtypes"
   ]
  },
  {
   "cell_type": "code",
   "execution_count": 12,
   "id": "3885180c",
   "metadata": {},
   "outputs": [
    {
     "data": {
      "text/plain": [
       "male      676\n",
       "female    662\n",
       "Name: sex, dtype: int64"
      ]
     },
     "execution_count": 12,
     "metadata": {},
     "output_type": "execute_result"
    }
   ],
   "source": [
    "data.sex.value_counts()       #categorik yapmaya uygun"
   ]
  },
  {
   "cell_type": "code",
   "execution_count": 13,
   "id": "c8963e6a",
   "metadata": {},
   "outputs": [
    {
     "data": {
      "text/plain": [
       "0    574\n",
       "1    324\n",
       "2    240\n",
       "3    157\n",
       "4     25\n",
       "5     18\n",
       "Name: children, dtype: int64"
      ]
     },
     "execution_count": 13,
     "metadata": {},
     "output_type": "execute_result"
    }
   ],
   "source": [
    "data.children.value_counts()         #categorik yapmaya uygun"
   ]
  },
  {
   "cell_type": "code",
   "execution_count": 14,
   "id": "a9b1ba0f",
   "metadata": {},
   "outputs": [
    {
     "data": {
      "text/plain": [
       "no     1064\n",
       "yes     274\n",
       "Name: smoker, dtype: int64"
      ]
     },
     "execution_count": 14,
     "metadata": {},
     "output_type": "execute_result"
    }
   ],
   "source": [
    "data.smoker.value_counts()           #categorik yapmaya uygun"
   ]
  },
  {
   "cell_type": "code",
   "execution_count": 15,
   "id": "fb1b2e5f",
   "metadata": {},
   "outputs": [
    {
     "data": {
      "text/plain": [
       "southeast    364\n",
       "southwest    325\n",
       "northwest    325\n",
       "northeast    324\n",
       "Name: region, dtype: int64"
      ]
     },
     "execution_count": 15,
     "metadata": {},
     "output_type": "execute_result"
    }
   ],
   "source": [
    "data.region.value_counts()          #categorik yapmaya uygun"
   ]
  },
  {
   "cell_type": "code",
   "execution_count": 16,
   "id": "ffd4f771",
   "metadata": {},
   "outputs": [],
   "source": [
    "data['sex'] = data['sex'].astype('category')\n",
    "data['smoker'] = data['smoker'].astype('category')\n",
    "data['region'] = data['region'].astype('category')"
   ]
  },
  {
   "cell_type": "code",
   "execution_count": 17,
   "id": "a8d6e84d",
   "metadata": {},
   "outputs": [
    {
     "data": {
      "text/html": [
       "<div>\n",
       "<style scoped>\n",
       "    .dataframe tbody tr th:only-of-type {\n",
       "        vertical-align: middle;\n",
       "    }\n",
       "\n",
       "    .dataframe tbody tr th {\n",
       "        vertical-align: top;\n",
       "    }\n",
       "\n",
       "    .dataframe thead th {\n",
       "        text-align: right;\n",
       "    }\n",
       "</style>\n",
       "<table border=\"1\" class=\"dataframe\">\n",
       "  <thead>\n",
       "    <tr style=\"text-align: right;\">\n",
       "      <th></th>\n",
       "      <th>age</th>\n",
       "      <th>bmi</th>\n",
       "      <th>children</th>\n",
       "      <th>charges</th>\n",
       "    </tr>\n",
       "    <tr>\n",
       "      <th>smoker</th>\n",
       "      <th></th>\n",
       "      <th></th>\n",
       "      <th></th>\n",
       "      <th></th>\n",
       "    </tr>\n",
       "  </thead>\n",
       "  <tbody>\n",
       "    <tr>\n",
       "      <th>no</th>\n",
       "      <td>39.39</td>\n",
       "      <td>30.65</td>\n",
       "      <td>1.09</td>\n",
       "      <td>8434.27</td>\n",
       "    </tr>\n",
       "    <tr>\n",
       "      <th>yes</th>\n",
       "      <td>38.51</td>\n",
       "      <td>30.71</td>\n",
       "      <td>1.11</td>\n",
       "      <td>32050.23</td>\n",
       "    </tr>\n",
       "  </tbody>\n",
       "</table>\n",
       "</div>"
      ],
      "text/plain": [
       "          age    bmi  children   charges\n",
       "smoker                                  \n",
       "no      39.39  30.65      1.09   8434.27\n",
       "yes     38.51  30.71      1.11  32050.23"
      ]
     },
     "execution_count": 17,
     "metadata": {},
     "output_type": "execute_result"
    }
   ],
   "source": [
    "smoke_data = data.groupby('smoker').mean().round(2)\n",
    "smoke_data\n",
    "\n",
    "#burda sigara icenler daha cok masraf cikarmislar"
   ]
  },
  {
   "cell_type": "code",
   "execution_count": 18,
   "id": "aed3aee8",
   "metadata": {},
   "outputs": [
    {
     "data": {
      "text/plain": [
       "smoker\n",
       "no     8974061.47\n",
       "yes    8781763.52\n",
       "Name: charges, dtype: float64"
      ]
     },
     "execution_count": 18,
     "metadata": {},
     "output_type": "execute_result"
    }
   ],
   "source": [
    "smoke_data = data.groupby('smoker').sum().round(2).charges\n",
    "smoke_data"
   ]
  },
  {
   "cell_type": "code",
   "execution_count": null,
   "id": "e708b6c3",
   "metadata": {},
   "outputs": [],
   "source": []
  },
  {
   "cell_type": "code",
   "execution_count": 19,
   "id": "ce9d6c13",
   "metadata": {},
   "outputs": [
    {
     "data": {
      "image/png": "[encoded data removed]",
      "text/plain": [
       "<Figure size 720x360 with 1 Axes>"
      ]
     },
     "metadata": {
      "needs_background": "light"
     },
     "output_type": "display_data"
    }
   ],
   "source": [
    "plt.figure(figsize=(10,5))\n",
    "sns.set_style(\"darkgrid\")\n",
    "\n",
    "sns.scatterplot(data=data , x='age' ,y='charges', hue='smoker' );\n",
    "\n",
    "#burda sigara icenlerin ,icmeyenlere göre daha fazlasaglik harcamalari oldugunu görüyüroz"
   ]
  },
  {
   "cell_type": "code",
   "execution_count": 20,
   "id": "8639a464",
   "metadata": {},
   "outputs": [
    {
     "data": {
      "image/png": "[encoded data removed]",
      "text/plain": [
       "<Figure size 432x288 with 2 Axes>"
      ]
     },
     "metadata": {},
     "output_type": "display_data"
    }
   ],
   "source": [
    "sns.heatmap(data.corr(),cmap=\"YlGnBu\", annot = True);"
   ]
  },
  {
   "cell_type": "code",
   "execution_count": 21,
   "id": "627eb4e4",
   "metadata": {},
   "outputs": [
    {
     "data": {
      "text/plain": [
       "age            int64\n",
       "sex         category\n",
       "bmi          float64\n",
       "children       int64\n",
       "smoker      category\n",
       "region      category\n",
       "charges      float64\n",
       "dtype: object"
      ]
     },
     "execution_count": 21,
     "metadata": {},
     "output_type": "execute_result"
    }
   ],
   "source": [
    "data.dtypes"
   ]
  },
  {
   "cell_type": "code",
   "execution_count": 22,
   "id": "df4a83b4",
   "metadata": {},
   "outputs": [
    {
     "data": {
      "text/plain": [
       "Index(['age', 'sex', 'bmi', 'children', 'smoker', 'region', 'charges'], dtype='object')"
      ]
     },
     "execution_count": 22,
     "metadata": {},
     "output_type": "execute_result"
    }
   ],
   "source": [
    "data.columns"
   ]
  },
  {
   "cell_type": "code",
   "execution_count": 23,
   "id": "9ba88abc",
   "metadata": {},
   "outputs": [],
   "source": [
    "data = pd.get_dummies(data)   #veriyi makinanin anlayacagi sekle koyuyourz"
   ]
  },
  {
   "cell_type": "code",
   "execution_count": 24,
   "id": "d68799a4",
   "metadata": {},
   "outputs": [
    {
     "data": {
      "text/plain": [
       "Index(['age', 'bmi', 'children', 'charges', 'sex_female', 'sex_male',\n",
       "       'smoker_no', 'smoker_yes', 'region_northeast', 'region_northwest',\n",
       "       'region_southeast', 'region_southwest'],\n",
       "      dtype='object')"
      ]
     },
     "execution_count": 24,
     "metadata": {},
     "output_type": "execute_result"
    }
   ],
   "source": [
    "data.columns"
   ]
  },
  {
   "cell_type": "code",
   "execution_count": 25,
   "id": "5d6ca487",
   "metadata": {},
   "outputs": [
    {
     "data": {
      "text/plain": [
       "0       16884.92400\n",
       "1        1725.55230\n",
       "2        4449.46200\n",
       "3       21984.47061\n",
       "4        3866.85520\n",
       "           ...     \n",
       "1333    10600.54830\n",
       "1334     2205.98080\n",
       "1335     1629.83350\n",
       "1336     2007.94500\n",
       "1337    29141.36030\n",
       "Name: charges, Length: 1338, dtype: float64"
      ]
     },
     "execution_count": 25,
     "metadata": {},
     "output_type": "execute_result"
    }
   ],
   "source": [
    "data.charges"
   ]
  },
  {
   "cell_type": "markdown",
   "id": "c0015b92",
   "metadata": {},
   "source": [
    "# Bu asamadan sonra ML ye basliyoruz"
   ]
  },
  {
   "cell_type": "code",
   "execution_count": 26,
   "id": "135be0a4",
   "metadata": {},
   "outputs": [],
   "source": [
    "y = data['charges']    #sonuc yani harcamlarin oldugu column"
   ]
  },
  {
   "cell_type": "code",
   "execution_count": 27,
   "id": "252f8a98",
   "metadata": {},
   "outputs": [],
   "source": [
    "X = data.drop('charges', axis = 1)  \n",
    "\n",
    "#harcama, yani sonuc disinda olan ve bizim bagimsiz degisken diyebilecegimiz features lerin hepsi"
   ]
  },
  {
   "cell_type": "code",
   "execution_count": 28,
   "id": "2032f8af",
   "metadata": {},
   "outputs": [
    {
     "data": {
      "text/html": [
       "<div>\n",
       "<style scoped>\n",
       "    .dataframe tbody tr th:only-of-type {\n",
       "        vertical-align: middle;\n",
       "    }\n",
       "\n",
       "    .dataframe tbody tr th {\n",
       "        vertical-align: top;\n",
       "    }\n",
       "\n",
       "    .dataframe thead th {\n",
       "        text-align: right;\n",
       "    }\n",
       "</style>\n",
       "<table border=\"1\" class=\"dataframe\">\n",
       "  <thead>\n",
       "    <tr style=\"text-align: right;\">\n",
       "      <th></th>\n",
       "      <th>age</th>\n",
       "      <th>bmi</th>\n",
       "      <th>children</th>\n",
       "      <th>sex_female</th>\n",
       "      <th>sex_male</th>\n",
       "      <th>smoker_no</th>\n",
       "      <th>smoker_yes</th>\n",
       "      <th>region_northeast</th>\n",
       "      <th>region_northwest</th>\n",
       "      <th>region_southeast</th>\n",
       "      <th>region_southwest</th>\n",
       "    </tr>\n",
       "  </thead>\n",
       "  <tbody>\n",
       "    <tr>\n",
       "      <th>0</th>\n",
       "      <td>19</td>\n",
       "      <td>27.900</td>\n",
       "      <td>0</td>\n",
       "      <td>1</td>\n",
       "      <td>0</td>\n",
       "      <td>0</td>\n",
       "      <td>1</td>\n",
       "      <td>0</td>\n",
       "      <td>0</td>\n",
       "      <td>0</td>\n",
       "      <td>1</td>\n",
       "    </tr>\n",
       "    <tr>\n",
       "      <th>1</th>\n",
       "      <td>18</td>\n",
       "      <td>33.770</td>\n",
       "      <td>1</td>\n",
       "      <td>0</td>\n",
       "      <td>1</td>\n",
       "      <td>1</td>\n",
       "      <td>0</td>\n",
       "      <td>0</td>\n",
       "      <td>0</td>\n",
       "      <td>1</td>\n",
       "      <td>0</td>\n",
       "    </tr>\n",
       "    <tr>\n",
       "      <th>2</th>\n",
       "      <td>28</td>\n",
       "      <td>33.000</td>\n",
       "      <td>3</td>\n",
       "      <td>0</td>\n",
       "      <td>1</td>\n",
       "      <td>1</td>\n",
       "      <td>0</td>\n",
       "      <td>0</td>\n",
       "      <td>0</td>\n",
       "      <td>1</td>\n",
       "      <td>0</td>\n",
       "    </tr>\n",
       "    <tr>\n",
       "      <th>3</th>\n",
       "      <td>33</td>\n",
       "      <td>22.705</td>\n",
       "      <td>0</td>\n",
       "      <td>0</td>\n",
       "      <td>1</td>\n",
       "      <td>1</td>\n",
       "      <td>0</td>\n",
       "      <td>0</td>\n",
       "      <td>1</td>\n",
       "      <td>0</td>\n",
       "      <td>0</td>\n",
       "    </tr>\n",
       "    <tr>\n",
       "      <th>4</th>\n",
       "      <td>32</td>\n",
       "      <td>28.880</td>\n",
       "      <td>0</td>\n",
       "      <td>0</td>\n",
       "      <td>1</td>\n",
       "      <td>1</td>\n",
       "      <td>0</td>\n",
       "      <td>0</td>\n",
       "      <td>1</td>\n",
       "      <td>0</td>\n",
       "      <td>0</td>\n",
       "    </tr>\n",
       "    <tr>\n",
       "      <th>...</th>\n",
       "      <td>...</td>\n",
       "      <td>...</td>\n",
       "      <td>...</td>\n",
       "      <td>...</td>\n",
       "      <td>...</td>\n",
       "      <td>...</td>\n",
       "      <td>...</td>\n",
       "      <td>...</td>\n",
       "      <td>...</td>\n",
       "      <td>...</td>\n",
       "      <td>...</td>\n",
       "    </tr>\n",
       "    <tr>\n",
       "      <th>1333</th>\n",
       "      <td>50</td>\n",
       "      <td>30.970</td>\n",
       "      <td>3</td>\n",
       "      <td>0</td>\n",
       "      <td>1</td>\n",
       "      <td>1</td>\n",
       "      <td>0</td>\n",
       "      <td>0</td>\n",
       "      <td>1</td>\n",
       "      <td>0</td>\n",
       "      <td>0</td>\n",
       "    </tr>\n",
       "    <tr>\n",
       "      <th>1334</th>\n",
       "      <td>18</td>\n",
       "      <td>31.920</td>\n",
       "      <td>0</td>\n",
       "      <td>1</td>\n",
       "      <td>0</td>\n",
       "      <td>1</td>\n",
       "      <td>0</td>\n",
       "      <td>1</td>\n",
       "      <td>0</td>\n",
       "      <td>0</td>\n",
       "      <td>0</td>\n",
       "    </tr>\n",
       "    <tr>\n",
       "      <th>1335</th>\n",
       "      <td>18</td>\n",
       "      <td>36.850</td>\n",
       "      <td>0</td>\n",
       "      <td>1</td>\n",
       "      <td>0</td>\n",
       "      <td>1</td>\n",
       "      <td>0</td>\n",
       "      <td>0</td>\n",
       "      <td>0</td>\n",
       "      <td>1</td>\n",
       "      <td>0</td>\n",
       "    </tr>\n",
       "    <tr>\n",
       "      <th>1336</th>\n",
       "      <td>21</td>\n",
       "      <td>25.800</td>\n",
       "      <td>0</td>\n",
       "      <td>1</td>\n",
       "      <td>0</td>\n",
       "      <td>1</td>\n",
       "      <td>0</td>\n",
       "      <td>0</td>\n",
       "      <td>0</td>\n",
       "      <td>0</td>\n",
       "      <td>1</td>\n",
       "    </tr>\n",
       "    <tr>\n",
       "      <th>1337</th>\n",
       "      <td>61</td>\n",
       "      <td>29.070</td>\n",
       "      <td>0</td>\n",
       "      <td>1</td>\n",
       "      <td>0</td>\n",
       "      <td>0</td>\n",
       "      <td>1</td>\n",
       "      <td>0</td>\n",
       "      <td>1</td>\n",
       "      <td>0</td>\n",
       "      <td>0</td>\n",
       "    </tr>\n",
       "  </tbody>\n",
       "</table>\n",
       "<p>1338 rows × 11 columns</p>\n",
       "</div>"
      ],
      "text/plain": [
       "      age     bmi  children  sex_female  sex_male  smoker_no  smoker_yes  \\\n",
       "0      19  27.900         0           1         0          0           1   \n",
       "1      18  33.770         1           0         1          1           0   \n",
       "2      28  33.000         3           0         1          1           0   \n",
       "3      33  22.705         0           0         1          1           0   \n",
       "4      32  28.880         0           0         1          1           0   \n",
       "...   ...     ...       ...         ...       ...        ...         ...   \n",
       "1333   50  30.970         3           0         1          1           0   \n",
       "1334   18  31.920         0           1         0          1           0   \n",
       "1335   18  36.850         0           1         0          1           0   \n",
       "1336   21  25.800         0           1         0          1           0   \n",
       "1337   61  29.070         0           1         0          0           1   \n",
       "\n",
       "      region_northeast  region_northwest  region_southeast  region_southwest  \n",
       "0                    0                 0                 0                 1  \n",
       "1                    0                 0                 1                 0  \n",
       "2                    0                 0                 1                 0  \n",
       "3                    0                 1                 0                 0  \n",
       "4                    0                 1                 0                 0  \n",
       "...                ...               ...               ...               ...  \n",
       "1333                 0                 1                 0                 0  \n",
       "1334                 1                 0                 0                 0  \n",
       "1335                 0                 0                 1                 0  \n",
       "1336                 0                 0                 0                 1  \n",
       "1337                 0                 1                 0                 0  \n",
       "\n",
       "[1338 rows x 11 columns]"
      ]
     },
     "execution_count": 28,
     "metadata": {},
     "output_type": "execute_result"
    }
   ],
   "source": [
    "X\n",
    "#icinden 'charges' i kaldirdi cünkü bu X ler bagimsiz degiskenler olarak yapiyoruz"
   ]
  },
  {
   "cell_type": "markdown",
   "id": "65b8a165",
   "metadata": {},
   "source": [
    "### modeli kuralim"
   ]
  },
  {
   "cell_type": "code",
   "execution_count": 29,
   "id": "0adebe48",
   "metadata": {},
   "outputs": [],
   "source": [
    "X_train, X_test, y_train, y_test = train_test_split(X, y, train_size = 0.80, random_state = 1)\n",
    "#bu sekilde verileri %80 train ve %20 test verileri olarak bölüyorum"
   ]
  },
  {
   "cell_type": "code",
   "execution_count": 30,
   "id": "91c0b47b",
   "metadata": {},
   "outputs": [],
   "source": [
    "lr = LinearRegression()\n",
    "#burdan Linear regression modelinden bir örnekleme yapmis olduk\n",
    "#yukaridada bunun icin Linearregressin import etttik\n",
    "#aslinda sanki burdan biz bir model olusturduk"
   ]
  },
  {
   "cell_type": "code",
   "execution_count": 31,
   "id": "de9ae0d2",
   "metadata": {},
   "outputs": [
    {
     "data": {
      "text/html": [
       "<style>#sk-container-id-1 {color: black;background-color: white;}#sk-container-id-1 pre{padding: 0;}#sk-container-id-1 div.sk-toggleable {background-color: white;}#sk-container-id-1 label.sk-toggleable__label {cursor: pointer;display: block;width: 100%;margin-bottom: 0;padding: 0.3em;box-sizing: border-box;text-align: center;}#sk-container-id-1 label.sk-toggleable__label-arrow:before {content: \"▸\";float: left;margin-right: 0.25em;color: #696969;}#sk-container-id-1 label.sk-toggleable__label-arrow:hover:before {color: black;}#sk-container-id-1 div.sk-estimator:hover label.sk-toggleable__label-arrow:before {color: black;}#sk-container-id-1 div.sk-toggleable__content {max-height: 0;max-width: 0;overflow: hidden;text-align: left;background-color: #f0f8ff;}#sk-container-id-1 div.sk-toggleable__content pre {margin: 0.2em;color: black;border-radius: 0.25em;background-color: #f0f8ff;}#sk-container-id-1 input.sk-toggleable__control:checked~div.sk-toggleable__content {max-height: 200px;max-width: 100%;overflow: auto;}#sk-container-id-1 input.sk-toggleable__control:checked~label.sk-toggleable__label-arrow:before {content: \"▾\";}#sk-container-id-1 div.sk-estimator input.sk-toggleable__control:checked~label.sk-toggleable__label {background-color: #d4ebff;}#sk-container-id-1 div.sk-label input.sk-toggleable__control:checked~label.sk-toggleable__label {background-color: #d4ebff;}#sk-container-id-1 input.sk-hidden--visually {border: 0;clip: rect(1px 1px 1px 1px);clip: rect(1px, 1px, 1px, 1px);height: 1px;margin: -1px;overflow: hidden;padding: 0;position: absolute;width: 1px;}#sk-container-id-1 div.sk-estimator {font-family: monospace;background-color: #f0f8ff;border: 1px dotted black;border-radius: 0.25em;box-sizing: border-box;margin-bottom: 0.5em;}#sk-container-id-1 div.sk-estimator:hover {background-color: #d4ebff;}#sk-container-id-1 div.sk-parallel-item::after {content: \"\";width: 100%;border-bottom: 1px solid gray;flex-grow: 1;}#sk-container-id-1 div.sk-label:hover label.sk-toggleable__label {background-color: #d4ebff;}#sk-container-id-1 div.sk-serial::before {content: \"\";position: absolute;border-left: 1px solid gray;box-sizing: border-box;top: 0;bottom: 0;left: 50%;z-index: 0;}#sk-container-id-1 div.sk-serial {display: flex;flex-direction: column;align-items: center;background-color: white;padding-right: 0.2em;padding-left: 0.2em;position: relative;}#sk-container-id-1 div.sk-item {position: relative;z-index: 1;}#sk-container-id-1 div.sk-parallel {display: flex;align-items: stretch;justify-content: center;background-color: white;position: relative;}#sk-container-id-1 div.sk-item::before, #sk-container-id-1 div.sk-parallel-item::before {content: \"\";position: absolute;border-left: 1px solid gray;box-sizing: border-box;top: 0;bottom: 0;left: 50%;z-index: -1;}#sk-container-id-1 div.sk-parallel-item {display: flex;flex-direction: column;z-index: 1;position: relative;background-color: white;}#sk-container-id-1 div.sk-parallel-item:first-child::after {align-self: flex-end;width: 50%;}#sk-container-id-1 div.sk-parallel-item:last-child::after {align-self: flex-start;width: 50%;}#sk-container-id-1 div.sk-parallel-item:only-child::after {width: 0;}#sk-container-id-1 div.sk-dashed-wrapped {border: 1px dashed gray;margin: 0 0.4em 0.5em 0.4em;box-sizing: border-box;padding-bottom: 0.4em;background-color: white;}#sk-container-id-1 div.sk-label label {font-family: monospace;font-weight: bold;display: inline-block;line-height: 1.2em;}#sk-container-id-1 div.sk-label-container {text-align: center;}#sk-container-id-1 div.sk-container {/* jupyter's `normalize.less` sets `[hidden] { display: none; }` but bootstrap.min.css set `[hidden] { display: none !important; }` so we also need the `!important` here to be able to override the default hidden behavior on the sphinx rendered scikit-learn.org. See: https://github.com/scikit-learn/scikit-learn/issues/21755 */display: inline-block !important;position: relative;}#sk-container-id-1 div.sk-text-repr-fallback {display: none;}</style><div id=\"sk-container-id-1\" class=\"sk-top-container\"><div class=\"sk-text-repr-fallback\"><pre>LinearRegression()</pre><b>In a Jupyter environment, please rerun this cell to show the HTML representation or trust the notebook. <br />On GitHub, the HTML representation is unable to render, please try loading this page with nbviewer.org.</b></div><div class=\"sk-container\" hidden><div class=\"sk-item\"><div class=\"sk-estimator sk-toggleable\"><input class=\"sk-toggleable__control sk-hidden--visually\" id=\"sk-estimator-id-1\" type=\"checkbox\" checked><label for=\"sk-estimator-id-1\" class=\"sk-toggleable__label sk-toggleable__label-arrow\">LinearRegression</label><div class=\"sk-toggleable__content\"><pre>LinearRegression()</pre></div></div></div></div></div>"
      ],
      "text/plain": [
       "LinearRegression()"
      ]
     },
     "execution_count": 31,
     "metadata": {},
     "output_type": "execute_result"
    }
   ],
   "source": [
    "lr.fit(X_train, y_train)   #egitim icin aldigim verileri aliyorum,bu adimda modeli egitiyorum\n",
    "#o simdi X_traindeki(age,sex,smoker,region,chilren) ve y_train(charges) arasinda baglanti kuracak\n",
    "#ve masraflara hangi kriterlerin ne kadar etkili oldugunu görecek\n",
    "#simdide egitim verilerini kullanarak modeli kuralim,simdide performansina bakalim diyor\n",
    "\n",
    "\n",
    "#ilginc ama adam modeli kurduk dedi, yani ne demek istedigini halen anlamiyorum(ama sonradan anladim :)\n",
    "\n",
    "#burda yaptigi seyi galiba anladim, burda bir üstte bir model kurdu, yani sklearn de hazir olan \n",
    "#bir modeli cagirdi aslinda, o arka planda herseyi hazir olan bir model\n",
    "#biz verileri verdigimizde o kendi algoritmalarina göre veriyi isliyor ve \n",
    "#ve biraz sonra X_test verisini veridigimizde yapacagi tahminleri görecegiz ve biz bu tahminlerin basarisini \n",
    "#y_test(yani gercek degerlerle) karsilastirip, bulacagiz\n",
    "#ve asagida 0.762 buldu"
   ]
  },
  {
   "cell_type": "code",
   "execution_count": 32,
   "id": "8f11ab53",
   "metadata": {},
   "outputs": [],
   "source": [
    "#yaptigimiz modelin performansini görmek icin, simdide belirleme katsayisini bulalim\n",
    "#bu deger 1 e nekadar yakinsa model okdar iyidir"
   ]
  },
  {
   "cell_type": "markdown",
   "id": "b2e43049",
   "metadata": {},
   "source": [
    "## Validation islemleri"
   ]
  },
  {
   "cell_type": "code",
   "execution_count": 33,
   "id": "5ea947de",
   "metadata": {},
   "outputs": [
    {
     "data": {
      "text/plain": [
       "0.762"
      ]
     },
     "execution_count": 33,
     "metadata": {},
     "output_type": "execute_result"
    }
   ],
   "source": [
    "lr.score(X_test, y_test).round(3) \n",
    "\n",
    "#simdi modelimizin basari oranini görecegiz, bu komut calisinca modelin r_karesi ekrana yaziliyor\n",
    "#eger modelin r_karesi 0.7 den büyükse model basarili demektir\n",
    "\n",
    "#aslinda bu bir validation islemidir\n",
    "#burda sonucu ölcmek icin test veri kümesini kullaniyoruz"
   ]
  },
  {
   "cell_type": "code",
   "execution_count": 34,
   "id": "a44098e7",
   "metadata": {},
   "outputs": [
    {
     "data": {
      "text/plain": [
       "0.748"
      ]
     },
     "execution_count": 34,
     "metadata": {},
     "output_type": "execute_result"
    }
   ],
   "source": [
    "lr.score(X_train, y_train).round(3)\n",
    "\n",
    "#simdide modelin egitim verileri üzerindeki dogrulugunu görelim\n",
    "#bu degerde 0.7 den büyük ve test veirlerinin r_karesine yakin cikti\n",
    "#egitim verilerinide baktik\n",
    "\n",
    "#ama bunun ne anlama geldigini anlamadim"
   ]
  },
  {
   "cell_type": "markdown",
   "id": "2639f3bc",
   "metadata": {},
   "source": [
    "## Prediction yapiyor"
   ]
  },
  {
   "cell_type": "code",
   "execution_count": 35,
   "id": "b0df96ad",
   "metadata": {},
   "outputs": [],
   "source": [
    "y_pred = lr.predict(X_test) \n",
    "\n",
    "#predict metoduyla input_testleri modele koyuyorum, suan test modellerine göre tahmin yaptk\n",
    "\n",
    "#simdide modeli degerlendirmek icin bir diger metrik olan hata kareler ortalamasina(mean squared error) bakalim\n",
    "#bunun icin öncelikle  predict metoduyla test verilerini tahmin edelim"
   ]
  },
  {
   "cell_type": "code",
   "execution_count": 36,
   "id": "bdc4929f",
   "metadata": {},
   "outputs": [
    {
     "data": {
      "text/plain": [
       "array([ 4383.68089988, 12885.03892192, 12589.21653212, 13286.22919217,\n",
       "         544.72832757, 32117.58400779, 12919.04237221, 12318.62183013,\n",
       "        3784.29145555, 29468.45725408, 11002.8139431 , 17539.69473777,\n",
       "        8681.35471964,  8349.04325528,  3130.12725504, 10445.83896118,\n",
       "        3863.74357865,  6944.62510786, 15009.63121084, 14441.59911874,\n",
       "       12543.65768867, 32958.72553095,  9072.63608136,  8986.85860053,\n",
       "        3022.85773294,  8164.97136102,  9556.07558002, 10743.20363927,\n",
       "        7694.01743692,  4373.43771674, 14140.93557984,  5811.78545062,\n",
       "       34631.91316718, 27009.11191231, 33348.14098668,  9532.96786929,\n",
       "       30421.65017927, 26648.91186842, 15157.78333287, 33895.76121465,\n",
       "        6303.38552088, 14059.15156303, 10713.4467824 , 15089.36171493,\n",
       "        4187.95334069, 13106.4297513 ,  4336.19603407, 28607.05556216,\n",
       "        7243.57117377, 14269.4643165 , 13282.36924936, 12329.61280721,\n",
       "        1851.87215658,  8876.2837892 , 26089.18341811, 10125.8221046 ,\n",
       "       34218.77265378, 14537.70022165,  3232.07805794,  5889.64309508,\n",
       "        6558.45711628, 14952.73214832, 26943.84457634,  3272.57672674,\n",
       "       15795.18877494, 11220.12036023, 11132.67761401, 10461.51218201,\n",
       "        1520.17580687, 25268.32319722, 37555.4332681 , 33131.32070966,\n",
       "        1986.54437212, 11348.45648105, 13683.62487834, 34970.76597049,\n",
       "        3194.05204265,  3875.19388449, 10355.84468565, 10429.85383112,\n",
       "         -74.18168095, 14069.96921025, 10335.95235396,  3160.49129709,\n",
       "       33495.55139469, 33108.38629603,  7159.042252  , 37712.17792565,\n",
       "       12860.01613403, 10312.33535752, 30118.39165257, 33999.155218  ,\n",
       "       14744.35977759, 10797.48057723,   228.32604517, 10550.25751993,\n",
       "        9637.2654186 , 14963.62716464, 14973.49438453,  6077.52837971,\n",
       "       13679.44499708, 26048.6188477 , 28140.15460801, 27428.44651929,\n",
       "       35323.96326034, 27120.17093173,   635.73242244,  9265.30720109,\n",
       "        4700.17995399, 12458.33462103,  5334.04136712,  4797.80959774,\n",
       "        1053.28620015, 18801.23368294,  3268.21781045,  1680.06692797,\n",
       "       11731.45541277, 12594.4560403 , 11876.24500234,  3722.26917923,\n",
       "        8907.38977334, 13909.79277731,  7727.28039545,  6573.92347482,\n",
       "       36668.28291771, 12172.54974158, 12246.4759298 , 29298.69540744,\n",
       "       36065.08836969, 11635.06903459, 28119.47917939,  -420.5228157 ,\n",
       "        8255.48679122, 31611.56891923,  8278.51950655,  -682.91733795,\n",
       "        1175.50251941,  4610.52460783,  7592.72365991, 12602.74525758,\n",
       "       14871.84794414,  8696.2661006 , 28916.17140639, 15712.12938325,\n",
       "       14688.56307722, 11117.34115616,  1910.78149758, 10065.51386262,\n",
       "        3785.83713249,  6165.85822972, 11400.42215978,  5505.08475585,\n",
       "       14580.76982237, 13691.35579602, 12694.51188244,  7023.42319484,\n",
       "       12388.68766385, 10922.09183278, 10269.55783904,  4543.27270357,\n",
       "        5648.10144357, 40390.9900769 , 13059.47316213,  4308.66813543,\n",
       "        8433.53823713,  4680.92297563, 32207.14761827, 11261.09752853,\n",
       "       10966.92628193,  6893.83017801,  6439.49932262,  6698.81354717,\n",
       "       33082.53354683, 34892.66990169,  2163.75212652,  7664.10129233,\n",
       "        5208.63123781, 15537.4388228 ,  1472.95942494, 11431.38761905,\n",
       "       13442.52462926, 11497.84155642, 10547.85065715, 13216.06609157,\n",
       "        2392.9275311 , 27535.86192673,  2350.29363146, 14750.02090702,\n",
       "        6294.4943912 , 10590.51504221, 14975.55458721, 38857.75707767,\n",
       "        2100.48817818,  1489.62172706,  5170.63120404,  7556.77055613,\n",
       "        7905.80683902,  4503.61764622, 10680.78553577,  8938.12057203,\n",
       "        9389.70713251, 11104.75136012, 10325.31689891,  9247.40925093,\n",
       "        8075.54835929,   895.79174623, 10136.82246673,  7306.72664577,\n",
       "        6626.07986045, 11706.84936779,  5409.99685749, 32864.25315855,\n",
       "        7088.39118065,  6309.6941707 ,  7934.10447803, 38948.10610123,\n",
       "       11941.19483711, 28316.17975841,  2882.4783976 , 33202.36401978,\n",
       "        3690.60862539, 31577.22772525, 13825.53657174,  2716.91852953,\n",
       "        1908.80043495,  1262.92212969,  6109.40830379,  4463.80387639,\n",
       "       25580.05728181, 15737.66640221,  5345.8549026 , 13030.85900261,\n",
       "       38954.05091304,  4792.05740177, 12711.42561622, 11335.66208015,\n",
       "       27785.54316341,  2794.86874955, 13392.79241645,  5727.91540048,\n",
       "       15215.43600554,  5772.15783816, 16929.82927411,  3896.74375465,\n",
       "       12197.3470759 , 34682.24329155, 10666.53272796, 10601.36016707,\n",
       "        4875.20490336, 16734.59399629, 14399.64496923,  5497.30018065,\n",
       "       11149.82336777, 12497.70437379,  4626.74808217,  7169.33486073,\n",
       "       27667.13758601, 32240.5545494 ,  -474.41779055, 40306.05467371,\n",
       "        9397.25562995,  7750.27185181, 10671.66257411, 33555.1844395 ,\n",
       "       35949.5230514 , 36650.46723087,  4961.92884343,  6116.92057448])"
      ]
     },
     "execution_count": 36,
     "metadata": {},
     "output_type": "execute_result"
    }
   ],
   "source": [
    "y_pred\n",
    "\n",
    "#bu benim elindeki verilere bakarak evlerin fiyatlarini tahmin ettigi degerler\n",
    "#biraz sonra mean squered error ile bu tahminlerin dogrulugunu kontrol edecegim"
   ]
  },
  {
   "cell_type": "code",
   "execution_count": 37,
   "id": "8d9d960f",
   "metadata": {},
   "outputs": [],
   "source": [
    "#simdide mean squred error bulacagimiz icin yukarida kütüphanesini import ettim\n",
    "#from sklearn.metrics import mean_squared_error\n",
    "#mean squered error kullanacagim icin, bir kütüphane daha import ediyorum  import math"
   ]
  },
  {
   "cell_type": "markdown",
   "id": "57c523d9",
   "metadata": {},
   "source": [
    "### simdide ortalama kareler hatasinin(mean squred error) karekökünü alacagim"
   ]
  },
  {
   "cell_type": "code",
   "execution_count": 39,
   "id": "357eda1c",
   "metadata": {},
   "outputs": [
    {
     "data": {
      "text/plain": [
       "5956.454717976427"
      ]
     },
     "execution_count": 39,
     "metadata": {},
     "output_type": "execute_result"
    }
   ],
   "source": [
    "math.sqrt(mean_squared_error(y_test, y_pred))\n",
    "\n",
    "#sqrt ile karesini aliyorum, ve az önce import ettigim (mean_squared_error) metirigide icine yaziyorum\n",
    "#cünkü mean squared karelerini aliyor, bende simdi karekökünü alacagim\n",
    "#burda icine koydugum degiskenler cok önemli ,dikkat ettim y_test ve y_pred leri koydu\n",
    "#yani bu ikisi arasindaki dogrulugu bulacak\n",
    "#ama üstteki lr.score(X_test, y_test).round(3)  ne ise yaradigini tam ANLAYAMADIM aslinda \n",
    "#ben hata oranini bulacagim icin. test verilerini ele aliyorum \n",
    "#y_test yani bizim gercek degerlerimiz, saglik icin yapilan harcamalarin gercek degeri\n",
    "#y_pred bizim modelimizin yapmis oldugu tahminler\n",
    "#ve gercekler ile, onun buldugu arasindaki iliskiye bakacagiz, kaclik bir standart sapma ile \n",
    "#tahmin ettigne bakalim\n",
    "\n",
    "#5956 lik bir standar hata ile tahmin ediyor\n",
    "\n",
    "#artik bu asamada istedigimiz veriyi modele vererek tahminler yapabilriz\n",
    "#galiba artik modelimiz tahmin yapmayi ögrendi, ve nekadar cok veri verirsek o kadar iyi tahminde bulunacak\n"
   ]
  },
  {
   "cell_type": "code",
   "execution_count": 40,
   "id": "2f768b5f",
   "metadata": {},
   "outputs": [
    {
     "data": {
      "text/html": [
       "<div>\n",
       "<style scoped>\n",
       "    .dataframe tbody tr th:only-of-type {\n",
       "        vertical-align: middle;\n",
       "    }\n",
       "\n",
       "    .dataframe tbody tr th {\n",
       "        vertical-align: top;\n",
       "    }\n",
       "\n",
       "    .dataframe thead th {\n",
       "        text-align: right;\n",
       "    }\n",
       "</style>\n",
       "<table border=\"1\" class=\"dataframe\">\n",
       "  <thead>\n",
       "    <tr style=\"text-align: right;\">\n",
       "      <th></th>\n",
       "      <th>age</th>\n",
       "      <th>bmi</th>\n",
       "      <th>children</th>\n",
       "      <th>sex_female</th>\n",
       "      <th>sex_male</th>\n",
       "      <th>smoker_no</th>\n",
       "      <th>smoker_yes</th>\n",
       "      <th>region_northeast</th>\n",
       "      <th>region_northwest</th>\n",
       "      <th>region_southeast</th>\n",
       "      <th>region_southwest</th>\n",
       "    </tr>\n",
       "  </thead>\n",
       "  <tbody>\n",
       "    <tr>\n",
       "      <th>216</th>\n",
       "      <td>53</td>\n",
       "      <td>26.6</td>\n",
       "      <td>0</td>\n",
       "      <td>1</td>\n",
       "      <td>0</td>\n",
       "      <td>1</td>\n",
       "      <td>0</td>\n",
       "      <td>0</td>\n",
       "      <td>1</td>\n",
       "      <td>0</td>\n",
       "      <td>0</td>\n",
       "    </tr>\n",
       "  </tbody>\n",
       "</table>\n",
       "</div>"
      ],
      "text/plain": [
       "     age   bmi  children  sex_female  sex_male  smoker_no  smoker_yes  \\\n",
       "216   53  26.6         0           1         0          1           0   \n",
       "\n",
       "     region_northeast  region_northwest  region_southeast  region_southwest  \n",
       "216                 0                 1                 0                 0  "
      ]
     },
     "execution_count": 40,
     "metadata": {},
     "output_type": "execute_result"
    }
   ],
   "source": [
    "data_new = X_train[:1]\n",
    "data_new\n",
    "\n",
    "#biz simdi ilk satiri tahmin ediyorum,önce ilk satirimiza bakalim\n",
    "#burda ilk satir 216 indexli veri oldu, neden 1ci indexli gelmesi diye düsündüm\n",
    "#ama galiba adam sklearn kütüphanesiyle. ilgili veriyi karistirarak bölüyor demisti\n",
    "#bellki ondan dolayi 216 geldi\n",
    "#hocada da 216 geldi, galiba bir parametrede random_state =1 yaptigimiz icindi"
   ]
  },
  {
   "cell_type": "code",
   "execution_count": 41,
   "id": "fcbb8d00",
   "metadata": {},
   "outputs": [
    {
     "data": {
      "text/plain": [
       "array([10508.41885042])"
      ]
     },
     "execution_count": 41,
     "metadata": {},
     "output_type": "execute_result"
    }
   ],
   "source": [
    "lr.predict(data_new)\n",
    "\n",
    "\n",
    "#simdide veriyi tahmin ediyoruz\n",
    "#veriyi tahmin etmek icin predict methodu kullaniliyor"
   ]
  },
  {
   "cell_type": "code",
   "execution_count": 42,
   "id": "cff573a2",
   "metadata": {},
   "outputs": [
    {
     "data": {
      "text/plain": [
       "216    10355.641\n",
       "Name: charges, dtype: float64"
      ]
     },
     "execution_count": 42,
     "metadata": {},
     "output_type": "execute_result"
    }
   ],
   "source": [
    "y_train[0:1]    #bu da gercek deger ,aslinda gayet güzel tahmin etmis"
   ]
  },
  {
   "cell_type": "code",
   "execution_count": null,
   "id": "3d9ba6ca",
   "metadata": {},
   "outputs": [],
   "source": []
  },
  {
   "cell_type": "code",
   "execution_count": null,
   "id": "81c626b4",
   "metadata": {},
   "outputs": [],
   "source": []
  },
  {
   "cell_type": "code",
   "execution_count": null,
   "id": "6c27ef32",
   "metadata": {},
   "outputs": [],
   "source": [
    "#burda ilk defa bir makine ögrenmesi calismasi yaptim bekledigimden cok kolay geldi bana\n",
    "#bence bunun sebebi modelin zaten hazir olmasindan dolayiydi,\n",
    "#biz sadece verimizi bölüp, egittik ve test ettik, o kendisi degerler buldu\n",
    "\n",
    "#aslinda bununla ilgili ilk izlenimim , güzel bir tahmin yapmasi beni gercekten cok sasirtti,\n",
    "#demekki bizim verdigimiz veriler arasinda bir iliski bulup, ona göre bir tahminde bulunuyor\n",
    "\n",
    "\n",
    "#ama galiba benim gömlünde yatan calisma sekli bu degil,benim ki modelide benim kuracagim, calisma yöntemleri\n",
    "#oda galiba Derin ögrenme veya sinir aglari konularina giriyor\n",
    "\n",
    "#ama yinede bu calismayi yapmak benim icin güzel bir deneyim oldu"
   ]
  },
  {
   "cell_type": "code",
   "execution_count": null,
   "id": "452c2bef",
   "metadata": {},
   "outputs": [],
   "source": []
  }
 ],
 "metadata": {
  "kernelspec": {
   "display_name": "Python 3 (ipykernel)",
   "language": "python",
   "name": "python3"
  },
  "language_info": {
   "codemirror_mode": {
    "name": "ipython",
    "version": 3
   },
   "file_extension": ".py",
   "mimetype": "text/x-python",
   "name": "python",
   "nbconvert_exporter": "python",
   "pygments_lexer": "ipython3",
   "version": "3.9.12"
  }
 },
 "nbformat": 4,
 "nbformat_minor": 5
}
