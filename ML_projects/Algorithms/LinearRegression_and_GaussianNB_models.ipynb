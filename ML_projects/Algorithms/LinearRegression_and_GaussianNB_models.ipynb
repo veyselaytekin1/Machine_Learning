{
 "cells": [
  {
   "cell_type": "markdown",
   "id": "461410b4",
   "metadata": {},
   "source": [
    "<div class=\"alert alert-block alert-info alert\">\n",
    "\n",
    "<span style=\" color:red\">  WELCOME!\n",
    "    \n",
    "bu örnegi anlamam cok zor oldu cünkü hocamiz farkina varmadan bazi seleri eksik söyledi, \\\n",
    "ve onun 12 dakikalik videosu benim yaklasik 3 saatimi aldi,\\\n",
    "burda ilk basta X_iris ve y_iris kuruyor ama bu asamada gerekli degil, cünkü bunlari ensonda \\\n",
    "model kurup(LinearRegression), bu modeli,baska kendi rgn ürettigi oyuncak veriyle egitiyor, \\\n",
    "sonra elinde test verisi kalmadigi icin,test icin yeni bir veri üretiyor,ama bu ürettigi \\\n",
    "test verisi ve tahminiyle grafik ciziyorlinspace ile \\\n",
    "bu linspace'yi yapmasi mantikli oldu cünkü sonra bu linspacedekileri tahmin ettirecek, \\\n",
    "ve onlarla ilgili bir grafik cizecek,grafigin contionous olmasi icin mantikli \\\n",
    "en son modeli egitti grafigini cizdi \\\n",
    "\n",
    "sonra iris veri setini kullanmaya karar veriyor, ama bu seferde baska bir model kuruyor, \\\n",
    "GaussianNB modelini, ve iris ölcümlerini sinifini gösteriyor, \\\n",
    "\n",
    "aslinda video da sklearnde yapilan islemleri gösterecem demisti ama bunlari bir sira icinde anlatmadigi icin, \\\n",
    "bende anlasilmasi zor oldu, ben bu adimlari bir siraya göre anlatiyor diye düsündüm \\\n",
    "    \n",
    "### burda önemli olan sonuc x,y ile egittigi model(y=2x-1 ile egitmisti),sonrasinda linspace ile \n",
    "### ürettigi verilerden cikan sonuclarin tahminide y=2x-1 e göre tahmin etti,cok üst düzey bir basari gibi\n",
    "### gelmedi bana ama yine model tanimis oldum\n",
    "\n",
    "#### ama bu anlasilmama sayesinde bir kac bisey ögrendim \\\n",
    "\n",
    "rand ve randn 'in farklari nelerdir \\\n",
    "bir modele tek boyutlu np.array verisi veremiyoruz, iki boyutlu olmasi gerekir \\\n",
    "bunun icin(:,np.newaxis) kulllanabiliriz \\\n",
    " fit_intercept cizecegimiz regression egrisinde b sabitinin dahil edilip edilmemesiyle ilgili \\\n",
    "eger fit_intercept=FAlse yaparsan normal y=ax dogrusu ciziyor \\\n",
    "</span>"
   ]
  },
  {
   "cell_type": "code",
   "execution_count": 109,
   "id": "2f524559",
   "metadata": {},
   "outputs": [],
   "source": [
    "import seaborn as sns\n",
    "import matplotlib.pyplot as plt \n",
    "import numpy as np\n",
    "from sklearn.metrics import accuracy_score  #modeli degrlendirmek icin yapacagim"
   ]
  },
  {
   "cell_type": "code",
   "execution_count": 4,
   "id": "6ca1e9e1",
   "metadata": {},
   "outputs": [
    {
     "data": {
      "text/html": [
       "<div>\n",
       "<style scoped>\n",
       "    .dataframe tbody tr th:only-of-type {\n",
       "        vertical-align: middle;\n",
       "    }\n",
       "\n",
       "    .dataframe tbody tr th {\n",
       "        vertical-align: top;\n",
       "    }\n",
       "\n",
       "    .dataframe thead th {\n",
       "        text-align: right;\n",
       "    }\n",
       "</style>\n",
       "<table border=\"1\" class=\"dataframe\">\n",
       "  <thead>\n",
       "    <tr style=\"text-align: right;\">\n",
       "      <th></th>\n",
       "      <th>sepal_length</th>\n",
       "      <th>sepal_width</th>\n",
       "      <th>petal_length</th>\n",
       "      <th>petal_width</th>\n",
       "      <th>species</th>\n",
       "    </tr>\n",
       "  </thead>\n",
       "  <tbody>\n",
       "    <tr>\n",
       "      <th>0</th>\n",
       "      <td>5.1</td>\n",
       "      <td>3.5</td>\n",
       "      <td>1.4</td>\n",
       "      <td>0.2</td>\n",
       "      <td>setosa</td>\n",
       "    </tr>\n",
       "    <tr>\n",
       "      <th>1</th>\n",
       "      <td>4.9</td>\n",
       "      <td>3.0</td>\n",
       "      <td>1.4</td>\n",
       "      <td>0.2</td>\n",
       "      <td>setosa</td>\n",
       "    </tr>\n",
       "    <tr>\n",
       "      <th>2</th>\n",
       "      <td>4.7</td>\n",
       "      <td>3.2</td>\n",
       "      <td>1.3</td>\n",
       "      <td>0.2</td>\n",
       "      <td>setosa</td>\n",
       "    </tr>\n",
       "    <tr>\n",
       "      <th>3</th>\n",
       "      <td>4.6</td>\n",
       "      <td>3.1</td>\n",
       "      <td>1.5</td>\n",
       "      <td>0.2</td>\n",
       "      <td>setosa</td>\n",
       "    </tr>\n",
       "    <tr>\n",
       "      <th>4</th>\n",
       "      <td>5.0</td>\n",
       "      <td>3.6</td>\n",
       "      <td>1.4</td>\n",
       "      <td>0.2</td>\n",
       "      <td>setosa</td>\n",
       "    </tr>\n",
       "  </tbody>\n",
       "</table>\n",
       "</div>"
      ],
      "text/plain": [
       "   sepal_length  sepal_width  petal_length  petal_width species\n",
       "0           5.1          3.5           1.4          0.2  setosa\n",
       "1           4.9          3.0           1.4          0.2  setosa\n",
       "2           4.7          3.2           1.3          0.2  setosa\n",
       "3           4.6          3.1           1.5          0.2  setosa\n",
       "4           5.0          3.6           1.4          0.2  setosa"
      ]
     },
     "execution_count": 4,
     "metadata": {},
     "output_type": "execute_result"
    }
   ],
   "source": [
    "iris = sns.load_dataset('iris')\n",
    "iris.head()"
   ]
  },
  {
   "cell_type": "code",
   "execution_count": 9,
   "id": "e7433278",
   "metadata": {},
   "outputs": [],
   "source": [
    "X_iris = iris.drop('species', axis=1)  #simdi asagida egitimde kullanacagimiz Features leri olusturalim"
   ]
  },
  {
   "cell_type": "code",
   "execution_count": 10,
   "id": "8de75d34",
   "metadata": {},
   "outputs": [
    {
     "data": {
      "text/html": [
       "<div>\n",
       "<style scoped>\n",
       "    .dataframe tbody tr th:only-of-type {\n",
       "        vertical-align: middle;\n",
       "    }\n",
       "\n",
       "    .dataframe tbody tr th {\n",
       "        vertical-align: top;\n",
       "    }\n",
       "\n",
       "    .dataframe thead th {\n",
       "        text-align: right;\n",
       "    }\n",
       "</style>\n",
       "<table border=\"1\" class=\"dataframe\">\n",
       "  <thead>\n",
       "    <tr style=\"text-align: right;\">\n",
       "      <th></th>\n",
       "      <th>sepal_length</th>\n",
       "      <th>sepal_width</th>\n",
       "      <th>petal_length</th>\n",
       "      <th>petal_width</th>\n",
       "    </tr>\n",
       "  </thead>\n",
       "  <tbody>\n",
       "    <tr>\n",
       "      <th>0</th>\n",
       "      <td>5.1</td>\n",
       "      <td>3.5</td>\n",
       "      <td>1.4</td>\n",
       "      <td>0.2</td>\n",
       "    </tr>\n",
       "  </tbody>\n",
       "</table>\n",
       "</div>"
      ],
      "text/plain": [
       "   sepal_length  sepal_width  petal_length  petal_width\n",
       "0           5.1          3.5           1.4          0.2"
      ]
     },
     "execution_count": 10,
     "metadata": {},
     "output_type": "execute_result"
    }
   ],
   "source": [
    "X_iris.head(1)"
   ]
  },
  {
   "cell_type": "code",
   "execution_count": 11,
   "id": "4efed496",
   "metadata": {},
   "outputs": [],
   "source": [
    "y_iris = iris['species']   #bununla target setimizi olusturuyorum,sonra hemX i hem y yi bölecegiz"
   ]
  },
  {
   "cell_type": "code",
   "execution_count": 12,
   "id": "615110a9",
   "metadata": {},
   "outputs": [
    {
     "data": {
      "text/plain": [
       "0    setosa\n",
       "Name: species, dtype: object"
      ]
     },
     "execution_count": 12,
     "metadata": {},
     "output_type": "execute_result"
    }
   ],
   "source": [
    "y_iris.head(1)"
   ]
  },
  {
   "cell_type": "code",
   "execution_count": null,
   "id": "ca2ecfa7",
   "metadata": {},
   "outputs": [],
   "source": [
    "#suan bu asaguda scatter ve onun icindeki dogruyu cizecek model icin bu yukaridaki iris bilgileri\n",
    "#gerekli degil tirendaz aslinda yukaridaki adimlari sonrada gösterebilirdi,ilk basta kafam karisti\n",
    "#sonradan anladim"
   ]
  },
  {
   "cell_type": "code",
   "execution_count": 14,
   "id": "58e27413",
   "metadata": {},
   "outputs": [],
   "source": [
    "rng = np.random.RandomState(42)\n",
    "x = 10*rng.rand(50)\n",
    "\n",
    "#rand ,rastgele degerler verirken uniform yani tekdüze düzenli degerler verir,dagilimi düz olur,tepe olmaz\n",
    "#model islemlerini göstermek icin basit dogrusal regresyonu kullanalim\n",
    "#öncelikle matplotlib ve numpyi import edelim\n",
    "# veriyi sabitlemek icin numpy daki random_state methodunu kullanaliim \n",
    "\n",
    "#simdide x degiskenini olusturalim\n",
    "#x = 10 carpi rng.rand(50) icine 50 tane deger alacagimizi belirtmek icin 50 yazdim\n",
    "#daha sonra y = 2*x eksi 1 arti rng nokta randn yazip icine 50 deger alacagimizi belirtmek icin 50 yazdik \n",
    "#simdide iki degiskenin scatter grafigini cizelim"
   ]
  },
  {
   "cell_type": "code",
   "execution_count": 16,
   "id": "7c60e566",
   "metadata": {},
   "outputs": [
    {
     "data": {
      "text/plain": [
       "array([3.74540119, 9.50714306, 7.31993942, 5.98658484, 1.5601864 ,\n",
       "       1.5599452 , 0.58083612, 8.66176146, 6.01115012, 7.08072578,\n",
       "       0.20584494, 9.69909852, 8.32442641, 2.12339111, 1.81824967,\n",
       "       1.8340451 , 3.04242243, 5.24756432, 4.31945019, 2.9122914 ,\n",
       "       6.11852895, 1.39493861, 2.92144649, 3.66361843, 4.56069984,\n",
       "       7.85175961, 1.99673782, 5.14234438, 5.92414569, 0.46450413,\n",
       "       6.07544852, 1.70524124, 0.65051593, 9.48885537, 9.65632033,\n",
       "       8.08397348, 3.04613769, 0.97672114, 6.84233027, 4.40152494,\n",
       "       1.22038235, 4.9517691 , 0.34388521, 9.09320402, 2.58779982,\n",
       "       6.62522284, 3.11711076, 5.20068021, 5.46710279, 1.84854456])"
      ]
     },
     "execution_count": 16,
     "metadata": {},
     "output_type": "execute_result"
    }
   ],
   "source": [
    "x"
   ]
  },
  {
   "cell_type": "code",
   "execution_count": 72,
   "id": "62551591",
   "metadata": {},
   "outputs": [],
   "source": [
    "y = 2*x-1+rng.randn(50)   \n",
    "\n",
    "#bu 2x -1 demek daliba oluturdugumuz xleri kullanarak farkli deger olusturmak icin\n",
    "#randn rastgele degerler verirken normal dagilim yapan degerler veriyor"
   ]
  },
  {
   "cell_type": "code",
   "execution_count": 73,
   "id": "c8b1b2cb",
   "metadata": {},
   "outputs": [
    {
     "data": {
      "text/plain": [
       "array([ 8.61295857, 19.04675139, 12.12050887, 10.48893561,  3.38728396,\n",
       "        1.41222094,  0.60549167, 17.09815697, 10.09536976, 13.1019262 ,\n",
       "       -3.82957745, 17.3738094 , 15.39628466,  1.99899903,  4.26891065,\n",
       "        1.23794882,  4.64480037,  9.62586921,  9.08017366,  3.38872065,\n",
       "       12.40022165,  1.80011027,  3.86138432,  6.78934034,  8.32045938,\n",
       "       14.10330235,  3.06327773,  8.89937517, 10.96180872,  0.59113893,\n",
       "       12.73691385,  1.17266697,  2.43406523, 16.02562295, 18.16085557,\n",
       "       15.75626417,  5.37326725,  0.33074276, 12.47653828,  7.31004894,\n",
       "        0.85139994,  9.7531403 ,  0.04478591, 16.49349845,  5.07519951,\n",
       "       12.55774521,  6.04708364, 10.03098927,  9.10521058,  2.13690807])"
      ]
     },
     "execution_count": 73,
     "metadata": {},
     "output_type": "execute_result"
    }
   ],
   "source": [
    "y"
   ]
  },
  {
   "cell_type": "code",
   "execution_count": 22,
   "id": "09c9ed53",
   "metadata": {},
   "outputs": [
    {
     "data": {
      "image/png": "[encoded data removed]",
      "text/plain": [
       "<Figure size 432x288 with 1 Axes>"
      ]
     },
     "metadata": {
      "needs_background": "light"
     },
     "output_type": "display_data"
    }
   ],
   "source": [
    "plt.scatter(x,y);\n",
    "\n",
    "#burda iki degisken arasinda bir iliski oldugunu görüyorum, \n",
    "#cunku y=2x-1 grafigini kulllanarak y degerlerini olusturdum"
   ]
  },
  {
   "cell_type": "code",
   "execution_count": 28,
   "id": "6301186c",
   "metadata": {},
   "outputs": [],
   "source": [
    "from sklearn.linear_model import LinearRegression\n",
    "\n",
    "#simdide modeli kurmak icin kütüphanesini import edelim"
   ]
  },
  {
   "cell_type": "markdown",
   "id": "ce6581a8",
   "metadata": {},
   "source": [
    "hiper parametreler"
   ]
  },
  {
   "cell_type": "code",
   "execution_count": null,
   "id": "5e5f03a4",
   "metadata": {},
   "outputs": [],
   "source": [
    "#kullanacagimiz model sinifina karar verdikten sonra ,bazi parametreleri kendimiz belirleyebiliriz\n",
    "#belirleyecegimiz parametrelere hiper parametre denir \n",
    "#örnegin model kurarken sabit olacak mi,model normallestirilecek mi,\n",
    "#modelde kullanmak istedigin regülerlestirme seviyesi nekadar olacak\n",
    "#bu gibi sorulari cevaplamak icin hiper parametreleri kulanabiliriz\n",
    "#model kurulmadan önce hiper parametreler belirlenir\n",
    "#hiper parametreler ön tanimli parametrelerin üzerine yazilir\n",
    "#hiper parametreleri yazmazsak, default parametreler gecerli olur\n",
    "#örnegin LinearRegressionda  Linearregression sinifini örnekleyelim\n",
    "#bunun icin model isminde bir degisken alalim ve LinearRegression sinifini yazalim\n"
   ]
  },
  {
   "cell_type": "code",
   "execution_count": 30,
   "id": "1214f87c",
   "metadata": {},
   "outputs": [
    {
     "data": {
      "text/html": [
       "<style>#sk-container-id-1 {color: black;background-color: white;}#sk-container-id-1 pre{padding: 0;}#sk-container-id-1 div.sk-toggleable {background-color: white;}#sk-container-id-1 label.sk-toggleable__label {cursor: pointer;display: block;width: 100%;margin-bottom: 0;padding: 0.3em;box-sizing: border-box;text-align: center;}#sk-container-id-1 label.sk-toggleable__label-arrow:before {content: \"▸\";float: left;margin-right: 0.25em;color: #696969;}#sk-container-id-1 label.sk-toggleable__label-arrow:hover:before {color: black;}#sk-container-id-1 div.sk-estimator:hover label.sk-toggleable__label-arrow:before {color: black;}#sk-container-id-1 div.sk-toggleable__content {max-height: 0;max-width: 0;overflow: hidden;text-align: left;background-color: #f0f8ff;}#sk-container-id-1 div.sk-toggleable__content pre {margin: 0.2em;color: black;border-radius: 0.25em;background-color: #f0f8ff;}#sk-container-id-1 input.sk-toggleable__control:checked~div.sk-toggleable__content {max-height: 200px;max-width: 100%;overflow: auto;}#sk-container-id-1 input.sk-toggleable__control:checked~label.sk-toggleable__label-arrow:before {content: \"▾\";}#sk-container-id-1 div.sk-estimator input.sk-toggleable__control:checked~label.sk-toggleable__label {background-color: #d4ebff;}#sk-container-id-1 div.sk-label input.sk-toggleable__control:checked~label.sk-toggleable__label {background-color: #d4ebff;}#sk-container-id-1 input.sk-hidden--visually {border: 0;clip: rect(1px 1px 1px 1px);clip: rect(1px, 1px, 1px, 1px);height: 1px;margin: -1px;overflow: hidden;padding: 0;position: absolute;width: 1px;}#sk-container-id-1 div.sk-estimator {font-family: monospace;background-color: #f0f8ff;border: 1px dotted black;border-radius: 0.25em;box-sizing: border-box;margin-bottom: 0.5em;}#sk-container-id-1 div.sk-estimator:hover {background-color: #d4ebff;}#sk-container-id-1 div.sk-parallel-item::after {content: \"\";width: 100%;border-bottom: 1px solid gray;flex-grow: 1;}#sk-container-id-1 div.sk-label:hover label.sk-toggleable__label {background-color: #d4ebff;}#sk-container-id-1 div.sk-serial::before {content: \"\";position: absolute;border-left: 1px solid gray;box-sizing: border-box;top: 0;bottom: 0;left: 50%;z-index: 0;}#sk-container-id-1 div.sk-serial {display: flex;flex-direction: column;align-items: center;background-color: white;padding-right: 0.2em;padding-left: 0.2em;position: relative;}#sk-container-id-1 div.sk-item {position: relative;z-index: 1;}#sk-container-id-1 div.sk-parallel {display: flex;align-items: stretch;justify-content: center;background-color: white;position: relative;}#sk-container-id-1 div.sk-item::before, #sk-container-id-1 div.sk-parallel-item::before {content: \"\";position: absolute;border-left: 1px solid gray;box-sizing: border-box;top: 0;bottom: 0;left: 50%;z-index: -1;}#sk-container-id-1 div.sk-parallel-item {display: flex;flex-direction: column;z-index: 1;position: relative;background-color: white;}#sk-container-id-1 div.sk-parallel-item:first-child::after {align-self: flex-end;width: 50%;}#sk-container-id-1 div.sk-parallel-item:last-child::after {align-self: flex-start;width: 50%;}#sk-container-id-1 div.sk-parallel-item:only-child::after {width: 0;}#sk-container-id-1 div.sk-dashed-wrapped {border: 1px dashed gray;margin: 0 0.4em 0.5em 0.4em;box-sizing: border-box;padding-bottom: 0.4em;background-color: white;}#sk-container-id-1 div.sk-label label {font-family: monospace;font-weight: bold;display: inline-block;line-height: 1.2em;}#sk-container-id-1 div.sk-label-container {text-align: center;}#sk-container-id-1 div.sk-container {/* jupyter's `normalize.less` sets `[hidden] { display: none; }` but bootstrap.min.css set `[hidden] { display: none !important; }` so we also need the `!important` here to be able to override the default hidden behavior on the sphinx rendered scikit-learn.org. See: https://github.com/scikit-learn/scikit-learn/issues/21755 */display: inline-block !important;position: relative;}#sk-container-id-1 div.sk-text-repr-fallback {display: none;}</style><div id=\"sk-container-id-1\" class=\"sk-top-container\"><div class=\"sk-text-repr-fallback\"><pre>LinearRegression()</pre><b>In a Jupyter environment, please rerun this cell to show the HTML representation or trust the notebook. <br />On GitHub, the HTML representation is unable to render, please try loading this page with nbviewer.org.</b></div><div class=\"sk-container\" hidden><div class=\"sk-item\"><div class=\"sk-estimator sk-toggleable\"><input class=\"sk-toggleable__control sk-hidden--visually\" id=\"sk-estimator-id-1\" type=\"checkbox\" checked><label for=\"sk-estimator-id-1\" class=\"sk-toggleable__label sk-toggleable__label-arrow\">LinearRegression</label><div class=\"sk-toggleable__content\"><pre>LinearRegression()</pre></div></div></div></div></div>"
      ],
      "text/plain": [
       "LinearRegression()"
      ]
     },
     "execution_count": 30,
     "metadata": {},
     "output_type": "execute_result"
    }
   ],
   "source": [
    "model = LinearRegression(fit_intercept=True)\n",
    "model\n",
    "\n",
    "#modeli kurduk\n",
    "##icerisine fit_intercept argümanina True yazalim .\n",
    "#intercept true demek y=ax+b dogrusunda b yi etkin almak demektir\n",
    "#eger fit_intercept=False alirsa, sanki b yokmus gibi y=ax dosrusu cizerdi\n",
    "#sonra modeli ekrana yazdiralim \n",
    "#suan modelle ilgili herhangi bir veri analizi yapmadik\n",
    "#sadece bir model olusturduk"
   ]
  },
  {
   "cell_type": "code",
   "execution_count": 49,
   "id": "7793b596",
   "metadata": {},
   "outputs": [
    {
     "data": {
      "text/plain": [
       "array([3.74540119, 9.50714306, 7.31993942, 5.98658484, 1.5601864 ,\n",
       "       1.5599452 , 0.58083612, 8.66176146, 6.01115012, 7.08072578,\n",
       "       0.20584494, 9.69909852, 8.32442641, 2.12339111, 1.81824967,\n",
       "       1.8340451 , 3.04242243, 5.24756432, 4.31945019, 2.9122914 ,\n",
       "       6.11852895, 1.39493861, 2.92144649, 3.66361843, 4.56069984,\n",
       "       7.85175961, 1.99673782, 5.14234438, 5.92414569, 0.46450413,\n",
       "       6.07544852, 1.70524124, 0.65051593, 9.48885537, 9.65632033,\n",
       "       8.08397348, 3.04613769, 0.97672114, 6.84233027, 4.40152494,\n",
       "       1.22038235, 4.9517691 , 0.34388521, 9.09320402, 2.58779982,\n",
       "       6.62522284, 3.11711076, 5.20068021, 5.46710279, 1.84854456])"
      ]
     },
     "execution_count": 49,
     "metadata": {},
     "output_type": "execute_result"
    }
   ],
   "source": [
    "x\n",
    "\n",
    "#bu x \n",
    "#rng = np.random.RandomState(42)\n",
    "#x = 10*rng.rand(50)\n",
    "#ile kurdugumuz x"
   ]
  },
  {
   "cell_type": "code",
   "execution_count": 65,
   "id": "ad9d26cb",
   "metadata": {},
   "outputs": [
    {
     "data": {
      "text/plain": [
       "array([[3.74540119],\n",
       "       [9.50714306],\n",
       "       [7.31993942],\n",
       "       [5.98658484],\n",
       "       [1.5601864 ]])"
      ]
     },
     "execution_count": 65,
     "metadata": {},
     "output_type": "execute_result"
    }
   ],
   "source": [
    "X = x[:,np.newaxis]\n",
    "X[:5]  #ilk besini görmek isteedim, bu iki boyutlu array oldugu icin head() olmuyor\n",
    "\n",
    "#burdaki X ,yukarida \n",
    "#rng = np.random.RandomState(42)\n",
    "#x = 10*rng.rand(50)\n",
    "#ile kurdugumuz x in \n",
    "\n",
    "#bu adimda yukarida olusturdugum  x i->x = 10*rng.rand(50) düzenlemem gerekiyor\n",
    "#X e esitleyip, x iki nokta yazip, np.new axis yazip bir yapisina bakalim\n",
    "\n",
    "#burda yukaridakinden farkli olarak her birini köseli parantez icine aldi\n",
    "# boyut eklemis diyebiliriz\n",
    "#asagida bir denemeyle sebebini ögrendim,eger x i boyut ekleyip X e dönüstürmezsem, hata veriyor\n",
    "#ve 2D olan bir veri gir gir diyor\n",
    "#biz iris le falan calisirken, onlar zaten DataFrame olarak geliyorlar\n",
    "\n",
    "#ValueError: Expected 2D array, got 1D array instead:\n",
    "\n",
    "#bu sekilde iki boyutlu features matrisi olusturmus olduk\n",
    "#bu X te 50 tane örneklem ve bir tane feature var"
   ]
  },
  {
   "cell_type": "code",
   "execution_count": 53,
   "id": "735199f2",
   "metadata": {},
   "outputs": [
    {
     "data": {
      "text/html": [
       "<style>#sk-container-id-2 {color: black;background-color: white;}#sk-container-id-2 pre{padding: 0;}#sk-container-id-2 div.sk-toggleable {background-color: white;}#sk-container-id-2 label.sk-toggleable__label {cursor: pointer;display: block;width: 100%;margin-bottom: 0;padding: 0.3em;box-sizing: border-box;text-align: center;}#sk-container-id-2 label.sk-toggleable__label-arrow:before {content: \"▸\";float: left;margin-right: 0.25em;color: #696969;}#sk-container-id-2 label.sk-toggleable__label-arrow:hover:before {color: black;}#sk-container-id-2 div.sk-estimator:hover label.sk-toggleable__label-arrow:before {color: black;}#sk-container-id-2 div.sk-toggleable__content {max-height: 0;max-width: 0;overflow: hidden;text-align: left;background-color: #f0f8ff;}#sk-container-id-2 div.sk-toggleable__content pre {margin: 0.2em;color: black;border-radius: 0.25em;background-color: #f0f8ff;}#sk-container-id-2 input.sk-toggleable__control:checked~div.sk-toggleable__content {max-height: 200px;max-width: 100%;overflow: auto;}#sk-container-id-2 input.sk-toggleable__control:checked~label.sk-toggleable__label-arrow:before {content: \"▾\";}#sk-container-id-2 div.sk-estimator input.sk-toggleable__control:checked~label.sk-toggleable__label {background-color: #d4ebff;}#sk-container-id-2 div.sk-label input.sk-toggleable__control:checked~label.sk-toggleable__label {background-color: #d4ebff;}#sk-container-id-2 input.sk-hidden--visually {border: 0;clip: rect(1px 1px 1px 1px);clip: rect(1px, 1px, 1px, 1px);height: 1px;margin: -1px;overflow: hidden;padding: 0;position: absolute;width: 1px;}#sk-container-id-2 div.sk-estimator {font-family: monospace;background-color: #f0f8ff;border: 1px dotted black;border-radius: 0.25em;box-sizing: border-box;margin-bottom: 0.5em;}#sk-container-id-2 div.sk-estimator:hover {background-color: #d4ebff;}#sk-container-id-2 div.sk-parallel-item::after {content: \"\";width: 100%;border-bottom: 1px solid gray;flex-grow: 1;}#sk-container-id-2 div.sk-label:hover label.sk-toggleable__label {background-color: #d4ebff;}#sk-container-id-2 div.sk-serial::before {content: \"\";position: absolute;border-left: 1px solid gray;box-sizing: border-box;top: 0;bottom: 0;left: 50%;z-index: 0;}#sk-container-id-2 div.sk-serial {display: flex;flex-direction: column;align-items: center;background-color: white;padding-right: 0.2em;padding-left: 0.2em;position: relative;}#sk-container-id-2 div.sk-item {position: relative;z-index: 1;}#sk-container-id-2 div.sk-parallel {display: flex;align-items: stretch;justify-content: center;background-color: white;position: relative;}#sk-container-id-2 div.sk-item::before, #sk-container-id-2 div.sk-parallel-item::before {content: \"\";position: absolute;border-left: 1px solid gray;box-sizing: border-box;top: 0;bottom: 0;left: 50%;z-index: -1;}#sk-container-id-2 div.sk-parallel-item {display: flex;flex-direction: column;z-index: 1;position: relative;background-color: white;}#sk-container-id-2 div.sk-parallel-item:first-child::after {align-self: flex-end;width: 50%;}#sk-container-id-2 div.sk-parallel-item:last-child::after {align-self: flex-start;width: 50%;}#sk-container-id-2 div.sk-parallel-item:only-child::after {width: 0;}#sk-container-id-2 div.sk-dashed-wrapped {border: 1px dashed gray;margin: 0 0.4em 0.5em 0.4em;box-sizing: border-box;padding-bottom: 0.4em;background-color: white;}#sk-container-id-2 div.sk-label label {font-family: monospace;font-weight: bold;display: inline-block;line-height: 1.2em;}#sk-container-id-2 div.sk-label-container {text-align: center;}#sk-container-id-2 div.sk-container {/* jupyter's `normalize.less` sets `[hidden] { display: none; }` but bootstrap.min.css set `[hidden] { display: none !important; }` so we also need the `!important` here to be able to override the default hidden behavior on the sphinx rendered scikit-learn.org. See: https://github.com/scikit-learn/scikit-learn/issues/21755 */display: inline-block !important;position: relative;}#sk-container-id-2 div.sk-text-repr-fallback {display: none;}</style><div id=\"sk-container-id-2\" class=\"sk-top-container\"><div class=\"sk-text-repr-fallback\"><pre>LinearRegression()</pre><b>In a Jupyter environment, please rerun this cell to show the HTML representation or trust the notebook. <br />On GitHub, the HTML representation is unable to render, please try loading this page with nbviewer.org.</b></div><div class=\"sk-container\" hidden><div class=\"sk-item\"><div class=\"sk-estimator sk-toggleable\"><input class=\"sk-toggleable__control sk-hidden--visually\" id=\"sk-estimator-id-2\" type=\"checkbox\" checked><label for=\"sk-estimator-id-2\" class=\"sk-toggleable__label sk-toggleable__label-arrow\">LinearRegression</label><div class=\"sk-toggleable__content\"><pre>LinearRegression()</pre></div></div></div></div></div>"
      ],
      "text/plain": [
       "LinearRegression()"
      ]
     },
     "execution_count": 53,
     "metadata": {},
     "output_type": "execute_result"
    }
   ],
   "source": [
    "model.fit(X,y)\n",
    "\n",
    "#simdi modeli egitelim,\n",
    "#modeli yukarida rng ile olusturdugu x'i,X'e cevirdi, sonra onlarla modeli egittik,\n",
    "#"
   ]
  },
  {
   "cell_type": "code",
   "execution_count": 54,
   "id": "b11ae556",
   "metadata": {},
   "outputs": [
    {
     "data": {
      "text/plain": [
       "array([1.98007544])"
      ]
     },
     "execution_count": 54,
     "metadata": {},
     "output_type": "execute_result"
    }
   ],
   "source": [
    "model.coef_\n",
    "#aslinda bu bizim denklemimizin egimi, yani galiba a katsayisidir(coefficient)\n",
    "\n",
    "#sklearnde modelin attribute'larina alt tire eklenir"
   ]
  },
  {
   "cell_type": "code",
   "execution_count": 55,
   "id": "3cdfe4ff",
   "metadata": {},
   "outputs": [
    {
     "data": {
      "text/plain": [
       "-0.7351792394028802"
      ]
     },
     "execution_count": 55,
     "metadata": {},
     "output_type": "execute_result"
    }
   ],
   "source": [
    "model.intercept_\n",
    "\n",
    "#modelimizin sabiti ekrana yazildi"
   ]
  },
  {
   "cell_type": "markdown",
   "id": "149459fc",
   "metadata": {},
   "source": [
    "model kurulduktan sonra yeni verileri degerlendiririz"
   ]
  },
  {
   "cell_type": "code",
   "execution_count": 56,
   "id": "df7e7789",
   "metadata": {},
   "outputs": [],
   "source": []
  },
  {
   "cell_type": "code",
   "execution_count": 82,
   "id": "f90fd03a",
   "metadata": {},
   "outputs": [
    {
     "data": {
      "text/plain": [
       "array([ 0.        ,  0.2244898 ,  0.44897959,  0.67346939,  0.89795918,\n",
       "        1.12244898,  1.34693878,  1.57142857,  1.79591837,  2.02040816,\n",
       "        2.24489796,  2.46938776,  2.69387755,  2.91836735,  3.14285714,\n",
       "        3.36734694,  3.59183673,  3.81632653,  4.04081633,  4.26530612,\n",
       "        4.48979592,  4.71428571,  4.93877551,  5.16326531,  5.3877551 ,\n",
       "        5.6122449 ,  5.83673469,  6.06122449,  6.28571429,  6.51020408,\n",
       "        6.73469388,  6.95918367,  7.18367347,  7.40816327,  7.63265306,\n",
       "        7.85714286,  8.08163265,  8.30612245,  8.53061224,  8.75510204,\n",
       "        8.97959184,  9.20408163,  9.42857143,  9.65306122,  9.87755102,\n",
       "       10.10204082, 10.32653061, 10.55102041, 10.7755102 , 11.        ])"
      ]
     },
     "execution_count": 82,
     "metadata": {},
     "output_type": "execute_result"
    }
   ],
   "source": [
    "x_fit = np.linspace(0,11)\n",
    "x_fit\n",
    "\n",
    "#bunun icin predict methodu kullanilir\n",
    "#bu methodu göstermek icin öncelikle   x eksenini -1 ile 11 arasinda 50 parcaya bölelim\n",
    "#ve x_fit degiskenine atayalim\n",
    "#simdi bu degerleri X_fite atayip, ve bir boyutlu dizi haline getirelim"
   ]
  },
  {
   "cell_type": "code",
   "execution_count": 83,
   "id": "57a2d19a",
   "metadata": {},
   "outputs": [
    {
     "data": {
      "text/plain": [
       "array([[0.        ],\n",
       "       [0.2244898 ],\n",
       "       [0.44897959],\n",
       "       [0.67346939],\n",
       "       [0.89795918]])"
      ]
     },
     "execution_count": 83,
     "metadata": {},
     "output_type": "execute_result"
    }
   ],
   "source": [
    "X_fit =x_fit[:,np.newaxis]\n",
    "X_fit[:5]\n",
    "\n",
    "#önemli olan nokta bu iki boyutlu numpy arrayi yani dataFrame degil bunun icin head() calismadi\n",
    "#ben kendim ilk besini görmek icin [:5] ekledim"
   ]
  },
  {
   "cell_type": "code",
   "execution_count": 84,
   "id": "48de6a9e",
   "metadata": {},
   "outputs": [
    {
     "data": {
      "text/plain": [
       "array([-0.73517924, -0.29067251,  0.15383422,  0.59834096,  1.04284769,\n",
       "        1.48735442,  1.93186115,  2.37636788,  2.82087461,  3.26538135,\n",
       "        3.70988808,  4.15439481,  4.59890154,  5.04340827,  5.48791501,\n",
       "        5.93242174,  6.37692847,  6.8214352 ,  7.26594193,  7.71044866,\n",
       "        8.1549554 ,  8.59946213,  9.04396886,  9.48847559,  9.93298232,\n",
       "       10.37748905, 10.82199579, 11.26650252, 11.71100925, 12.15551598,\n",
       "       12.60002271, 13.04452945, 13.48903618, 13.93354291, 14.37804964,\n",
       "       14.82255637, 15.2670631 , 15.71156984, 16.15607657, 16.6005833 ,\n",
       "       17.04509003, 17.48959676, 17.93410349, 18.37861023, 18.82311696,\n",
       "       19.26762369, 19.71213042, 20.15663715, 20.60114389, 21.04565062])"
      ]
     },
     "execution_count": 84,
     "metadata": {},
     "output_type": "execute_result"
    }
   ],
   "source": [
    "y_pred = model.predict(X_fit)\n",
    "\n",
    "#simdide modelin yukardaki degerlerini predict methodu ile tahmin edelim\n",
    "#y_pred'i ilk defa olusturuyorum\n",
    "\n",
    "\n",
    "y_pred"
   ]
  },
  {
   "cell_type": "code",
   "execution_count": 85,
   "id": "e5d876f6",
   "metadata": {},
   "outputs": [
    {
     "data": {
      "image/png": "[encoded data removed]",
      "text/plain": [
       "<Figure size 432x288 with 1 Axes>"
      ]
     },
     "metadata": {
      "needs_background": "light"
     },
     "output_type": "display_data"
    }
   ],
   "source": [
    "plt.scatter(x,y);\n",
    "    \n",
    "#bu buldugumuz degerleri görsellestirelim\n",
    "#scatter grafigini cizdirelim sonra bu grafigin üstüne x_fit ve y_pred'in dogrusunu cizelim\n",
    "#bunu calistirinca veri setine göre regression grafigini ortaya cizdirmis olduk "
   ]
  },
  {
   "cell_type": "code",
   "execution_count": 86,
   "id": "47ed1378",
   "metadata": {},
   "outputs": [
    {
     "data": {
      "image/png": "[encoded data removed]",
      "text/plain": [
       "<Figure size 432x288 with 1 Axes>"
      ]
     },
     "metadata": {
      "needs_background": "light"
     },
     "output_type": "display_data"
    }
   ],
   "source": [
    "plt.plot(x_fit,y_pred);\n",
    "\n",
    "#bu kendi linspace ile olusturdugu x_fit ve onun modelden gelen tahmini olan y_pred"
   ]
  },
  {
   "cell_type": "code",
   "execution_count": 87,
   "id": "1d596fa3",
   "metadata": {},
   "outputs": [
    {
     "data": {
      "image/png": "[encoded data removed]",
      "text/plain": [
       "<Figure size 432x288 with 1 Axes>"
      ]
     },
     "metadata": {
      "needs_background": "light"
     },
     "output_type": "display_data"
    }
   ],
   "source": [
    "plt.scatter(x,y)\n",
    "plt.plot(x_fit,y_pred);\n",
    "\n",
    "\n",
    "#burda x ve y ler baska veri degerleriyle onlari yukarida rng ile buldu\n",
    "#ama x_fit'i linspace ile buldu ve x_fit'Linear Regression modeliyle egiterek y_predleri buldu\n",
    "\n",
    "\n"
   ]
  },
  {
   "cell_type": "code",
   "execution_count": null,
   "id": "ad945acb",
   "metadata": {},
   "outputs": [],
   "source": []
  },
  {
   "cell_type": "markdown",
   "id": "0018221f",
   "metadata": {},
   "source": [
    "## simdide iris veri setini kullanarak,denetimli ögrenmedeki  siniflandirma modeli üzerine calisalim"
   ]
  },
  {
   "cell_type": "code",
   "execution_count": null,
   "id": "c8df0333",
   "metadata": {},
   "outputs": [],
   "source": [
    "#zaten yukarida hazirlamistik\n",
    "# X_iris\n",
    "# y_iris"
   ]
  },
  {
   "cell_type": "code",
   "execution_count": 88,
   "id": "9e1637ca",
   "metadata": {},
   "outputs": [],
   "source": [
    "#burdaki amacimiz iris veri setindeki egitim verisini kullanarak model olusturmak  \n",
    "#ve daha sonra bu modeli kullanarak, test verisindeki degerlerin sinifini tahmin etmek\n",
    "#yukarida yaptigimiz y_iris zaten bunlarin cevaplari, yani hangi sinifta olduklaridir\n",
    "#biz y_iris_test i ilk etapta modele göstermeyip, ondan tahmin etmesini bekleyecegiz\n",
    "#bunun icin GaussianNB modelini kullanalim bu yöntem hem hizli hemde hiperparametre gerektirmiyor"
   ]
  },
  {
   "cell_type": "code",
   "execution_count": 98,
   "id": "b856cfc7",
   "metadata": {},
   "outputs": [],
   "source": [
    "from sklearn.model_selection import train_test_split\n",
    "\n",
    "X_iris_train, X_iris_test, y_iris_train, y_iris_test = train_test_split(X_iris,y_iris, random_state=1)\n",
    "\n",
    "#simdi veri seti bölelim"
   ]
  },
  {
   "cell_type": "code",
   "execution_count": 99,
   "id": "9f34ec44",
   "metadata": {},
   "outputs": [
    {
     "data": {
      "text/html": [
       "<div>\n",
       "<style scoped>\n",
       "    .dataframe tbody tr th:only-of-type {\n",
       "        vertical-align: middle;\n",
       "    }\n",
       "\n",
       "    .dataframe tbody tr th {\n",
       "        vertical-align: top;\n",
       "    }\n",
       "\n",
       "    .dataframe thead th {\n",
       "        text-align: right;\n",
       "    }\n",
       "</style>\n",
       "<table border=\"1\" class=\"dataframe\">\n",
       "  <thead>\n",
       "    <tr style=\"text-align: right;\">\n",
       "      <th></th>\n",
       "      <th>sepal_length</th>\n",
       "      <th>sepal_width</th>\n",
       "      <th>petal_length</th>\n",
       "      <th>petal_width</th>\n",
       "    </tr>\n",
       "  </thead>\n",
       "  <tbody>\n",
       "    <tr>\n",
       "      <th>54</th>\n",
       "      <td>6.5</td>\n",
       "      <td>2.8</td>\n",
       "      <td>4.6</td>\n",
       "      <td>1.5</td>\n",
       "    </tr>\n",
       "    <tr>\n",
       "      <th>108</th>\n",
       "      <td>6.7</td>\n",
       "      <td>2.5</td>\n",
       "      <td>5.8</td>\n",
       "      <td>1.8</td>\n",
       "    </tr>\n",
       "    <tr>\n",
       "      <th>112</th>\n",
       "      <td>6.8</td>\n",
       "      <td>3.0</td>\n",
       "      <td>5.5</td>\n",
       "      <td>2.1</td>\n",
       "    </tr>\n",
       "    <tr>\n",
       "      <th>17</th>\n",
       "      <td>5.1</td>\n",
       "      <td>3.5</td>\n",
       "      <td>1.4</td>\n",
       "      <td>0.3</td>\n",
       "    </tr>\n",
       "    <tr>\n",
       "      <th>119</th>\n",
       "      <td>6.0</td>\n",
       "      <td>2.2</td>\n",
       "      <td>5.0</td>\n",
       "      <td>1.5</td>\n",
       "    </tr>\n",
       "  </tbody>\n",
       "</table>\n",
       "</div>"
      ],
      "text/plain": [
       "     sepal_length  sepal_width  petal_length  petal_width\n",
       "54            6.5          2.8           4.6          1.5\n",
       "108           6.7          2.5           5.8          1.8\n",
       "112           6.8          3.0           5.5          2.1\n",
       "17            5.1          3.5           1.4          0.3\n",
       "119           6.0          2.2           5.0          1.5"
      ]
     },
     "execution_count": 99,
     "metadata": {},
     "output_type": "execute_result"
    }
   ],
   "source": [
    "X_iris_train.head()"
   ]
  },
  {
   "cell_type": "code",
   "execution_count": 100,
   "id": "fffc4f49",
   "metadata": {},
   "outputs": [
    {
     "data": {
      "text/plain": [
       "54     versicolor\n",
       "108     virginica\n",
       "112     virginica\n",
       "17         setosa\n",
       "119     virginica\n",
       "Name: species, dtype: object"
      ]
     },
     "execution_count": 100,
     "metadata": {},
     "output_type": "execute_result"
    }
   ],
   "source": [
    "y_iris_train.head() #yukardakilerle ayni veriler"
   ]
  },
  {
   "cell_type": "code",
   "execution_count": 101,
   "id": "47c71e72",
   "metadata": {},
   "outputs": [
    {
     "data": {
      "text/html": [
       "<div>\n",
       "<style scoped>\n",
       "    .dataframe tbody tr th:only-of-type {\n",
       "        vertical-align: middle;\n",
       "    }\n",
       "\n",
       "    .dataframe tbody tr th {\n",
       "        vertical-align: top;\n",
       "    }\n",
       "\n",
       "    .dataframe thead th {\n",
       "        text-align: right;\n",
       "    }\n",
       "</style>\n",
       "<table border=\"1\" class=\"dataframe\">\n",
       "  <thead>\n",
       "    <tr style=\"text-align: right;\">\n",
       "      <th></th>\n",
       "      <th>sepal_length</th>\n",
       "      <th>sepal_width</th>\n",
       "      <th>petal_length</th>\n",
       "      <th>petal_width</th>\n",
       "    </tr>\n",
       "  </thead>\n",
       "  <tbody>\n",
       "    <tr>\n",
       "      <th>14</th>\n",
       "      <td>5.8</td>\n",
       "      <td>4.0</td>\n",
       "      <td>1.2</td>\n",
       "      <td>0.2</td>\n",
       "    </tr>\n",
       "    <tr>\n",
       "      <th>98</th>\n",
       "      <td>5.1</td>\n",
       "      <td>2.5</td>\n",
       "      <td>3.0</td>\n",
       "      <td>1.1</td>\n",
       "    </tr>\n",
       "    <tr>\n",
       "      <th>75</th>\n",
       "      <td>6.6</td>\n",
       "      <td>3.0</td>\n",
       "      <td>4.4</td>\n",
       "      <td>1.4</td>\n",
       "    </tr>\n",
       "    <tr>\n",
       "      <th>16</th>\n",
       "      <td>5.4</td>\n",
       "      <td>3.9</td>\n",
       "      <td>1.3</td>\n",
       "      <td>0.4</td>\n",
       "    </tr>\n",
       "    <tr>\n",
       "      <th>131</th>\n",
       "      <td>7.9</td>\n",
       "      <td>3.8</td>\n",
       "      <td>6.4</td>\n",
       "      <td>2.0</td>\n",
       "    </tr>\n",
       "  </tbody>\n",
       "</table>\n",
       "</div>"
      ],
      "text/plain": [
       "     sepal_length  sepal_width  petal_length  petal_width\n",
       "14            5.8          4.0           1.2          0.2\n",
       "98            5.1          2.5           3.0          1.1\n",
       "75            6.6          3.0           4.4          1.4\n",
       "16            5.4          3.9           1.3          0.4\n",
       "131           7.9          3.8           6.4          2.0"
      ]
     },
     "execution_count": 101,
     "metadata": {},
     "output_type": "execute_result"
    }
   ],
   "source": [
    "X_iris_test.head()"
   ]
  },
  {
   "cell_type": "code",
   "execution_count": 102,
   "id": "bd1a6c52",
   "metadata": {},
   "outputs": [
    {
     "data": {
      "text/plain": [
       "14         setosa\n",
       "98     versicolor\n",
       "75     versicolor\n",
       "16         setosa\n",
       "131     virginica\n",
       "Name: species, dtype: object"
      ]
     },
     "execution_count": 102,
     "metadata": {},
     "output_type": "execute_result"
    }
   ],
   "source": [
    "y_iris_test.head()  #yukaridakilerle ayni veriler"
   ]
  },
  {
   "cell_type": "code",
   "execution_count": null,
   "id": "34e4926e",
   "metadata": {},
   "outputs": [],
   "source": []
  },
  {
   "cell_type": "code",
   "execution_count": 103,
   "id": "44793a19",
   "metadata": {},
   "outputs": [],
   "source": [
    "from sklearn.naive_bayes import GaussianNB\n",
    "\n",
    "model = GaussianNB()\n",
    "\n",
    "#simdi model sinifini secelim\n",
    "#naive.bayes modülünden GaussianNB sinifini cagiralim"
   ]
  },
  {
   "cell_type": "code",
   "execution_count": 104,
   "id": "b633247d",
   "metadata": {},
   "outputs": [
    {
     "data": {
      "text/html": [
       "<style>#sk-container-id-3 {color: black;background-color: white;}#sk-container-id-3 pre{padding: 0;}#sk-container-id-3 div.sk-toggleable {background-color: white;}#sk-container-id-3 label.sk-toggleable__label {cursor: pointer;display: block;width: 100%;margin-bottom: 0;padding: 0.3em;box-sizing: border-box;text-align: center;}#sk-container-id-3 label.sk-toggleable__label-arrow:before {content: \"▸\";float: left;margin-right: 0.25em;color: #696969;}#sk-container-id-3 label.sk-toggleable__label-arrow:hover:before {color: black;}#sk-container-id-3 div.sk-estimator:hover label.sk-toggleable__label-arrow:before {color: black;}#sk-container-id-3 div.sk-toggleable__content {max-height: 0;max-width: 0;overflow: hidden;text-align: left;background-color: #f0f8ff;}#sk-container-id-3 div.sk-toggleable__content pre {margin: 0.2em;color: black;border-radius: 0.25em;background-color: #f0f8ff;}#sk-container-id-3 input.sk-toggleable__control:checked~div.sk-toggleable__content {max-height: 200px;max-width: 100%;overflow: auto;}#sk-container-id-3 input.sk-toggleable__control:checked~label.sk-toggleable__label-arrow:before {content: \"▾\";}#sk-container-id-3 div.sk-estimator input.sk-toggleable__control:checked~label.sk-toggleable__label {background-color: #d4ebff;}#sk-container-id-3 div.sk-label input.sk-toggleable__control:checked~label.sk-toggleable__label {background-color: #d4ebff;}#sk-container-id-3 input.sk-hidden--visually {border: 0;clip: rect(1px 1px 1px 1px);clip: rect(1px, 1px, 1px, 1px);height: 1px;margin: -1px;overflow: hidden;padding: 0;position: absolute;width: 1px;}#sk-container-id-3 div.sk-estimator {font-family: monospace;background-color: #f0f8ff;border: 1px dotted black;border-radius: 0.25em;box-sizing: border-box;margin-bottom: 0.5em;}#sk-container-id-3 div.sk-estimator:hover {background-color: #d4ebff;}#sk-container-id-3 div.sk-parallel-item::after {content: \"\";width: 100%;border-bottom: 1px solid gray;flex-grow: 1;}#sk-container-id-3 div.sk-label:hover label.sk-toggleable__label {background-color: #d4ebff;}#sk-container-id-3 div.sk-serial::before {content: \"\";position: absolute;border-left: 1px solid gray;box-sizing: border-box;top: 0;bottom: 0;left: 50%;z-index: 0;}#sk-container-id-3 div.sk-serial {display: flex;flex-direction: column;align-items: center;background-color: white;padding-right: 0.2em;padding-left: 0.2em;position: relative;}#sk-container-id-3 div.sk-item {position: relative;z-index: 1;}#sk-container-id-3 div.sk-parallel {display: flex;align-items: stretch;justify-content: center;background-color: white;position: relative;}#sk-container-id-3 div.sk-item::before, #sk-container-id-3 div.sk-parallel-item::before {content: \"\";position: absolute;border-left: 1px solid gray;box-sizing: border-box;top: 0;bottom: 0;left: 50%;z-index: -1;}#sk-container-id-3 div.sk-parallel-item {display: flex;flex-direction: column;z-index: 1;position: relative;background-color: white;}#sk-container-id-3 div.sk-parallel-item:first-child::after {align-self: flex-end;width: 50%;}#sk-container-id-3 div.sk-parallel-item:last-child::after {align-self: flex-start;width: 50%;}#sk-container-id-3 div.sk-parallel-item:only-child::after {width: 0;}#sk-container-id-3 div.sk-dashed-wrapped {border: 1px dashed gray;margin: 0 0.4em 0.5em 0.4em;box-sizing: border-box;padding-bottom: 0.4em;background-color: white;}#sk-container-id-3 div.sk-label label {font-family: monospace;font-weight: bold;display: inline-block;line-height: 1.2em;}#sk-container-id-3 div.sk-label-container {text-align: center;}#sk-container-id-3 div.sk-container {/* jupyter's `normalize.less` sets `[hidden] { display: none; }` but bootstrap.min.css set `[hidden] { display: none !important; }` so we also need the `!important` here to be able to override the default hidden behavior on the sphinx rendered scikit-learn.org. See: https://github.com/scikit-learn/scikit-learn/issues/21755 */display: inline-block !important;position: relative;}#sk-container-id-3 div.sk-text-repr-fallback {display: none;}</style><div id=\"sk-container-id-3\" class=\"sk-top-container\"><div class=\"sk-text-repr-fallback\"><pre>GaussianNB()</pre><b>In a Jupyter environment, please rerun this cell to show the HTML representation or trust the notebook. <br />On GitHub, the HTML representation is unable to render, please try loading this page with nbviewer.org.</b></div><div class=\"sk-container\" hidden><div class=\"sk-item\"><div class=\"sk-estimator sk-toggleable\"><input class=\"sk-toggleable__control sk-hidden--visually\" id=\"sk-estimator-id-3\" type=\"checkbox\" checked><label for=\"sk-estimator-id-3\" class=\"sk-toggleable__label sk-toggleable__label-arrow\">GaussianNB</label><div class=\"sk-toggleable__content\"><pre>GaussianNB()</pre></div></div></div></div></div>"
      ],
      "text/plain": [
       "GaussianNB()"
      ]
     },
     "execution_count": 104,
     "metadata": {},
     "output_type": "execute_result"
    }
   ],
   "source": [
    "model.fit(X_iris_train,y_iris_train)\n",
    "\n",
    "#simdide modelimizi egitelim"
   ]
  },
  {
   "cell_type": "code",
   "execution_count": 106,
   "id": "7705af5b",
   "metadata": {},
   "outputs": [
    {
     "data": {
      "text/plain": [
       "array(['setosa', 'versicolor', 'versicolor', 'setosa', 'virginica',\n",
       "       'versicolor', 'virginica', 'setosa', 'setosa', 'virginica',\n",
       "       'versicolor', 'setosa', 'virginica', 'versicolor', 'versicolor',\n",
       "       'setosa', 'versicolor', 'versicolor', 'setosa', 'setosa',\n",
       "       'versicolor', 'versicolor', 'virginica', 'setosa', 'virginica',\n",
       "       'versicolor', 'setosa', 'setosa', 'versicolor', 'virginica',\n",
       "       'versicolor', 'virginica', 'versicolor', 'virginica', 'virginica',\n",
       "       'setosa', 'versicolor', 'setosa'], dtype='<U10')"
      ]
     },
     "execution_count": 106,
     "metadata": {},
     "output_type": "execute_result"
    }
   ],
   "source": [
    "y_iris_pred = model.predict(X_iris_test)\n",
    "y_iris_pred\n",
    "\n",
    "#simdi yeni veri icin tahmin yapalim"
   ]
  },
  {
   "cell_type": "code",
   "execution_count": 110,
   "id": "5c5d11c5",
   "metadata": {},
   "outputs": [
    {
     "data": {
      "text/plain": [
       "0.9736842105263158"
      ]
     },
     "execution_count": 110,
     "metadata": {},
     "output_type": "execute_result"
    }
   ],
   "source": [
    "accuracy_score(y_iris_pred, y_iris_test)\n",
    "\n",
    "#model bu dogrulukta tahmin ediyor"
   ]
  },
  {
   "cell_type": "code",
   "execution_count": null,
   "id": "01dc8334",
   "metadata": {},
   "outputs": [],
   "source": []
  }
 ],
 "metadata": {
  "kernelspec": {
   "display_name": "Python 3.10.7 64-bit",
   "language": "python",
   "name": "python3"
  },
  "language_info": {
   "codemirror_mode": {
    "name": "ipython",
    "version": 3
   },
   "file_extension": ".py",
   "mimetype": "text/x-python",
   "name": "python",
   "nbconvert_exporter": "python",
   "pygments_lexer": "ipython3",
   "version": "3.10.7"
  },
  "vscode": {
   "interpreter": {
    "hash": "aee8b7b246df8f9039afb4144a1f6fd8d2ca17a180786b69acc140d282b71a49"
   }
  }
 },
 "nbformat": 4,
 "nbformat_minor": 5
}
