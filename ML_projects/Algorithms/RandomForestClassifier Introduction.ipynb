{
 "cells": [
  {
   "cell_type": "code",
   "execution_count": 1,
   "id": "d2901c4e",
   "metadata": {},
   "outputs": [],
   "source": [
    "# bu modelin amaci, verileri siniflara ayirmak, verdigin verilere bakarak,\n",
    "#kendisi sonradan girdigin verinin sinifini tahmin ediyor, güzel bisey \n",
    "#Fatih Hocanin bir ara anlattigi intership projesinde müsterilerin siniflandirilmasi icin olabilir aslinda"
   ]
  },
  {
   "cell_type": "markdown",
   "id": "531d14b8",
   "metadata": {},
   "source": [
    "## import "
   ]
  },
  {
   "cell_type": "code",
   "execution_count": 2,
   "id": "10abfc71",
   "metadata": {},
   "outputs": [],
   "source": [
    "from sklearn.ensemble import RandomForestClassifier\n",
    "\n",
    "\n",
    "#random forest bir esemble algoritmasi oldugu icin  bu algoritmayi eseamble modülünden cagiriyoruz\n"
   ]
  },
  {
   "cell_type": "markdown",
   "id": "eeb6487e",
   "metadata": {},
   "source": [
    "## Model kuruyoruz"
   ]
  },
  {
   "cell_type": "code",
   "execution_count": 3,
   "id": "f75bcefa",
   "metadata": {},
   "outputs": [],
   "source": [
    "clf = RandomForestClassifier(random_state=0)\n",
    "\n",
    "#simdi bu siftan bir örnek aliyorum\n",
    "#random_state parametresi kullnilan verileri sabitlemek icin kullanilir\n",
    "#eger bende bu parametreyi kullanirsam, bende hocanin buldugu sonuclarin aynisini bulabilirim\n"
   ]
  },
  {
   "cell_type": "code",
   "execution_count": 4,
   "id": "bfbc4eae",
   "metadata": {},
   "outputs": [],
   "source": [
    "X = [[1,2,3],[11,12,13]]\n",
    "y = ['kücük','büyük']\n",
    "\n",
    "#X ve y tipinde iki tane Numpy tipinde bir degisken olusturdum\n",
    "# bu gösterim sekli sunu ifade ediyor, iki liste var X icinde ilki \n",
    "#kücük sinifina ait, digeri büyük sinifina ait \n",
    "#ve. asagida biz kendimiz liseler verdigimizde hangi sinif ait olacagini thamin edecek\n"
   ]
  },
  {
   "cell_type": "code",
   "execution_count": 5,
   "id": "73a340f4",
   "metadata": {},
   "outputs": [
    {
     "data": {
      "text/html": [
       "<style>#sk-container-id-1 {color: black;background-color: white;}#sk-container-id-1 pre{padding: 0;}#sk-container-id-1 div.sk-toggleable {background-color: white;}#sk-container-id-1 label.sk-toggleable__label {cursor: pointer;display: block;width: 100%;margin-bottom: 0;padding: 0.3em;box-sizing: border-box;text-align: center;}#sk-container-id-1 label.sk-toggleable__label-arrow:before {content: \"▸\";float: left;margin-right: 0.25em;color: #696969;}#sk-container-id-1 label.sk-toggleable__label-arrow:hover:before {color: black;}#sk-container-id-1 div.sk-estimator:hover label.sk-toggleable__label-arrow:before {color: black;}#sk-container-id-1 div.sk-toggleable__content {max-height: 0;max-width: 0;overflow: hidden;text-align: left;background-color: #f0f8ff;}#sk-container-id-1 div.sk-toggleable__content pre {margin: 0.2em;color: black;border-radius: 0.25em;background-color: #f0f8ff;}#sk-container-id-1 input.sk-toggleable__control:checked~div.sk-toggleable__content {max-height: 200px;max-width: 100%;overflow: auto;}#sk-container-id-1 input.sk-toggleable__control:checked~label.sk-toggleable__label-arrow:before {content: \"▾\";}#sk-container-id-1 div.sk-estimator input.sk-toggleable__control:checked~label.sk-toggleable__label {background-color: #d4ebff;}#sk-container-id-1 div.sk-label input.sk-toggleable__control:checked~label.sk-toggleable__label {background-color: #d4ebff;}#sk-container-id-1 input.sk-hidden--visually {border: 0;clip: rect(1px 1px 1px 1px);clip: rect(1px, 1px, 1px, 1px);height: 1px;margin: -1px;overflow: hidden;padding: 0;position: absolute;width: 1px;}#sk-container-id-1 div.sk-estimator {font-family: monospace;background-color: #f0f8ff;border: 1px dotted black;border-radius: 0.25em;box-sizing: border-box;margin-bottom: 0.5em;}#sk-container-id-1 div.sk-estimator:hover {background-color: #d4ebff;}#sk-container-id-1 div.sk-parallel-item::after {content: \"\";width: 100%;border-bottom: 1px solid gray;flex-grow: 1;}#sk-container-id-1 div.sk-label:hover label.sk-toggleable__label {background-color: #d4ebff;}#sk-container-id-1 div.sk-serial::before {content: \"\";position: absolute;border-left: 1px solid gray;box-sizing: border-box;top: 0;bottom: 0;left: 50%;z-index: 0;}#sk-container-id-1 div.sk-serial {display: flex;flex-direction: column;align-items: center;background-color: white;padding-right: 0.2em;padding-left: 0.2em;position: relative;}#sk-container-id-1 div.sk-item {position: relative;z-index: 1;}#sk-container-id-1 div.sk-parallel {display: flex;align-items: stretch;justify-content: center;background-color: white;position: relative;}#sk-container-id-1 div.sk-item::before, #sk-container-id-1 div.sk-parallel-item::before {content: \"\";position: absolute;border-left: 1px solid gray;box-sizing: border-box;top: 0;bottom: 0;left: 50%;z-index: -1;}#sk-container-id-1 div.sk-parallel-item {display: flex;flex-direction: column;z-index: 1;position: relative;background-color: white;}#sk-container-id-1 div.sk-parallel-item:first-child::after {align-self: flex-end;width: 50%;}#sk-container-id-1 div.sk-parallel-item:last-child::after {align-self: flex-start;width: 50%;}#sk-container-id-1 div.sk-parallel-item:only-child::after {width: 0;}#sk-container-id-1 div.sk-dashed-wrapped {border: 1px dashed gray;margin: 0 0.4em 0.5em 0.4em;box-sizing: border-box;padding-bottom: 0.4em;background-color: white;}#sk-container-id-1 div.sk-label label {font-family: monospace;font-weight: bold;display: inline-block;line-height: 1.2em;}#sk-container-id-1 div.sk-label-container {text-align: center;}#sk-container-id-1 div.sk-container {/* jupyter's `normalize.less` sets `[hidden] { display: none; }` but bootstrap.min.css set `[hidden] { display: none !important; }` so we also need the `!important` here to be able to override the default hidden behavior on the sphinx rendered scikit-learn.org. See: https://github.com/scikit-learn/scikit-learn/issues/21755 */display: inline-block !important;position: relative;}#sk-container-id-1 div.sk-text-repr-fallback {display: none;}</style><div id=\"sk-container-id-1\" class=\"sk-top-container\"><div class=\"sk-text-repr-fallback\"><pre>RandomForestClassifier(random_state=0)</pre><b>In a Jupyter environment, please rerun this cell to show the HTML representation or trust the notebook. <br />On GitHub, the HTML representation is unable to render, please try loading this page with nbviewer.org.</b></div><div class=\"sk-container\" hidden><div class=\"sk-item\"><div class=\"sk-estimator sk-toggleable\"><input class=\"sk-toggleable__control sk-hidden--visually\" id=\"sk-estimator-id-1\" type=\"checkbox\" checked><label for=\"sk-estimator-id-1\" class=\"sk-toggleable__label sk-toggleable__label-arrow\">RandomForestClassifier</label><div class=\"sk-toggleable__content\"><pre>RandomForestClassifier(random_state=0)</pre></div></div></div></div></div>"
      ],
      "text/plain": [
       "RandomForestClassifier(random_state=0)"
      ]
     },
     "execution_count": 5,
     "metadata": {},
     "output_type": "execute_result"
    }
   ],
   "source": [
    "clf.fit(X,y)\n",
    "\n",
    "#simdiede fit metodunu kullnarak veriyi modele uydurabiliriz\n",
    "\n",
    "#bu sekilde RandomForestClassifier modelini kurmus oldum\n",
    "\n",
    "\n",
    "#bu modeli kullanarak verilerin siifini tahmin edebiliriz\n"
   ]
  },
  {
   "cell_type": "markdown",
   "id": "2af3065d",
   "metadata": {},
   "source": [
    "## Prediction"
   ]
  },
  {
   "cell_type": "code",
   "execution_count": 6,
   "id": "fd563ae9",
   "metadata": {},
   "outputs": [
    {
     "data": {
      "text/plain": [
       "array(['kücük', 'büyük'], dtype='<U5')"
      ]
     },
     "execution_count": 6,
     "metadata": {},
     "output_type": "execute_result"
    }
   ],
   "source": [
    "clf.predict(X)\n",
    "\n",
    "#veriyi tahmin etmek icn predict methodunu cagirabiliriz\n",
    "#verimizdeki x degiskenin sinifini tahmin edelim\n",
    "\n",
    "\n",
    "#alttaki sonuc, bize modelin yaptigi tahmini gösteriyor, ilk [1,2,3] icin 0 i,digeri icin 1 i getirdi\n",
    "#tabi bu cok basit bir örnek oldugu icin ,tam anlamadim aslinda, bu model siniflandirma yapmak icin \n",
    "#kullaniliyor\n",
    "#aslinda model etiketleri tahmin etti\n"
   ]
  },
  {
   "cell_type": "code",
   "execution_count": 14,
   "id": "5cfc61dc",
   "metadata": {},
   "outputs": [
    {
     "data": {
      "text/plain": [
       "array(['kücük', 'büyük'], dtype='<U5')"
      ]
     },
     "execution_count": 14,
     "metadata": {},
     "output_type": "execute_result"
    }
   ],
   "source": [
    "clf.predict([[4,5,6],[11,223,33]])\n",
    "\n",
    "\n",
    "#simdi modelin yeni bir veriyi nasil tamin ettgini görelim\n",
    "#burda modelin tahminlerine bakmak istedim bu sekilde veriler \n",
    "#girince ikisininde 0 sinifina ait oldugunu söyledi\n",
    "#yani [4,5,6] in 0 sinifina , [1,2,3] ninda 0 sinifina ait oldugunu gördük"
   ]
  },
  {
   "cell_type": "code",
   "execution_count": 8,
   "id": "562b6907",
   "metadata": {},
   "outputs": [
    {
     "data": {
      "text/plain": [
       "array(['kücük', 'kücük'], dtype='<U5')"
      ]
     },
     "execution_count": 8,
     "metadata": {},
     "output_type": "execute_result"
    }
   ],
   "source": [
    "clf.predict([[4,5,6],[-1,2,3]])\n",
    "#kücükler oldugu icin ,kücük dedi"
   ]
  },
  {
   "cell_type": "code",
   "execution_count": 18,
   "id": "a456eda0",
   "metadata": {},
   "outputs": [
    {
     "data": {
      "text/plain": [
       "array(['kücük', 'büyük'], dtype='<U5')"
      ]
     },
     "execution_count": 18,
     "metadata": {},
     "output_type": "execute_result"
    }
   ],
   "source": [
    "clf.predict([[4,5,6],[11,-223,33]])\n",
    "#büyük sayi eksili, digerleri arti oldugu icin büyük dedi"
   ]
  },
  {
   "cell_type": "code",
   "execution_count": 19,
   "id": "e59c7131",
   "metadata": {},
   "outputs": [
    {
     "data": {
      "text/plain": [
       "array(['kücük', 'büyük'], dtype='<U5')"
      ]
     },
     "execution_count": 19,
     "metadata": {},
     "output_type": "execute_result"
    }
   ],
   "source": [
    "clf.predict([[4,5,6],[-11,223,-33]])\n",
    "\n",
    "#iki eksi ama sayi büyük oldugu icin büyük yapti"
   ]
  },
  {
   "cell_type": "code",
   "execution_count": 20,
   "id": "76eac55f",
   "metadata": {},
   "outputs": [
    {
     "data": {
      "text/plain": [
       "array(['kücük', 'büyük'], dtype='<U5')"
      ]
     },
     "execution_count": 20,
     "metadata": {},
     "output_type": "execute_result"
    }
   ],
   "source": [
    "clf.predict([[4,5,6],[100,100,-100]])\n",
    "#bir eksili olunca büyük yapti"
   ]
  },
  {
   "cell_type": "code",
   "execution_count": 21,
   "id": "32c77385",
   "metadata": {},
   "outputs": [
    {
     "data": {
      "text/plain": [
       "array(['kücük', 'kücük'], dtype='<U5')"
      ]
     },
     "execution_count": 21,
     "metadata": {},
     "output_type": "execute_result"
    }
   ],
   "source": [
    "clf.predict([[4,5,6],[100,-100,-100]])\n",
    "\n",
    "#iki eksili olunca kücük yapti"
   ]
  },
  {
   "cell_type": "code",
   "execution_count": null,
   "id": "0c31942b",
   "metadata": {},
   "outputs": [],
   "source": [
    "#ben burda nasil calistigini görmek istedim ama , yaptigim alistirmalar, icindeki büyüktür,\n",
    "#veya kücüktür kosullarini anlamam icin yetmez, icindeki algoritmayi görmemiz lazim"
   ]
  },
  {
   "cell_type": "code",
   "execution_count": null,
   "id": "da878be8",
   "metadata": {},
   "outputs": [],
   "source": []
  },
  {
   "cell_type": "markdown",
   "id": "0446d6b7",
   "metadata": {},
   "source": [
    "## Preprocessing (veri ön isleme)"
   ]
  },
  {
   "cell_type": "markdown",
   "id": "55ba7764",
   "metadata": {},
   "source": [
    "### Data Scaling"
   ]
  },
  {
   "cell_type": "code",
   "execution_count": 9,
   "id": "4b975834",
   "metadata": {},
   "outputs": [],
   "source": [
    "#simdi scikitlearn ile veri ön isleme yapalim  kurabiliriz hemde daha hizli model egitebilirim\n",
    "#veri ölcekleme veri isleme asamalarindan biridir\n",
    "#verileri ölceklendirmek icin, standartlastirma  ve normallestirme gibi cesitli teknikler vardir\n",
    "#verileri standartlastirmak icin StandardScaler bu kütüphaneyi import edelim"
   ]
  },
  {
   "cell_type": "code",
   "execution_count": 10,
   "id": "6d4cd661",
   "metadata": {},
   "outputs": [],
   "source": [
    "from sklearn.preprocessing import StandardScaler    #StandartScaler sinifini import edelim"
   ]
  },
  {
   "cell_type": "code",
   "execution_count": 11,
   "id": "db61610a",
   "metadata": {},
   "outputs": [],
   "source": [
    "X = [[0,15,2],\n",
    "    [1,-10,3]] "
   ]
  },
  {
   "cell_type": "code",
   "execution_count": 12,
   "id": "36aa3cc7",
   "metadata": {},
   "outputs": [
    {
     "data": {
      "text/plain": [
       "array([[-1.,  1., -1.],\n",
       "       [ 1., -1.,  1.]])"
      ]
     },
     "execution_count": 12,
     "metadata": {},
     "output_type": "execute_result"
    }
   ],
   "source": [
    "StandardScaler().fit(X).transform(X)\n",
    "\n",
    "#simdi fit methodu ile parametleri egitelim ve transform methodu ile verileri ölcekleyelim\n",
    "#burda fit methodu parametreleri egitecek bu egitilen parametlere göre  \n",
    "#sonra transform methodunu kullanarak X degiskenindeki verileri  ölcekleyecem\n",
    "\n",
    "#burdan görüyorum ki veriler -1 ve 1 degerlerine dönüstü"
   ]
  },
  {
   "cell_type": "code",
   "execution_count": null,
   "id": "65feccb5",
   "metadata": {},
   "outputs": [],
   "source": []
  }
 ],
 "metadata": {
  "kernelspec": {
   "display_name": "Python 3 (ipykernel)",
   "language": "python",
   "name": "python3"
  },
  "language_info": {
   "codemirror_mode": {
    "name": "ipython",
    "version": 3
   },
   "file_extension": ".py",
   "mimetype": "text/x-python",
   "name": "python",
   "nbconvert_exporter": "python",
   "pygments_lexer": "ipython3",
   "version": "3.9.12"
  }
 },
 "nbformat": 4,
 "nbformat_minor": 5
}
