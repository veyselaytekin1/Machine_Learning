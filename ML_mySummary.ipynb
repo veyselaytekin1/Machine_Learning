{
 "cells": [
  {
   "cell_type": "markdown",
   "id": "daae2466",
   "metadata": {},
   "source": [
    "### Genel bilgiler"
   ]
  },
  {
   "cell_type": "code",
   "execution_count": null,
   "id": "513c6bd0",
   "metadata": {},
   "outputs": [],
   "source": [
    "#eger bizim Targetlerimiz sayisal veri oldugu icin, Linear regression modeli kullanmak daha verimli olur"
   ]
  },
  {
   "cell_type": "code",
   "execution_count": null,
   "id": "0a74c1b1",
   "metadata": {},
   "outputs": [],
   "source": [
    "#input yani Features ler bagimsiz degiskenlerdir,\n",
    "#Output yani Target bagimli degiskenlerdir, cünkü bunlar cikti oldugu icin, inputlaradan etkileniyorlar\n"
   ]
  },
  {
   "cell_type": "code",
   "execution_count": null,
   "id": "c69a58a2",
   "metadata": {},
   "outputs": [],
   "source": []
  },
  {
   "cell_type": "code",
   "execution_count": null,
   "id": "bcf5df64",
   "metadata": {},
   "outputs": [],
   "source": []
  },
  {
   "cell_type": "code",
   "execution_count": null,
   "id": "9810f67a",
   "metadata": {},
   "outputs": [],
   "source": []
  },
  {
   "cell_type": "code",
   "execution_count": null,
   "id": "e956adb9",
   "metadata": {},
   "outputs": [],
   "source": []
  },
  {
   "cell_type": "code",
   "execution_count": null,
   "id": "d013d167",
   "metadata": {},
   "outputs": [],
   "source": []
  },
  {
   "cell_type": "code",
   "execution_count": null,
   "id": "6a4a2391",
   "metadata": {},
   "outputs": [],
   "source": []
  },
  {
   "cell_type": "markdown",
   "id": "f14c8a4a",
   "metadata": {},
   "source": [
    "### veri tipini degistirme"
   ]
  },
  {
   "cell_type": "code",
   "execution_count": null,
   "id": "018dbff3",
   "metadata": {},
   "outputs": [],
   "source": [
    "data['region'] = data['region'].astype('category')\n",
    "\n",
    "#burda fala cesit bile olsa icinde categorye ceviriyor"
   ]
  },
  {
   "cell_type": "code",
   "execution_count": null,
   "id": "8c6a4ecd",
   "metadata": {},
   "outputs": [],
   "source": [
    "data = pd.get_dummies(data)\n",
    "data\n",
    "\n",
    "#get dummies ile veri seti categorical olanlar 0 ve 1 olarak machinenin anlayacagi dile cevriliyor\n",
    "#örnegin erkek olan kisinin satirinda cinsiyet_erkek = 1 cinsiyet_kadin = 0 yaziyor\n",
    "#eger dogu,bati,güney.kuzey kategorileri varsa, herbiri icin olusturuyor, ve güney olan kisinin\n",
    "#region_güney sütunu 1 region_bati sütunu 0.region_dogu sütunu 0 oluyor\n"
   ]
  },
  {
   "cell_type": "code",
   "execution_count": null,
   "id": "303b8d5e",
   "metadata": {},
   "outputs": [],
   "source": []
  },
  {
   "cell_type": "code",
   "execution_count": null,
   "id": "58e1e797",
   "metadata": {},
   "outputs": [],
   "source": []
  },
  {
   "cell_type": "markdown",
   "id": "3e1847e8",
   "metadata": {},
   "source": [
    "### veriyi modele hazir hale getirme"
   ]
  },
  {
   "cell_type": "code",
   "execution_count": null,
   "id": "ac0988f7",
   "metadata": {},
   "outputs": [],
   "source": [
    "y = data['charges']\n",
    "X = data.drop('charges' , axis =1) #icinde charge olmayanlari aliyor\n",
    "\n",
    "#bu sekilde y olanlar bagimli degisken yani sonuclar oldu\n",
    "#X olanlarda bizim Featureslerimiz oldu\n"
   ]
  },
  {
   "cell_type": "code",
   "execution_count": null,
   "id": "b1069f52",
   "metadata": {},
   "outputs": [],
   "source": [
    "#Training veri setiyle model egitilir, ve test veri setiyle test edilir\n",
    "#veri setini Traing ve test diye ayirmak icin  sklearn kütüphanesini kullaniyoruz.\n",
    "#Bu method ile veriyi istedigimiz oranda bölebiliriz\n",
    "#bu veri setini karistirarak parcalama yapar\n",
    "\n",
    "from sklearn.model_selection import train_test_split\n",
    "\n"
   ]
  },
  {
   "cell_type": "code",
   "execution_count": null,
   "id": "9684cbdb",
   "metadata": {},
   "outputs": [],
   "source": [
    "X_train, X_test, y_train, y_test = train_test_split(X, y, train_size = 0.80, random_state = 1)\n",
    "#bu sekilde verileri %80 train ve %20 test verileri olarak bölüyorum"
   ]
  },
  {
   "cell_type": "code",
   "execution_count": null,
   "id": "22becb32",
   "metadata": {},
   "outputs": [],
   "source": []
  },
  {
   "cell_type": "code",
   "execution_count": null,
   "id": "b21e2e4a",
   "metadata": {},
   "outputs": [],
   "source": []
  },
  {
   "cell_type": "markdown",
   "id": "fba019d5",
   "metadata": {},
   "source": [
    "### model kurma asamalari"
   ]
  },
  {
   "cell_type": "code",
   "execution_count": null,
   "id": "388b196e",
   "metadata": {},
   "outputs": [],
   "source": [
    "#linear regression modeli icin sllearn'deki linear modelden linear regression modelini import edelim\n",
    "\n",
    "\n",
    "from sklearn.linear_model import LinearRegression \n",
    "\n",
    "#galiba bir makina ögrenmesi modeli import ettik\n",
    "\n",
    "#simdide bu siniftan bir örnek alalim\n",
    "\n",
    "lr = LinearRegression    #busekilde bu siniftan birer örnek almis oldu\n",
    "\n",
    "lr.fit(X_train, y_train)   #egitim icin aldigim verileri aliyorum\n",
    "\n",
    "#simdide egitim verilerini kullanarak modeli kuralim,simdide performansina bakalim diyor\n",
    "\n",
    "\n",
    "#ilginc ama adam modeli kurduk dedi, yani ne demek istedigini halen anlamiyorum"
   ]
  },
  {
   "cell_type": "code",
   "execution_count": null,
   "id": "26b78ca3",
   "metadata": {},
   "outputs": [],
   "source": [
    "#yaptigimiz modelin performansini görmek icin, simdide belirleme katsayisini bulalim\n",
    "#bu deger 1 e nekadar yakinsa model okdar iyidir"
   ]
  },
  {
   "cell_type": "code",
   "execution_count": null,
   "id": "5bcce201",
   "metadata": {},
   "outputs": [],
   "source": []
  },
  {
   "cell_type": "code",
   "execution_count": null,
   "id": "7adb7283",
   "metadata": {},
   "outputs": [],
   "source": []
  },
  {
   "cell_type": "code",
   "execution_count": null,
   "id": "b35834fe",
   "metadata": {},
   "outputs": [],
   "source": []
  },
  {
   "cell_type": "code",
   "execution_count": null,
   "id": "f19fe011",
   "metadata": {},
   "outputs": [],
   "source": []
  },
  {
   "cell_type": "code",
   "execution_count": null,
   "id": "accadb5b",
   "metadata": {},
   "outputs": [],
   "source": []
  }
 ],
 "metadata": {
  "kernelspec": {
   "display_name": "Python 3 (ipykernel)",
   "language": "python",
   "name": "python3"
  },
  "language_info": {
   "codemirror_mode": {
    "name": "ipython",
    "version": 3
   },
   "file_extension": ".py",
   "mimetype": "text/x-python",
   "name": "python",
   "nbconvert_exporter": "python",
   "pygments_lexer": "ipython3",
   "version": "3.9.12"
  }
 },
 "nbformat": 4,
 "nbformat_minor": 5
}
