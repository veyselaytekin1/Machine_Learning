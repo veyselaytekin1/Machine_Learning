{
 "cells": [
  {
   "cell_type": "code",
   "execution_count": null,
   "id": "fc691696",
   "metadata": {},
   "outputs": [],
   "source": []
  },
  {
   "cell_type": "markdown",
   "id": "1384543c",
   "metadata": {},
   "source": [
    "# Genel bilgiler"
   ]
  },
  {
   "cell_type": "code",
   "execution_count": null,
   "id": "7eaeb8ab",
   "metadata": {},
   "outputs": [],
   "source": [
    "feats = pd.DataFrame(index=X.columns, data=model.feature_importances_, columns=['xgb_importance'])\n",
    "xgb_imp_feats = feats.sort_values(\"xgb_importance\")\n",
    "xgb_imp_feats\n",
    "\n",
    "#bir DataFrame tablosu olusturma ,asagida ciktisi var"
   ]
  },
  {
   "cell_type": "markdown",
   "id": "27769b90",
   "metadata": {},
   "source": [
    "![](2022-10-13-11-01-10.png)"
   ]
  },
  {
   "cell_type": "code",
   "execution_count": null,
   "id": "b8f2e0fe",
   "metadata": {},
   "outputs": [],
   "source": [
    "#bizim amacimiz 9 featuresle en iyi tahmini bulmak degildir, az featuresle mümkünse en üst düzey score bulmak önemli\n",
    "#burda bazen scoru biraz düsükse bile ama features sayisi fazla isede az featuresle yorum cikarmak\n",
    "#ama saglik datalarinda herbir featuresin,target üzerinde ne kadar etkisi var, onuda görmek istenebiliyor"
   ]
  },
  {
   "cell_type": "markdown",
   "id": "fdaf3567",
   "metadata": {},
   "source": [
    "Biraz ileri bir bilgi, fakat Label Encoder ile Get dummies farkını anlayanlar için konuşuyorum ; \\\n",
    " Get dummies kullanmayı gerçek hayat projelerinde ve kaggle yarışmalarında önermiyorlar. \\ \n",
    " Bunun yerine One Hot Encoder kullanmanın ileride oluşabilecek sorunları çözeceğini söylüyorlar. \\ \n",
    " One Hot Encoder kullanımı get dummies'den çok ufak daha zor olsa da olurda ilerde \\ \n",
    " get dummies yaparak train setini değiştirdiğiniz verilerle modeliniz'i kurduktan \\\n",
    " sonra test' verileriyle test'e sokarken hata alırsanız sebebi bu olabilir. Aklınızda bulunmasında fayda var"
   ]
  },
  {
   "cell_type": "code",
   "execution_count": null,
   "id": "260c1d09",
   "metadata": {},
   "outputs": [],
   "source": [
    "svm_model = SVC(random_state=42)\n",
    "\n",
    "_model.fit(X_train, y_train)\n",
    "eval_metric(svm_model, X_train, y_train, X_test, y_test)\n",
    "\n",
    "#Aslinda tüm olay bu, model kur tahmin yaptir ve bir degerlendirme kodu ile degerlendir\n",
    "#Belki model kurarken en iyi parametlreler icin GridSearch\n",
    "#ve hanginde Scaling yapip yapmayacagina bak,DecisionTree de Scaling yok\n",
    "\n",
    "\n",
    "\n",
    "Test_Set\n",
    "[[90  5]\n",
    " [24 25]]\n",
    "              precision    recall  f1-score   support\n",
    "\n",
    "           0       0.79      0.95      0.86        95\n",
    "           1       0.83      0.51      0.63        49\n",
    "\n",
    "    accuracy                           0.80       144\n",
    "   macro avg       0.81      0.73      0.75       144\n",
    "weighted avg       0.80      0.80      0.78       144\n",
    "\n",
    "\n",
    "Train_Set\n",
    "[[347  31]\n",
    " [110  88]]\n",
    "              precision    recall  f1-score   support\n",
    "\n",
    "           0       0.76      0.92      0.83       378\n",
    "           1       0.74      0.44      0.56       198\n",
    "\n",
    "    accuracy                           0.76       576\n",
    "   macro avg       0.75      0.68      0.69       576\n",
    "weighted avg       0.75      0.76      0.74       576\n"
   ]
  },
  {
   "cell_type": "code",
   "execution_count": null,
   "id": "c38fe6c2",
   "metadata": {},
   "outputs": [],
   "source": [
    "#imbalance datada recall ve f1 score a bakmak gerekir\n",
    "#balance olunca precision recall accuracy e bakabiliriz\n",
    "#sadece accuracye bakarak yorumlamak bazen dogru olmayabiliyor\n",
    "\n",
    "#train setinde daha düsük scorlar cikmis underfitting olmus olabilir\n",
    "#trainde coguna sifir demis\n",
    "\n",
    "#datanin iyi bir yerine gelerek te bu degerler gelmis olabilir onun icin Crosslu yapmaliyiz"
   ]
  },
  {
   "cell_type": "code",
   "execution_count": null,
   "id": "ee9b0385",
   "metadata": {},
   "outputs": [],
   "source": [
    "#eger bizim Targetlerimiz sayisal veri oldugu icin, Linear regression modeli kullanmak daha verimli olur"
   ]
  },
  {
   "cell_type": "code",
   "execution_count": null,
   "id": "acf9b524",
   "metadata": {},
   "outputs": [],
   "source": [
    "#input yani Features ler bagimsiz degiskenlerdir,\n",
    "#Output yani Target bagimli degiskenlerdir, cünkü bunlar cikti oldugu icin, inputlaradan etkileniyorlar\n"
   ]
  },
  {
   "cell_type": "code",
   "execution_count": null,
   "id": "4f32a601",
   "metadata": {},
   "outputs": [],
   "source": [
    "#makina ögrenmesi algoritmalarina Estimator(Estimeetıır) denir"
   ]
  },
  {
   "cell_type": "code",
   "execution_count": null,
   "id": "04177edc",
   "metadata": {},
   "outputs": [],
   "source": [
    "# toarray returns an ndarray; \n",
    "# todense returns a matrix. \n",
    "#If you want a matrix, use todense; otherwise, use toarray."
   ]
  },
  {
   "cell_type": "code",
   "execution_count": null,
   "id": "1b5cb40f",
   "metadata": {},
   "outputs": [],
   "source": [
    "# Rkare -bagimsiz desikkenlerin,bagimli degiskendeki degisikligi aciklama basarisidir\n",
    "#örnegin TV ve satislarin Rkaresi 0.62 cikmissa, TV,satislardaki degisimin %62 sini acikliyor\n",
    "#yani bunun yüksek cikmasi iyi olur,ama her parametre eklendiginde Rkare artar ve buda yaniltici bir durumdur,\n",
    "#bunun icin Adjusted R squared(ee.cass.tııd)(düzeltilmis R kare) ,gerekli olmayan herseyin atilip bulunan\n",
    "#degerdir \n",
    "#F statistik ,modelin anlamliligi"
   ]
  },
  {
   "cell_type": "code",
   "execution_count": null,
   "id": "6939b2cf",
   "metadata": {},
   "outputs": [],
   "source": [
    "# Multiple linearde bagimsiz degiskenler arasinda yüksek corr varsa, bu bizim bulacagimiz \n",
    "#katsayilarin varyansini arttirir, ve yanliliga sebep olur"
   ]
  },
  {
   "cell_type": "markdown",
   "id": "cd7e8c69",
   "metadata": {},
   "source": [
    "hiperparametrelerle ilgili bilgi"
   ]
  },
  {
   "cell_type": "code",
   "execution_count": null,
   "id": "23f63693",
   "metadata": {},
   "outputs": [],
   "source": [
    "#kullanaagimiz model sinifina karar verdikten sonra ,bazi parametreleri kendimiz belirleyebiliriz\n",
    "#belirleyecegimiz parametrelere hiper parametre denir \n",
    "#örnegin model kurarken sabit olacak mi,model normallestirilecek mi,\n",
    "#modelde kullanmak istedigin regülerlestirme seviyesi nekadar olacak\n",
    "#bu gibi sorulari cevaplamak icin hiper parametreleri kulanabiliriz\n",
    "#model kurulmadan önce hiper parametreler belirlenir\n",
    "#hiper parametreler ön tanimli parametrelerin üzerine yazilir\n",
    "#hiper parametreleri yazmazsak, default parametreler gecerli olur"
   ]
  },
  {
   "cell_type": "code",
   "execution_count": 1,
   "id": "a9850e7a",
   "metadata": {},
   "outputs": [
    {
     "ename": "NameError",
     "evalue": "name 'X_train' is not defined",
     "output_type": "error",
     "traceback": [
      "\u001b[0;31m---------------------------------------------------------------------------\u001b[0m",
      "\u001b[0;31mNameError\u001b[0m                                 Traceback (most recent call last)",
      "\u001b[1;32m/Users/veyselaytekin/Desktop/Data Science/Machine_Learning_folder/Machine_Learning/ML_mySummary.ipynb Hücre 11\u001b[0m in \u001b[0;36m<cell line: 11>\u001b[0;34m()\u001b[0m\n\u001b[1;32m      <a href='vscode-notebook-cell:/Users/veyselaytekin/Desktop/Data%20Science/Machine_Learning_folder/Machine_Learning/ML_mySummary.ipynb#X13sZmlsZQ%3D%3D?line=5'>6</a>\u001b[0m df\u001b[39m.\u001b[39mhead()\n\u001b[1;32m      <a href='vscode-notebook-cell:/Users/veyselaytekin/Desktop/Data%20Science/Machine_Learning_folder/Machine_Learning/ML_mySummary.ipynb#X13sZmlsZQ%3D%3D?line=8'>9</a>\u001b[0m \u001b[39m#iris veri setini cagirma syntaxi\u001b[39;00m\n\u001b[0;32m---> <a href='vscode-notebook-cell:/Users/veyselaytekin/Desktop/Data%20Science/Machine_Learning_folder/Machine_Learning/ML_mySummary.ipynb#X13sZmlsZQ%3D%3D?line=10'>11</a>\u001b[0m iris_df \u001b[39m=\u001b[39m pd\u001b[39m.\u001b[39mDataFrame(X_train, columns \u001b[39m=\u001b[39m iris\u001b[39m.\u001b[39mfeature_names)\n",
      "\u001b[0;31mNameError\u001b[0m: name 'X_train' is not defined"
     ]
    }
   ],
   "source": [
    "from sklearn.datasets import load_iris\n",
    "import pandas as pd\n",
    "\n",
    "data = load_iris()\n",
    "df = pd.DataFrame(data.data, columns=data.feature_names)\n",
    "df.head()\n",
    "\n",
    "\n",
    "#iris veri setini cagirma syntaxi\n",
    "\n",
    "iris_df = pd.DataFrame(X_train, columns = iris.feature_names)\n",
    "#tirendaz da bu sekilde features isimleriyle cagirdi"
   ]
  },
  {
   "cell_type": "markdown",
   "id": "c8452310",
   "metadata": {},
   "source": [
    "# oyuncak veri olusturma "
   ]
  },
  {
   "cell_type": "code",
   "execution_count": null,
   "id": "c8adba2b",
   "metadata": {},
   "outputs": [],
   "source": [
    "rng = np.random.RandomState(42)\n",
    "x = 10*rng.rand(50)\n",
    "\n",
    "#rand ,rastgele degerler verirken uniform yani tekdüze düzenli degerler verir,dagilimi düz olur,tepe olmaz\n",
    "#model islemlerini göstermek icin basit dogrusal regresyonu kullanalim\n",
    "#öncelikle matplotlib ve numpyi import edelim\n",
    "# veriyi sabitlemek icin numpy daki random_state methodunu kullanaliim \n",
    "\n",
    "#simdide x degiskenini olusturalim\n",
    "#x = 10 carpi rng.rand(50) icine 50 tane deger alacagimizi belirtmek icin 50 yazdim\n",
    "#daha sonra y = 2*x eksi 1 arti rng nokta randn yazip icine 50 deger alacagimizi belirtmek icin 50 yazdik \n",
    "#simdide iki degiskenin scatter grafigini cizelim\n",
    "\n",
    "\n",
    "\n",
    "y = 2*x-1+rng.randn(50)   \n",
    "\n",
    "#bu 2x -1 demek daliba oluturdugumuz xleri kullanarak farkli deger olusturmak icin\n",
    "#randn rastgele degerler verirken normal dagilim yapan degerler veriyor\n",
    "\n",
    "\n"
   ]
  },
  {
   "cell_type": "code",
   "execution_count": null,
   "id": "c48cf59e",
   "metadata": {},
   "outputs": [],
   "source": [
    "x_fit = np.linspace(0,11)\n",
    "x_fit\n",
    "\n",
    "#bunun icin predict methodu kullanilir\n",
    "#bu methodu göstermek icin öncelikle   x eksenini -1 ile 11 arasinda 50 parcaya bölelim\n",
    "#ve x_fit degiskenine atayalim\n",
    "#simdi bu degerleri X_fite atayip, ve bir boyutlu dizi haline getirelim\n",
    "\n",
    "#eger bunu 2D yapmak icin\n",
    "X_fit =x_fit[:,np.newaxis]\n",
    "X_fit[:5]\n",
    "\n",
    "#önemli olan nokta bu iki boyutlu numpy arrayi yani dataFrame degil bunun icin head() calismadi\n",
    "#ben kendim ilk besini görmek icin [:5] ekledim"
   ]
  },
  {
   "cell_type": "markdown",
   "id": "e676ae79",
   "metadata": {},
   "source": [
    "# Veriyi tanimak icin yapilabilecekler"
   ]
  },
  {
   "cell_type": "code",
   "execution_count": null,
   "id": "627fdbdd",
   "metadata": {},
   "outputs": [],
   "source": [
    "cat_list = [\"Gender\", \"HasCrCard\", \"IsActiveMember\", \"Geography\"]\n",
    "index = 0\n",
    "plt.figure(figsize=(16, 12))\n",
    "for i in cat_list:\n",
    "    index += 1\n",
    "    plt.subplot(2, 2, index)\n",
    "    sns.countplot(data=df, x=i, hue=\"Exited\")\n",
    "\n",
    "    #kategoric categoric verilerin value_countlarina bakmak icin güzel bir kod"
   ]
  },
  {
   "cell_type": "code",
   "execution_count": null,
   "id": "5720f0cc",
   "metadata": {},
   "outputs": [],
   "source": [
    "test_data = pd.concat([X_test, y_test], axis=1) #Xtest ve Ytestleri birlestirdi,yani bölünmeden önceki gibi bir DataFrame oldu\n",
    "test_data[\"pred\"] = y_pred  #bunlarida sütun olarak ekliyor\n",
    "test_data[\"pred_proba\"] = y_pred_proba[:,1]  #1 olma olasılığı\n",
    "test_data.sample(10)\n",
    "\n",
    "#burda toplu halde görmek icin yeni bir DataFRame olusturdu Concat islemi yapti,Logistic regressyon diabetes notebook'unda"
   ]
  },
  {
   "cell_type": "code",
   "execution_count": null,
   "id": "a1cd5904",
   "metadata": {},
   "outputs": [],
   "source": [
    "df.replace(['unknown'],np.nan, inplace=True)  # I replaced the 'unknown' to np.none\n",
    "\n",
    "#burda bir kelimeyinin yerine baska bisey koyacagiz"
   ]
  },
  {
   "cell_type": "code",
   "execution_count": null,
   "id": "90ff044b",
   "metadata": {},
   "outputs": [],
   "source": [
    "for feature in df.columns:\n",
    "    if df[feature].dtype==\"object\":\n",
    "        print(df[feature].unique())\n",
    "\n",
    "        #sütun  isimlerinde bosluk varmi diye baktik\n",
    "        #yani herbirinin unique degerlerini yazdiriyoruz\n",
    "\n",
    "['Adelie' 'Chinstrap' 'Gentoo']\n",
    "['Torgersen' 'Biscoe' 'Dream']\n",
    "['MALE' 'FEMALE' '.']  \n",
    "#böyle ciktilar veriyor,eger bir sütunda farkli bir nokta tarzi seyler varsa onlarida gösteriyor"
   ]
  },
  {
   "cell_type": "code",
   "execution_count": null,
   "id": "5db0260c",
   "metadata": {},
   "outputs": [],
   "source": [
    "!pip install researchpy\n",
    "import researchpy as rp # Datayı daha iyi tanıya bilmek için kullanılacak bir kütüphane.\n",
    "\n",
    "rp.summary_cat(df[[\"sex\",\"smoker\",\"day\"]]) # kategorik verileri incelemek için kullanılabilecek bir kod\n",
    "#value_counts farli bir hali"
   ]
  },
  {
   "cell_type": "code",
   "execution_count": null,
   "id": "78d59a5e",
   "metadata": {},
   "outputs": [],
   "source": [
    "df.Outcome.value_counts()  #burda alinan cikti asadakilerle farkli sekilde alinabilir\n",
    "\n",
    "df.Outcome.value_counts(normalize = True)\n",
    "# buda bir üsttekinin oranlar olarak görülmesi\n",
    "\n",
    "\n",
    "sns.countplot(df.Outcome)\n",
    "plt.show()   \n",
    "#bu targeten oranlarini bar ile veriyor,kactanesi 0 ,kac tanesi 1 diye"
   ]
  },
  {
   "cell_type": "code",
   "execution_count": null,
   "id": "424582f9",
   "metadata": {},
   "outputs": [],
   "source": [
    "object_col=df.columns[df.dtypes==\"object\"]\n",
    "object_col\n",
    "\n",
    "\n",
    "\n",
    "\n",
    "for col in object_col:\n",
    "    print(col)\n",
    "    print(\"--\"*8)\n",
    "    print(df[col].value_counts(dropna=False))\n",
    "    print(\"--\"*20)\n",
    "\n",
    "\n",
    "    #value_counts() toplu halde görmek icin, object columnslari görüyoruz"
   ]
  },
  {
   "cell_type": "code",
   "execution_count": null,
   "id": "0de356d6",
   "metadata": {},
   "outputs": [],
   "source": [
    "for feature in df.columns:\n",
    "    if df[feature].dtype==\"object\":\n",
    "        print(df[feature].unique())\n",
    "\n",
    "        #sütun  isimlerinde bosluk varmi diye baktik\n",
    "        #yani herbirinin unique degerlerini yazdiriyoruz\n",
    "        #toplu halde bakabiliyoruz"
   ]
  },
  {
   "cell_type": "code",
   "execution_count": null,
   "id": "85c5a68d",
   "metadata": {},
   "outputs": [],
   "source": []
  },
  {
   "cell_type": "code",
   "execution_count": null,
   "id": "2fbc8da7",
   "metadata": {},
   "outputs": [],
   "source": []
  },
  {
   "cell_type": "code",
   "execution_count": null,
   "id": "1d561844",
   "metadata": {},
   "outputs": [],
   "source": []
  },
  {
   "cell_type": "markdown",
   "id": "f14c8a4a",
   "metadata": {},
   "source": [
    "# veri tipini degistirme"
   ]
  },
  {
   "cell_type": "code",
   "execution_count": null,
   "id": "0638f65b",
   "metadata": {},
   "outputs": [],
   "source": [
    "pd.to_numeric(df.TotalCharges)\n",
    "\n",
    "#bu sekilde object olan veri tipini numeric yapabilirsin\n",
    "#ama bunda hata alirsan, bunu kullan\n",
    "\n"
   ]
  },
  {
   "cell_type": "code",
   "execution_count": null,
   "id": "018dbff3",
   "metadata": {},
   "outputs": [],
   "source": [
    "data['region'] = data['region'].astype('category')\n",
    "\n",
    "#burda fazla cesit bile olsa icinde categorye ceviriyor"
   ]
  },
  {
   "cell_type": "code",
   "execution_count": null,
   "id": "8c6a4ecd",
   "metadata": {},
   "outputs": [],
   "source": [
    "data = pd.get_dummies(data)\n",
    "data\n",
    "\n",
    "#get dummies ile veri seti categorical olanlar 0 ve 1 olarak machinenin anlayacagi dile cevriliyor\n",
    "#örnegin erkek olan kisinin satirinda cinsiyet_erkek = 1 cinsiyet_kadin = 0 yaziyor\n",
    "#eger dogu,bati,güney.kuzey kategorileri varsa, herbiri icin olusturuyor, ve güney olan kisinin\n",
    "#region_güney sütunu 1 region_bati sütunu 0.region_dogu sütunu 0 oluyor\n"
   ]
  },
  {
   "cell_type": "code",
   "execution_count": null,
   "id": "1c821694",
   "metadata": {},
   "outputs": [],
   "source": []
  },
  {
   "cell_type": "code",
   "execution_count": null,
   "id": "79f01943",
   "metadata": {},
   "outputs": [],
   "source": [
    "df.select_dtypes(include =\"object\").head() #bunuhnlada object sütunlari cagiriyoruz\n",
    "\n",
    "for col in df.select_dtypes('object'):\n",
    "    print(f\"{col:<20}:\", df[col].nunique())\n",
    "\n",
    "    #get_dummies öncesi object olan sütunlardaki farkli özellikler,bluetooth,airbag gibi seylerden kac tane oldugunu görürüz"
   ]
  },
  {
   "cell_type": "code",
   "execution_count": null,
   "id": "02cf79bb",
   "metadata": {},
   "outputs": [],
   "source": [
    "ax = df.make_model.value_counts().plot(kind =\"bar\")\n",
    "ax.spines['top'].set_visible(False)\n",
    "ax.spines['right'].set_visible(False)\n",
    "#ax.axis(\"off\")\n",
    "for p in ax.patches:\n",
    "    ax.annotate(str(p.get_height()), (p.get_x() * 1.03, p.get_height() * 1.03))\n",
    "\n",
    "#bir sütundaki value_countta gördüklerini grafik olarak göstermek icin    "
   ]
  },
  {
   "cell_type": "markdown",
   "id": "ac2174d7",
   "metadata": {},
   "source": [
    "Get_dummies yapiyor sütunlar"
   ]
  },
  {
   "cell_type": "code",
   "execution_count": null,
   "id": "7bf0a62f",
   "metadata": {},
   "outputs": [],
   "source": [
    "df = df.join(df[\"Comfort_Convenience\"].str.get_dummies(sep = \",\").add_prefix(\"cc_\"))\n",
    "df = df.join(df[\"Entertainment_Media\"].str.get_dummies(sep = \",\").add_prefix(\"em_\"))\n",
    "df = df.join(df[\"Extras\"].str.get_dummies(sep = \",\").add_prefix(\"ex_\"))\n",
    "df = df.join(df[\"Safety_Security\"].str.get_dummies(sep = \",\").add_prefix(\"ss_\"))"
   ]
  },
  {
   "cell_type": "code",
   "execution_count": null,
   "id": "2905d455",
   "metadata": {},
   "outputs": [],
   "source": [
    "df.drop([\"Comfort_Convenience\",\"Entertainment_Media\",\"Extras\",\"Safety_Security\"], axis=1, inplace=True)\n",
    "#sütunlari icindeki özellikleri yeni sütun yapiyor,ve ici bosalan ilk sütunlara gerek kalmiyor\n",
    "\n",
    "\n",
    "df = pd.get_dummies(df, drop_first =True) #buda get_dummies tuzagi icin,birbiriyle ifade edilen sütunlari siliyor"
   ]
  },
  {
   "cell_type": "code",
   "execution_count": null,
   "id": "f06c6c1d",
   "metadata": {},
   "outputs": [],
   "source": [
    "corr_by_price = df.corr()[\"price\"].sort_values()[:-1]\n",
    "corr_by_price \n",
    "#yeni sütunlarin price ile olan corelasyonu\n",
    "\n",
    "\n",
    "plt.figure(figsize = (20,10))\n",
    "sns.barplot(x = corr_by_price.index, y = corr_by_price)\n",
    "plt.xticks(rotation=90)\n",
    "plt.tight_layout();\n",
    "\n",
    "#bu corr u bar ile görmek istersek"
   ]
  },
  {
   "cell_type": "code",
   "execution_count": null,
   "id": "dcbed16f",
   "metadata": {},
   "outputs": [],
   "source": [
    "df.select_dtypes(\"number\")# numeric verileri yazdirip,bunun corr matrix cizdirdik\n",
    "\n",
    "\n",
    "\n",
    "plt.figure(figsize=(8,6))\n",
    "sns.heatmap(df.select_dtypes(\"number\").corr(),annot=True, cmap='viridis')\n",
    "plt.title(\"Correlation Matrix\")\n",
    "\n",
    "plt.show()\n",
    "\n",
    "# multicolinerity problemi burda yok\n",
    "\n",
    "#burda verimizde Female gidi sütunda vardi. bunlar varken heatmap cizemezdik bunun icin önce \n",
    "#numericleri aldik"
   ]
  },
  {
   "cell_type": "code",
   "execution_count": null,
   "id": "b29866fa",
   "metadata": {},
   "outputs": [],
   "source": [
    "df.corr()[\"Outcome\"].drop(\"Outcome\").sort_values().plot.barh()\n",
    "plt.show()\n",
    "#burda barplot tarzi olarak sütunlarin target ile olan corr baglantisini veriyor"
   ]
  },
  {
   "cell_type": "markdown",
   "id": "c64c6808",
   "metadata": {},
   "source": [
    "![](2022-10-14-09-55-06.png)"
   ]
  },
  {
   "cell_type": "markdown",
   "id": "519b1ee5",
   "metadata": {},
   "source": [
    "# veri setindeki NaN eksik nan  doldurma islemleri"
   ]
  },
  {
   "cell_type": "markdown",
   "id": "3bbefaae",
   "metadata": {},
   "source": [
    "Tahmine dayali deger atama yöntemleri \\\n",
    "1-KNN ile \\\n",
    "2-Random Forest \\\n",
    "3-EM ile "
   ]
  },
  {
   "cell_type": "code",
   "execution_count": 3,
   "id": "860acc38",
   "metadata": {
    "collapsed": true
   },
   "outputs": [
    {
     "name": "stdout",
     "output_type": "stream",
     "text": [
      "Collecting missingno\n",
      "  Using cached missingno-0.5.1-py3-none-any.whl (8.7 kB)\n",
      "Requirement already satisfied: scipy in /Users/veyselaytekin/opt/anaconda3/lib/python3.9/site-packages (from missingno) (1.7.3)\n",
      "Requirement already satisfied: seaborn in /Users/veyselaytekin/opt/anaconda3/lib/python3.9/site-packages (from missingno) (0.11.2)\n",
      "Requirement already satisfied: numpy in /Users/veyselaytekin/opt/anaconda3/lib/python3.9/site-packages (from missingno) (1.21.5)\n",
      "Requirement already satisfied: matplotlib in /Users/veyselaytekin/opt/anaconda3/lib/python3.9/site-packages (from missingno) (3.5.1)\n",
      "Requirement already satisfied: packaging>=20.0 in /Users/veyselaytekin/opt/anaconda3/lib/python3.9/site-packages (from matplotlib->missingno) (21.3)\n",
      "Requirement already satisfied: pillow>=6.2.0 in /Users/veyselaytekin/opt/anaconda3/lib/python3.9/site-packages (from matplotlib->missingno) (9.0.1)\n",
      "Requirement already satisfied: pyparsing>=2.2.1 in /Users/veyselaytekin/opt/anaconda3/lib/python3.9/site-packages (from matplotlib->missingno) (3.0.4)\n",
      "Requirement already satisfied: python-dateutil>=2.7 in /Users/veyselaytekin/opt/anaconda3/lib/python3.9/site-packages (from matplotlib->missingno) (2.8.2)\n",
      "Requirement already satisfied: kiwisolver>=1.0.1 in /Users/veyselaytekin/opt/anaconda3/lib/python3.9/site-packages (from matplotlib->missingno) (1.3.2)\n",
      "Requirement already satisfied: fonttools>=4.22.0 in /Users/veyselaytekin/opt/anaconda3/lib/python3.9/site-packages (from matplotlib->missingno) (4.25.0)\n",
      "Requirement already satisfied: cycler>=0.10 in /Users/veyselaytekin/opt/anaconda3/lib/python3.9/site-packages (from matplotlib->missingno) (0.11.0)\n",
      "Requirement already satisfied: six>=1.5 in /Users/veyselaytekin/opt/anaconda3/lib/python3.9/site-packages (from python-dateutil>=2.7->matplotlib->missingno) (1.16.0)\n",
      "Requirement already satisfied: pandas>=0.23 in /Users/veyselaytekin/opt/anaconda3/lib/python3.9/site-packages (from seaborn->missingno) (1.4.2)\n",
      "Requirement already satisfied: pytz>=2020.1 in /Users/veyselaytekin/opt/anaconda3/lib/python3.9/site-packages (from pandas>=0.23->seaborn->missingno) (2021.3)\n",
      "Installing collected packages: missingno\n",
      "Successfully installed missingno-0.5.1\n",
      "Note: you may need to restart the kernel to use updated packages.\n"
     ]
    }
   ],
   "source": [
    "#pip install missingno  #aslinda buna gerek yoktu ama indirmis olduk yinede"
   ]
  },
  {
   "cell_type": "code",
   "execution_count": 1,
   "id": "267e7fca",
   "metadata": {},
   "outputs": [
    {
     "name": "stdout",
     "output_type": "stream",
     "text": [
      "   survived  pclass   age  sibsp  parch     fare\n",
      "0         0       3  22.0      1      0   7.2500\n",
      "1         1       1  38.0      1      0  71.2833\n",
      "2         1       3  26.0      0      0   7.9250\n",
      "3         1       1  35.0      1      0  53.1000\n",
      "4         0       3  35.0      0      0   8.0500\n"
     ]
    },
    {
     "data": {
      "text/plain": [
       "survived      0\n",
       "pclass        0\n",
       "age         177\n",
       "sibsp         0\n",
       "parch         0\n",
       "fare          0\n",
       "dtype: int64"
      ]
     },
     "execution_count": 1,
     "metadata": {},
     "output_type": "execute_result"
    }
   ],
   "source": [
    "import seaborn as sns   #titanigi cagirmak icin\n",
    "df = sns.load_dataset('titanic')    #veri seti geldi\n",
    "df = df.select_dtypes(include = ['float64','int64']) #data icerisindeki sayisal degerlere erismek icin\n",
    "print(df.head())\n",
    "df.isnull().sum()   #177 age degeri null"
   ]
  },
  {
   "cell_type": "code",
   "execution_count": 2,
   "id": "10e82231",
   "metadata": {},
   "outputs": [],
   "source": [
    "# !pip install ycimpute"
   ]
  },
  {
   "cell_type": "markdown",
   "id": "6e87a8dc",
   "metadata": {},
   "source": [
    "#### 1- KNNimput ile"
   ]
  },
  {
   "cell_type": "code",
   "execution_count": 4,
   "id": "dc77a2e2",
   "metadata": {},
   "outputs": [],
   "source": [
    "var_names = list(df)\n",
    "\n",
    "#knnimput bizden nparray bekliyor,bunun icin önce sütun isimlerini numpy'a cevirince \n",
    "#kaybolmasin diye bir degiskene atiyor, sonra dataFrame yaparken columns= diye verecek"
   ]
  },
  {
   "cell_type": "code",
   "execution_count": 5,
   "id": "4503a9a5",
   "metadata": {
    "scrolled": true
   },
   "outputs": [
    {
     "data": {
      "text/plain": [
       "['survived', 'pclass', 'age', 'sibsp', 'parch', 'fare']"
      ]
     },
     "execution_count": 5,
     "metadata": {},
     "output_type": "execute_result"
    }
   ],
   "source": [
    "var_names   #bunu ilerde DataFrame olustururken columns isminde cagiracaz"
   ]
  },
  {
   "cell_type": "code",
   "execution_count": 6,
   "id": "28164b73",
   "metadata": {},
   "outputs": [],
   "source": [
    "import numpy as np\n",
    "n_df = np.array(df)  #veriyi nparray'e cevirdik"
   ]
  },
  {
   "cell_type": "code",
   "execution_count": 7,
   "id": "5b7579a3",
   "metadata": {},
   "outputs": [
    {
     "data": {
      "text/plain": [
       "array([[ 0.    ,  3.    , 22.    ,  1.    ,  0.    ,  7.25  ],\n",
       "       [ 1.    ,  1.    , 38.    ,  1.    ,  0.    , 71.2833],\n",
       "       [ 1.    ,  3.    , 26.    ,  0.    ,  0.    ,  7.925 ],\n",
       "       [ 1.    ,  1.    , 35.    ,  1.    ,  0.    , 53.1   ],\n",
       "       [ 0.    ,  3.    , 35.    ,  0.    ,  0.    ,  8.05  ],\n",
       "       [ 0.    ,  3.    ,     nan,  0.    ,  0.    ,  8.4583]])"
      ]
     },
     "execution_count": 7,
     "metadata": {},
     "output_type": "execute_result"
    }
   ],
   "source": [
    "n_df[0:6]  "
   ]
  },
  {
   "cell_type": "code",
   "execution_count": 8,
   "id": "b48c434b",
   "metadata": {},
   "outputs": [
    {
     "data": {
      "text/plain": [
       "numpy.ndarray"
      ]
     },
     "execution_count": 8,
     "metadata": {},
     "output_type": "execute_result"
    }
   ],
   "source": [
    "type(n_df)"
   ]
  },
  {
   "cell_type": "code",
   "execution_count": 9,
   "id": "58e1e797",
   "metadata": {},
   "outputs": [
    {
     "name": "stdout",
     "output_type": "stream",
     "text": [
      "Imputing row 1/891 with 0 missing, elapsed time: 0.112\n",
      "Imputing row 101/891 with 0 missing, elapsed time: 0.113\n",
      "Imputing row 201/891 with 0 missing, elapsed time: 0.114\n",
      "Imputing row 301/891 with 1 missing, elapsed time: 0.114\n",
      "Imputing row 401/891 with 0 missing, elapsed time: 0.115\n",
      "Imputing row 501/891 with 0 missing, elapsed time: 0.115\n",
      "Imputing row 601/891 with 0 missing, elapsed time: 0.116\n",
      "Imputing row 701/891 with 0 missing, elapsed time: 0.117\n",
      "Imputing row 801/891 with 0 missing, elapsed time: 0.117\n"
     ]
    }
   ],
   "source": [
    "from ycimpute.imputer import knnimput\n",
    "\n",
    "dff = knnimput.KNN(k = 4).complete(n_df) #doldurma islemini yapacak\n",
    "\n",
    "#4 komsuluk degeri,4 komsuya göre yapiyor"
   ]
  },
  {
   "cell_type": "code",
   "execution_count": 10,
   "id": "2f2f0226",
   "metadata": {},
   "outputs": [
    {
     "data": {
      "text/plain": [
       "array([[ 0.    ,  3.    , 22.    ,  1.    ,  0.    ,  7.25  ],\n",
       "       [ 1.    ,  1.    , 38.    ,  1.    ,  0.    , 71.2833],\n",
       "       [ 1.    ,  3.    , 26.    ,  0.    ,  0.    ,  7.925 ],\n",
       "       [ 1.    ,  1.    , 35.    ,  1.    ,  0.    , 53.1   ],\n",
       "       [ 0.    ,  3.    , 35.    ,  0.    ,  0.    ,  8.05  ],\n",
       "       [ 0.    ,  3.    ,     nan,  0.    ,  0.    ,  8.4583]])"
      ]
     },
     "execution_count": 10,
     "metadata": {},
     "output_type": "execute_result"
    }
   ],
   "source": [
    "n_df[0:6]   #burda nan görüyorum ama asagida nan'i doldurmus"
   ]
  },
  {
   "cell_type": "code",
   "execution_count": 11,
   "id": "79c54122",
   "metadata": {},
   "outputs": [],
   "source": [
    "import pandas as pd\n",
    "dff = pd.DataFrame(dff,columns = var_names)"
   ]
  },
  {
   "cell_type": "code",
   "execution_count": 12,
   "id": "c3dab088",
   "metadata": {},
   "outputs": [
    {
     "data": {
      "text/html": [
       "<div>\n",
       "<style scoped>\n",
       "    .dataframe tbody tr th:only-of-type {\n",
       "        vertical-align: middle;\n",
       "    }\n",
       "\n",
       "    .dataframe tbody tr th {\n",
       "        vertical-align: top;\n",
       "    }\n",
       "\n",
       "    .dataframe thead th {\n",
       "        text-align: right;\n",
       "    }\n",
       "</style>\n",
       "<table border=\"1\" class=\"dataframe\">\n",
       "  <thead>\n",
       "    <tr style=\"text-align: right;\">\n",
       "      <th></th>\n",
       "      <th>survived</th>\n",
       "      <th>pclass</th>\n",
       "      <th>age</th>\n",
       "      <th>sibsp</th>\n",
       "      <th>parch</th>\n",
       "      <th>fare</th>\n",
       "    </tr>\n",
       "  </thead>\n",
       "  <tbody>\n",
       "    <tr>\n",
       "      <th>0</th>\n",
       "      <td>0.0</td>\n",
       "      <td>3.0</td>\n",
       "      <td>22.000</td>\n",
       "      <td>1.0</td>\n",
       "      <td>0.0</td>\n",
       "      <td>7.2500</td>\n",
       "    </tr>\n",
       "    <tr>\n",
       "      <th>1</th>\n",
       "      <td>1.0</td>\n",
       "      <td>1.0</td>\n",
       "      <td>38.000</td>\n",
       "      <td>1.0</td>\n",
       "      <td>0.0</td>\n",
       "      <td>71.2833</td>\n",
       "    </tr>\n",
       "    <tr>\n",
       "      <th>2</th>\n",
       "      <td>1.0</td>\n",
       "      <td>3.0</td>\n",
       "      <td>26.000</td>\n",
       "      <td>0.0</td>\n",
       "      <td>0.0</td>\n",
       "      <td>7.9250</td>\n",
       "    </tr>\n",
       "    <tr>\n",
       "      <th>3</th>\n",
       "      <td>1.0</td>\n",
       "      <td>1.0</td>\n",
       "      <td>35.000</td>\n",
       "      <td>1.0</td>\n",
       "      <td>0.0</td>\n",
       "      <td>53.1000</td>\n",
       "    </tr>\n",
       "    <tr>\n",
       "      <th>4</th>\n",
       "      <td>0.0</td>\n",
       "      <td>3.0</td>\n",
       "      <td>35.000</td>\n",
       "      <td>0.0</td>\n",
       "      <td>0.0</td>\n",
       "      <td>8.0500</td>\n",
       "    </tr>\n",
       "    <tr>\n",
       "      <th>5</th>\n",
       "      <td>0.0</td>\n",
       "      <td>3.0</td>\n",
       "      <td>39.375</td>\n",
       "      <td>0.0</td>\n",
       "      <td>0.0</td>\n",
       "      <td>8.4583</td>\n",
       "    </tr>\n",
       "  </tbody>\n",
       "</table>\n",
       "</div>"
      ],
      "text/plain": [
       "   survived  pclass     age  sibsp  parch     fare\n",
       "0       0.0     3.0  22.000    1.0    0.0   7.2500\n",
       "1       1.0     1.0  38.000    1.0    0.0  71.2833\n",
       "2       1.0     3.0  26.000    0.0    0.0   7.9250\n",
       "3       1.0     1.0  35.000    1.0    0.0  53.1000\n",
       "4       0.0     3.0  35.000    0.0    0.0   8.0500\n",
       "5       0.0     3.0  39.375    0.0    0.0   8.4583"
      ]
     },
     "execution_count": 12,
     "metadata": {},
     "output_type": "execute_result"
    }
   ],
   "source": [
    "dff.head(6)"
   ]
  },
  {
   "cell_type": "code",
   "execution_count": 13,
   "id": "1dffd1d9",
   "metadata": {},
   "outputs": [
    {
     "data": {
      "text/plain": [
       "survived    0\n",
       "pclass      0\n",
       "age         0\n",
       "sibsp       0\n",
       "parch       0\n",
       "fare        0\n",
       "dtype: int64"
      ]
     },
     "execution_count": 13,
     "metadata": {},
     "output_type": "execute_result"
    }
   ],
   "source": [
    "dff.isnull().sum()   #nan'lar KNN ile yakindaki sayilarla dolduruldu"
   ]
  },
  {
   "cell_type": "markdown",
   "id": "6a0cd9c4",
   "metadata": {},
   "source": [
    "####  2-Random Forest ile nan'lari doldur"
   ]
  },
  {
   "cell_type": "code",
   "execution_count": 14,
   "id": "4d1f8d31",
   "metadata": {},
   "outputs": [
    {
     "data": {
      "text/plain": [
       "survived      0\n",
       "pclass        0\n",
       "age         177\n",
       "sibsp         0\n",
       "parch         0\n",
       "fare          0\n",
       "dtype: int64"
      ]
     },
     "execution_count": 14,
     "metadata": {},
     "output_type": "execute_result"
    }
   ],
   "source": [
    "import seaborn as sns   #titanigi cagirmak icin\n",
    "df = sns.load_dataset('titanic')    #veri seti geldi\n",
    "df = df.select_dtypes(include = ['float64','int64']) #type int yapti\n",
    "df.isnull().sum()"
   ]
  },
  {
   "cell_type": "code",
   "execution_count": 15,
   "id": "044ca6a3",
   "metadata": {},
   "outputs": [
    {
     "data": {
      "text/html": [
       "<div>\n",
       "<style scoped>\n",
       "    .dataframe tbody tr th:only-of-type {\n",
       "        vertical-align: middle;\n",
       "    }\n",
       "\n",
       "    .dataframe tbody tr th {\n",
       "        vertical-align: top;\n",
       "    }\n",
       "\n",
       "    .dataframe thead th {\n",
       "        text-align: right;\n",
       "    }\n",
       "</style>\n",
       "<table border=\"1\" class=\"dataframe\">\n",
       "  <thead>\n",
       "    <tr style=\"text-align: right;\">\n",
       "      <th></th>\n",
       "      <th>survived</th>\n",
       "      <th>pclass</th>\n",
       "      <th>age</th>\n",
       "      <th>sibsp</th>\n",
       "      <th>parch</th>\n",
       "      <th>fare</th>\n",
       "    </tr>\n",
       "  </thead>\n",
       "  <tbody>\n",
       "    <tr>\n",
       "      <th>0</th>\n",
       "      <td>0</td>\n",
       "      <td>3</td>\n",
       "      <td>22.0</td>\n",
       "      <td>1</td>\n",
       "      <td>0</td>\n",
       "      <td>7.2500</td>\n",
       "    </tr>\n",
       "    <tr>\n",
       "      <th>1</th>\n",
       "      <td>1</td>\n",
       "      <td>1</td>\n",
       "      <td>38.0</td>\n",
       "      <td>1</td>\n",
       "      <td>0</td>\n",
       "      <td>71.2833</td>\n",
       "    </tr>\n",
       "    <tr>\n",
       "      <th>2</th>\n",
       "      <td>1</td>\n",
       "      <td>3</td>\n",
       "      <td>26.0</td>\n",
       "      <td>0</td>\n",
       "      <td>0</td>\n",
       "      <td>7.9250</td>\n",
       "    </tr>\n",
       "    <tr>\n",
       "      <th>3</th>\n",
       "      <td>1</td>\n",
       "      <td>1</td>\n",
       "      <td>35.0</td>\n",
       "      <td>1</td>\n",
       "      <td>0</td>\n",
       "      <td>53.1000</td>\n",
       "    </tr>\n",
       "    <tr>\n",
       "      <th>4</th>\n",
       "      <td>0</td>\n",
       "      <td>3</td>\n",
       "      <td>35.0</td>\n",
       "      <td>0</td>\n",
       "      <td>0</td>\n",
       "      <td>8.0500</td>\n",
       "    </tr>\n",
       "    <tr>\n",
       "      <th>5</th>\n",
       "      <td>0</td>\n",
       "      <td>3</td>\n",
       "      <td>NaN</td>\n",
       "      <td>0</td>\n",
       "      <td>0</td>\n",
       "      <td>8.4583</td>\n",
       "    </tr>\n",
       "  </tbody>\n",
       "</table>\n",
       "</div>"
      ],
      "text/plain": [
       "   survived  pclass   age  sibsp  parch     fare\n",
       "0         0       3  22.0      1      0   7.2500\n",
       "1         1       1  38.0      1      0  71.2833\n",
       "2         1       3  26.0      0      0   7.9250\n",
       "3         1       1  35.0      1      0  53.1000\n",
       "4         0       3  35.0      0      0   8.0500\n",
       "5         0       3   NaN      0      0   8.4583"
      ]
     },
     "execution_count": 15,
     "metadata": {},
     "output_type": "execute_result"
    }
   ],
   "source": [
    "df.head(6) #age'te NaN var"
   ]
  },
  {
   "cell_type": "code",
   "execution_count": 16,
   "id": "3e7d8edf",
   "metadata": {},
   "outputs": [
    {
     "data": {
      "text/plain": [
       "pandas.core.frame.DataFrame"
      ]
     },
     "execution_count": 16,
     "metadata": {},
     "output_type": "execute_result"
    }
   ],
   "source": [
    "type(df)"
   ]
  },
  {
   "cell_type": "code",
   "execution_count": 17,
   "id": "7b6f16a8",
   "metadata": {},
   "outputs": [],
   "source": [
    "var_names = list(df)"
   ]
  },
  {
   "cell_type": "code",
   "execution_count": 18,
   "id": "14f7dc4b",
   "metadata": {},
   "outputs": [],
   "source": [
    "import numpy as np\n",
    "n_df = np.array(df)  #veriyi nparray'e cevirdik"
   ]
  },
  {
   "cell_type": "code",
   "execution_count": 19,
   "id": "a78bb8b9",
   "metadata": {},
   "outputs": [
    {
     "ename": "AttributeError",
     "evalue": "module 'ycimpute.imputer.iterforest' has no attribute 'IterImput'",
     "output_type": "error",
     "traceback": [
      "\u001b[0;31m---------------------------------------------------------------------------\u001b[0m",
      "\u001b[0;31mAttributeError\u001b[0m                            Traceback (most recent call last)",
      "Input \u001b[0;32mIn [19]\u001b[0m, in \u001b[0;36m<cell line: 2>\u001b[0;34m()\u001b[0m\n\u001b[1;32m      1\u001b[0m \u001b[38;5;28;01mfrom\u001b[39;00m \u001b[38;5;21;01mycimpute\u001b[39;00m\u001b[38;5;21;01m.\u001b[39;00m\u001b[38;5;21;01mimputer\u001b[39;00m \u001b[38;5;28;01mimport\u001b[39;00m iterforest   \u001b[38;5;66;03m#doldurma islemine basliyoruz\u001b[39;00m\n\u001b[0;32m----> 2\u001b[0m dff \u001b[38;5;241m=\u001b[39m\u001b[43miterforest\u001b[49m\u001b[38;5;241;43m.\u001b[39;49m\u001b[43mIterImput\u001b[49m()\u001b[38;5;241m.\u001b[39mcomplete(n_df)\n",
      "\u001b[0;31mAttributeError\u001b[0m: module 'ycimpute.imputer.iterforest' has no attribute 'IterImput'"
     ]
    }
   ],
   "source": [
    "from ycimpute.imputer import iterforest   #doldurma islemine basliyoruz\n",
    "dff =iterforest.IterImput().complete(n_df)\n",
    "\n",
    "#hata vermesine ragmen doldurmayi yapiyor"
   ]
  },
  {
   "cell_type": "code",
   "execution_count": 20,
   "id": "00efcb75",
   "metadata": {},
   "outputs": [],
   "source": [
    "import pandas as pd\n",
    "dff = pd.DataFrame(dff,columns = var_names)"
   ]
  },
  {
   "cell_type": "code",
   "execution_count": 21,
   "id": "1293033d",
   "metadata": {},
   "outputs": [
    {
     "data": {
      "text/plain": [
       "survived    0\n",
       "pclass      0\n",
       "age         0\n",
       "sibsp       0\n",
       "parch       0\n",
       "fare        0\n",
       "dtype: int64"
      ]
     },
     "execution_count": 21,
     "metadata": {},
     "output_type": "execute_result"
    }
   ],
   "source": [
    "dff.isnull().sum()"
   ]
  },
  {
   "cell_type": "markdown",
   "id": "5f618f70",
   "metadata": {},
   "source": [
    "#### 3- EM algoritmasi ile NaN doldurma"
   ]
  },
  {
   "cell_type": "code",
   "execution_count": 4,
   "id": "74ccb23e",
   "metadata": {},
   "outputs": [
    {
     "data": {
      "text/plain": [
       "survived      0\n",
       "pclass        0\n",
       "age         177\n",
       "sibsp         0\n",
       "parch         0\n",
       "fare          0\n",
       "dtype: int64"
      ]
     },
     "execution_count": 4,
     "metadata": {},
     "output_type": "execute_result"
    }
   ],
   "source": [
    "import seaborn as sns   #titanigi cagirmak icin\n",
    "df = sns.load_dataset('titanic')    #veri seti geldi\n",
    "df = df.select_dtypes(include = ['float64','int64']) #type int yapti\n",
    "df.isnull().sum()"
   ]
  },
  {
   "cell_type": "code",
   "execution_count": 9,
   "id": "9b755b86",
   "metadata": {},
   "outputs": [
    {
     "data": {
      "text/plain": [
       "False"
      ]
     },
     "execution_count": 9,
     "metadata": {},
     "output_type": "execute_result"
    }
   ],
   "source": [
    "import numpy as np\n",
    "df.isnull().values.all()"
   ]
  },
  {
   "cell_type": "code",
   "execution_count": 17,
   "id": "67edf7be",
   "metadata": {},
   "outputs": [
    {
     "data": {
      "text/plain": [
       "Series([], Name: age, dtype: float64)"
      ]
     },
     "execution_count": 17,
     "metadata": {},
     "output_type": "execute_result"
    }
   ],
   "source": []
  },
  {
   "cell_type": "code",
   "execution_count": 23,
   "id": "4ac423d2",
   "metadata": {},
   "outputs": [],
   "source": [
    "var_names = list(df)"
   ]
  },
  {
   "cell_type": "code",
   "execution_count": 24,
   "id": "47dc6e37",
   "metadata": {},
   "outputs": [],
   "source": [
    "import numpy as np\n",
    "n_df = np.array(df)  #veriyi nparray'e cevirdik"
   ]
  },
  {
   "cell_type": "code",
   "execution_count": 25,
   "id": "823ded04",
   "metadata": {},
   "outputs": [],
   "source": [
    "from ycimpute.imputer import EM\n",
    "dff = EM().complete(n_df)     ##dff np.array seklinde DataFrame cevirelim"
   ]
  },
  {
   "cell_type": "code",
   "execution_count": 26,
   "id": "2b68f5b1",
   "metadata": {},
   "outputs": [],
   "source": [
    "import pandas as ps\n",
    "dff =pd.DataFrame(dff, columns=var_names)"
   ]
  },
  {
   "cell_type": "code",
   "execution_count": 27,
   "id": "d75af922",
   "metadata": {},
   "outputs": [
    {
     "data": {
      "text/plain": [
       "survived    0\n",
       "pclass      0\n",
       "age         0\n",
       "sibsp       0\n",
       "parch       0\n",
       "fare        0\n",
       "dtype: int64"
      ]
     },
     "execution_count": 27,
     "metadata": {},
     "output_type": "execute_result"
    }
   ],
   "source": [
    "dff.isnull().sum()    #EM ile degerler doldurulmus oldu"
   ]
  },
  {
   "cell_type": "code",
   "execution_count": null,
   "id": "0eb6e39d",
   "metadata": {},
   "outputs": [],
   "source": []
  },
  {
   "cell_type": "code",
   "execution_count": null,
   "id": "0a20736e",
   "metadata": {},
   "outputs": [],
   "source": []
  },
  {
   "cell_type": "markdown",
   "id": "ad346ed1",
   "metadata": {},
   "source": [
    "# Eksik veriyi Görsellestirme "
   ]
  },
  {
   "cell_type": "code",
   "execution_count": 19,
   "id": "00749022",
   "metadata": {},
   "outputs": [],
   "source": [
    "import missingno as msno    #görsellestirme icin"
   ]
  },
  {
   "cell_type": "code",
   "execution_count": null,
   "id": "2ade613e",
   "metadata": {},
   "outputs": [],
   "source": [
    "msno.bar(df);      #bu bize bir bar grafigi veriyor, ve kacta kaci null oldugunu görüyoruz"
   ]
  },
  {
   "cell_type": "code",
   "execution_count": null,
   "id": "e3089dd2",
   "metadata": {},
   "outputs": [],
   "source": [
    "msno.matrix(df);  \n",
    "\n",
    "#buda matrix seklinde null olanlari bos,olmayanlari dolu gösteriyor\n",
    "#iki sütunun null'lari arasinda bir iliski olup olmadiigni görüyoruz"
   ]
  },
  {
   "cell_type": "code",
   "execution_count": 21,
   "id": "e03f175e",
   "metadata": {},
   "outputs": [
    {
     "data": {
      "text/html": [
       "<div>\n",
       "<style scoped>\n",
       "    .dataframe tbody tr th:only-of-type {\n",
       "        vertical-align: middle;\n",
       "    }\n",
       "\n",
       "    .dataframe tbody tr th {\n",
       "        vertical-align: top;\n",
       "    }\n",
       "\n",
       "    .dataframe thead th {\n",
       "        text-align: right;\n",
       "    }\n",
       "</style>\n",
       "<table border=\"1\" class=\"dataframe\">\n",
       "  <thead>\n",
       "    <tr style=\"text-align: right;\">\n",
       "      <th></th>\n",
       "      <th>method</th>\n",
       "      <th>number</th>\n",
       "      <th>orbital_period</th>\n",
       "      <th>mass</th>\n",
       "      <th>distance</th>\n",
       "      <th>year</th>\n",
       "    </tr>\n",
       "  </thead>\n",
       "  <tbody>\n",
       "    <tr>\n",
       "      <th>0</th>\n",
       "      <td>Radial Velocity</td>\n",
       "      <td>1</td>\n",
       "      <td>269.300</td>\n",
       "      <td>7.10</td>\n",
       "      <td>77.40</td>\n",
       "      <td>2006</td>\n",
       "    </tr>\n",
       "    <tr>\n",
       "      <th>1</th>\n",
       "      <td>Radial Velocity</td>\n",
       "      <td>1</td>\n",
       "      <td>874.774</td>\n",
       "      <td>2.21</td>\n",
       "      <td>56.95</td>\n",
       "      <td>2008</td>\n",
       "    </tr>\n",
       "    <tr>\n",
       "      <th>2</th>\n",
       "      <td>Radial Velocity</td>\n",
       "      <td>1</td>\n",
       "      <td>763.000</td>\n",
       "      <td>2.60</td>\n",
       "      <td>19.84</td>\n",
       "      <td>2011</td>\n",
       "    </tr>\n",
       "    <tr>\n",
       "      <th>3</th>\n",
       "      <td>Radial Velocity</td>\n",
       "      <td>1</td>\n",
       "      <td>326.030</td>\n",
       "      <td>19.40</td>\n",
       "      <td>110.62</td>\n",
       "      <td>2007</td>\n",
       "    </tr>\n",
       "    <tr>\n",
       "      <th>4</th>\n",
       "      <td>Radial Velocity</td>\n",
       "      <td>1</td>\n",
       "      <td>516.220</td>\n",
       "      <td>10.50</td>\n",
       "      <td>119.47</td>\n",
       "      <td>2009</td>\n",
       "    </tr>\n",
       "  </tbody>\n",
       "</table>\n",
       "</div>"
      ],
      "text/plain": [
       "            method  number  orbital_period   mass  distance  year\n",
       "0  Radial Velocity       1         269.300   7.10     77.40  2006\n",
       "1  Radial Velocity       1         874.774   2.21     56.95  2008\n",
       "2  Radial Velocity       1         763.000   2.60     19.84  2011\n",
       "3  Radial Velocity       1         326.030  19.40    110.62  2007\n",
       "4  Radial Velocity       1         516.220  10.50    119.47  2009"
      ]
     },
     "execution_count": 21,
     "metadata": {},
     "output_type": "execute_result"
    }
   ],
   "source": [
    "import seaborn as sns\n",
    "df = sns.load_dataset('planets')\n",
    "df.head()"
   ]
  },
  {
   "cell_type": "code",
   "execution_count": 22,
   "id": "b9d37370",
   "metadata": {},
   "outputs": [
    {
     "data": {
      "text/plain": [
       "method              0\n",
       "number              0\n",
       "orbital_period     43\n",
       "mass              522\n",
       "distance          227\n",
       "year                0\n",
       "dtype: int64"
      ]
     },
     "execution_count": 22,
     "metadata": {},
     "output_type": "execute_result"
    }
   ],
   "source": [
    "df.isnull().sum()"
   ]
  },
  {
   "cell_type": "code",
   "execution_count": 24,
   "id": "f8621ccb",
   "metadata": {},
   "outputs": [
    {
     "data": {
      "image/png": "[encoded data removed]",
      "text/plain": [
       "<Figure size 1800x720 with 2 Axes>"
      ]
     },
     "metadata": {
      "needs_background": "light"
     },
     "output_type": "display_data"
    }
   ],
   "source": [
    "msno.matrix(df);\n",
    "\n",
    "#iki sütun arasinda bir bagimlilik varmi,kredi karti ögregindeki gibi\n",
    "#sagda 6,ayni anda en fazla 6 sütun dolu,3 en fazla üc sütun bos bilgisini veriyor"
   ]
  },
  {
   "cell_type": "code",
   "execution_count": 26,
   "id": "c84f2ee4",
   "metadata": {},
   "outputs": [
    {
     "data": {
      "image/png": "[encoded data removed]",
      "text/plain": [
       "<Figure size 1440x864 with 2 Axes>"
      ]
     },
     "metadata": {
      "needs_background": "light"
     },
     "output_type": "display_data"
    }
   ],
   "source": [
    "msno.heatmap(df);\n",
    "#buda yukaridaki bagimliligin heatmap sekli"
   ]
  },
  {
   "cell_type": "code",
   "execution_count": null,
   "id": "dce88632",
   "metadata": {},
   "outputs": [],
   "source": []
  },
  {
   "cell_type": "code",
   "execution_count": null,
   "id": "73a281aa",
   "metadata": {},
   "outputs": [],
   "source": []
  },
  {
   "cell_type": "code",
   "execution_count": null,
   "id": "b8aac3d8",
   "metadata": {},
   "outputs": [],
   "source": []
  },
  {
   "cell_type": "markdown",
   "id": "ef6c43fa",
   "metadata": {},
   "source": [
    "## Mapping islemi"
   ]
  },
  {
   "cell_type": "code",
   "execution_count": null,
   "id": "23f42c67",
   "metadata": {},
   "outputs": [],
   "source": [
    "df[\"DODRace\"] = df.DODRace.map({1 : \"White\", 2 : \"Black\", 3 : \"Hispanic\"})\n",
    "df.DODRace.value_counts()\n",
    "\n",
    "\n",
    "# mapping islemi verileri isimlendirmek icin,    "
   ]
  },
  {
   "cell_type": "markdown",
   "id": "d8605767",
   "metadata": {},
   "source": [
    "# Outlier tespit ve düzeltme  islemi"
   ]
  },
  {
   "cell_type": "code",
   "execution_count": null,
   "id": "269b71fc",
   "metadata": {},
   "outputs": [],
   "source": [
    "index = 0\n",
    "plt.figure(figsize=(20,20))\n",
    "for feature in df.columns:\n",
    "    if feature != \"Outcome\":\n",
    "        index += 1\n",
    "        plt.subplot(3,3,index)\n",
    "        sns.boxplot(x='Outcome',y=feature,data=df)\n",
    "plt.show()\n",
    "\n",
    "#herbir sütuna göre boxplot degerelerini gördük,Outcome 0 ve 1 lerden olusan target sütunu"
   ]
  },
  {
   "cell_type": "code",
   "execution_count": 28,
   "id": "382406f6",
   "metadata": {},
   "outputs": [
    {
     "data": {
      "text/html": [
       "<div>\n",
       "<style scoped>\n",
       "    .dataframe tbody tr th:only-of-type {\n",
       "        vertical-align: middle;\n",
       "    }\n",
       "\n",
       "    .dataframe tbody tr th {\n",
       "        vertical-align: top;\n",
       "    }\n",
       "\n",
       "    .dataframe thead th {\n",
       "        text-align: right;\n",
       "    }\n",
       "</style>\n",
       "<table border=\"1\" class=\"dataframe\">\n",
       "  <thead>\n",
       "    <tr style=\"text-align: right;\">\n",
       "      <th></th>\n",
       "      <th>carat</th>\n",
       "      <th>depth</th>\n",
       "      <th>table</th>\n",
       "      <th>price</th>\n",
       "      <th>x</th>\n",
       "      <th>y</th>\n",
       "      <th>z</th>\n",
       "    </tr>\n",
       "  </thead>\n",
       "  <tbody>\n",
       "    <tr>\n",
       "      <th>0</th>\n",
       "      <td>0.23</td>\n",
       "      <td>61.5</td>\n",
       "      <td>55.0</td>\n",
       "      <td>326</td>\n",
       "      <td>3.95</td>\n",
       "      <td>3.98</td>\n",
       "      <td>2.43</td>\n",
       "    </tr>\n",
       "    <tr>\n",
       "      <th>1</th>\n",
       "      <td>0.21</td>\n",
       "      <td>59.8</td>\n",
       "      <td>61.0</td>\n",
       "      <td>326</td>\n",
       "      <td>3.89</td>\n",
       "      <td>3.84</td>\n",
       "      <td>2.31</td>\n",
       "    </tr>\n",
       "    <tr>\n",
       "      <th>2</th>\n",
       "      <td>0.23</td>\n",
       "      <td>56.9</td>\n",
       "      <td>65.0</td>\n",
       "      <td>327</td>\n",
       "      <td>4.05</td>\n",
       "      <td>4.07</td>\n",
       "      <td>2.31</td>\n",
       "    </tr>\n",
       "    <tr>\n",
       "      <th>3</th>\n",
       "      <td>0.29</td>\n",
       "      <td>62.4</td>\n",
       "      <td>58.0</td>\n",
       "      <td>334</td>\n",
       "      <td>4.20</td>\n",
       "      <td>4.23</td>\n",
       "      <td>2.63</td>\n",
       "    </tr>\n",
       "    <tr>\n",
       "      <th>4</th>\n",
       "      <td>0.31</td>\n",
       "      <td>63.3</td>\n",
       "      <td>58.0</td>\n",
       "      <td>335</td>\n",
       "      <td>4.34</td>\n",
       "      <td>4.35</td>\n",
       "      <td>2.75</td>\n",
       "    </tr>\n",
       "  </tbody>\n",
       "</table>\n",
       "</div>"
      ],
      "text/plain": [
       "   carat  depth  table  price     x     y     z\n",
       "0   0.23   61.5   55.0    326  3.95  3.98  2.43\n",
       "1   0.21   59.8   61.0    326  3.89  3.84  2.31\n",
       "2   0.23   56.9   65.0    327  4.05  4.07  2.31\n",
       "3   0.29   62.4   58.0    334  4.20  4.23  2.63\n",
       "4   0.31   63.3   58.0    335  4.34  4.35  2.75"
      ]
     },
     "execution_count": 28,
     "metadata": {},
     "output_type": "execute_result"
    }
   ],
   "source": [
    "import seaborn as sns\n",
    "df = sns.load_dataset('diamonds')\n",
    "df = df.select_dtypes(include = ['float64','int64']) #sadece nümeric degerler geldi\n",
    "df = df.dropna()       #outlier bulacagimiz icin simdilik NaN ile ugrasmayalim dedik\n",
    "df.head()"
   ]
  },
  {
   "cell_type": "code",
   "execution_count": 29,
   "id": "a9ebe567",
   "metadata": {},
   "outputs": [
    {
     "data": {
      "text/plain": [
       "(53940, 7)"
      ]
     },
     "execution_count": 29,
     "metadata": {},
     "output_type": "execute_result"
    }
   ],
   "source": [
    "df.shape"
   ]
  },
  {
   "cell_type": "code",
   "execution_count": null,
   "id": "c6636d99",
   "metadata": {},
   "outputs": [],
   "source": []
  },
  {
   "cell_type": "code",
   "execution_count": 30,
   "id": "0425a832",
   "metadata": {},
   "outputs": [
    {
     "data": {
      "text/plain": [
       "carat    0\n",
       "depth    0\n",
       "table    0\n",
       "price    0\n",
       "x        0\n",
       "y        0\n",
       "z        0\n",
       "dtype: int64"
      ]
     },
     "execution_count": 30,
     "metadata": {},
     "output_type": "execute_result"
    }
   ],
   "source": [
    "df.isnull().sum()    #yukarida dropna() ile temizledik"
   ]
  },
  {
   "cell_type": "code",
   "execution_count": 31,
   "id": "126ee74b",
   "metadata": {},
   "outputs": [
    {
     "data": {
      "text/plain": [
       "0    55.0\n",
       "1    61.0\n",
       "2    65.0\n",
       "3    58.0\n",
       "4    58.0\n",
       "Name: table, dtype: float64"
      ]
     },
     "execution_count": 31,
     "metadata": {},
     "output_type": "execute_result"
    }
   ],
   "source": [
    "df_table = df.table    #table sütununu aldik\n",
    "df_table.head()"
   ]
  },
  {
   "cell_type": "code",
   "execution_count": 32,
   "id": "229ee27d",
   "metadata": {},
   "outputs": [
    {
     "data": {
      "image/png": "[encoded data removed]",
      "text/plain": [
       "<Figure size 432x288 with 1 Axes>"
      ]
     },
     "metadata": {
      "needs_background": "light"
     },
     "output_type": "display_data"
    }
   ],
   "source": [
    "import seaborn as sns\n",
    "\n",
    "sns.boxplot(x=df_table);\n",
    "\n",
    "#burda Q1,Q2,Q3 degerleri var boxplotta"
   ]
  },
  {
   "cell_type": "code",
   "execution_count": 52,
   "id": "92c61c79",
   "metadata": {},
   "outputs": [
    {
     "name": "stdout",
     "output_type": "stream",
     "text": [
      "Q1 = 56.0\n",
      "Q3 = 59.0\n"
     ]
    }
   ],
   "source": [
    "Q1 = df_table.quantile(0.25)\n",
    "Q3 = df_table.quantile(0.75)\n",
    "print(f'Q1 = {Q1}')\n",
    "print(f'Q3 = {Q3}')"
   ]
  },
  {
   "cell_type": "code",
   "execution_count": 53,
   "id": "17c675e6",
   "metadata": {},
   "outputs": [
    {
     "data": {
      "text/plain": [
       "3.0"
      ]
     },
     "execution_count": 53,
     "metadata": {},
     "output_type": "execute_result"
    }
   ],
   "source": [
    "IQR = Q3 - Q1\n",
    "IQR     #bu boxplotun ortasi"
   ]
  },
  {
   "cell_type": "code",
   "execution_count": 54,
   "id": "1fea62a9",
   "metadata": {},
   "outputs": [
    {
     "name": "stdout",
     "output_type": "stream",
     "text": [
      "alt_sinir = 51.5\n",
      "ust_sinir = 63.5\n"
     ]
    }
   ],
   "source": [
    "alt_sinir = Q1 - 1.5*IQR\n",
    "ust_sinir = Q3 + 1.5*IQR\n",
    "print(f'alt_sinir = {alt_sinir}')\n",
    "print(f'ust_sinir = {ust_sinir}')   #bu sinirlar disinda kalanlar outlier"
   ]
  },
  {
   "cell_type": "code",
   "execution_count": 36,
   "id": "dca71dcd",
   "metadata": {},
   "outputs": [
    {
     "data": {
      "text/html": [
       "<div>\n",
       "<style scoped>\n",
       "    .dataframe tbody tr th:only-of-type {\n",
       "        vertical-align: middle;\n",
       "    }\n",
       "\n",
       "    .dataframe tbody tr th {\n",
       "        vertical-align: top;\n",
       "    }\n",
       "\n",
       "    .dataframe thead th {\n",
       "        text-align: right;\n",
       "    }\n",
       "</style>\n",
       "<table border=\"1\" class=\"dataframe\">\n",
       "  <thead>\n",
       "    <tr style=\"text-align: right;\">\n",
       "      <th></th>\n",
       "      <th>carat</th>\n",
       "      <th>depth</th>\n",
       "      <th>table</th>\n",
       "      <th>price</th>\n",
       "      <th>x</th>\n",
       "      <th>y</th>\n",
       "      <th>z</th>\n",
       "    </tr>\n",
       "  </thead>\n",
       "  <tbody>\n",
       "    <tr>\n",
       "      <th>2</th>\n",
       "      <td>0.23</td>\n",
       "      <td>56.9</td>\n",
       "      <td>65.0</td>\n",
       "      <td>327</td>\n",
       "      <td>4.05</td>\n",
       "      <td>4.07</td>\n",
       "      <td>2.31</td>\n",
       "    </tr>\n",
       "    <tr>\n",
       "      <th>91</th>\n",
       "      <td>0.86</td>\n",
       "      <td>55.1</td>\n",
       "      <td>69.0</td>\n",
       "      <td>2757</td>\n",
       "      <td>6.45</td>\n",
       "      <td>6.33</td>\n",
       "      <td>3.52</td>\n",
       "    </tr>\n",
       "    <tr>\n",
       "      <th>145</th>\n",
       "      <td>0.70</td>\n",
       "      <td>62.1</td>\n",
       "      <td>64.0</td>\n",
       "      <td>2767</td>\n",
       "      <td>5.62</td>\n",
       "      <td>5.65</td>\n",
       "      <td>3.50</td>\n",
       "    </tr>\n",
       "    <tr>\n",
       "      <th>219</th>\n",
       "      <td>0.53</td>\n",
       "      <td>57.5</td>\n",
       "      <td>64.0</td>\n",
       "      <td>2782</td>\n",
       "      <td>5.34</td>\n",
       "      <td>5.37</td>\n",
       "      <td>3.08</td>\n",
       "    </tr>\n",
       "    <tr>\n",
       "      <th>227</th>\n",
       "      <td>0.84</td>\n",
       "      <td>55.1</td>\n",
       "      <td>67.0</td>\n",
       "      <td>2782</td>\n",
       "      <td>6.39</td>\n",
       "      <td>6.20</td>\n",
       "      <td>3.47</td>\n",
       "    </tr>\n",
       "    <tr>\n",
       "      <th>...</th>\n",
       "      <td>...</td>\n",
       "      <td>...</td>\n",
       "      <td>...</td>\n",
       "      <td>...</td>\n",
       "      <td>...</td>\n",
       "      <td>...</td>\n",
       "      <td>...</td>\n",
       "    </tr>\n",
       "    <tr>\n",
       "      <th>53695</th>\n",
       "      <td>0.75</td>\n",
       "      <td>59.7</td>\n",
       "      <td>65.0</td>\n",
       "      <td>2717</td>\n",
       "      <td>5.85</td>\n",
       "      <td>5.80</td>\n",
       "      <td>3.48</td>\n",
       "    </tr>\n",
       "    <tr>\n",
       "      <th>53697</th>\n",
       "      <td>0.70</td>\n",
       "      <td>64.5</td>\n",
       "      <td>65.0</td>\n",
       "      <td>2717</td>\n",
       "      <td>5.52</td>\n",
       "      <td>5.45</td>\n",
       "      <td>3.54</td>\n",
       "    </tr>\n",
       "    <tr>\n",
       "      <th>53756</th>\n",
       "      <td>0.84</td>\n",
       "      <td>55.6</td>\n",
       "      <td>64.0</td>\n",
       "      <td>2724</td>\n",
       "      <td>6.42</td>\n",
       "      <td>6.32</td>\n",
       "      <td>3.54</td>\n",
       "    </tr>\n",
       "    <tr>\n",
       "      <th>53757</th>\n",
       "      <td>0.72</td>\n",
       "      <td>55.4</td>\n",
       "      <td>64.0</td>\n",
       "      <td>2724</td>\n",
       "      <td>6.06</td>\n",
       "      <td>5.97</td>\n",
       "      <td>3.34</td>\n",
       "    </tr>\n",
       "    <tr>\n",
       "      <th>53785</th>\n",
       "      <td>0.89</td>\n",
       "      <td>64.3</td>\n",
       "      <td>65.0</td>\n",
       "      <td>2728</td>\n",
       "      <td>6.00</td>\n",
       "      <td>5.95</td>\n",
       "      <td>3.84</td>\n",
       "    </tr>\n",
       "  </tbody>\n",
       "</table>\n",
       "<p>605 rows × 7 columns</p>\n",
       "</div>"
      ],
      "text/plain": [
       "       carat  depth  table  price     x     y     z\n",
       "2       0.23   56.9   65.0    327  4.05  4.07  2.31\n",
       "91      0.86   55.1   69.0   2757  6.45  6.33  3.52\n",
       "145     0.70   62.1   64.0   2767  5.62  5.65  3.50\n",
       "219     0.53   57.5   64.0   2782  5.34  5.37  3.08\n",
       "227     0.84   55.1   67.0   2782  6.39  6.20  3.47\n",
       "...      ...    ...    ...    ...   ...   ...   ...\n",
       "53695   0.75   59.7   65.0   2717  5.85  5.80  3.48\n",
       "53697   0.70   64.5   65.0   2717  5.52  5.45  3.54\n",
       "53756   0.84   55.6   64.0   2724  6.42  6.32  3.54\n",
       "53757   0.72   55.4   64.0   2724  6.06  5.97  3.34\n",
       "53785   0.89   64.3   65.0   2728  6.00  5.95  3.84\n",
       "\n",
       "[605 rows x 7 columns]"
      ]
     },
     "execution_count": 36,
     "metadata": {},
     "output_type": "execute_result"
    }
   ],
   "source": [
    "df[(df_table < alt_sinir) | (df_table > ust_sinir)]   #outlier'lar "
   ]
  },
  {
   "cell_type": "code",
   "execution_count": 37,
   "id": "d6582b1f",
   "metadata": {},
   "outputs": [
    {
     "data": {
      "text/plain": [
       "2        65.0\n",
       "91       69.0\n",
       "145      64.0\n",
       "219      64.0\n",
       "227      67.0\n",
       "         ... \n",
       "53695    65.0\n",
       "53697    65.0\n",
       "53756    64.0\n",
       "53757    64.0\n",
       "53785    65.0\n",
       "Name: table, Length: 605, dtype: float64"
      ]
     },
     "execution_count": 37,
     "metadata": {},
     "output_type": "execute_result"
    }
   ],
   "source": [
    "df.table[(df_table < alt_sinir) | (df_table > ust_sinir)]"
   ]
  },
  {
   "cell_type": "code",
   "execution_count": 38,
   "id": "6d39b236",
   "metadata": {},
   "outputs": [
    {
     "data": {
      "text/plain": [
       "Int64Index([    2,    91,   145,   219,   227,   239,   296,   314,   356,\n",
       "              359,\n",
       "            ...\n",
       "            53226, 53503, 53542, 53577, 53660, 53695, 53697, 53756, 53757,\n",
       "            53785],\n",
       "           dtype='int64', length=605)"
      ]
     },
     "execution_count": 38,
     "metadata": {},
     "output_type": "execute_result"
    }
   ],
   "source": [
    "df.table[(df_table < alt_sinir) | (df_table > ust_sinir)].index\n",
    "\n",
    "#sadece index numalarini görmek istersen"
   ]
  },
  {
   "cell_type": "markdown",
   "id": "40aa35e7",
   "metadata": {},
   "source": [
    "## Outlier'dan kurtulma yöntemi"
   ]
  },
  {
   "cell_type": "markdown",
   "id": "3daad3de",
   "metadata": {},
   "source": [
    "1- Silme yöntemi"
   ]
  },
  {
   "cell_type": "code",
   "execution_count": 39,
   "id": "782d188e",
   "metadata": {},
   "outputs": [
    {
     "data": {
      "text/html": [
       "<div>\n",
       "<style scoped>\n",
       "    .dataframe tbody tr th:only-of-type {\n",
       "        vertical-align: middle;\n",
       "    }\n",
       "\n",
       "    .dataframe tbody tr th {\n",
       "        vertical-align: top;\n",
       "    }\n",
       "\n",
       "    .dataframe thead th {\n",
       "        text-align: right;\n",
       "    }\n",
       "</style>\n",
       "<table border=\"1\" class=\"dataframe\">\n",
       "  <thead>\n",
       "    <tr style=\"text-align: right;\">\n",
       "      <th></th>\n",
       "      <th>carat</th>\n",
       "      <th>depth</th>\n",
       "      <th>table</th>\n",
       "      <th>price</th>\n",
       "      <th>x</th>\n",
       "      <th>y</th>\n",
       "      <th>z</th>\n",
       "    </tr>\n",
       "  </thead>\n",
       "  <tbody>\n",
       "    <tr>\n",
       "      <th>0</th>\n",
       "      <td>0.23</td>\n",
       "      <td>61.5</td>\n",
       "      <td>55.0</td>\n",
       "      <td>326</td>\n",
       "      <td>3.95</td>\n",
       "      <td>3.98</td>\n",
       "      <td>2.43</td>\n",
       "    </tr>\n",
       "    <tr>\n",
       "      <th>1</th>\n",
       "      <td>0.21</td>\n",
       "      <td>59.8</td>\n",
       "      <td>61.0</td>\n",
       "      <td>326</td>\n",
       "      <td>3.89</td>\n",
       "      <td>3.84</td>\n",
       "      <td>2.31</td>\n",
       "    </tr>\n",
       "    <tr>\n",
       "      <th>2</th>\n",
       "      <td>0.23</td>\n",
       "      <td>56.9</td>\n",
       "      <td>65.0</td>\n",
       "      <td>327</td>\n",
       "      <td>4.05</td>\n",
       "      <td>4.07</td>\n",
       "      <td>2.31</td>\n",
       "    </tr>\n",
       "    <tr>\n",
       "      <th>3</th>\n",
       "      <td>0.29</td>\n",
       "      <td>62.4</td>\n",
       "      <td>58.0</td>\n",
       "      <td>334</td>\n",
       "      <td>4.20</td>\n",
       "      <td>4.23</td>\n",
       "      <td>2.63</td>\n",
       "    </tr>\n",
       "    <tr>\n",
       "      <th>4</th>\n",
       "      <td>0.31</td>\n",
       "      <td>63.3</td>\n",
       "      <td>58.0</td>\n",
       "      <td>335</td>\n",
       "      <td>4.34</td>\n",
       "      <td>4.35</td>\n",
       "      <td>2.75</td>\n",
       "    </tr>\n",
       "  </tbody>\n",
       "</table>\n",
       "</div>"
      ],
      "text/plain": [
       "   carat  depth  table  price     x     y     z\n",
       "0   0.23   61.5   55.0    326  3.95  3.98  2.43\n",
       "1   0.21   59.8   61.0    326  3.89  3.84  2.31\n",
       "2   0.23   56.9   65.0    327  4.05  4.07  2.31\n",
       "3   0.29   62.4   58.0    334  4.20  4.23  2.63\n",
       "4   0.31   63.3   58.0    335  4.34  4.35  2.75"
      ]
     },
     "execution_count": 39,
     "metadata": {},
     "output_type": "execute_result"
    }
   ],
   "source": [
    "import seaborn as sns\n",
    "df = sns.load_dataset('diamonds')\n",
    "df = df.select_dtypes(include = ['float64','int64']) #sadece nümeric degerler geldi\n",
    "df = df.dropna()       #outlier bulacagimiz icin simdilik NaN ile ugrasmayalim dedik\n",
    "df.head()"
   ]
  },
  {
   "cell_type": "code",
   "execution_count": 40,
   "id": "838e9be9",
   "metadata": {},
   "outputs": [
    {
     "data": {
      "text/html": [
       "<div>\n",
       "<style scoped>\n",
       "    .dataframe tbody tr th:only-of-type {\n",
       "        vertical-align: middle;\n",
       "    }\n",
       "\n",
       "    .dataframe tbody tr th {\n",
       "        vertical-align: top;\n",
       "    }\n",
       "\n",
       "    .dataframe thead th {\n",
       "        text-align: right;\n",
       "    }\n",
       "</style>\n",
       "<table border=\"1\" class=\"dataframe\">\n",
       "  <thead>\n",
       "    <tr style=\"text-align: right;\">\n",
       "      <th></th>\n",
       "      <th>carat</th>\n",
       "      <th>depth</th>\n",
       "      <th>table</th>\n",
       "      <th>price</th>\n",
       "      <th>x</th>\n",
       "      <th>y</th>\n",
       "      <th>z</th>\n",
       "    </tr>\n",
       "  </thead>\n",
       "  <tbody>\n",
       "    <tr>\n",
       "      <th>2</th>\n",
       "      <td>0.23</td>\n",
       "      <td>56.9</td>\n",
       "      <td>65.0</td>\n",
       "      <td>327</td>\n",
       "      <td>4.05</td>\n",
       "      <td>4.07</td>\n",
       "      <td>2.31</td>\n",
       "    </tr>\n",
       "    <tr>\n",
       "      <th>91</th>\n",
       "      <td>0.86</td>\n",
       "      <td>55.1</td>\n",
       "      <td>69.0</td>\n",
       "      <td>2757</td>\n",
       "      <td>6.45</td>\n",
       "      <td>6.33</td>\n",
       "      <td>3.52</td>\n",
       "    </tr>\n",
       "    <tr>\n",
       "      <th>145</th>\n",
       "      <td>0.70</td>\n",
       "      <td>62.1</td>\n",
       "      <td>64.0</td>\n",
       "      <td>2767</td>\n",
       "      <td>5.62</td>\n",
       "      <td>5.65</td>\n",
       "      <td>3.50</td>\n",
       "    </tr>\n",
       "    <tr>\n",
       "      <th>219</th>\n",
       "      <td>0.53</td>\n",
       "      <td>57.5</td>\n",
       "      <td>64.0</td>\n",
       "      <td>2782</td>\n",
       "      <td>5.34</td>\n",
       "      <td>5.37</td>\n",
       "      <td>3.08</td>\n",
       "    </tr>\n",
       "    <tr>\n",
       "      <th>227</th>\n",
       "      <td>0.84</td>\n",
       "      <td>55.1</td>\n",
       "      <td>67.0</td>\n",
       "      <td>2782</td>\n",
       "      <td>6.39</td>\n",
       "      <td>6.20</td>\n",
       "      <td>3.47</td>\n",
       "    </tr>\n",
       "    <tr>\n",
       "      <th>...</th>\n",
       "      <td>...</td>\n",
       "      <td>...</td>\n",
       "      <td>...</td>\n",
       "      <td>...</td>\n",
       "      <td>...</td>\n",
       "      <td>...</td>\n",
       "      <td>...</td>\n",
       "    </tr>\n",
       "    <tr>\n",
       "      <th>53695</th>\n",
       "      <td>0.75</td>\n",
       "      <td>59.7</td>\n",
       "      <td>65.0</td>\n",
       "      <td>2717</td>\n",
       "      <td>5.85</td>\n",
       "      <td>5.80</td>\n",
       "      <td>3.48</td>\n",
       "    </tr>\n",
       "    <tr>\n",
       "      <th>53697</th>\n",
       "      <td>0.70</td>\n",
       "      <td>64.5</td>\n",
       "      <td>65.0</td>\n",
       "      <td>2717</td>\n",
       "      <td>5.52</td>\n",
       "      <td>5.45</td>\n",
       "      <td>3.54</td>\n",
       "    </tr>\n",
       "    <tr>\n",
       "      <th>53756</th>\n",
       "      <td>0.84</td>\n",
       "      <td>55.6</td>\n",
       "      <td>64.0</td>\n",
       "      <td>2724</td>\n",
       "      <td>6.42</td>\n",
       "      <td>6.32</td>\n",
       "      <td>3.54</td>\n",
       "    </tr>\n",
       "    <tr>\n",
       "      <th>53757</th>\n",
       "      <td>0.72</td>\n",
       "      <td>55.4</td>\n",
       "      <td>64.0</td>\n",
       "      <td>2724</td>\n",
       "      <td>6.06</td>\n",
       "      <td>5.97</td>\n",
       "      <td>3.34</td>\n",
       "    </tr>\n",
       "    <tr>\n",
       "      <th>53785</th>\n",
       "      <td>0.89</td>\n",
       "      <td>64.3</td>\n",
       "      <td>65.0</td>\n",
       "      <td>2728</td>\n",
       "      <td>6.00</td>\n",
       "      <td>5.95</td>\n",
       "      <td>3.84</td>\n",
       "    </tr>\n",
       "  </tbody>\n",
       "</table>\n",
       "<p>605 rows × 7 columns</p>\n",
       "</div>"
      ],
      "text/plain": [
       "       carat  depth  table  price     x     y     z\n",
       "2       0.23   56.9   65.0    327  4.05  4.07  2.31\n",
       "91      0.86   55.1   69.0   2757  6.45  6.33  3.52\n",
       "145     0.70   62.1   64.0   2767  5.62  5.65  3.50\n",
       "219     0.53   57.5   64.0   2782  5.34  5.37  3.08\n",
       "227     0.84   55.1   67.0   2782  6.39  6.20  3.47\n",
       "...      ...    ...    ...    ...   ...   ...   ...\n",
       "53695   0.75   59.7   65.0   2717  5.85  5.80  3.48\n",
       "53697   0.70   64.5   65.0   2717  5.52  5.45  3.54\n",
       "53756   0.84   55.6   64.0   2724  6.42  6.32  3.54\n",
       "53757   0.72   55.4   64.0   2724  6.06  5.97  3.34\n",
       "53785   0.89   64.3   65.0   2728  6.00  5.95  3.84\n",
       "\n",
       "[605 rows x 7 columns]"
      ]
     },
     "execution_count": 40,
     "metadata": {},
     "output_type": "execute_result"
    }
   ],
   "source": [
    "df_outlier = df[(df_table < alt_sinir) | (df_table > ust_sinir)]  #alt_sinir yukarda olusturduk\n",
    "df_outlier"
   ]
  },
  {
   "cell_type": "code",
   "execution_count": null,
   "id": "5e77bbd1",
   "metadata": {},
   "outputs": [],
   "source": []
  },
  {
   "cell_type": "code",
   "execution_count": 41,
   "id": "a8326d7d",
   "metadata": {},
   "outputs": [],
   "source": [
    "df_outliersiz = df[~((df_table < alt_sinir) | (df_table > ust_sinir))] #bu sekilde data disinda biraktik"
   ]
  },
  {
   "cell_type": "code",
   "execution_count": 42,
   "id": "dde67f1a",
   "metadata": {},
   "outputs": [
    {
     "data": {
      "text/html": [
       "<div>\n",
       "<style scoped>\n",
       "    .dataframe tbody tr th:only-of-type {\n",
       "        vertical-align: middle;\n",
       "    }\n",
       "\n",
       "    .dataframe tbody tr th {\n",
       "        vertical-align: top;\n",
       "    }\n",
       "\n",
       "    .dataframe thead th {\n",
       "        text-align: right;\n",
       "    }\n",
       "</style>\n",
       "<table border=\"1\" class=\"dataframe\">\n",
       "  <thead>\n",
       "    <tr style=\"text-align: right;\">\n",
       "      <th></th>\n",
       "      <th>carat</th>\n",
       "      <th>depth</th>\n",
       "      <th>table</th>\n",
       "      <th>price</th>\n",
       "      <th>x</th>\n",
       "      <th>y</th>\n",
       "      <th>z</th>\n",
       "    </tr>\n",
       "  </thead>\n",
       "  <tbody>\n",
       "    <tr>\n",
       "      <th>0</th>\n",
       "      <td>0.23</td>\n",
       "      <td>61.5</td>\n",
       "      <td>55.0</td>\n",
       "      <td>326</td>\n",
       "      <td>3.95</td>\n",
       "      <td>3.98</td>\n",
       "      <td>2.43</td>\n",
       "    </tr>\n",
       "    <tr>\n",
       "      <th>1</th>\n",
       "      <td>0.21</td>\n",
       "      <td>59.8</td>\n",
       "      <td>61.0</td>\n",
       "      <td>326</td>\n",
       "      <td>3.89</td>\n",
       "      <td>3.84</td>\n",
       "      <td>2.31</td>\n",
       "    </tr>\n",
       "    <tr>\n",
       "      <th>3</th>\n",
       "      <td>0.29</td>\n",
       "      <td>62.4</td>\n",
       "      <td>58.0</td>\n",
       "      <td>334</td>\n",
       "      <td>4.20</td>\n",
       "      <td>4.23</td>\n",
       "      <td>2.63</td>\n",
       "    </tr>\n",
       "    <tr>\n",
       "      <th>4</th>\n",
       "      <td>0.31</td>\n",
       "      <td>63.3</td>\n",
       "      <td>58.0</td>\n",
       "      <td>335</td>\n",
       "      <td>4.34</td>\n",
       "      <td>4.35</td>\n",
       "      <td>2.75</td>\n",
       "    </tr>\n",
       "    <tr>\n",
       "      <th>5</th>\n",
       "      <td>0.24</td>\n",
       "      <td>62.8</td>\n",
       "      <td>57.0</td>\n",
       "      <td>336</td>\n",
       "      <td>3.94</td>\n",
       "      <td>3.96</td>\n",
       "      <td>2.48</td>\n",
       "    </tr>\n",
       "    <tr>\n",
       "      <th>...</th>\n",
       "      <td>...</td>\n",
       "      <td>...</td>\n",
       "      <td>...</td>\n",
       "      <td>...</td>\n",
       "      <td>...</td>\n",
       "      <td>...</td>\n",
       "      <td>...</td>\n",
       "    </tr>\n",
       "    <tr>\n",
       "      <th>53935</th>\n",
       "      <td>0.72</td>\n",
       "      <td>60.8</td>\n",
       "      <td>57.0</td>\n",
       "      <td>2757</td>\n",
       "      <td>5.75</td>\n",
       "      <td>5.76</td>\n",
       "      <td>3.50</td>\n",
       "    </tr>\n",
       "    <tr>\n",
       "      <th>53936</th>\n",
       "      <td>0.72</td>\n",
       "      <td>63.1</td>\n",
       "      <td>55.0</td>\n",
       "      <td>2757</td>\n",
       "      <td>5.69</td>\n",
       "      <td>5.75</td>\n",
       "      <td>3.61</td>\n",
       "    </tr>\n",
       "    <tr>\n",
       "      <th>53937</th>\n",
       "      <td>0.70</td>\n",
       "      <td>62.8</td>\n",
       "      <td>60.0</td>\n",
       "      <td>2757</td>\n",
       "      <td>5.66</td>\n",
       "      <td>5.68</td>\n",
       "      <td>3.56</td>\n",
       "    </tr>\n",
       "    <tr>\n",
       "      <th>53938</th>\n",
       "      <td>0.86</td>\n",
       "      <td>61.0</td>\n",
       "      <td>58.0</td>\n",
       "      <td>2757</td>\n",
       "      <td>6.15</td>\n",
       "      <td>6.12</td>\n",
       "      <td>3.74</td>\n",
       "    </tr>\n",
       "    <tr>\n",
       "      <th>53939</th>\n",
       "      <td>0.75</td>\n",
       "      <td>62.2</td>\n",
       "      <td>55.0</td>\n",
       "      <td>2757</td>\n",
       "      <td>5.83</td>\n",
       "      <td>5.87</td>\n",
       "      <td>3.64</td>\n",
       "    </tr>\n",
       "  </tbody>\n",
       "</table>\n",
       "<p>53335 rows × 7 columns</p>\n",
       "</div>"
      ],
      "text/plain": [
       "       carat  depth  table  price     x     y     z\n",
       "0       0.23   61.5   55.0    326  3.95  3.98  2.43\n",
       "1       0.21   59.8   61.0    326  3.89  3.84  2.31\n",
       "3       0.29   62.4   58.0    334  4.20  4.23  2.63\n",
       "4       0.31   63.3   58.0    335  4.34  4.35  2.75\n",
       "5       0.24   62.8   57.0    336  3.94  3.96  2.48\n",
       "...      ...    ...    ...    ...   ...   ...   ...\n",
       "53935   0.72   60.8   57.0   2757  5.75  5.76  3.50\n",
       "53936   0.72   63.1   55.0   2757  5.69  5.75  3.61\n",
       "53937   0.70   62.8   60.0   2757  5.66  5.68  3.56\n",
       "53938   0.86   61.0   58.0   2757  6.15  6.12  3.74\n",
       "53939   0.75   62.2   55.0   2757  5.83  5.87  3.64\n",
       "\n",
       "[53335 rows x 7 columns]"
      ]
     },
     "execution_count": 42,
     "metadata": {},
     "output_type": "execute_result"
    }
   ],
   "source": [
    "df_outliersiz"
   ]
  },
  {
   "cell_type": "code",
   "execution_count": 43,
   "id": "6118ffe7",
   "metadata": {},
   "outputs": [
    {
     "data": {
      "text/plain": [
       "<AxesSubplot:xlabel='table'>"
      ]
     },
     "execution_count": 43,
     "metadata": {},
     "output_type": "execute_result"
    },
    {
     "data": {
      "image/png": "[encoded data removed]",
      "text/plain": [
       "<Figure size 432x288 with 1 Axes>"
      ]
     },
     "metadata": {
      "needs_background": "light"
     },
     "output_type": "display_data"
    }
   ],
   "source": [
    "sns.boxplot(x=df_outliersiz.table)  #temizlendi"
   ]
  },
  {
   "cell_type": "code",
   "execution_count": 44,
   "id": "6aed1f3b",
   "metadata": {},
   "outputs": [
    {
     "data": {
      "text/plain": [
       "63.5"
      ]
     },
     "execution_count": 44,
     "metadata": {},
     "output_type": "execute_result"
    }
   ],
   "source": [
    "df_outliersiz.table.max()"
   ]
  },
  {
   "cell_type": "code",
   "execution_count": null,
   "id": "ab6bb582",
   "metadata": {},
   "outputs": [],
   "source": []
  },
  {
   "cell_type": "code",
   "execution_count": null,
   "id": "881068a1",
   "metadata": {},
   "outputs": [],
   "source": []
  },
  {
   "cell_type": "markdown",
   "id": "5f6a922e",
   "metadata": {},
   "source": [
    "2- Mean ile doldurma"
   ]
  },
  {
   "cell_type": "code",
   "execution_count": 45,
   "id": "9d40cd6e",
   "metadata": {},
   "outputs": [
    {
     "data": {
      "text/html": [
       "<div>\n",
       "<style scoped>\n",
       "    .dataframe tbody tr th:only-of-type {\n",
       "        vertical-align: middle;\n",
       "    }\n",
       "\n",
       "    .dataframe tbody tr th {\n",
       "        vertical-align: top;\n",
       "    }\n",
       "\n",
       "    .dataframe thead th {\n",
       "        text-align: right;\n",
       "    }\n",
       "</style>\n",
       "<table border=\"1\" class=\"dataframe\">\n",
       "  <thead>\n",
       "    <tr style=\"text-align: right;\">\n",
       "      <th></th>\n",
       "      <th>carat</th>\n",
       "      <th>depth</th>\n",
       "      <th>table</th>\n",
       "      <th>price</th>\n",
       "      <th>x</th>\n",
       "      <th>y</th>\n",
       "      <th>z</th>\n",
       "    </tr>\n",
       "  </thead>\n",
       "  <tbody>\n",
       "    <tr>\n",
       "      <th>0</th>\n",
       "      <td>0.23</td>\n",
       "      <td>61.5</td>\n",
       "      <td>55.0</td>\n",
       "      <td>326</td>\n",
       "      <td>3.95</td>\n",
       "      <td>3.98</td>\n",
       "      <td>2.43</td>\n",
       "    </tr>\n",
       "    <tr>\n",
       "      <th>1</th>\n",
       "      <td>0.21</td>\n",
       "      <td>59.8</td>\n",
       "      <td>61.0</td>\n",
       "      <td>326</td>\n",
       "      <td>3.89</td>\n",
       "      <td>3.84</td>\n",
       "      <td>2.31</td>\n",
       "    </tr>\n",
       "    <tr>\n",
       "      <th>2</th>\n",
       "      <td>0.23</td>\n",
       "      <td>56.9</td>\n",
       "      <td>65.0</td>\n",
       "      <td>327</td>\n",
       "      <td>4.05</td>\n",
       "      <td>4.07</td>\n",
       "      <td>2.31</td>\n",
       "    </tr>\n",
       "    <tr>\n",
       "      <th>3</th>\n",
       "      <td>0.29</td>\n",
       "      <td>62.4</td>\n",
       "      <td>58.0</td>\n",
       "      <td>334</td>\n",
       "      <td>4.20</td>\n",
       "      <td>4.23</td>\n",
       "      <td>2.63</td>\n",
       "    </tr>\n",
       "    <tr>\n",
       "      <th>4</th>\n",
       "      <td>0.31</td>\n",
       "      <td>63.3</td>\n",
       "      <td>58.0</td>\n",
       "      <td>335</td>\n",
       "      <td>4.34</td>\n",
       "      <td>4.35</td>\n",
       "      <td>2.75</td>\n",
       "    </tr>\n",
       "  </tbody>\n",
       "</table>\n",
       "</div>"
      ],
      "text/plain": [
       "   carat  depth  table  price     x     y     z\n",
       "0   0.23   61.5   55.0    326  3.95  3.98  2.43\n",
       "1   0.21   59.8   61.0    326  3.89  3.84  2.31\n",
       "2   0.23   56.9   65.0    327  4.05  4.07  2.31\n",
       "3   0.29   62.4   58.0    334  4.20  4.23  2.63\n",
       "4   0.31   63.3   58.0    335  4.34  4.35  2.75"
      ]
     },
     "execution_count": 45,
     "metadata": {},
     "output_type": "execute_result"
    }
   ],
   "source": [
    "import seaborn as sns\n",
    "df = sns.load_dataset('diamonds')\n",
    "df = df.select_dtypes(include = ['float64','int64']) #sadece nümeric degerler geldi\n",
    "df = df.dropna()       #outlier bulacagimiz icin simdilik NaN ile ugrasmayalim dedik\n",
    "df.head()"
   ]
  },
  {
   "cell_type": "code",
   "execution_count": 46,
   "id": "75b02957",
   "metadata": {},
   "outputs": [],
   "source": [
    "df_outlier = df[(df_table < alt_sinir) | (df_table > ust_sinir)]  #komple DataFrame"
   ]
  },
  {
   "cell_type": "code",
   "execution_count": 47,
   "id": "592ad8ea",
   "metadata": {},
   "outputs": [
    {
     "data": {
      "text/plain": [
       "57.45718390804603"
      ]
     },
     "execution_count": 47,
     "metadata": {},
     "output_type": "execute_result"
    }
   ],
   "source": [
    "df_table.mean()"
   ]
  },
  {
   "cell_type": "code",
   "execution_count": 48,
   "id": "a83d48a9",
   "metadata": {},
   "outputs": [
    {
     "name": "stderr",
     "output_type": "stream",
     "text": [
      "/var/folders/9_/vpq34lwj3bv0yhs22t_s7s7w0000gn/T/ipykernel_3038/1601526471.py:1: SettingWithCopyWarning: \n",
      "A value is trying to be set on a copy of a slice from a DataFrame.\n",
      "Try using .loc[row_indexer,col_indexer] = value instead\n",
      "\n",
      "See the caveats in the documentation: https://pandas.pydata.org/pandas-docs/stable/user_guide/indexing.html#returning-a-view-versus-a-copy\n",
      "  df_outlier.table = df_table.mean()   #ortalama ile doldurmus oldum\n"
     ]
    }
   ],
   "source": [
    "df_outlier.table = df_table.mean()   #ortalama ile doldurmus oldum"
   ]
  },
  {
   "cell_type": "code",
   "execution_count": 49,
   "id": "f24f09c9",
   "metadata": {},
   "outputs": [
    {
     "data": {
      "text/html": [
       "<div>\n",
       "<style scoped>\n",
       "    .dataframe tbody tr th:only-of-type {\n",
       "        vertical-align: middle;\n",
       "    }\n",
       "\n",
       "    .dataframe tbody tr th {\n",
       "        vertical-align: top;\n",
       "    }\n",
       "\n",
       "    .dataframe thead th {\n",
       "        text-align: right;\n",
       "    }\n",
       "</style>\n",
       "<table border=\"1\" class=\"dataframe\">\n",
       "  <thead>\n",
       "    <tr style=\"text-align: right;\">\n",
       "      <th></th>\n",
       "      <th>carat</th>\n",
       "      <th>depth</th>\n",
       "      <th>table</th>\n",
       "      <th>price</th>\n",
       "      <th>x</th>\n",
       "      <th>y</th>\n",
       "      <th>z</th>\n",
       "    </tr>\n",
       "  </thead>\n",
       "  <tbody>\n",
       "    <tr>\n",
       "      <th>2</th>\n",
       "      <td>0.23</td>\n",
       "      <td>56.9</td>\n",
       "      <td>57.457184</td>\n",
       "      <td>327</td>\n",
       "      <td>4.05</td>\n",
       "      <td>4.07</td>\n",
       "      <td>2.31</td>\n",
       "    </tr>\n",
       "    <tr>\n",
       "      <th>91</th>\n",
       "      <td>0.86</td>\n",
       "      <td>55.1</td>\n",
       "      <td>57.457184</td>\n",
       "      <td>2757</td>\n",
       "      <td>6.45</td>\n",
       "      <td>6.33</td>\n",
       "      <td>3.52</td>\n",
       "    </tr>\n",
       "    <tr>\n",
       "      <th>145</th>\n",
       "      <td>0.70</td>\n",
       "      <td>62.1</td>\n",
       "      <td>57.457184</td>\n",
       "      <td>2767</td>\n",
       "      <td>5.62</td>\n",
       "      <td>5.65</td>\n",
       "      <td>3.50</td>\n",
       "    </tr>\n",
       "    <tr>\n",
       "      <th>219</th>\n",
       "      <td>0.53</td>\n",
       "      <td>57.5</td>\n",
       "      <td>57.457184</td>\n",
       "      <td>2782</td>\n",
       "      <td>5.34</td>\n",
       "      <td>5.37</td>\n",
       "      <td>3.08</td>\n",
       "    </tr>\n",
       "    <tr>\n",
       "      <th>227</th>\n",
       "      <td>0.84</td>\n",
       "      <td>55.1</td>\n",
       "      <td>57.457184</td>\n",
       "      <td>2782</td>\n",
       "      <td>6.39</td>\n",
       "      <td>6.20</td>\n",
       "      <td>3.47</td>\n",
       "    </tr>\n",
       "    <tr>\n",
       "      <th>...</th>\n",
       "      <td>...</td>\n",
       "      <td>...</td>\n",
       "      <td>...</td>\n",
       "      <td>...</td>\n",
       "      <td>...</td>\n",
       "      <td>...</td>\n",
       "      <td>...</td>\n",
       "    </tr>\n",
       "    <tr>\n",
       "      <th>53695</th>\n",
       "      <td>0.75</td>\n",
       "      <td>59.7</td>\n",
       "      <td>57.457184</td>\n",
       "      <td>2717</td>\n",
       "      <td>5.85</td>\n",
       "      <td>5.80</td>\n",
       "      <td>3.48</td>\n",
       "    </tr>\n",
       "    <tr>\n",
       "      <th>53697</th>\n",
       "      <td>0.70</td>\n",
       "      <td>64.5</td>\n",
       "      <td>57.457184</td>\n",
       "      <td>2717</td>\n",
       "      <td>5.52</td>\n",
       "      <td>5.45</td>\n",
       "      <td>3.54</td>\n",
       "    </tr>\n",
       "    <tr>\n",
       "      <th>53756</th>\n",
       "      <td>0.84</td>\n",
       "      <td>55.6</td>\n",
       "      <td>57.457184</td>\n",
       "      <td>2724</td>\n",
       "      <td>6.42</td>\n",
       "      <td>6.32</td>\n",
       "      <td>3.54</td>\n",
       "    </tr>\n",
       "    <tr>\n",
       "      <th>53757</th>\n",
       "      <td>0.72</td>\n",
       "      <td>55.4</td>\n",
       "      <td>57.457184</td>\n",
       "      <td>2724</td>\n",
       "      <td>6.06</td>\n",
       "      <td>5.97</td>\n",
       "      <td>3.34</td>\n",
       "    </tr>\n",
       "    <tr>\n",
       "      <th>53785</th>\n",
       "      <td>0.89</td>\n",
       "      <td>64.3</td>\n",
       "      <td>57.457184</td>\n",
       "      <td>2728</td>\n",
       "      <td>6.00</td>\n",
       "      <td>5.95</td>\n",
       "      <td>3.84</td>\n",
       "    </tr>\n",
       "  </tbody>\n",
       "</table>\n",
       "<p>605 rows × 7 columns</p>\n",
       "</div>"
      ],
      "text/plain": [
       "       carat  depth      table  price     x     y     z\n",
       "2       0.23   56.9  57.457184    327  4.05  4.07  2.31\n",
       "91      0.86   55.1  57.457184   2757  6.45  6.33  3.52\n",
       "145     0.70   62.1  57.457184   2767  5.62  5.65  3.50\n",
       "219     0.53   57.5  57.457184   2782  5.34  5.37  3.08\n",
       "227     0.84   55.1  57.457184   2782  6.39  6.20  3.47\n",
       "...      ...    ...        ...    ...   ...   ...   ...\n",
       "53695   0.75   59.7  57.457184   2717  5.85  5.80  3.48\n",
       "53697   0.70   64.5  57.457184   2717  5.52  5.45  3.54\n",
       "53756   0.84   55.6  57.457184   2724  6.42  6.32  3.54\n",
       "53757   0.72   55.4  57.457184   2724  6.06  5.97  3.34\n",
       "53785   0.89   64.3  57.457184   2728  6.00  5.95  3.84\n",
       "\n",
       "[605 rows x 7 columns]"
      ]
     },
     "execution_count": 49,
     "metadata": {},
     "output_type": "execute_result"
    }
   ],
   "source": [
    "df_outlier"
   ]
  },
  {
   "cell_type": "code",
   "execution_count": null,
   "id": "0279ba48",
   "metadata": {},
   "outputs": [],
   "source": []
  },
  {
   "cell_type": "code",
   "execution_count": null,
   "id": "ad0bcc4c",
   "metadata": {},
   "outputs": [],
   "source": []
  },
  {
   "cell_type": "markdown",
   "id": "b189520a",
   "metadata": {},
   "source": [
    "3-Baskilama yöntemi"
   ]
  },
  {
   "cell_type": "code",
   "execution_count": 50,
   "id": "8bd76abd",
   "metadata": {},
   "outputs": [
    {
     "data": {
      "text/html": [
       "<div>\n",
       "<style scoped>\n",
       "    .dataframe tbody tr th:only-of-type {\n",
       "        vertical-align: middle;\n",
       "    }\n",
       "\n",
       "    .dataframe tbody tr th {\n",
       "        vertical-align: top;\n",
       "    }\n",
       "\n",
       "    .dataframe thead th {\n",
       "        text-align: right;\n",
       "    }\n",
       "</style>\n",
       "<table border=\"1\" class=\"dataframe\">\n",
       "  <thead>\n",
       "    <tr style=\"text-align: right;\">\n",
       "      <th></th>\n",
       "      <th>carat</th>\n",
       "      <th>depth</th>\n",
       "      <th>table</th>\n",
       "      <th>price</th>\n",
       "      <th>x</th>\n",
       "      <th>y</th>\n",
       "      <th>z</th>\n",
       "    </tr>\n",
       "  </thead>\n",
       "  <tbody>\n",
       "    <tr>\n",
       "      <th>0</th>\n",
       "      <td>0.23</td>\n",
       "      <td>61.5</td>\n",
       "      <td>55.0</td>\n",
       "      <td>326</td>\n",
       "      <td>3.95</td>\n",
       "      <td>3.98</td>\n",
       "      <td>2.43</td>\n",
       "    </tr>\n",
       "    <tr>\n",
       "      <th>1</th>\n",
       "      <td>0.21</td>\n",
       "      <td>59.8</td>\n",
       "      <td>61.0</td>\n",
       "      <td>326</td>\n",
       "      <td>3.89</td>\n",
       "      <td>3.84</td>\n",
       "      <td>2.31</td>\n",
       "    </tr>\n",
       "    <tr>\n",
       "      <th>2</th>\n",
       "      <td>0.23</td>\n",
       "      <td>56.9</td>\n",
       "      <td>65.0</td>\n",
       "      <td>327</td>\n",
       "      <td>4.05</td>\n",
       "      <td>4.07</td>\n",
       "      <td>2.31</td>\n",
       "    </tr>\n",
       "    <tr>\n",
       "      <th>3</th>\n",
       "      <td>0.29</td>\n",
       "      <td>62.4</td>\n",
       "      <td>58.0</td>\n",
       "      <td>334</td>\n",
       "      <td>4.20</td>\n",
       "      <td>4.23</td>\n",
       "      <td>2.63</td>\n",
       "    </tr>\n",
       "    <tr>\n",
       "      <th>4</th>\n",
       "      <td>0.31</td>\n",
       "      <td>63.3</td>\n",
       "      <td>58.0</td>\n",
       "      <td>335</td>\n",
       "      <td>4.34</td>\n",
       "      <td>4.35</td>\n",
       "      <td>2.75</td>\n",
       "    </tr>\n",
       "  </tbody>\n",
       "</table>\n",
       "</div>"
      ],
      "text/plain": [
       "   carat  depth  table  price     x     y     z\n",
       "0   0.23   61.5   55.0    326  3.95  3.98  2.43\n",
       "1   0.21   59.8   61.0    326  3.89  3.84  2.31\n",
       "2   0.23   56.9   65.0    327  4.05  4.07  2.31\n",
       "3   0.29   62.4   58.0    334  4.20  4.23  2.63\n",
       "4   0.31   63.3   58.0    335  4.34  4.35  2.75"
      ]
     },
     "execution_count": 50,
     "metadata": {},
     "output_type": "execute_result"
    }
   ],
   "source": [
    "import seaborn as sns\n",
    "df = sns.load_dataset('diamonds')\n",
    "df = df.select_dtypes(include = ['float64','int64']) #sadece nümeric degerler geldi\n",
    "df = df.dropna()       #outlier bulacagimiz icin simdilik NaN ile ugrasmayalim dedik\n",
    "df.head()"
   ]
  },
  {
   "cell_type": "code",
   "execution_count": 57,
   "id": "c0754d08",
   "metadata": {},
   "outputs": [],
   "source": [
    "df_outlier_left = df[(df_table < alt_sinir)]"
   ]
  },
  {
   "cell_type": "code",
   "execution_count": 58,
   "id": "a187534b",
   "metadata": {},
   "outputs": [],
   "source": [
    "df_outlier_left = alt_sinir"
   ]
  },
  {
   "cell_type": "code",
   "execution_count": 59,
   "id": "3c2acba3",
   "metadata": {},
   "outputs": [
    {
     "data": {
      "text/plain": [
       "51.5"
      ]
     },
     "execution_count": 59,
     "metadata": {},
     "output_type": "execute_result"
    }
   ],
   "source": [
    "df_outlier_left"
   ]
  },
  {
   "cell_type": "code",
   "execution_count": 60,
   "id": "685a0617",
   "metadata": {},
   "outputs": [],
   "source": [
    "df_outlier_right = df[(df_table < ust_sinir)]"
   ]
  },
  {
   "cell_type": "code",
   "execution_count": 61,
   "id": "ccb0b7fd",
   "metadata": {},
   "outputs": [],
   "source": [
    "df_outlier_right = ust_sinir"
   ]
  },
  {
   "cell_type": "code",
   "execution_count": 62,
   "id": "cf8478ce",
   "metadata": {},
   "outputs": [],
   "source": [
    "df = df_outliersiz + df_outlier_left + df_outlier_right"
   ]
  },
  {
   "cell_type": "code",
   "execution_count": 63,
   "id": "045c28df",
   "metadata": {},
   "outputs": [
    {
     "data": {
      "text/plain": [
       "<AxesSubplot:xlabel='table'>"
      ]
     },
     "execution_count": 63,
     "metadata": {},
     "output_type": "execute_result"
    },
    {
     "data": {
      "image/png": "[encoded data removed]",
      "text/plain": [
       "<Figure size 432x288 with 1 Axes>"
      ]
     },
     "metadata": {
      "needs_background": "light"
     },
     "output_type": "display_data"
    }
   ],
   "source": [
    "sns.boxplot(x=df.table)  \n",
    "\n",
    "#outlier'lar temizlenmis ve baskilanmis oldu"
   ]
  },
  {
   "cell_type": "code",
   "execution_count": 86,
   "id": "2bf8dee0",
   "metadata": {},
   "outputs": [
    {
     "data": {
      "text/html": [
       "<div>\n",
       "<style scoped>\n",
       "    .dataframe tbody tr th:only-of-type {\n",
       "        vertical-align: middle;\n",
       "    }\n",
       "\n",
       "    .dataframe tbody tr th {\n",
       "        vertical-align: top;\n",
       "    }\n",
       "\n",
       "    .dataframe thead th {\n",
       "        text-align: right;\n",
       "    }\n",
       "</style>\n",
       "<table border=\"1\" class=\"dataframe\">\n",
       "  <thead>\n",
       "    <tr style=\"text-align: right;\">\n",
       "      <th></th>\n",
       "      <th>maas</th>\n",
       "      <th>departman</th>\n",
       "    </tr>\n",
       "  </thead>\n",
       "  <tbody>\n",
       "    <tr>\n",
       "      <th>0</th>\n",
       "      <td>1.0</td>\n",
       "      <td>IT</td>\n",
       "    </tr>\n",
       "    <tr>\n",
       "      <th>1</th>\n",
       "      <td>3.0</td>\n",
       "      <td>NaN</td>\n",
       "    </tr>\n",
       "    <tr>\n",
       "      <th>2</th>\n",
       "      <td>6.0</td>\n",
       "      <td>IK</td>\n",
       "    </tr>\n",
       "    <tr>\n",
       "      <th>3</th>\n",
       "      <td>NaN</td>\n",
       "      <td>IK</td>\n",
       "    </tr>\n",
       "    <tr>\n",
       "      <th>4</th>\n",
       "      <td>7.0</td>\n",
       "      <td>IK</td>\n",
       "    </tr>\n",
       "    <tr>\n",
       "      <th>5</th>\n",
       "      <td>1.0</td>\n",
       "      <td>IK</td>\n",
       "    </tr>\n",
       "    <tr>\n",
       "      <th>6</th>\n",
       "      <td>NaN</td>\n",
       "      <td>IK</td>\n",
       "    </tr>\n",
       "    <tr>\n",
       "      <th>7</th>\n",
       "      <td>9.0</td>\n",
       "      <td>IT</td>\n",
       "    </tr>\n",
       "    <tr>\n",
       "      <th>8</th>\n",
       "      <td>15.0</td>\n",
       "      <td>IT</td>\n",
       "    </tr>\n",
       "  </tbody>\n",
       "</table>\n",
       "</div>"
      ],
      "text/plain": [
       "   maas departman\n",
       "0   1.0        IT\n",
       "1   3.0       NaN\n",
       "2   6.0        IK\n",
       "3   NaN        IK\n",
       "4   7.0        IK\n",
       "5   1.0        IK\n",
       "6   NaN        IK\n",
       "7   9.0        IT\n",
       "8  15.0        IT"
      ]
     },
     "execution_count": 86,
     "metadata": {},
     "output_type": "execute_result"
    }
   ],
   "source": [
    "import numpy as np\n",
    "import pandas as pd\n",
    "V1 = np.array([1,3,6,np.NaN,7,1,np.NaN,9,15])\n",
    "V4 = np.array([\"IT\",np.nan,\"IK\",\"IK\",\"IK\",\"IK\",\"IK\",\"IT\",\"IT\"], dtype=object)\n",
    "\n",
    "df = pd.DataFrame(\n",
    "        {\"maas\" : V1,\n",
    "        \"departman\" : V4}        \n",
    ")\n",
    "\n",
    "df"
   ]
  },
  {
   "cell_type": "code",
   "execution_count": 87,
   "id": "324b6ea0",
   "metadata": {},
   "outputs": [
    {
     "data": {
      "text/html": [
       "<div>\n",
       "<style scoped>\n",
       "    .dataframe tbody tr th:only-of-type {\n",
       "        vertical-align: middle;\n",
       "    }\n",
       "\n",
       "    .dataframe tbody tr th {\n",
       "        vertical-align: top;\n",
       "    }\n",
       "\n",
       "    .dataframe thead th {\n",
       "        text-align: right;\n",
       "    }\n",
       "</style>\n",
       "<table border=\"1\" class=\"dataframe\">\n",
       "  <thead>\n",
       "    <tr style=\"text-align: right;\">\n",
       "      <th></th>\n",
       "      <th>maas</th>\n",
       "      <th>departman</th>\n",
       "    </tr>\n",
       "  </thead>\n",
       "  <tbody>\n",
       "    <tr>\n",
       "      <th>0</th>\n",
       "      <td>1.0</td>\n",
       "      <td>IT</td>\n",
       "    </tr>\n",
       "    <tr>\n",
       "      <th>1</th>\n",
       "      <td>3.0</td>\n",
       "      <td>IK</td>\n",
       "    </tr>\n",
       "    <tr>\n",
       "      <th>2</th>\n",
       "      <td>6.0</td>\n",
       "      <td>IK</td>\n",
       "    </tr>\n",
       "    <tr>\n",
       "      <th>3</th>\n",
       "      <td>7.0</td>\n",
       "      <td>IK</td>\n",
       "    </tr>\n",
       "    <tr>\n",
       "      <th>4</th>\n",
       "      <td>7.0</td>\n",
       "      <td>IK</td>\n",
       "    </tr>\n",
       "    <tr>\n",
       "      <th>5</th>\n",
       "      <td>1.0</td>\n",
       "      <td>IK</td>\n",
       "    </tr>\n",
       "    <tr>\n",
       "      <th>6</th>\n",
       "      <td>9.0</td>\n",
       "      <td>IK</td>\n",
       "    </tr>\n",
       "    <tr>\n",
       "      <th>7</th>\n",
       "      <td>9.0</td>\n",
       "      <td>IT</td>\n",
       "    </tr>\n",
       "    <tr>\n",
       "      <th>8</th>\n",
       "      <td>15.0</td>\n",
       "      <td>IT</td>\n",
       "    </tr>\n",
       "  </tbody>\n",
       "</table>\n",
       "</div>"
      ],
      "text/plain": [
       "   maas departman\n",
       "0   1.0        IT\n",
       "1   3.0        IK\n",
       "2   6.0        IK\n",
       "3   7.0        IK\n",
       "4   7.0        IK\n",
       "5   1.0        IK\n",
       "6   9.0        IK\n",
       "7   9.0        IT\n",
       "8  15.0        IT"
      ]
     },
     "execution_count": 87,
     "metadata": {},
     "output_type": "execute_result"
    }
   ],
   "source": [
    "df.fillna(method='bfill')"
   ]
  },
  {
   "cell_type": "code",
   "execution_count": null,
   "id": "cf8d7ddc",
   "metadata": {},
   "outputs": [],
   "source": []
  },
  {
   "cell_type": "code",
   "execution_count": null,
   "id": "81d1292e",
   "metadata": {},
   "outputs": [],
   "source": []
  },
  {
   "cell_type": "code",
   "execution_count": null,
   "id": "a315057f",
   "metadata": {},
   "outputs": [],
   "source": []
  },
  {
   "cell_type": "code",
   "execution_count": null,
   "id": "d68e7174",
   "metadata": {},
   "outputs": [],
   "source": []
  },
  {
   "cell_type": "code",
   "execution_count": null,
   "id": "db349309",
   "metadata": {},
   "outputs": [],
   "source": []
  },
  {
   "cell_type": "code",
   "execution_count": null,
   "id": "800e5ce2",
   "metadata": {},
   "outputs": [],
   "source": []
  },
  {
   "cell_type": "markdown",
   "id": "3b7ee913",
   "metadata": {},
   "source": [
    "# Cok degiskenli Outlier analizi"
   ]
  },
  {
   "cell_type": "markdown",
   "id": "94e7fb87",
   "metadata": {},
   "source": [
    "1- silme islemi"
   ]
  },
  {
   "cell_type": "code",
   "execution_count": null,
   "id": "4fca58f7",
   "metadata": {},
   "outputs": [],
   "source": [
    "# yas 17 normalde sütunda outlier olmaz, evlilik sayisi 3 te outlier olmaz\n",
    "#ama bunlar ayni satirdaysa, bulundugu nokta konumu diger yasitlarindan uzak olacagi icin,\n",
    "#buna az puan veriyor ve outlier oluyor\n",
    "#adindanda belli Local yani onun yeriyle ilgili, Vahit hoca bir foto göstermisti"
   ]
  },
  {
   "cell_type": "code",
   "execution_count": 65,
   "id": "0fb2be7d",
   "metadata": {},
   "outputs": [],
   "source": [
    "import numpy as np\n",
    "from sklearn.neighbors import LocalOutlierFactor   #LOF yöntemi"
   ]
  },
  {
   "cell_type": "code",
   "execution_count": 66,
   "id": "650e67b8",
   "metadata": {},
   "outputs": [],
   "source": [
    "clf = LocalOutlierFactor(n_neighbors=20, contamination=0.1) # contamination yogunlugu gösteriyormus"
   ]
  },
  {
   "cell_type": "code",
   "execution_count": 67,
   "id": "6920d585",
   "metadata": {},
   "outputs": [
    {
     "data": {
      "text/plain": [
       "array([-1, -1, -1, ...,  1,  1,  1])"
      ]
     },
     "execution_count": 67,
     "metadata": {},
     "output_type": "execute_result"
    }
   ],
   "source": [
    "clf.fit_predict(df) \n",
    "\n",
    "#herbir göylem icin elde edilmis scorlar"
   ]
  },
  {
   "cell_type": "code",
   "execution_count": 68,
   "id": "eade1e8a",
   "metadata": {},
   "outputs": [],
   "source": [
    "df_score = clf.negative_outlier_factor_"
   ]
  },
  {
   "cell_type": "code",
   "execution_count": 69,
   "id": "b6079044",
   "metadata": {},
   "outputs": [
    {
     "data": {
      "text/plain": [
       "array([-1.68008778, -1.69836424, -1.38003185, ..., -1.06721815,\n",
       "       -1.00809552, -1.00849038])"
      ]
     },
     "execution_count": 69,
     "metadata": {},
     "output_type": "execute_result"
    }
   ],
   "source": [
    "df_score"
   ]
  },
  {
   "cell_type": "code",
   "execution_count": 70,
   "id": "661130da",
   "metadata": {},
   "outputs": [
    {
     "data": {
      "text/plain": [
       "numpy.ndarray"
      ]
     },
     "execution_count": 70,
     "metadata": {},
     "output_type": "execute_result"
    }
   ],
   "source": [
    "type(df_score)"
   ]
  },
  {
   "cell_type": "code",
   "execution_count": 72,
   "id": "308f5eb2",
   "metadata": {},
   "outputs": [
    {
     "data": {
      "text/plain": [
       "array([-8.60430658, -8.20862437, -5.86084355, -4.3719035 , -4.30124813])"
      ]
     },
     "execution_count": 72,
     "metadata": {},
     "output_type": "execute_result"
    }
   ],
   "source": [
    "np.sort(df_score)[:5]    #-8 ile baslayan en outlier olan"
   ]
  },
  {
   "cell_type": "code",
   "execution_count": 75,
   "id": "1348cb42",
   "metadata": {},
   "outputs": [
    {
     "data": {
      "text/plain": [
       "-3.4506605564574615"
      ]
     },
     "execution_count": 75,
     "metadata": {},
     "output_type": "execute_result"
    }
   ],
   "source": [
    "esik_deger = np.sort(df_score)[13]  #diyorum ki bu esik deger olsun,bunun altindakiler ve üstündekiler\n",
    "esik_deger"
   ]
  },
  {
   "cell_type": "code",
   "execution_count": 79,
   "id": "c1436cf8",
   "metadata": {},
   "outputs": [
    {
     "data": {
      "text/html": [
       "<div>\n",
       "<style scoped>\n",
       "    .dataframe tbody tr th:only-of-type {\n",
       "        vertical-align: middle;\n",
       "    }\n",
       "\n",
       "    .dataframe tbody tr th {\n",
       "        vertical-align: top;\n",
       "    }\n",
       "\n",
       "    .dataframe thead th {\n",
       "        text-align: right;\n",
       "    }\n",
       "</style>\n",
       "<table border=\"1\" class=\"dataframe\">\n",
       "  <thead>\n",
       "    <tr style=\"text-align: right;\">\n",
       "      <th></th>\n",
       "      <th>carat</th>\n",
       "      <th>depth</th>\n",
       "      <th>table</th>\n",
       "      <th>price</th>\n",
       "      <th>x</th>\n",
       "      <th>y</th>\n",
       "      <th>z</th>\n",
       "    </tr>\n",
       "  </thead>\n",
       "  <tbody>\n",
       "    <tr>\n",
       "      <th>6341</th>\n",
       "      <td>116.00</td>\n",
       "      <td>159.0</td>\n",
       "      <td>168.0</td>\n",
       "      <td>4147.0</td>\n",
       "      <td>121.31</td>\n",
       "      <td>121.24</td>\n",
       "      <td>119.12</td>\n",
       "    </tr>\n",
       "    <tr>\n",
       "      <th>10377</th>\n",
       "      <td>116.09</td>\n",
       "      <td>158.0</td>\n",
       "      <td>169.0</td>\n",
       "      <td>4893.0</td>\n",
       "      <td>121.53</td>\n",
       "      <td>121.55</td>\n",
       "      <td>119.12</td>\n",
       "    </tr>\n",
       "    <tr>\n",
       "      <th>24067</th>\n",
       "      <td>117.00</td>\n",
       "      <td>173.9</td>\n",
       "      <td>172.0</td>\n",
       "      <td>12325.0</td>\n",
       "      <td>123.09</td>\n",
       "      <td>173.90</td>\n",
       "      <td>123.06</td>\n",
       "    </tr>\n",
       "    <tr>\n",
       "      <th>31230</th>\n",
       "      <td>115.45</td>\n",
       "      <td>183.6</td>\n",
       "      <td>172.0</td>\n",
       "      <td>871.0</td>\n",
       "      <td>119.73</td>\n",
       "      <td>119.50</td>\n",
       "      <td>118.19</td>\n",
       "    </tr>\n",
       "    <tr>\n",
       "      <th>34581</th>\n",
       "      <td>115.50</td>\n",
       "      <td>183.6</td>\n",
       "      <td>171.0</td>\n",
       "      <td>986.0</td>\n",
       "      <td>119.87</td>\n",
       "      <td>119.75</td>\n",
       "      <td>118.30</td>\n",
       "    </tr>\n",
       "    <tr>\n",
       "      <th>38053</th>\n",
       "      <td>115.34</td>\n",
       "      <td>169.0</td>\n",
       "      <td>171.0</td>\n",
       "      <td>1127.0</td>\n",
       "      <td>119.80</td>\n",
       "      <td>119.76</td>\n",
       "      <td>117.58</td>\n",
       "    </tr>\n",
       "    <tr>\n",
       "      <th>38840</th>\n",
       "      <td>115.73</td>\n",
       "      <td>185.8</td>\n",
       "      <td>170.0</td>\n",
       "      <td>1164.0</td>\n",
       "      <td>120.51</td>\n",
       "      <td>120.34</td>\n",
       "      <td>118.84</td>\n",
       "    </tr>\n",
       "    <tr>\n",
       "      <th>41918</th>\n",
       "      <td>116.03</td>\n",
       "      <td>193.2</td>\n",
       "      <td>169.0</td>\n",
       "      <td>1377.0</td>\n",
       "      <td>120.72</td>\n",
       "      <td>120.59</td>\n",
       "      <td>119.42</td>\n",
       "    </tr>\n",
       "    <tr>\n",
       "      <th>45688</th>\n",
       "      <td>115.70</td>\n",
       "      <td>186.6</td>\n",
       "      <td>170.0</td>\n",
       "      <td>1811.0</td>\n",
       "      <td>120.47</td>\n",
       "      <td>120.28</td>\n",
       "      <td>118.85</td>\n",
       "    </tr>\n",
       "    <tr>\n",
       "      <th>46665</th>\n",
       "      <td>115.97</td>\n",
       "      <td>183.5</td>\n",
       "      <td>169.0</td>\n",
       "      <td>1902.0</td>\n",
       "      <td>121.26</td>\n",
       "      <td>121.05</td>\n",
       "      <td>119.22</td>\n",
       "    </tr>\n",
       "    <tr>\n",
       "      <th>46679</th>\n",
       "      <td>115.99</td>\n",
       "      <td>188.6</td>\n",
       "      <td>175.0</td>\n",
       "      <td>1904.0</td>\n",
       "      <td>121.01</td>\n",
       "      <td>120.80</td>\n",
       "      <td>119.35</td>\n",
       "    </tr>\n",
       "    <tr>\n",
       "      <th>48410</th>\n",
       "      <td>115.51</td>\n",
       "      <td>176.8</td>\n",
       "      <td>169.7</td>\n",
       "      <td>2085.0</td>\n",
       "      <td>120.12</td>\n",
       "      <td>120.15</td>\n",
       "      <td>146.80</td>\n",
       "    </tr>\n",
       "    <tr>\n",
       "      <th>49189</th>\n",
       "      <td>115.51</td>\n",
       "      <td>176.8</td>\n",
       "      <td>170.0</td>\n",
       "      <td>2190.0</td>\n",
       "      <td>120.15</td>\n",
       "      <td>146.80</td>\n",
       "      <td>120.12</td>\n",
       "    </tr>\n",
       "  </tbody>\n",
       "</table>\n",
       "</div>"
      ],
      "text/plain": [
       "        carat  depth  table    price       x       y       z\n",
       "6341   116.00  159.0  168.0   4147.0  121.31  121.24  119.12\n",
       "10377  116.09  158.0  169.0   4893.0  121.53  121.55  119.12\n",
       "24067  117.00  173.9  172.0  12325.0  123.09  173.90  123.06\n",
       "31230  115.45  183.6  172.0    871.0  119.73  119.50  118.19\n",
       "34581  115.50  183.6  171.0    986.0  119.87  119.75  118.30\n",
       "38053  115.34  169.0  171.0   1127.0  119.80  119.76  117.58\n",
       "38840  115.73  185.8  170.0   1164.0  120.51  120.34  118.84\n",
       "41918  116.03  193.2  169.0   1377.0  120.72  120.59  119.42\n",
       "45688  115.70  186.6  170.0   1811.0  120.47  120.28  118.85\n",
       "46665  115.97  183.5  169.0   1902.0  121.26  121.05  119.22\n",
       "46679  115.99  188.6  175.0   1904.0  121.01  120.80  119.35\n",
       "48410  115.51  176.8  169.7   2085.0  120.12  120.15  146.80\n",
       "49189  115.51  176.8  170.0   2190.0  120.15  146.80  120.12"
      ]
     },
     "execution_count": 79,
     "metadata": {},
     "output_type": "execute_result"
    }
   ],
   "source": [
    "LOF_outlier = df[df_score < esik_deger]\n",
    "LOF_outlier\n",
    "\n",
    "#burda tek yönlü olan boxplot'a göre daha az outlier cikti"
   ]
  },
  {
   "cell_type": "code",
   "execution_count": 78,
   "id": "a7a782b4",
   "metadata": {},
   "outputs": [
    {
     "data": {
      "text/html": [
       "<div>\n",
       "<style scoped>\n",
       "    .dataframe tbody tr th:only-of-type {\n",
       "        vertical-align: middle;\n",
       "    }\n",
       "\n",
       "    .dataframe tbody tr th {\n",
       "        vertical-align: top;\n",
       "    }\n",
       "\n",
       "    .dataframe thead th {\n",
       "        text-align: right;\n",
       "    }\n",
       "</style>\n",
       "<table border=\"1\" class=\"dataframe\">\n",
       "  <thead>\n",
       "    <tr style=\"text-align: right;\">\n",
       "      <th></th>\n",
       "      <th>carat</th>\n",
       "      <th>depth</th>\n",
       "      <th>table</th>\n",
       "      <th>price</th>\n",
       "      <th>x</th>\n",
       "      <th>y</th>\n",
       "      <th>z</th>\n",
       "    </tr>\n",
       "  </thead>\n",
       "  <tbody>\n",
       "    <tr>\n",
       "      <th>0</th>\n",
       "      <td>115.23</td>\n",
       "      <td>176.5</td>\n",
       "      <td>170.0</td>\n",
       "      <td>441.0</td>\n",
       "      <td>118.95</td>\n",
       "      <td>118.98</td>\n",
       "      <td>117.43</td>\n",
       "    </tr>\n",
       "    <tr>\n",
       "      <th>1</th>\n",
       "      <td>115.21</td>\n",
       "      <td>174.8</td>\n",
       "      <td>176.0</td>\n",
       "      <td>441.0</td>\n",
       "      <td>118.89</td>\n",
       "      <td>118.84</td>\n",
       "      <td>117.31</td>\n",
       "    </tr>\n",
       "    <tr>\n",
       "      <th>3</th>\n",
       "      <td>115.29</td>\n",
       "      <td>177.4</td>\n",
       "      <td>173.0</td>\n",
       "      <td>449.0</td>\n",
       "      <td>119.20</td>\n",
       "      <td>119.23</td>\n",
       "      <td>117.63</td>\n",
       "    </tr>\n",
       "    <tr>\n",
       "      <th>4</th>\n",
       "      <td>115.31</td>\n",
       "      <td>178.3</td>\n",
       "      <td>173.0</td>\n",
       "      <td>450.0</td>\n",
       "      <td>119.34</td>\n",
       "      <td>119.35</td>\n",
       "      <td>117.75</td>\n",
       "    </tr>\n",
       "    <tr>\n",
       "      <th>5</th>\n",
       "      <td>115.24</td>\n",
       "      <td>177.8</td>\n",
       "      <td>172.0</td>\n",
       "      <td>451.0</td>\n",
       "      <td>118.94</td>\n",
       "      <td>118.96</td>\n",
       "      <td>117.48</td>\n",
       "    </tr>\n",
       "  </tbody>\n",
       "</table>\n",
       "</div>"
      ],
      "text/plain": [
       "    carat  depth  table  price       x       y       z\n",
       "0  115.23  176.5  170.0  441.0  118.95  118.98  117.43\n",
       "1  115.21  174.8  176.0  441.0  118.89  118.84  117.31\n",
       "3  115.29  177.4  173.0  449.0  119.20  119.23  117.63\n",
       "4  115.31  178.3  173.0  450.0  119.34  119.35  117.75\n",
       "5  115.24  177.8  172.0  451.0  118.94  118.96  117.48"
      ]
     },
     "execution_count": 78,
     "metadata": {},
     "output_type": "execute_result"
    }
   ],
   "source": [
    "yeni_df = df[df_score > esik_deger]   \n",
    "yeni_df.head()\n",
    "\n",
    "#df_score negatif degerler oldugu icin > dedikce pozitife gidiyor,ve outlier olmuyor"
   ]
  },
  {
   "cell_type": "code",
   "execution_count": null,
   "id": "daa1ba95",
   "metadata": {},
   "outputs": [],
   "source": []
  },
  {
   "cell_type": "code",
   "execution_count": null,
   "id": "0afabcb3",
   "metadata": {},
   "outputs": [],
   "source": []
  },
  {
   "cell_type": "code",
   "execution_count": null,
   "id": "6cc2f3dc",
   "metadata": {},
   "outputs": [],
   "source": []
  },
  {
   "cell_type": "code",
   "execution_count": null,
   "id": "a5ba9111",
   "metadata": {},
   "outputs": [],
   "source": []
  },
  {
   "cell_type": "code",
   "execution_count": null,
   "id": "bca3050d",
   "metadata": {},
   "outputs": [],
   "source": []
  },
  {
   "cell_type": "markdown",
   "id": "6a5e7147",
   "metadata": {},
   "source": [
    "# veriyi modele hazir hale getirme"
   ]
  },
  {
   "cell_type": "code",
   "execution_count": null,
   "id": "ac0988f7",
   "metadata": {},
   "outputs": [],
   "source": [
    "y = data['charges']\n",
    "X = data.drop('charges' , axis =1) #icinde charge olmayanlari aliyor\n",
    "\n",
    "#bu sekilde y olanlar bagimli degisken yani sonuclar oldu\n",
    "#X olanlarda bizim Featureslerimiz oldu\n",
    "\n",
    "#X bizim charges haric tüm sütunlarimiz ve biz bunu biraz sonra train ve test olarak ikiye bölecegiz\n",
    "#ve y degiskenimiz ise bizim sonuclarimiz bu veri setinde saglik icin yapilan harcamalar \n",
    "#birazdan bunu da ikiye bölecegiz "
   ]
  },
  {
   "cell_type": "code",
   "execution_count": null,
   "id": "b1069f52",
   "metadata": {},
   "outputs": [],
   "source": [
    "#veri setini Training ve test diye ayirmak icin  sklearn kütüphanesini kullaniyoruz.\n",
    "\n",
    "from sklearn.model_selection import train_test_split\n",
    "X_train, X_test, y_train, y_test = train_test_split(X, y, train_size = 0.80, random_state = 1)\n",
    "#bu sekilde verileri %80 train ve %20 test verileri olarak bölüyorum\n",
    "#random_state parametresi kullnilan verileri sabitlemek icin kullanilir\n",
    "#eger bende bu parametreyi kullanirsam, bende hocanin buldugu sonuclarin aynisini bulabilirim\n"
   ]
  },
  {
   "cell_type": "code",
   "execution_count": null,
   "id": "dc160f35",
   "metadata": {},
   "outputs": [],
   "source": [
    "rng = np.random.RandomState(42)\n",
    "x = 10*rng.rand(50) \n",
    "#x i böyle olusturmustu\n",
    "\n",
    "\n",
    "\n",
    "\n",
    "\n",
    "X = x[:,np.newaxis]  #newaxis iki boyuta cikariyor array'i\n",
    "X[:5]  #ilk besini görmek isteedim, bu iki boyutlu array oldugu icin head() olmuyor\n",
    "\n",
    "\n",
    "#burda yukaridakinden farkli olarak her birini köseli parantez icine aldi\n",
    "# boyut eklemis diyebiliriz\n",
    "#asagida bir denemeyle sebebini ögrendim,eger x i boyut ekleyip X e dönüstürmezsem, hata veriyor\n",
    "#ve 2D olan bir veri gir gir diyor\n",
    "#biz iris le falan calisirken, onlar zaten DataFrame olarak geliyorlar\n",
    "\n",
    "#ValueError: Expected 2D array, got 1D array instead:\n",
    "\n",
    "#bu sekilde iki boyutlu features matrisi olusturmus olduk\n",
    "#bu X te 50 tane örneklem ve bir tane feature var"
   ]
  },
  {
   "cell_type": "code",
   "execution_count": null,
   "id": "7d73c2a7",
   "metadata": {},
   "outputs": [],
   "source": [
    "model.coef_\n",
    "#aslinda bu bizim denklemimizin egimi, yani galiba a katsayisidir(coefficient)\n",
    "\n",
    "#sklearnde modelin attribute'larina alt tire eklenir\n",
    "array([1.98007544])\n"
   ]
  },
  {
   "cell_type": "code",
   "execution_count": null,
   "id": "f1fb7aed",
   "metadata": {},
   "outputs": [],
   "source": [
    "model.intercept_\n",
    "\n",
    "#modelimizin sabiti ekrana yazildi\n",
    "-0.7351792394028802"
   ]
  },
  {
   "cell_type": "code",
   "execution_count": null,
   "id": "b7602cc7",
   "metadata": {},
   "outputs": [],
   "source": []
  },
  {
   "cell_type": "code",
   "execution_count": null,
   "id": "ae22a9b8",
   "metadata": {},
   "outputs": [],
   "source": []
  },
  {
   "cell_type": "code",
   "execution_count": null,
   "id": "fd5998a4",
   "metadata": {},
   "outputs": [],
   "source": []
  },
  {
   "cell_type": "markdown",
   "id": "6af6ef65",
   "metadata": {},
   "source": [
    "# model kurma asamalari"
   ]
  },
  {
   "cell_type": "code",
   "execution_count": null,
   "id": "e8656724",
   "metadata": {},
   "outputs": [],
   "source": [
    "#linear regression modeli icin sklearn'deki linear modelden linear regression modelini import edelim\n",
    "\n",
    "\n",
    "from sklearn.linear_model import LinearRegression \n",
    "\n",
    "#galiba bir makina ögrenmesi modeli import ettik\n",
    "\n",
    "#simdide bu siniftan bir örnek alalim\n",
    "\n",
    "lr = LinearRegression    #busekilde bu siniftan birer örnek almis oldu\n",
    "\n",
    "lr.fit(X_train, y_train)   #egitim icin aldigim verileri aliyorum,aslinda bu adimda modeli egitmis olacagiz\n",
    "                           #fit yapinca egitime geciyoruz\n",
    "\n",
    "#simdide egitim verilerini kullanarak modeli kuralim,simdide performansina bakalim diyor\n",
    "\n",
    "\n",
    "#ilginc ama adam modeli kurduk dedi, yani ne demek istedigini halen anlamiyorum(ilk yazdigim not :)"
   ]
  },
  {
   "cell_type": "code",
   "execution_count": null,
   "id": "2ff5a033",
   "metadata": {},
   "outputs": [],
   "source": [
    "#yaptigimiz modelin performansini görmek icin, simdide belirleme katsayisini bulalim\n",
    "#bu deger 1 e nekadar yakinsa model okdar iyidir"
   ]
  },
  {
   "cell_type": "code",
   "execution_count": null,
   "id": "b88d046b",
   "metadata": {},
   "outputs": [],
   "source": [
    "model = LinearRegression(fit_intercept=True)\n",
    "model\n",
    "\n",
    "#modeli kurduk\n",
    "##icerisine fit_intercept argümanina True yazalim .\n",
    "#intercept true demek y=ax+b dogrusunda b yi etkin almak demektir\n",
    "#eger fit_intercept=False alirsa, sanki b yokmus gibi y=ax dosrusu cizerdi\n",
    "#suan modelle ilgili herhangi bir veri analizi yapmadik\n",
    "#sadece bir model olusturduk"
   ]
  },
  {
   "cell_type": "code",
   "execution_count": null,
   "id": "f20396a5",
   "metadata": {},
   "outputs": [],
   "source": []
  },
  {
   "cell_type": "markdown",
   "id": "e40cd1c4",
   "metadata": {},
   "source": [
    "# Validation islemleri"
   ]
  },
  {
   "cell_type": "code",
   "execution_count": null,
   "id": "c6b2914f",
   "metadata": {},
   "outputs": [],
   "source": [
    "lr.score(X_test, y_test).round(3) \n",
    "\n",
    "#simdi modelimizin basari oranini görecegiz, bu komut calisinca modelin r_karesi ekrana yaziliyor\n",
    "#eger modelin r_karesi 0.7 den büyükse model basarili demektir\n",
    "\n",
    "#aslinda bu bir validation islemidir\n",
    "#burda sonucu ölcmek icin test veri kümesini kullaniyoruz,\n",
    "#burda sonuc 0.762 cikti\n",
    "\n",
    "\n",
    "#burda güzel bir gözlemim oldu eger veri setini %90 olarak ayirirsam, train.score daha yüksek cikti\n",
    "#ama test.score biraz düstü, demekki test icinde verinin fazla olmasi iyi bisey ama egitilmesi daha\n",
    "#önemli sanki\n",
    "\n",
    "#ama ilginc bir sekilde math.sqrt(mean_squared_error(y_test, y_pred)) buda 5956 iken 6565 a yükseldi"
   ]
  },
  {
   "cell_type": "code",
   "execution_count": null,
   "id": "2bb2ed63",
   "metadata": {},
   "outputs": [],
   "source": [
    "lr.score(X_train, y_train).round(3)\n",
    "\n",
    "#simdide modelin egitim verileri üzerindeki dogrulugunu görelim\n",
    "#bu degerde 0.7 den büyük ve test verilerinin r_karesine yakin cikti\n",
    "#egitim verilerinide baktik\n",
    "#burda sonuc 0.748 cikti"
   ]
  },
  {
   "cell_type": "code",
   "execution_count": null,
   "id": "9027fd0e",
   "metadata": {},
   "outputs": [],
   "source": []
  },
  {
   "cell_type": "code",
   "execution_count": null,
   "id": "345ab9aa",
   "metadata": {},
   "outputs": [],
   "source": [
    "model = GradientBoostingClassifier(random_state=42)\n",
    "\n",
    "scores = cross_validate(model, X_train, y_train, scoring = ['accuracy', 'precision','recall',\n",
    "                                                                   'f1', 'roc_auc'], cv = 10)\n",
    "df_scores = pd.DataFrame(scores, index = range(1, 11))\n",
    "df_scores.mean()[2:]\n",
    "\n",
    "# Cross validationda bu sekilde ROC degerinide bulabiliyoruz"
   ]
  },
  {
   "cell_type": "code",
   "execution_count": null,
   "id": "b8d812c1",
   "metadata": {},
   "outputs": [],
   "source": []
  },
  {
   "cell_type": "markdown",
   "id": "46322cb7",
   "metadata": {},
   "source": [
    "# Prediction yapiyor"
   ]
  },
  {
   "cell_type": "code",
   "execution_count": null,
   "id": "a16ee442",
   "metadata": {},
   "outputs": [],
   "source": [
    "y_pred = lr.predict(X_test) \n",
    "\n",
    "#predict metoduyla input_testleri modele koyuyorum, suan test modellerine göre tahmin yaptk\n",
    "\n",
    "#simdide modeli degerlendirmek icin bir diger metrik olan hata kareler ortalamasina(mean squared error) bakalim\n",
    "#bunun icin öncelikle  predict metoduyla test verilerini tahmin edelim"
   ]
  },
  {
   "cell_type": "code",
   "execution_count": null,
   "id": "49a5fa44",
   "metadata": {},
   "outputs": [],
   "source": [
    "y_pred\n",
    "\n",
    "#bu benim elindeki verilere bakarak evlerin fiyatlarini tahmin ettigi degerler\n",
    "#biraz sonra mean squered error ile bu tahminlerin dogrulugunu kontrol edecegim\n",
    "#burda cevap olarak  test setimizdeki her bir veri icin bir tahmin verdi, bir sürü sayi yazdi"
   ]
  },
  {
   "cell_type": "code",
   "execution_count": null,
   "id": "d6933172",
   "metadata": {},
   "outputs": [],
   "source": [
    "from yellowbrick.classifier import ClassPredictionError\n",
    "\n",
    "visualizer = ClassPredictionError(DT_model)\n",
    "\n",
    "# Fit the training data to the visualizer\n",
    "visualizer.fit(X_train, y_train)\n",
    "\n",
    "# Evaluate the model on the test data\n",
    "visualizer.score(X_test, y_test)\n",
    "\n",
    "# Draw visualization\n",
    "visualizer.poof();\n",
    "\n",
    "# yukarıdaki heatmap'in farklı grafiğinin yorumlanması gibi hataların hangi sınıfa ait olduğunu veriyor \n",
    "\n",
    "#güzel bir grafik türü veriyor prediclerin oranini grafik cizdiyor, kaggle icin"
   ]
  },
  {
   "cell_type": "code",
   "execution_count": null,
   "id": "0576087d",
   "metadata": {},
   "outputs": [],
   "source": []
  },
  {
   "cell_type": "code",
   "execution_count": null,
   "id": "edf6d3b5",
   "metadata": {},
   "outputs": [],
   "source": []
  },
  {
   "cell_type": "markdown",
   "id": "465d18d0",
   "metadata": {},
   "source": [
    "# mean squred error "
   ]
  },
  {
   "cell_type": "code",
   "execution_count": null,
   "id": "6cd82803",
   "metadata": {},
   "outputs": [],
   "source": [
    "#simdide mean squred error bulacagimiz icin yuka kütüphanesini import ettim\n",
    "#mean squered error kullanacagim icin, bir kütüphane daha import ediyorum  import math\n",
    "\n",
    "\n",
    "\n",
    "#simdide ortalama kareler hatasinin(mean squred error) karekökünü alacagim\n",
    "\n"
   ]
  },
  {
   "cell_type": "code",
   "execution_count": null,
   "id": "8af435fd",
   "metadata": {},
   "outputs": [],
   "source": [
    "math.sqrt(mean_squared_error(y_test, y_pred))\n",
    "\n",
    "#sqrt ile karesini aliyorum, ve az önce import ettigim (mean_squared_error) metriginide icine yaziyorum\n",
    "#cünkü mean squared karelerini aliyor, bende simdi karekökünü alacagim\n",
    "#ben hata oranini bulacagim icin. test verilerini ele aliyorum \n",
    "#y_test yani bizim gercek degerlerimiz, saglik icin yapilan harcamalarin gercek degeri\n",
    "#y_pred bizim modelimizin yapmis oldugu tahminler\n",
    "#ve gercekler ile, onun buldugu arasindaki iliskiye bakacagir, kaclik bir standart sapma ile \n",
    "#tahmin ettigne bakalim\n",
    "\n",
    "#5956 lik bir standar hata ile tahmin ediyor\n",
    "\n",
    "#artik bu asamada istedigimiz veriyi modele vererek tahminler yapabilriz\n",
    "#galiba artik modelimiz tahmin yapmayi ögrendi, ve nekadar cok veri verirsek o kadar iyi tahminde bulunacak\n",
    "\n",
    "#cevap bu cikti 5956.454717976427"
   ]
  },
  {
   "cell_type": "code",
   "execution_count": null,
   "id": "791d089d",
   "metadata": {},
   "outputs": [],
   "source": []
  },
  {
   "cell_type": "code",
   "execution_count": null,
   "id": "0e52bba5",
   "metadata": {},
   "outputs": [],
   "source": []
  },
  {
   "cell_type": "code",
   "execution_count": null,
   "id": "a7dd6a75",
   "metadata": {},
   "outputs": [],
   "source": []
  },
  {
   "cell_type": "markdown",
   "id": "f592cb95",
   "metadata": {},
   "source": [
    "### burda verimizin ilk satirini kontrol edelim, gercek deger ile kendi tahminine bakalim"
   ]
  },
  {
   "cell_type": "code",
   "execution_count": null,
   "id": "9a483dac",
   "metadata": {},
   "outputs": [],
   "source": [
    "data_new = X_train[:1]\n",
    "data_new\n",
    "\n",
    "#biz simdi ilk satiri tahmin ediyorum,önce ilk satirimiza bakalim\n",
    "#burda ilk satir 216 indexli veri oldu, neden 1ci indexli gelmedi diye düsündüm\n",
    "#ama galiba adam sklearn kütüphanesiyle. ilgili veriyi karistirarak bölüyor demisti\n",
    "#bellki ondan dolayi 216 geldi\n",
    "\n",
    "\n",
    "lr.predict(data_new)\n",
    "\n",
    "\n",
    "#simdide veriyi tahmin ediyoruz\n",
    "#veriyi tahmin etmek icin predict methodu kullaniliyor\n",
    "#new_data bizim birici satirimiza atadim\n",
    "\n",
    "#tahmini array([10508.41885042])"
   ]
  },
  {
   "cell_type": "code",
   "execution_count": null,
   "id": "985e13f5",
   "metadata": {},
   "outputs": [],
   "source": [
    "y_train[0:1]    #bu da gercek deger ,aslinda gayet güzel tahmin etmis\n",
    "\n",
    "#gercek cevap 216->10355.641"
   ]
  },
  {
   "cell_type": "code",
   "execution_count": null,
   "id": "bf53854b",
   "metadata": {},
   "outputs": [],
   "source": []
  },
  {
   "cell_type": "code",
   "execution_count": null,
   "id": "89935aa2",
   "metadata": {},
   "outputs": [],
   "source": []
  },
  {
   "cell_type": "code",
   "execution_count": null,
   "id": "4aba3359",
   "metadata": {},
   "outputs": [],
   "source": []
  },
  {
   "cell_type": "code",
   "execution_count": null,
   "id": "1d500959",
   "metadata": {},
   "outputs": [],
   "source": []
  },
  {
   "cell_type": "markdown",
   "id": "09d73f6b",
   "metadata": {},
   "source": [
    "# Pipeline"
   ]
  },
  {
   "cell_type": "code",
   "execution_count": 1,
   "id": "368e1750",
   "metadata": {},
   "outputs": [],
   "source": [
    "# kelime anlami boru hatti demek,bunun ile makine ögrenmesi proje adimlarini  birbirine baglayabiliriz\n",
    "\n",
    "#yani veri ön islemeden, model kurmaya kadarki  bütün makine ögrenmesi asamalarini birbirine zincirleyebiliriz\n",
    "#böylece olusturdugumiz pipeline lari hem  baska projeler icin kullanabiliriz, hemde bir hata \n",
    "#aldigimizda daha kolay düzeltebiliriz"
   ]
  },
  {
   "cell_type": "code",
   "execution_count": 2,
   "id": "fc88d237",
   "metadata": {},
   "outputs": [],
   "source": [
    "from sklearn.pipeline import make_pipeline\n",
    "\n",
    "#simdi bir logistic Regression kurmak icin pipeline kullanalim\n",
    "#öncelikle pipeline ni import edelim "
   ]
  },
  {
   "cell_type": "code",
   "execution_count": 3,
   "id": "bb4038f0",
   "metadata": {},
   "outputs": [],
   "source": [
    "from sklearn.linear_model import LogisticRegression\n",
    "\n",
    "#simdide logistic Regressionu import edelim"
   ]
  },
  {
   "cell_type": "code",
   "execution_count": 4,
   "id": "02acca9a",
   "metadata": {},
   "outputs": [],
   "source": [
    "from sklearn.preprocessing import StandardScaler   \n",
    "\n",
    "#bunu import etmedigim icin hata aldim cünkü StandardScaler bir kütüphaneden geliyor\n",
    "#bunu ben asagida bir pipeline kullanarak bir logosticRegression modeli kuracagim \n",
    "##icine StandardScaler yazacagim icin import etmeliyim"
   ]
  },
  {
   "cell_type": "code",
   "execution_count": 5,
   "id": "e04a833b",
   "metadata": {},
   "outputs": [],
   "source": [
    "pipe = make_pipeline(\n",
    "        StandardScaler(),\n",
    "        LogisticRegression())\n",
    "\n",
    "#suan bir pipeline nesnesi olusturalim ,aslinda asagida bu pipe bizim modelimiz olacak\n",
    "#cünkü pipe.fit() ile modeli egitecegim, icinde LogisticRegression yazdigi icin model oldu\n",
    "#ve bu nesne icine islem adimlarini yazalim\n",
    "\n",
    "#pipe diye bir degislen olusturdum, icine make_pipeline fonksiyonunu yaziyorum\n",
    "#bunun icerisine DataScaling icin Standartscaler yaziyorum\n",
    "#sonra model kurmak icin LogisticRegression sinifini yaziyorum\n",
    "\n",
    "#bu sekilde bir boru hatti kurmus olduk"
   ]
  },
  {
   "cell_type": "code",
   "execution_count": 7,
   "id": "3d9516d0",
   "metadata": {},
   "outputs": [],
   "source": [
    "from sklearn.datasets import load_iris\n",
    "\n",
    "#scikitlearn e yüklü gelen dataset i cagiriyoruz,pipeline ugulamak icin\n",
    "\n",
    "from sklearn import datasets    \n",
    "iris = datasets.load_iris()\n",
    "iris\n",
    "\n",
    "\n",
    "#ben veri setini görmek istedim hatta pd.DataFrame(iris)\n",
    "#yapip tablo seklinde görmek istedim ama hata aldim, sütun basina veriler bir boyutlu olmali dedi"
   ]
  },
  {
   "cell_type": "code",
   "execution_count": 8,
   "id": "4769b0ce",
   "metadata": {
    "collapsed": true
   },
   "outputs": [
    {
     "data": {
      "text/plain": [
       "{'data': array([[5.1, 3.5, 1.4, 0.2],\n",
       "        [4.9, 3. , 1.4, 0.2],\n",
       "        [4.7, 3.2, 1.3, 0.2],\n",
       "        [4.6, 3.1, 1.5, 0.2],\n",
       "        [5. , 3.6, 1.4, 0.2],\n",
       "        [5.4, 3.9, 1.7, 0.4],\n",
       "        [4.6, 3.4, 1.4, 0.3],\n",
       "        [5. , 3.4, 1.5, 0.2],\n",
       "        [4.4, 2.9, 1.4, 0.2],\n",
       "        [4.9, 3.1, 1.5, 0.1],\n",
       "        [5.4, 3.7, 1.5, 0.2],\n",
       "        [4.8, 3.4, 1.6, 0.2],\n",
       "        [4.8, 3. , 1.4, 0.1],\n",
       "        [4.3, 3. , 1.1, 0.1],\n",
       "        [5.8, 4. , 1.2, 0.2],\n",
       "        [5.7, 4.4, 1.5, 0.4],\n",
       "        [5.4, 3.9, 1.3, 0.4],\n",
       "        [5.1, 3.5, 1.4, 0.3],\n",
       "        [5.7, 3.8, 1.7, 0.3],\n",
       "        [5.1, 3.8, 1.5, 0.3],\n",
       "        [5.4, 3.4, 1.7, 0.2],\n",
       "        [5.1, 3.7, 1.5, 0.4],\n",
       "        [4.6, 3.6, 1. , 0.2],\n",
       "        [5.1, 3.3, 1.7, 0.5],\n",
       "        [4.8, 3.4, 1.9, 0.2],\n",
       "        [5. , 3. , 1.6, 0.2],\n",
       "        [5. , 3.4, 1.6, 0.4],\n",
       "        [5.2, 3.5, 1.5, 0.2],\n",
       "        [5.2, 3.4, 1.4, 0.2],\n",
       "        [4.7, 3.2, 1.6, 0.2],\n",
       "        [4.8, 3.1, 1.6, 0.2],\n",
       "        [5.4, 3.4, 1.5, 0.4],\n",
       "        [5.2, 4.1, 1.5, 0.1],\n",
       "        [5.5, 4.2, 1.4, 0.2],\n",
       "        [4.9, 3.1, 1.5, 0.2],\n",
       "        [5. , 3.2, 1.2, 0.2],\n",
       "        [5.5, 3.5, 1.3, 0.2],\n",
       "        [4.9, 3.6, 1.4, 0.1],\n",
       "        [4.4, 3. , 1.3, 0.2],\n",
       "        [5.1, 3.4, 1.5, 0.2],\n",
       "        [5. , 3.5, 1.3, 0.3],\n",
       "        [4.5, 2.3, 1.3, 0.3],\n",
       "        [4.4, 3.2, 1.3, 0.2],\n",
       "        [5. , 3.5, 1.6, 0.6],\n",
       "        [5.1, 3.8, 1.9, 0.4],\n",
       "        [4.8, 3. , 1.4, 0.3],\n",
       "        [5.1, 3.8, 1.6, 0.2],\n",
       "        [4.6, 3.2, 1.4, 0.2],\n",
       "        [5.3, 3.7, 1.5, 0.2],\n",
       "        [5. , 3.3, 1.4, 0.2],\n",
       "        [7. , 3.2, 4.7, 1.4],\n",
       "        [6.4, 3.2, 4.5, 1.5],\n",
       "        [6.9, 3.1, 4.9, 1.5],\n",
       "        [5.5, 2.3, 4. , 1.3],\n",
       "        [6.5, 2.8, 4.6, 1.5],\n",
       "        [5.7, 2.8, 4.5, 1.3],\n",
       "        [6.3, 3.3, 4.7, 1.6],\n",
       "        [4.9, 2.4, 3.3, 1. ],\n",
       "        [6.6, 2.9, 4.6, 1.3],\n",
       "        [5.2, 2.7, 3.9, 1.4],\n",
       "        [5. , 2. , 3.5, 1. ],\n",
       "        [5.9, 3. , 4.2, 1.5],\n",
       "        [6. , 2.2, 4. , 1. ],\n",
       "        [6.1, 2.9, 4.7, 1.4],\n",
       "        [5.6, 2.9, 3.6, 1.3],\n",
       "        [6.7, 3.1, 4.4, 1.4],\n",
       "        [5.6, 3. , 4.5, 1.5],\n",
       "        [5.8, 2.7, 4.1, 1. ],\n",
       "        [6.2, 2.2, 4.5, 1.5],\n",
       "        [5.6, 2.5, 3.9, 1.1],\n",
       "        [5.9, 3.2, 4.8, 1.8],\n",
       "        [6.1, 2.8, 4. , 1.3],\n",
       "        [6.3, 2.5, 4.9, 1.5],\n",
       "        [6.1, 2.8, 4.7, 1.2],\n",
       "        [6.4, 2.9, 4.3, 1.3],\n",
       "        [6.6, 3. , 4.4, 1.4],\n",
       "        [6.8, 2.8, 4.8, 1.4],\n",
       "        [6.7, 3. , 5. , 1.7],\n",
       "        [6. , 2.9, 4.5, 1.5],\n",
       "        [5.7, 2.6, 3.5, 1. ],\n",
       "        [5.5, 2.4, 3.8, 1.1],\n",
       "        [5.5, 2.4, 3.7, 1. ],\n",
       "        [5.8, 2.7, 3.9, 1.2],\n",
       "        [6. , 2.7, 5.1, 1.6],\n",
       "        [5.4, 3. , 4.5, 1.5],\n",
       "        [6. , 3.4, 4.5, 1.6],\n",
       "        [6.7, 3.1, 4.7, 1.5],\n",
       "        [6.3, 2.3, 4.4, 1.3],\n",
       "        [5.6, 3. , 4.1, 1.3],\n",
       "        [5.5, 2.5, 4. , 1.3],\n",
       "        [5.5, 2.6, 4.4, 1.2],\n",
       "        [6.1, 3. , 4.6, 1.4],\n",
       "        [5.8, 2.6, 4. , 1.2],\n",
       "        [5. , 2.3, 3.3, 1. ],\n",
       "        [5.6, 2.7, 4.2, 1.3],\n",
       "        [5.7, 3. , 4.2, 1.2],\n",
       "        [5.7, 2.9, 4.2, 1.3],\n",
       "        [6.2, 2.9, 4.3, 1.3],\n",
       "        [5.1, 2.5, 3. , 1.1],\n",
       "        [5.7, 2.8, 4.1, 1.3],\n",
       "        [6.3, 3.3, 6. , 2.5],\n",
       "        [5.8, 2.7, 5.1, 1.9],\n",
       "        [7.1, 3. , 5.9, 2.1],\n",
       "        [6.3, 2.9, 5.6, 1.8],\n",
       "        [6.5, 3. , 5.8, 2.2],\n",
       "        [7.6, 3. , 6.6, 2.1],\n",
       "        [4.9, 2.5, 4.5, 1.7],\n",
       "        [7.3, 2.9, 6.3, 1.8],\n",
       "        [6.7, 2.5, 5.8, 1.8],\n",
       "        [7.2, 3.6, 6.1, 2.5],\n",
       "        [6.5, 3.2, 5.1, 2. ],\n",
       "        [6.4, 2.7, 5.3, 1.9],\n",
       "        [6.8, 3. , 5.5, 2.1],\n",
       "        [5.7, 2.5, 5. , 2. ],\n",
       "        [5.8, 2.8, 5.1, 2.4],\n",
       "        [6.4, 3.2, 5.3, 2.3],\n",
       "        [6.5, 3. , 5.5, 1.8],\n",
       "        [7.7, 3.8, 6.7, 2.2],\n",
       "        [7.7, 2.6, 6.9, 2.3],\n",
       "        [6. , 2.2, 5. , 1.5],\n",
       "        [6.9, 3.2, 5.7, 2.3],\n",
       "        [5.6, 2.8, 4.9, 2. ],\n",
       "        [7.7, 2.8, 6.7, 2. ],\n",
       "        [6.3, 2.7, 4.9, 1.8],\n",
       "        [6.7, 3.3, 5.7, 2.1],\n",
       "        [7.2, 3.2, 6. , 1.8],\n",
       "        [6.2, 2.8, 4.8, 1.8],\n",
       "        [6.1, 3. , 4.9, 1.8],\n",
       "        [6.4, 2.8, 5.6, 2.1],\n",
       "        [7.2, 3. , 5.8, 1.6],\n",
       "        [7.4, 2.8, 6.1, 1.9],\n",
       "        [7.9, 3.8, 6.4, 2. ],\n",
       "        [6.4, 2.8, 5.6, 2.2],\n",
       "        [6.3, 2.8, 5.1, 1.5],\n",
       "        [6.1, 2.6, 5.6, 1.4],\n",
       "        [7.7, 3. , 6.1, 2.3],\n",
       "        [6.3, 3.4, 5.6, 2.4],\n",
       "        [6.4, 3.1, 5.5, 1.8],\n",
       "        [6. , 3. , 4.8, 1.8],\n",
       "        [6.9, 3.1, 5.4, 2.1],\n",
       "        [6.7, 3.1, 5.6, 2.4],\n",
       "        [6.9, 3.1, 5.1, 2.3],\n",
       "        [5.8, 2.7, 5.1, 1.9],\n",
       "        [6.8, 3.2, 5.9, 2.3],\n",
       "        [6.7, 3.3, 5.7, 2.5],\n",
       "        [6.7, 3. , 5.2, 2.3],\n",
       "        [6.3, 2.5, 5. , 1.9],\n",
       "        [6.5, 3. , 5.2, 2. ],\n",
       "        [6.2, 3.4, 5.4, 2.3],\n",
       "        [5.9, 3. , 5.1, 1.8]]),\n",
       " 'target': array([0, 0, 0, 0, 0, 0, 0, 0, 0, 0, 0, 0, 0, 0, 0, 0, 0, 0, 0, 0, 0, 0,\n",
       "        0, 0, 0, 0, 0, 0, 0, 0, 0, 0, 0, 0, 0, 0, 0, 0, 0, 0, 0, 0, 0, 0,\n",
       "        0, 0, 0, 0, 0, 0, 1, 1, 1, 1, 1, 1, 1, 1, 1, 1, 1, 1, 1, 1, 1, 1,\n",
       "        1, 1, 1, 1, 1, 1, 1, 1, 1, 1, 1, 1, 1, 1, 1, 1, 1, 1, 1, 1, 1, 1,\n",
       "        1, 1, 1, 1, 1, 1, 1, 1, 1, 1, 1, 1, 2, 2, 2, 2, 2, 2, 2, 2, 2, 2,\n",
       "        2, 2, 2, 2, 2, 2, 2, 2, 2, 2, 2, 2, 2, 2, 2, 2, 2, 2, 2, 2, 2, 2,\n",
       "        2, 2, 2, 2, 2, 2, 2, 2, 2, 2, 2, 2, 2, 2, 2, 2, 2, 2]),\n",
       " 'frame': None,\n",
       " 'target_names': array(['setosa', 'versicolor', 'virginica'], dtype='<U10'),\n",
       " 'DESCR': '.. _iris_dataset:\\n\\nIris plants dataset\\n--------------------\\n\\n**Data Set Characteristics:**\\n\\n    :Number of Instances: 150 (50 in each of three classes)\\n    :Number of Attributes: 4 numeric, predictive attributes and the class\\n    :Attribute Information:\\n        - sepal length in cm\\n        - sepal width in cm\\n        - petal length in cm\\n        - petal width in cm\\n        - class:\\n                - Iris-Setosa\\n                - Iris-Versicolour\\n                - Iris-Virginica\\n                \\n    :Summary Statistics:\\n\\n    ============== ==== ==== ======= ===== ====================\\n                    Min  Max   Mean    SD   Class Correlation\\n    ============== ==== ==== ======= ===== ====================\\n    sepal length:   4.3  7.9   5.84   0.83    0.7826\\n    sepal width:    2.0  4.4   3.05   0.43   -0.4194\\n    petal length:   1.0  6.9   3.76   1.76    0.9490  (high!)\\n    petal width:    0.1  2.5   1.20   0.76    0.9565  (high!)\\n    ============== ==== ==== ======= ===== ====================\\n\\n    :Missing Attribute Values: None\\n    :Class Distribution: 33.3% for each of 3 classes.\\n    :Creator: R.A. Fisher\\n    :Donor: Michael Marshall (MARSHALL%PLU@io.arc.nasa.gov)\\n    :Date: July, 1988\\n\\nThe famous Iris database, first used by Sir R.A. Fisher. The dataset is taken\\nfrom Fisher\\'s paper. Note that it\\'s the same as in R, but not as in the UCI\\nMachine Learning Repository, which has two wrong data points.\\n\\nThis is perhaps the best known database to be found in the\\npattern recognition literature.  Fisher\\'s paper is a classic in the field and\\nis referenced frequently to this day.  (See Duda & Hart, for example.)  The\\ndata set contains 3 classes of 50 instances each, where each class refers to a\\ntype of iris plant.  One class is linearly separable from the other 2; the\\nlatter are NOT linearly separable from each other.\\n\\n.. topic:: References\\n\\n   - Fisher, R.A. \"The use of multiple measurements in taxonomic problems\"\\n     Annual Eugenics, 7, Part II, 179-188 (1936); also in \"Contributions to\\n     Mathematical Statistics\" (John Wiley, NY, 1950).\\n   - Duda, R.O., & Hart, P.E. (1973) Pattern Classification and Scene Analysis.\\n     (Q327.D83) John Wiley & Sons.  ISBN 0-471-22361-1.  See page 218.\\n   - Dasarathy, B.V. (1980) \"Nosing Around the Neighborhood: A New System\\n     Structure and Classification Rule for Recognition in Partially Exposed\\n     Environments\".  IEEE Transactions on Pattern Analysis and Machine\\n     Intelligence, Vol. PAMI-2, No. 1, 67-71.\\n   - Gates, G.W. (1972) \"The Reduced Nearest Neighbor Rule\".  IEEE Transactions\\n     on Information Theory, May 1972, 431-433.\\n   - See also: 1988 MLC Proceedings, 54-64.  Cheeseman et al\"s AUTOCLASS II\\n     conceptual clustering system finds 3 classes in the data.\\n   - Many, many more ...',\n",
       " 'feature_names': ['sepal length (cm)',\n",
       "  'sepal width (cm)',\n",
       "  'petal length (cm)',\n",
       "  'petal width (cm)'],\n",
       " 'filename': 'iris.csv',\n",
       " 'data_module': 'sklearn.datasets.data'}"
      ]
     },
     "execution_count": 8,
     "metadata": {},
     "output_type": "execute_result"
    }
   ],
   "source": []
  },
  {
   "cell_type": "code",
   "execution_count": 9,
   "id": "3c756ccb",
   "metadata": {
    "collapsed": true
   },
   "outputs": [],
   "source": [
    "X ,y = load_iris(return_X_y=True)\n",
    "#bununla Xler input(Features) oldu,ve y ler target(output) oldu\n",
    "#zaten kendisi return_X_y diyerekX(input)ve y(target) diye döndürecegim diyor\n",
    "\n",
    "\n",
    "from sklearn.model_selection import train_test_split\n",
    "\n",
    "X_train, X_test, y_train, y_test = train_test_split(X, y, random_state=0) #veriyi bölelim"
   ]
  },
  {
   "cell_type": "code",
   "execution_count": 33,
   "id": "d96ba822",
   "metadata": {},
   "outputs": [],
   "source": []
  },
  {
   "cell_type": "code",
   "execution_count": 11,
   "id": "913f8d34",
   "metadata": {},
   "outputs": [
    {
     "data": {
      "text/html": [
       "<style>#sk-container-id-1 {color: black;background-color: white;}#sk-container-id-1 pre{padding: 0;}#sk-container-id-1 div.sk-toggleable {background-color: white;}#sk-container-id-1 label.sk-toggleable__label {cursor: pointer;display: block;width: 100%;margin-bottom: 0;padding: 0.3em;box-sizing: border-box;text-align: center;}#sk-container-id-1 label.sk-toggleable__label-arrow:before {content: \"▸\";float: left;margin-right: 0.25em;color: #696969;}#sk-container-id-1 label.sk-toggleable__label-arrow:hover:before {color: black;}#sk-container-id-1 div.sk-estimator:hover label.sk-toggleable__label-arrow:before {color: black;}#sk-container-id-1 div.sk-toggleable__content {max-height: 0;max-width: 0;overflow: hidden;text-align: left;background-color: #f0f8ff;}#sk-container-id-1 div.sk-toggleable__content pre {margin: 0.2em;color: black;border-radius: 0.25em;background-color: #f0f8ff;}#sk-container-id-1 input.sk-toggleable__control:checked~div.sk-toggleable__content {max-height: 200px;max-width: 100%;overflow: auto;}#sk-container-id-1 input.sk-toggleable__control:checked~label.sk-toggleable__label-arrow:before {content: \"▾\";}#sk-container-id-1 div.sk-estimator input.sk-toggleable__control:checked~label.sk-toggleable__label {background-color: #d4ebff;}#sk-container-id-1 div.sk-label input.sk-toggleable__control:checked~label.sk-toggleable__label {background-color: #d4ebff;}#sk-container-id-1 input.sk-hidden--visually {border: 0;clip: rect(1px 1px 1px 1px);clip: rect(1px, 1px, 1px, 1px);height: 1px;margin: -1px;overflow: hidden;padding: 0;position: absolute;width: 1px;}#sk-container-id-1 div.sk-estimator {font-family: monospace;background-color: #f0f8ff;border: 1px dotted black;border-radius: 0.25em;box-sizing: border-box;margin-bottom: 0.5em;}#sk-container-id-1 div.sk-estimator:hover {background-color: #d4ebff;}#sk-container-id-1 div.sk-parallel-item::after {content: \"\";width: 100%;border-bottom: 1px solid gray;flex-grow: 1;}#sk-container-id-1 div.sk-label:hover label.sk-toggleable__label {background-color: #d4ebff;}#sk-container-id-1 div.sk-serial::before {content: \"\";position: absolute;border-left: 1px solid gray;box-sizing: border-box;top: 0;bottom: 0;left: 50%;z-index: 0;}#sk-container-id-1 div.sk-serial {display: flex;flex-direction: column;align-items: center;background-color: white;padding-right: 0.2em;padding-left: 0.2em;position: relative;}#sk-container-id-1 div.sk-item {position: relative;z-index: 1;}#sk-container-id-1 div.sk-parallel {display: flex;align-items: stretch;justify-content: center;background-color: white;position: relative;}#sk-container-id-1 div.sk-item::before, #sk-container-id-1 div.sk-parallel-item::before {content: \"\";position: absolute;border-left: 1px solid gray;box-sizing: border-box;top: 0;bottom: 0;left: 50%;z-index: -1;}#sk-container-id-1 div.sk-parallel-item {display: flex;flex-direction: column;z-index: 1;position: relative;background-color: white;}#sk-container-id-1 div.sk-parallel-item:first-child::after {align-self: flex-end;width: 50%;}#sk-container-id-1 div.sk-parallel-item:last-child::after {align-self: flex-start;width: 50%;}#sk-container-id-1 div.sk-parallel-item:only-child::after {width: 0;}#sk-container-id-1 div.sk-dashed-wrapped {border: 1px dashed gray;margin: 0 0.4em 0.5em 0.4em;box-sizing: border-box;padding-bottom: 0.4em;background-color: white;}#sk-container-id-1 div.sk-label label {font-family: monospace;font-weight: bold;display: inline-block;line-height: 1.2em;}#sk-container-id-1 div.sk-label-container {text-align: center;}#sk-container-id-1 div.sk-container {/* jupyter's `normalize.less` sets `[hidden] { display: none; }` but bootstrap.min.css set `[hidden] { display: none !important; }` so we also need the `!important` here to be able to override the default hidden behavior on the sphinx rendered scikit-learn.org. See: https://github.com/scikit-learn/scikit-learn/issues/21755 */display: inline-block !important;position: relative;}#sk-container-id-1 div.sk-text-repr-fallback {display: none;}</style><div id=\"sk-container-id-1\" class=\"sk-top-container\"><div class=\"sk-text-repr-fallback\"><pre>Pipeline(steps=[(&#x27;standardscaler&#x27;, StandardScaler()),\n",
       "                (&#x27;logisticregression&#x27;, LogisticRegression())])</pre><b>In a Jupyter environment, please rerun this cell to show the HTML representation or trust the notebook. <br />On GitHub, the HTML representation is unable to render, please try loading this page with nbviewer.org.</b></div><div class=\"sk-container\" hidden><div class=\"sk-item sk-dashed-wrapped\"><div class=\"sk-label-container\"><div class=\"sk-label sk-toggleable\"><input class=\"sk-toggleable__control sk-hidden--visually\" id=\"sk-estimator-id-1\" type=\"checkbox\" ><label for=\"sk-estimator-id-1\" class=\"sk-toggleable__label sk-toggleable__label-arrow\">Pipeline</label><div class=\"sk-toggleable__content\"><pre>Pipeline(steps=[(&#x27;standardscaler&#x27;, StandardScaler()),\n",
       "                (&#x27;logisticregression&#x27;, LogisticRegression())])</pre></div></div></div><div class=\"sk-serial\"><div class=\"sk-item\"><div class=\"sk-estimator sk-toggleable\"><input class=\"sk-toggleable__control sk-hidden--visually\" id=\"sk-estimator-id-2\" type=\"checkbox\" ><label for=\"sk-estimator-id-2\" class=\"sk-toggleable__label sk-toggleable__label-arrow\">StandardScaler</label><div class=\"sk-toggleable__content\"><pre>StandardScaler()</pre></div></div></div><div class=\"sk-item\"><div class=\"sk-estimator sk-toggleable\"><input class=\"sk-toggleable__control sk-hidden--visually\" id=\"sk-estimator-id-3\" type=\"checkbox\" ><label for=\"sk-estimator-id-3\" class=\"sk-toggleable__label sk-toggleable__label-arrow\">LogisticRegression</label><div class=\"sk-toggleable__content\"><pre>LogisticRegression()</pre></div></div></div></div></div></div></div>"
      ],
      "text/plain": [
       "Pipeline(steps=[('standardscaler', StandardScaler()),\n",
       "                ('logisticregression', LogisticRegression())])"
      ]
     },
     "execution_count": 11,
     "metadata": {},
     "output_type": "execute_result"
    }
   ],
   "source": [
    "pipe.fit(X_train, y_train)\n",
    "#bu asamada olsturdugum pipeline ile iris veri seti arasindaki baglantiyi kuruyorum.\n",
    "\n",
    "#simdi fit methode ile modeli kuralim\n",
    "#bunun icin olusturdugum pipeline kullanacagim\n",
    "#bu modeli kurmak icin yukarida olusturdugum pipeline ni kullaniyorum\n",
    "#pipe diye olusturdugum degiskenimi yaziyorum ve bu metodun icine egitim verilerini yaziyorum\n",
    "\n",
    "#bu komutu calistirdigimda islem adimlari ekrana yaziliyor\n",
    "\n",
    "#alltaki ciktidan sunu anlayabiliriz\n",
    "#veriler önce Standartsclaer ile ölceklendirildi\n",
    "#daha sonra logistic regression modeli kuruldu"
   ]
  },
  {
   "cell_type": "code",
   "execution_count": 14,
   "id": "a5600100",
   "metadata": {},
   "outputs": [],
   "source": [
    "from sklearn.metrics import accuracy_score   #modelin basarisini test ediyorum\n",
    "\n",
    "#accuracy(akkoriisii) score fonksiyonunu import edelim"
   ]
  },
  {
   "cell_type": "code",
   "execution_count": 15,
   "id": "f94c6cc3",
   "metadata": {},
   "outputs": [
    {
     "data": {
      "text/plain": [
       "0.9736842105263158"
      ]
     },
     "execution_count": 15,
     "metadata": {},
     "output_type": "execute_result"
    }
   ],
   "source": [
    "accuracy_score(pipe.predict(X_test), y_test)\n",
    "\n",
    "#accuracy ölcüm yapar, ben icine pipe.predict yazarak test verilerinin tahminlerini ölcmek istiyorum\n",
    "#(X_test) bunu yazarak test verilerini kurdugumuz modele göre ölcmek istiyorum\n",
    "#daha sonra gercek degerlerle(y_test) \n",
    "\n",
    "#pipe.predict(X_test) icine sadece X_test yazdik, yani X_test verilerini tahmin ediyor\n",
    "#ve yanina y_test yazarak ikisi arasindaki tahmin basarisini ölcüyor\n",
    "#bu cikti modelimizi dogruluk scoru,%97 oraninda tahmin yapiyor"
   ]
  },
  {
   "cell_type": "code",
   "execution_count": null,
   "id": "7816a397",
   "metadata": {},
   "outputs": [],
   "source": []
  },
  {
   "cell_type": "markdown",
   "id": "39c3c122",
   "metadata": {},
   "source": [
    "# Model Evaluation "
   ]
  },
  {
   "cell_type": "code",
   "execution_count": 1,
   "id": "855053fb",
   "metadata": {},
   "outputs": [],
   "source": [
    "#model degerlendirmek icin sklearnin bir cok araci vardir\n",
    "#biz burada sklearnin cross_validate(capraz dogrulama) fonksiyonunu kullanacagiz\n",
    "#biz egitim ve test diye verimizi ayirirken, örnegin %75 train %25 test diye ayiriyoruz, \n",
    "#peki neden o yüzde %25 olanlar train'e giremiyorlar, onlarn sucu ne ?\n",
    "#iste burada cross_validation bu adaletsizlgi ortadan kaldiriyor \n",
    "#cros validation train veri setini kendi icinde 5 parcaya böler,4ü ile egitir ve geri kalan bir \n",
    "#parcayla test eder, ve bu islemi bes kere yapar, sonra bunlarin ortalamasini alir\n",
    "#ve ortaya train hatasi cikar\n",
    "#Overfiting'in önüne gecme noktasinda daha gercekci sonuclar var"
   ]
  },
  {
   "cell_type": "markdown",
   "id": "2d5196e9",
   "metadata": {},
   "source": [
    "### Burda  tüm model kiyaslamasi icin olan güzel bir kod hepsini bir arada gösteriyor,model karar vrme asamasinda "
   ]
  },
  {
   "cell_type": "code",
   "execution_count": 2,
   "id": "052959b7",
   "metadata": {},
   "outputs": [],
   "source": [
    "from tracemalloc import is_tracing\n",
    "\n",
    "\n",
    "compare = pd.DataFrame({\"Model\": [\"Logistic Regression\", \"KNN\", \"SVM\", \"Decision Tree\", \"Random Forest\", \"AdaBoost\",\n",
    "                                 \"GradientBoost\", \"XGBoost\"],\n",
    "                        \"F1\": [log_f1, knn_f1, svc_f1, dt_f1, rf_f1, ada_f1, gb_f1, xgb_f1],\n",
    "                        \"Recall\": [log_recall, knn_recall, svc_recall, dt_recall, rf_recall, ada_recall, gb_recall, xgb_recall],\n",
    "                        \"ROC_AUC\": [log_auc, knn_auc, svc_auc, dt_auc, rf_auc, ada_auc, gb_auc, xgb_auc]})\n",
    "\n",
    "def labels(ax):\n",
    "    for p in ax.patches:\n",
    "        width = p.get_width()                        # get bar length\n",
    "        ax.text(width,                               # set the text at 1 unit right of the bar\n",
    "                p.get_y() + p.get_height() / 2,      # get Y coordinate + X coordinate / 2\n",
    "                '{:1.3f}'.format(width),             # set variable to display, 2 decimals\n",
    "                ha = 'left',                         # horizontal alignment\n",
    "                va = 'center')                       # vertical alignment\n",
    "    \n",
    "plt.figure(figsize=(14,10))\n",
    "plt.subplot(311)\n",
    "compare = compare.sort_values(by=\"F1\", ascending=False)\n",
    "ax=sns.barplot(x=\"F1\", y=\"Model\", data=compare, palette=\"Blues_d\")\n",
    "labels(ax)\n",
    "\n",
    "plt.subplot(312)\n",
    "compare = compare.sort_values(by=\"Recall\", ascending=False)\n",
    "ax=sns.barplot(x=\"Recall\", y=\"Model\", data=compare, palette=\"Blues_d\")\n",
    "labels(ax)\n",
    "\n",
    "plt.subplot(313)\n",
    "compare = compare.sort_values(by=\"ROC_AUC\", ascending=False)\n",
    "ax=sns.barplot(x=\"ROC_AUC\", y=\"Model\", data=compare, palette=\"Blues_d\")\n",
    "labels(ax)\n",
    "plt.show()\n",
    "\n",
    "#Ama bunun iicnde yazan bazi degerler notebookun ici taraflarinda hesaplaniyor onlarin formullerini asagiya koyuyorum\n",
    "#bu kod ile görsellestiriyoruz\n",
    "#model tercihinde bulunacaz,\n",
    "#her grafik farkli kritere göre ilki f1 e göre ikinci recall\n",
    "\n",
    "#cografi koordinatlara göre olan bir yerde KNN alinabilir,\n",
    "#ama Logistic'in arka planinda daha fazla matematigi oldugu icin\n",
    "#logistic varken su durumda KNN secmeyiz\n",
    "---->Logistic icin\n",
    "log_f1 = f1_score(y_test, y_pred)\n",
    "log_recall = recall_score(y_test, y_pred)\n",
    "log_auc = roc_auc_score(y_test, y_pred)\n",
    "\n",
    "-------->KNN' icin \n",
    "knn_f1 = f1_score(y_test, y_pred)\n",
    "knn_recall = recall_score(y_test, y_pred)\n",
    "knn_auc = roc_auc_score(y_test, y_pred)\n",
    "\n",
    "----->\n",
    "svc_f1 = f1_score(y_test, y_pred)\n",
    "svc_recall = recall_score(y_test, y_pred)\n",
    "svc_auc = roc_auc_score(y_test, y_pred)\n",
    "\n",
    "----->Decision tree icin\n",
    "dt_f1 = f1_score(y_test, y_pred)\n",
    "dt_recall = recall_score(y_test, y_pred)\n",
    "dt_auc = roc_auc_score(y_test, y_pred)\n",
    "\n",
    "------->RandonForest icin\n",
    "rf_f1 = f1_score(y_test, y_pred)\n",
    "rf_recall = recall_score(y_test, y_pred)\n",
    "rf_auc = roc_auc_score(y_test, y_pred)\n",
    "\n",
    "-------adaboost icin\n",
    "ada_f1 = f1_score(y_test, y_pred)\n",
    "ada_recall = recall_score(y_test, y_pred)\n",
    "ada_auc = roc_auc_score(y_test, y_pred)\n",
    "\n",
    "------>Gradient boosting icin\n",
    "gb_f1 = f1_score(y_test, y_pred)\n",
    "gb_recall = recall_score(y_test, y_pred)\n",
    "gb_auc = roc_auc_score(y_test, y_pred)\n",
    "\n",
    "------->\n",
    "xgb_f1 = f1_score(y_test, y_pred)\n",
    "xgb_recall = recall_score(y_test, y_pred)\n",
    "xgb_auc = roc_auc_score(y_test, y_pred)\n",
    "-----------\n"
   ]
  },
  {
   "cell_type": "markdown",
   "id": "4a68eaec",
   "metadata": {},
   "source": [
    "![](2022-10-13-14-18-47.png)"
   ]
  },
  {
   "cell_type": "code",
   "execution_count": 13,
   "id": "67da64f0",
   "metadata": {},
   "outputs": [],
   "source": []
  },
  {
   "cell_type": "code",
   "execution_count": 15,
   "id": "497379a3",
   "metadata": {},
   "outputs": [
    {
     "data": {
      "text/html": [
       "<div>\n",
       "<style scoped>\n",
       "    .dataframe tbody tr th:only-of-type {\n",
       "        vertical-align: middle;\n",
       "    }\n",
       "\n",
       "    .dataframe tbody tr th {\n",
       "        vertical-align: top;\n",
       "    }\n",
       "\n",
       "    .dataframe thead th {\n",
       "        text-align: right;\n",
       "    }\n",
       "</style>\n",
       "<table border=\"1\" class=\"dataframe\">\n",
       "  <thead>\n",
       "    <tr style=\"text-align: right;\">\n",
       "      <th></th>\n",
       "      <th>0</th>\n",
       "      <th>1</th>\n",
       "      <th>2</th>\n",
       "      <th>3</th>\n",
       "      <th>4</th>\n",
       "      <th>5</th>\n",
       "      <th>6</th>\n",
       "      <th>7</th>\n",
       "      <th>8</th>\n",
       "      <th>9</th>\n",
       "      <th>...</th>\n",
       "      <th>90</th>\n",
       "      <th>91</th>\n",
       "      <th>92</th>\n",
       "      <th>93</th>\n",
       "      <th>94</th>\n",
       "      <th>95</th>\n",
       "      <th>96</th>\n",
       "      <th>97</th>\n",
       "      <th>98</th>\n",
       "      <th>99</th>\n",
       "    </tr>\n",
       "  </thead>\n",
       "  <tbody>\n",
       "    <tr>\n",
       "      <th>0</th>\n",
       "      <td>0.419297</td>\n",
       "      <td>-1.548930</td>\n",
       "      <td>0.652187</td>\n",
       "      <td>-0.494083</td>\n",
       "      <td>-0.201393</td>\n",
       "      <td>-0.839818</td>\n",
       "      <td>1.724759</td>\n",
       "      <td>1.042198</td>\n",
       "      <td>-0.516023</td>\n",
       "      <td>0.390785</td>\n",
       "      <td>...</td>\n",
       "      <td>-0.184231</td>\n",
       "      <td>0.167096</td>\n",
       "      <td>0.893098</td>\n",
       "      <td>0.288486</td>\n",
       "      <td>0.225738</td>\n",
       "      <td>-1.407032</td>\n",
       "      <td>0.478204</td>\n",
       "      <td>-0.813684</td>\n",
       "      <td>-2.038843</td>\n",
       "      <td>0.900003</td>\n",
       "    </tr>\n",
       "    <tr>\n",
       "      <th>1</th>\n",
       "      <td>-2.069472</td>\n",
       "      <td>0.727128</td>\n",
       "      <td>0.097597</td>\n",
       "      <td>-0.891146</td>\n",
       "      <td>-0.482779</td>\n",
       "      <td>0.233355</td>\n",
       "      <td>-1.886981</td>\n",
       "      <td>0.803849</td>\n",
       "      <td>0.077035</td>\n",
       "      <td>-0.952394</td>\n",
       "      <td>...</td>\n",
       "      <td>-0.338259</td>\n",
       "      <td>-1.209114</td>\n",
       "      <td>2.710790</td>\n",
       "      <td>-0.123498</td>\n",
       "      <td>-1.556324</td>\n",
       "      <td>1.229999</td>\n",
       "      <td>-0.875929</td>\n",
       "      <td>-0.359781</td>\n",
       "      <td>-0.745139</td>\n",
       "      <td>-0.550506</td>\n",
       "    </tr>\n",
       "    <tr>\n",
       "      <th>2</th>\n",
       "      <td>-0.375960</td>\n",
       "      <td>0.664144</td>\n",
       "      <td>1.022392</td>\n",
       "      <td>1.303181</td>\n",
       "      <td>-1.098289</td>\n",
       "      <td>-1.083427</td>\n",
       "      <td>0.122531</td>\n",
       "      <td>1.094167</td>\n",
       "      <td>-0.711286</td>\n",
       "      <td>-1.426938</td>\n",
       "      <td>...</td>\n",
       "      <td>-0.932570</td>\n",
       "      <td>-0.281575</td>\n",
       "      <td>-1.431798</td>\n",
       "      <td>-0.965954</td>\n",
       "      <td>-0.147637</td>\n",
       "      <td>2.285601</td>\n",
       "      <td>1.710837</td>\n",
       "      <td>0.504815</td>\n",
       "      <td>-2.832012</td>\n",
       "      <td>-0.799786</td>\n",
       "    </tr>\n",
       "    <tr>\n",
       "      <th>3</th>\n",
       "      <td>0.317490</td>\n",
       "      <td>0.464113</td>\n",
       "      <td>-0.334165</td>\n",
       "      <td>-0.918614</td>\n",
       "      <td>-1.025451</td>\n",
       "      <td>0.237365</td>\n",
       "      <td>-0.188368</td>\n",
       "      <td>1.123532</td>\n",
       "      <td>0.483046</td>\n",
       "      <td>0.027773</td>\n",
       "      <td>...</td>\n",
       "      <td>0.391121</td>\n",
       "      <td>-0.858193</td>\n",
       "      <td>0.415863</td>\n",
       "      <td>1.083776</td>\n",
       "      <td>0.196285</td>\n",
       "      <td>-0.099130</td>\n",
       "      <td>-0.819252</td>\n",
       "      <td>0.245648</td>\n",
       "      <td>0.408164</td>\n",
       "      <td>0.387600</td>\n",
       "    </tr>\n",
       "    <tr>\n",
       "      <th>4</th>\n",
       "      <td>0.509688</td>\n",
       "      <td>-1.270666</td>\n",
       "      <td>0.799706</td>\n",
       "      <td>0.149877</td>\n",
       "      <td>-1.752411</td>\n",
       "      <td>0.914337</td>\n",
       "      <td>1.017711</td>\n",
       "      <td>0.659393</td>\n",
       "      <td>-0.100313</td>\n",
       "      <td>1.043305</td>\n",
       "      <td>...</td>\n",
       "      <td>1.251918</td>\n",
       "      <td>-0.994213</td>\n",
       "      <td>1.383385</td>\n",
       "      <td>-0.987929</td>\n",
       "      <td>-1.489558</td>\n",
       "      <td>0.521859</td>\n",
       "      <td>1.950441</td>\n",
       "      <td>0.081874</td>\n",
       "      <td>-0.711578</td>\n",
       "      <td>0.489642</td>\n",
       "    </tr>\n",
       "    <tr>\n",
       "      <th>...</th>\n",
       "      <td>...</td>\n",
       "      <td>...</td>\n",
       "      <td>...</td>\n",
       "      <td>...</td>\n",
       "      <td>...</td>\n",
       "      <td>...</td>\n",
       "      <td>...</td>\n",
       "      <td>...</td>\n",
       "      <td>...</td>\n",
       "      <td>...</td>\n",
       "      <td>...</td>\n",
       "      <td>...</td>\n",
       "      <td>...</td>\n",
       "      <td>...</td>\n",
       "      <td>...</td>\n",
       "      <td>...</td>\n",
       "      <td>...</td>\n",
       "      <td>...</td>\n",
       "      <td>...</td>\n",
       "      <td>...</td>\n",
       "      <td>...</td>\n",
       "    </tr>\n",
       "    <tr>\n",
       "      <th>995</th>\n",
       "      <td>0.891819</td>\n",
       "      <td>0.435541</td>\n",
       "      <td>-0.810227</td>\n",
       "      <td>0.670611</td>\n",
       "      <td>-1.623346</td>\n",
       "      <td>-1.338903</td>\n",
       "      <td>0.255528</td>\n",
       "      <td>-0.605118</td>\n",
       "      <td>0.805729</td>\n",
       "      <td>-0.139326</td>\n",
       "      <td>...</td>\n",
       "      <td>-0.101640</td>\n",
       "      <td>0.072698</td>\n",
       "      <td>0.483091</td>\n",
       "      <td>0.347399</td>\n",
       "      <td>0.702212</td>\n",
       "      <td>-0.565856</td>\n",
       "      <td>-0.997224</td>\n",
       "      <td>2.579235</td>\n",
       "      <td>1.029243</td>\n",
       "      <td>-0.207327</td>\n",
       "    </tr>\n",
       "    <tr>\n",
       "      <th>996</th>\n",
       "      <td>-2.789053</td>\n",
       "      <td>-0.557806</td>\n",
       "      <td>1.531156</td>\n",
       "      <td>0.039429</td>\n",
       "      <td>0.746314</td>\n",
       "      <td>0.604961</td>\n",
       "      <td>0.057811</td>\n",
       "      <td>0.585777</td>\n",
       "      <td>-0.814779</td>\n",
       "      <td>-0.555979</td>\n",
       "      <td>...</td>\n",
       "      <td>-0.472787</td>\n",
       "      <td>0.184586</td>\n",
       "      <td>2.457113</td>\n",
       "      <td>-0.913528</td>\n",
       "      <td>0.561651</td>\n",
       "      <td>0.244965</td>\n",
       "      <td>0.286306</td>\n",
       "      <td>1.235200</td>\n",
       "      <td>-0.167529</td>\n",
       "      <td>-0.923800</td>\n",
       "    </tr>\n",
       "    <tr>\n",
       "      <th>997</th>\n",
       "      <td>-0.771920</td>\n",
       "      <td>-1.336676</td>\n",
       "      <td>-0.727338</td>\n",
       "      <td>0.526064</td>\n",
       "      <td>0.238853</td>\n",
       "      <td>-0.362950</td>\n",
       "      <td>0.210848</td>\n",
       "      <td>-0.993085</td>\n",
       "      <td>2.014365</td>\n",
       "      <td>0.157832</td>\n",
       "      <td>...</td>\n",
       "      <td>0.912699</td>\n",
       "      <td>-1.127435</td>\n",
       "      <td>0.188963</td>\n",
       "      <td>-0.746948</td>\n",
       "      <td>0.835274</td>\n",
       "      <td>0.687572</td>\n",
       "      <td>-0.471065</td>\n",
       "      <td>-0.598303</td>\n",
       "      <td>-0.609862</td>\n",
       "      <td>1.692430</td>\n",
       "    </tr>\n",
       "    <tr>\n",
       "      <th>998</th>\n",
       "      <td>0.671984</td>\n",
       "      <td>-1.507334</td>\n",
       "      <td>1.176222</td>\n",
       "      <td>0.168564</td>\n",
       "      <td>-0.287386</td>\n",
       "      <td>-0.324610</td>\n",
       "      <td>1.537601</td>\n",
       "      <td>0.567301</td>\n",
       "      <td>-0.419512</td>\n",
       "      <td>-0.419253</td>\n",
       "      <td>...</td>\n",
       "      <td>0.367350</td>\n",
       "      <td>-0.106061</td>\n",
       "      <td>-0.224038</td>\n",
       "      <td>-1.761234</td>\n",
       "      <td>0.158606</td>\n",
       "      <td>-1.457594</td>\n",
       "      <td>1.766742</td>\n",
       "      <td>2.059215</td>\n",
       "      <td>-1.111404</td>\n",
       "      <td>0.017875</td>\n",
       "    </tr>\n",
       "    <tr>\n",
       "      <th>999</th>\n",
       "      <td>1.103343</td>\n",
       "      <td>-0.595319</td>\n",
       "      <td>-0.298318</td>\n",
       "      <td>-0.450707</td>\n",
       "      <td>-0.956773</td>\n",
       "      <td>1.344417</td>\n",
       "      <td>-0.088448</td>\n",
       "      <td>-0.582038</td>\n",
       "      <td>-0.063962</td>\n",
       "      <td>-1.317637</td>\n",
       "      <td>...</td>\n",
       "      <td>0.045685</td>\n",
       "      <td>0.377932</td>\n",
       "      <td>0.076354</td>\n",
       "      <td>0.650736</td>\n",
       "      <td>0.686663</td>\n",
       "      <td>-0.310990</td>\n",
       "      <td>1.253474</td>\n",
       "      <td>-0.897065</td>\n",
       "      <td>-0.115467</td>\n",
       "      <td>-1.299286</td>\n",
       "    </tr>\n",
       "  </tbody>\n",
       "</table>\n",
       "<p>1000 rows × 100 columns</p>\n",
       "</div>"
      ],
      "text/plain": [
       "           0         1         2         3         4         5         6   \\\n",
       "0    0.419297 -1.548930  0.652187 -0.494083 -0.201393 -0.839818  1.724759   \n",
       "1   -2.069472  0.727128  0.097597 -0.891146 -0.482779  0.233355 -1.886981   \n",
       "2   -0.375960  0.664144  1.022392  1.303181 -1.098289 -1.083427  0.122531   \n",
       "3    0.317490  0.464113 -0.334165 -0.918614 -1.025451  0.237365 -0.188368   \n",
       "4    0.509688 -1.270666  0.799706  0.149877 -1.752411  0.914337  1.017711   \n",
       "..        ...       ...       ...       ...       ...       ...       ...   \n",
       "995  0.891819  0.435541 -0.810227  0.670611 -1.623346 -1.338903  0.255528   \n",
       "996 -2.789053 -0.557806  1.531156  0.039429  0.746314  0.604961  0.057811   \n",
       "997 -0.771920 -1.336676 -0.727338  0.526064  0.238853 -0.362950  0.210848   \n",
       "998  0.671984 -1.507334  1.176222  0.168564 -0.287386 -0.324610  1.537601   \n",
       "999  1.103343 -0.595319 -0.298318 -0.450707 -0.956773  1.344417 -0.088448   \n",
       "\n",
       "           7         8         9   ...        90        91        92  \\\n",
       "0    1.042198 -0.516023  0.390785  ... -0.184231  0.167096  0.893098   \n",
       "1    0.803849  0.077035 -0.952394  ... -0.338259 -1.209114  2.710790   \n",
       "2    1.094167 -0.711286 -1.426938  ... -0.932570 -0.281575 -1.431798   \n",
       "3    1.123532  0.483046  0.027773  ...  0.391121 -0.858193  0.415863   \n",
       "4    0.659393 -0.100313  1.043305  ...  1.251918 -0.994213  1.383385   \n",
       "..        ...       ...       ...  ...       ...       ...       ...   \n",
       "995 -0.605118  0.805729 -0.139326  ... -0.101640  0.072698  0.483091   \n",
       "996  0.585777 -0.814779 -0.555979  ... -0.472787  0.184586  2.457113   \n",
       "997 -0.993085  2.014365  0.157832  ...  0.912699 -1.127435  0.188963   \n",
       "998  0.567301 -0.419512 -0.419253  ...  0.367350 -0.106061 -0.224038   \n",
       "999 -0.582038 -0.063962 -1.317637  ...  0.045685  0.377932  0.076354   \n",
       "\n",
       "           93        94        95        96        97        98        99  \n",
       "0    0.288486  0.225738 -1.407032  0.478204 -0.813684 -2.038843  0.900003  \n",
       "1   -0.123498 -1.556324  1.229999 -0.875929 -0.359781 -0.745139 -0.550506  \n",
       "2   -0.965954 -0.147637  2.285601  1.710837  0.504815 -2.832012 -0.799786  \n",
       "3    1.083776  0.196285 -0.099130 -0.819252  0.245648  0.408164  0.387600  \n",
       "4   -0.987929 -1.489558  0.521859  1.950441  0.081874 -0.711578  0.489642  \n",
       "..        ...       ...       ...       ...       ...       ...       ...  \n",
       "995  0.347399  0.702212 -0.565856 -0.997224  2.579235  1.029243 -0.207327  \n",
       "996 -0.913528  0.561651  0.244965  0.286306  1.235200 -0.167529 -0.923800  \n",
       "997 -0.746948  0.835274  0.687572 -0.471065 -0.598303 -0.609862  1.692430  \n",
       "998 -1.761234  0.158606 -1.457594  1.766742  2.059215 -1.111404  0.017875  \n",
       "999  0.650736  0.686663 -0.310990  1.253474 -0.897065 -0.115467 -1.299286  \n",
       "\n",
       "[1000 rows x 100 columns]"
      ]
     },
     "execution_count": 15,
     "metadata": {},
     "output_type": "execute_result"
    }
   ],
   "source": [
    "from sklearn.datasets  import make_regression\n",
    "\n",
    "#sklearn icindeki make_regression ile istidegim gibi oyuncak veriler olusturabilirim\n",
    "#simdi bu fonksiyonu kullanarak girdi ve cikti degiskenlerini olusturalim\n",
    "\n",
    "X, y = make_regression(n_samples=1000, random_state=0)\n",
    "\n",
    "#X ve y degiskenlerimi yazip, make_regression fonksiyonuu yaziyorum\n",
    "#örneklem sayisi olarak 1000 yaziyorum\n",
    "#bu sekilde girdi ve cikti degiskenlerini olusturduk\n",
    "#burda y yani sonuc degiskenimiz sayisal tipte\n",
    "#sonuc sayisal tipte oldugu icin Linear Regression modeli kurabiliriz\n",
    "\n",
    "\n",
    "\n",
    "import pandas as pd\n",
    "X_DataFrame_hali = pd.DataFrame(X)\n",
    "X_DataFrame_hali\n",
    "\n",
    "\n",
    "##waaaw ben burda yukaridaki n_sample nin nasil bir veri verdigine bakmak istedim,\n",
    "#cok büyük bir veri seti veriyormus meger,99 sütunlu ve 100 satirli bisey"
   ]
  },
  {
   "cell_type": "code",
   "execution_count": 16,
   "id": "323cb8f6",
   "metadata": {},
   "outputs": [
    {
     "data": {
      "text/html": [
       "<div>\n",
       "<style scoped>\n",
       "    .dataframe tbody tr th:only-of-type {\n",
       "        vertical-align: middle;\n",
       "    }\n",
       "\n",
       "    .dataframe tbody tr th {\n",
       "        vertical-align: top;\n",
       "    }\n",
       "\n",
       "    .dataframe thead th {\n",
       "        text-align: right;\n",
       "    }\n",
       "</style>\n",
       "<table border=\"1\" class=\"dataframe\">\n",
       "  <thead>\n",
       "    <tr style=\"text-align: right;\">\n",
       "      <th></th>\n",
       "      <th>0</th>\n",
       "    </tr>\n",
       "  </thead>\n",
       "  <tbody>\n",
       "    <tr>\n",
       "      <th>0</th>\n",
       "      <td>-204.057963</td>\n",
       "    </tr>\n",
       "    <tr>\n",
       "      <th>1</th>\n",
       "      <td>-376.325761</td>\n",
       "    </tr>\n",
       "    <tr>\n",
       "      <th>2</th>\n",
       "      <td>23.730193</td>\n",
       "    </tr>\n",
       "    <tr>\n",
       "      <th>3</th>\n",
       "      <td>112.558992</td>\n",
       "    </tr>\n",
       "    <tr>\n",
       "      <th>4</th>\n",
       "      <td>69.487381</td>\n",
       "    </tr>\n",
       "    <tr>\n",
       "      <th>...</th>\n",
       "      <td>...</td>\n",
       "    </tr>\n",
       "    <tr>\n",
       "      <th>995</th>\n",
       "      <td>-60.400713</td>\n",
       "    </tr>\n",
       "    <tr>\n",
       "      <th>996</th>\n",
       "      <td>292.442159</td>\n",
       "    </tr>\n",
       "    <tr>\n",
       "      <th>997</th>\n",
       "      <td>-275.195873</td>\n",
       "    </tr>\n",
       "    <tr>\n",
       "      <th>998</th>\n",
       "      <td>-48.093344</td>\n",
       "    </tr>\n",
       "    <tr>\n",
       "      <th>999</th>\n",
       "      <td>337.762690</td>\n",
       "    </tr>\n",
       "  </tbody>\n",
       "</table>\n",
       "<p>1000 rows × 1 columns</p>\n",
       "</div>"
      ],
      "text/plain": [
       "              0\n",
       "0   -204.057963\n",
       "1   -376.325761\n",
       "2     23.730193\n",
       "3    112.558992\n",
       "4     69.487381\n",
       "..          ...\n",
       "995  -60.400713\n",
       "996  292.442159\n",
       "997 -275.195873\n",
       "998  -48.093344\n",
       "999  337.762690\n",
       "\n",
       "[1000 rows x 1 columns]"
      ]
     },
     "execution_count": 16,
     "metadata": {},
     "output_type": "execute_result"
    }
   ],
   "source": [
    "y_DataFrame_hali = pd.DataFrame(y)\n",
    "y_DataFrame_hali\n",
    "\n",
    "\n",
    "#y yi de yine bir sütunlu ve 100 satirli verdi, demekkki x in 99 olmasi sebebi, bununla toplam 100 oluyor"
   ]
  },
  {
   "cell_type": "code",
   "execution_count": null,
   "id": "99b38ee1",
   "metadata": {},
   "outputs": [],
   "source": []
  },
  {
   "cell_type": "code",
   "execution_count": 17,
   "id": "2b443054",
   "metadata": {},
   "outputs": [],
   "source": [
    "from sklearn.linear_model import LinearRegression\n",
    "\n",
    "#öncelikle Linear Regression modelini import edelim\n",
    "#ve Linear Regression sinifini import edelim"
   ]
  },
  {
   "cell_type": "code",
   "execution_count": 18,
   "id": "2471d3cb",
   "metadata": {},
   "outputs": [],
   "source": [
    "lr = LinearRegression()\n",
    "\n",
    "#simdide bu Linear Regression sinifindan bir  model alalim.\n",
    "#normalde bu modele lr.fit(X_train, y_train) ile veri setini fit ediyorduk\n",
    "#ama simdi burda croos_validation teknigi ile yapacagiz\n",
    "#ama önce bu cross_validate fonksiyonunu  import edelim\n",
    "\n",
    "\n",
    "from sklearn.model_selection import cross_validate\n",
    "\n",
    "#simdi bu fonksiyonumuzu kullanarak modelimizi kuralim\n",
    "\n",
    "result = cross_validate(lr, X, y)\n",
    "\n",
    "#öncelikle result adli bir degiskene aliyorum\n",
    "#bu fonksiyon icine öncelikle madelimizin adini yaziyorum\n",
    "#daha sonra Girdi ve sonuc degiskelerini yaziyorum,bunlar yukarida olusturulmustu(n_sample yazan yerde)\n",
    "\n",
    "#cross_validate fonksiyonu veri setini bes parcaya ayirir ve bu parcalara göre islem yapar"
   ]
  },
  {
   "cell_type": "code",
   "execution_count": 22,
   "id": "0f83e0c2",
   "metadata": {},
   "outputs": [
    {
     "data": {
      "text/plain": [
       "array([1., 1., 1., 1., 1.])"
      ]
     },
     "execution_count": 22,
     "metadata": {},
     "output_type": "execute_result"
    }
   ],
   "source": [
    "result['test_score']\n",
    "\n",
    "\n",
    "#simdi bu parcalarin test scorelarina bakalim\n",
    "#burda ayirdigi bes parcaninda model performansi 1 cikti\n",
    "#kurulan model test verilerini %100 oraninda tahmin etti\n",
    "#veri seti. basit oldugu icin model harika calisiyor"
   ]
  },
  {
   "cell_type": "code",
   "execution_count": 25,
   "id": "90f9b40c",
   "metadata": {},
   "outputs": [
    {
     "data": {
      "text/html": [
       "<div>\n",
       "<style scoped>\n",
       "    .dataframe tbody tr th:only-of-type {\n",
       "        vertical-align: middle;\n",
       "    }\n",
       "\n",
       "    .dataframe tbody tr th {\n",
       "        vertical-align: top;\n",
       "    }\n",
       "\n",
       "    .dataframe thead th {\n",
       "        text-align: right;\n",
       "    }\n",
       "</style>\n",
       "<table border=\"1\" class=\"dataframe\">\n",
       "  <thead>\n",
       "    <tr style=\"text-align: right;\">\n",
       "      <th></th>\n",
       "      <th>fit_time</th>\n",
       "      <th>score_time</th>\n",
       "      <th>test_score</th>\n",
       "    </tr>\n",
       "  </thead>\n",
       "  <tbody>\n",
       "    <tr>\n",
       "      <th>0</th>\n",
       "      <td>0.007779</td>\n",
       "      <td>0.000757</td>\n",
       "      <td>1.0</td>\n",
       "    </tr>\n",
       "    <tr>\n",
       "      <th>1</th>\n",
       "      <td>0.008317</td>\n",
       "      <td>0.000420</td>\n",
       "      <td>1.0</td>\n",
       "    </tr>\n",
       "    <tr>\n",
       "      <th>2</th>\n",
       "      <td>0.006406</td>\n",
       "      <td>0.000891</td>\n",
       "      <td>1.0</td>\n",
       "    </tr>\n",
       "    <tr>\n",
       "      <th>3</th>\n",
       "      <td>0.007300</td>\n",
       "      <td>0.000622</td>\n",
       "      <td>1.0</td>\n",
       "    </tr>\n",
       "    <tr>\n",
       "      <th>4</th>\n",
       "      <td>0.003414</td>\n",
       "      <td>0.000333</td>\n",
       "      <td>1.0</td>\n",
       "    </tr>\n",
       "  </tbody>\n",
       "</table>\n",
       "</div>"
      ],
      "text/plain": [
       "   fit_time  score_time  test_score\n",
       "0  0.007779    0.000757         1.0\n",
       "1  0.008317    0.000420         1.0\n",
       "2  0.006406    0.000891         1.0\n",
       "3  0.007300    0.000622         1.0\n",
       "4  0.003414    0.000333         1.0"
      ]
     },
     "execution_count": 25,
     "metadata": {},
     "output_type": "execute_result"
    }
   ],
   "source": [
    "result_DataFrame_hali = pd.DataFrame(result)\n",
    "result_DataFrame_hali\n",
    "\n",
    "#buda bize veridgi resultlarin ne olduklari\n",
    "#hocanin söyledigi gibi, bes parcaya ayiriyor, ve bu parcalara göre islem yapiyor"
   ]
  },
  {
   "cell_type": "code",
   "execution_count": null,
   "id": "979a2104",
   "metadata": {},
   "outputs": [],
   "source": []
  },
  {
   "cell_type": "code",
   "execution_count": null,
   "id": "a7936b33",
   "metadata": {},
   "outputs": [],
   "source": []
  },
  {
   "cell_type": "markdown",
   "id": "827e7ada",
   "metadata": {},
   "source": [
    "# Automatic Parameter Searches (otomatik parametre secimi)"
   ]
  },
  {
   "cell_type": "code",
   "execution_count": null,
   "id": "4cb60344",
   "metadata": {},
   "outputs": [],
   "source": [
    "#modelin ayarlanabilir parametrelerine hiper parametre denir\n",
    "#Hiper parametreler ile, model icin egitilen parametreleri birbirine karistirmayin dedi\n",
    "#iyi bir model kurmak icin Hiper parametre ayari yapmak cok önemlidir\n",
    "\n",
    "#örnegin random forest regression(aile soy agaci gibi bir agac semasi) tahmincisinin \n",
    "#n_estimators diye bir parametresi vardir\n",
    "#bu parametre ormandaki agac sayisini belirler\n",
    "#bu parametre degeri modelin performansini cok fazla etkiler\n",
    "#eger agac sayisini kücük alirsak, iyi bir model elde edemeyiz\n",
    "#eger agac sayisini fazla alirsan, bu seferde komplex bir model kurariz, ve ezberleme problemi cikar\n",
    "#bu parametrenin dengeli bir degerini bulmamiz gerekir\n",
    "#Random Forest Regression icin diger önemli bir parametre max depth tir.\n",
    "#bu her bir agacin derinligidir,o aile soy agacinda olan alt agaclar gibi, internette sekli var\n",
    "#bu degerinde ince ince ayarlanmasi gerekir\n",
    "\n",
    "#sklearnde en iyi paremetre kombinasyonunu bulmak icin, cesitli araclar sunar\n",
    "#simdi Random Forest modelinin en iyi kombinasyonunu bulmak icin ramdom ..... teknigini kullanalim\n",
    "#bunu göstermek icin California da cesitli degiskenlere göre  California Hausing veri setine bakalim"
   ]
  },
  {
   "cell_type": "code",
   "execution_count": 41,
   "id": "5a1d6ade",
   "metadata": {},
   "outputs": [],
   "source": [
    "from sklearn.datasets import fetch_california_housing\n",
    "X, y = fetch_california_housing(return_X_y=True)\n",
    "\n",
    "#bu fonsiyonu kullanarak girdi ve sonuc degiskenlerini olusturalim"
   ]
  },
  {
   "cell_type": "code",
   "execution_count": 56,
   "id": "9e70b3e2",
   "metadata": {},
   "outputs": [
    {
     "data": {
      "text/html": [
       "<div>\n",
       "<style scoped>\n",
       "    .dataframe tbody tr th:only-of-type {\n",
       "        vertical-align: middle;\n",
       "    }\n",
       "\n",
       "    .dataframe tbody tr th {\n",
       "        vertical-align: top;\n",
       "    }\n",
       "\n",
       "    .dataframe thead th {\n",
       "        text-align: right;\n",
       "    }\n",
       "</style>\n",
       "<table border=\"1\" class=\"dataframe\">\n",
       "  <thead>\n",
       "    <tr style=\"text-align: right;\">\n",
       "      <th></th>\n",
       "      <th>MedInc</th>\n",
       "      <th>HouseAge</th>\n",
       "      <th>AveRooms</th>\n",
       "      <th>AveBedrms</th>\n",
       "      <th>Population</th>\n",
       "      <th>AveOccup</th>\n",
       "      <th>Latitude</th>\n",
       "      <th>Longitude</th>\n",
       "      <th>target</th>\n",
       "    </tr>\n",
       "  </thead>\n",
       "  <tbody>\n",
       "    <tr>\n",
       "      <th>0</th>\n",
       "      <td>8.3252</td>\n",
       "      <td>41.0</td>\n",
       "      <td>6.984127</td>\n",
       "      <td>1.023810</td>\n",
       "      <td>322.0</td>\n",
       "      <td>2.555556</td>\n",
       "      <td>37.88</td>\n",
       "      <td>-122.23</td>\n",
       "      <td>4.526</td>\n",
       "    </tr>\n",
       "    <tr>\n",
       "      <th>1</th>\n",
       "      <td>8.3014</td>\n",
       "      <td>21.0</td>\n",
       "      <td>6.238137</td>\n",
       "      <td>0.971880</td>\n",
       "      <td>2401.0</td>\n",
       "      <td>2.109842</td>\n",
       "      <td>37.86</td>\n",
       "      <td>-122.22</td>\n",
       "      <td>3.585</td>\n",
       "    </tr>\n",
       "    <tr>\n",
       "      <th>2</th>\n",
       "      <td>7.2574</td>\n",
       "      <td>52.0</td>\n",
       "      <td>8.288136</td>\n",
       "      <td>1.073446</td>\n",
       "      <td>496.0</td>\n",
       "      <td>2.802260</td>\n",
       "      <td>37.85</td>\n",
       "      <td>-122.24</td>\n",
       "      <td>3.521</td>\n",
       "    </tr>\n",
       "    <tr>\n",
       "      <th>3</th>\n",
       "      <td>5.6431</td>\n",
       "      <td>52.0</td>\n",
       "      <td>5.817352</td>\n",
       "      <td>1.073059</td>\n",
       "      <td>558.0</td>\n",
       "      <td>2.547945</td>\n",
       "      <td>37.85</td>\n",
       "      <td>-122.25</td>\n",
       "      <td>3.413</td>\n",
       "    </tr>\n",
       "    <tr>\n",
       "      <th>4</th>\n",
       "      <td>3.8462</td>\n",
       "      <td>52.0</td>\n",
       "      <td>6.281853</td>\n",
       "      <td>1.081081</td>\n",
       "      <td>565.0</td>\n",
       "      <td>2.181467</td>\n",
       "      <td>37.85</td>\n",
       "      <td>-122.25</td>\n",
       "      <td>3.422</td>\n",
       "    </tr>\n",
       "  </tbody>\n",
       "</table>\n",
       "</div>"
      ],
      "text/plain": [
       "   MedInc  HouseAge  AveRooms  AveBedrms  Population  AveOccup  Latitude  \\\n",
       "0  8.3252      41.0  6.984127   1.023810       322.0  2.555556     37.88   \n",
       "1  8.3014      21.0  6.238137   0.971880      2401.0  2.109842     37.86   \n",
       "2  7.2574      52.0  8.288136   1.073446       496.0  2.802260     37.85   \n",
       "3  5.6431      52.0  5.817352   1.073059       558.0  2.547945     37.85   \n",
       "4  3.8462      52.0  6.281853   1.081081       565.0  2.181467     37.85   \n",
       "\n",
       "   Longitude  target  \n",
       "0    -122.23   4.526  \n",
       "1    -122.22   3.585  \n",
       "2    -122.24   3.521  \n",
       "3    -122.25   3.413  \n",
       "4    -122.25   3.422  "
      ]
     },
     "execution_count": 56,
     "metadata": {},
     "output_type": "execute_result"
    }
   ],
   "source": [
    "from sklearn.datasets import fetch_california_housing\n",
    "import pandas as pd\n",
    "import numpy as np\n",
    "housing_data = fetch_california_housing()\n",
    "df = pd.DataFrame(np.c_[housing_data.data, housing_data.target], columns=housing_data.feature_names + [\"target\"])\n",
    "df.head()\n",
    "\n",
    "\n",
    "#internetten buldum veri setini görmek icin, asagida kendim DataFrame cevirdim ama sütun isimlerini \n",
    "#göremiyordum"
   ]
  },
  {
   "cell_type": "code",
   "execution_count": null,
   "id": "aadbf1b3",
   "metadata": {},
   "outputs": [],
   "source": []
  },
  {
   "cell_type": "code",
   "execution_count": null,
   "id": "bceb420c",
   "metadata": {},
   "outputs": [],
   "source": [
    "#yukarida veri setini input ve output olarak ayirmistik, simdide bunlari Train ve test olarak bölelim"
   ]
  },
  {
   "cell_type": "code",
   "execution_count": 34,
   "id": "2a2036f9",
   "metadata": {},
   "outputs": [],
   "source": [
    "X_train, X_test, y_train, y_test = train_test_split(X, y, random_state=0)"
   ]
  },
  {
   "cell_type": "code",
   "execution_count": null,
   "id": "9934f21e",
   "metadata": {},
   "outputs": [],
   "source": [
    "print(\"X Train features shape: {}\\ny Train features shape: {}\\nX Test features shape : {}\\nY Test features shape : {}\".format\n",
    "      (X_train.shape, y_train.shape, X_test.shape, y_test.shape))\n",
    "\n",
    "\n",
    "      #train ve testi toplu halde kacar tane oldugunu görmek icin"
   ]
  },
  {
   "cell_type": "code",
   "execution_count": 35,
   "id": "f9abc13e",
   "metadata": {},
   "outputs": [],
   "source": [
    "from sklearn.model_selection import RandomizedSearchCV\n",
    "\n",
    "#simdi Random_forest modelindeki en iyi paremetre kombinasyonu icin RandomizedSearcCV teknigini kullaniyorum\n",
    "#bu teknikte rastgele degerler kullanilir"
   ]
  },
  {
   "cell_type": "code",
   "execution_count": 36,
   "id": "3ecfd289",
   "metadata": {},
   "outputs": [],
   "source": [
    "from scipy.stats import randint\n",
    "\n",
    "#simdi n_estmatre ve max depth parametleri icin rastgele degerler üretelim\n",
    "#rastgele degerler üretmek icin Scipy daki Randint fonsiyonunu import edelim\n",
    "#Randint ile rastgele tamsayilar elde edebiliriz\n",
    "\n",
    "#n_estmatre agac sayisiydi,max_depth te o agacin derinligiydi\n",
    "#simdi biz ragtgele degerler üreterek hangi kombinasyonun iyi oldugunu görecegiz"
   ]
  },
  {
   "cell_type": "code",
   "execution_count": 43,
   "id": "f1fad24a",
   "metadata": {},
   "outputs": [],
   "source": [
    "param_distributions = {'n_estimators' : randint(1,5),\n",
    "                       'max_depth' : randint(5,10)}\n",
    "\n",
    "#simdi randint fonksiyonunu kullanrak parametlerimiz icin rastgele degerler üretelim\n",
    "#bunun icin bir dictinary yapisi kullanacagim"
   ]
  },
  {
   "cell_type": "code",
   "execution_count": 44,
   "id": "405e0189",
   "metadata": {},
   "outputs": [],
   "source": [
    "from sklearn.ensemble import RandomForestRegressor\n",
    "\n",
    "search = RandomizedSearchCV(\n",
    "    estimator = \n",
    "    #(random_state=0),\n",
    "    n_iter=5,  #parametre sayisini gösterir,default 10 gelir\n",
    "    param_distributions = param_distributions,\n",
    "    random_state=0\n",
    "    )\n",
    "#bununla bir RandomizedSearchCV objesi olusturdum ve icine algoritma \n",
    "\n",
    "#simdi bir search cv objesi olusturalim,bunun icin search yazdiktan sonra \n",
    "#RandomizedSearchCV ve icine estimator yaziyorum,ve icine RandomForestRegressor algoritmasini yaziyorum\n",
    "#daha sonra biraz önce olusturdugum distribution degiskenini giriyorum\n",
    "#ve bunuda param_distribution degiskenine atiyorum ve bununda random state argümanina 0 yaziyorum"
   ]
  },
  {
   "cell_type": "code",
   "execution_count": 45,
   "id": "157a571e",
   "metadata": {},
   "outputs": [
    {
     "data": {
      "text/html": [
       "<style>#sk-container-id-1 {color: black;background-color: white;}#sk-container-id-1 pre{padding: 0;}#sk-container-id-1 div.sk-toggleable {background-color: white;}#sk-container-id-1 label.sk-toggleable__label {cursor: pointer;display: block;width: 100%;margin-bottom: 0;padding: 0.3em;box-sizing: border-box;text-align: center;}#sk-container-id-1 label.sk-toggleable__label-arrow:before {content: \"▸\";float: left;margin-right: 0.25em;color: #696969;}#sk-container-id-1 label.sk-toggleable__label-arrow:hover:before {color: black;}#sk-container-id-1 div.sk-estimator:hover label.sk-toggleable__label-arrow:before {color: black;}#sk-container-id-1 div.sk-toggleable__content {max-height: 0;max-width: 0;overflow: hidden;text-align: left;background-color: #f0f8ff;}#sk-container-id-1 div.sk-toggleable__content pre {margin: 0.2em;color: black;border-radius: 0.25em;background-color: #f0f8ff;}#sk-container-id-1 input.sk-toggleable__control:checked~div.sk-toggleable__content {max-height: 200px;max-width: 100%;overflow: auto;}#sk-container-id-1 input.sk-toggleable__control:checked~label.sk-toggleable__label-arrow:before {content: \"▾\";}#sk-container-id-1 div.sk-estimator input.sk-toggleable__control:checked~label.sk-toggleable__label {background-color: #d4ebff;}#sk-container-id-1 div.sk-label input.sk-toggleable__control:checked~label.sk-toggleable__label {background-color: #d4ebff;}#sk-container-id-1 input.sk-hidden--visually {border: 0;clip: rect(1px 1px 1px 1px);clip: rect(1px, 1px, 1px, 1px);height: 1px;margin: -1px;overflow: hidden;padding: 0;position: absolute;width: 1px;}#sk-container-id-1 div.sk-estimator {font-family: monospace;background-color: #f0f8ff;border: 1px dotted black;border-radius: 0.25em;box-sizing: border-box;margin-bottom: 0.5em;}#sk-container-id-1 div.sk-estimator:hover {background-color: #d4ebff;}#sk-container-id-1 div.sk-parallel-item::after {content: \"\";width: 100%;border-bottom: 1px solid gray;flex-grow: 1;}#sk-container-id-1 div.sk-label:hover label.sk-toggleable__label {background-color: #d4ebff;}#sk-container-id-1 div.sk-serial::before {content: \"\";position: absolute;border-left: 1px solid gray;box-sizing: border-box;top: 0;bottom: 0;left: 50%;z-index: 0;}#sk-container-id-1 div.sk-serial {display: flex;flex-direction: column;align-items: center;background-color: white;padding-right: 0.2em;padding-left: 0.2em;position: relative;}#sk-container-id-1 div.sk-item {position: relative;z-index: 1;}#sk-container-id-1 div.sk-parallel {display: flex;align-items: stretch;justify-content: center;background-color: white;position: relative;}#sk-container-id-1 div.sk-item::before, #sk-container-id-1 div.sk-parallel-item::before {content: \"\";position: absolute;border-left: 1px solid gray;box-sizing: border-box;top: 0;bottom: 0;left: 50%;z-index: -1;}#sk-container-id-1 div.sk-parallel-item {display: flex;flex-direction: column;z-index: 1;position: relative;background-color: white;}#sk-container-id-1 div.sk-parallel-item:first-child::after {align-self: flex-end;width: 50%;}#sk-container-id-1 div.sk-parallel-item:last-child::after {align-self: flex-start;width: 50%;}#sk-container-id-1 div.sk-parallel-item:only-child::after {width: 0;}#sk-container-id-1 div.sk-dashed-wrapped {border: 1px dashed gray;margin: 0 0.4em 0.5em 0.4em;box-sizing: border-box;padding-bottom: 0.4em;background-color: white;}#sk-container-id-1 div.sk-label label {font-family: monospace;font-weight: bold;display: inline-block;line-height: 1.2em;}#sk-container-id-1 div.sk-label-container {text-align: center;}#sk-container-id-1 div.sk-container {/* jupyter's `normalize.less` sets `[hidden] { display: none; }` but bootstrap.min.css set `[hidden] { display: none !important; }` so we also need the `!important` here to be able to override the default hidden behavior on the sphinx rendered scikit-learn.org. See: https://github.com/scikit-learn/scikit-learn/issues/21755 */display: inline-block !important;position: relative;}#sk-container-id-1 div.sk-text-repr-fallback {display: none;}</style><div id=\"sk-container-id-1\" class=\"sk-top-container\"><div class=\"sk-text-repr-fallback\"><pre>RandomizedSearchCV(estimator=RandomForestRegressor(random_state=0), n_iter=5,\n",
       "                   param_distributions={&#x27;max_depth&#x27;: &lt;scipy.stats._distn_infrastructure.rv_frozen object at 0x7fb949d0d2e0&gt;,\n",
       "                                        &#x27;n_estimators&#x27;: &lt;scipy.stats._distn_infrastructure.rv_frozen object at 0x7fb95b884d60&gt;},\n",
       "                   random_state=0)</pre><b>In a Jupyter environment, please rerun this cell to show the HTML representation or trust the notebook. <br />On GitHub, the HTML representation is unable to render, please try loading this page with nbviewer.org.</b></div><div class=\"sk-container\" hidden><div class=\"sk-item sk-dashed-wrapped\"><div class=\"sk-label-container\"><div class=\"sk-label sk-toggleable\"><input class=\"sk-toggleable__control sk-hidden--visually\" id=\"sk-estimator-id-1\" type=\"checkbox\" ><label for=\"sk-estimator-id-1\" class=\"sk-toggleable__label sk-toggleable__label-arrow\">RandomizedSearchCV</label><div class=\"sk-toggleable__content\"><pre>RandomizedSearchCV(estimator=RandomForestRegressor(random_state=0), n_iter=5,\n",
       "                   param_distributions={&#x27;max_depth&#x27;: &lt;scipy.stats._distn_infrastructure.rv_frozen object at 0x7fb949d0d2e0&gt;,\n",
       "                                        &#x27;n_estimators&#x27;: &lt;scipy.stats._distn_infrastructure.rv_frozen object at 0x7fb95b884d60&gt;},\n",
       "                   random_state=0)</pre></div></div></div><div class=\"sk-parallel\"><div class=\"sk-parallel-item\"><div class=\"sk-item\"><div class=\"sk-label-container\"><div class=\"sk-label sk-toggleable\"><input class=\"sk-toggleable__control sk-hidden--visually\" id=\"sk-estimator-id-2\" type=\"checkbox\" ><label for=\"sk-estimator-id-2\" class=\"sk-toggleable__label sk-toggleable__label-arrow\">estimator: RandomForestRegressor</label><div class=\"sk-toggleable__content\"><pre>RandomForestRegressor(random_state=0)</pre></div></div></div><div class=\"sk-serial\"><div class=\"sk-item\"><div class=\"sk-estimator sk-toggleable\"><input class=\"sk-toggleable__control sk-hidden--visually\" id=\"sk-estimator-id-3\" type=\"checkbox\" ><label for=\"sk-estimator-id-3\" class=\"sk-toggleable__label sk-toggleable__label-arrow\">RandomForestRegressor</label><div class=\"sk-toggleable__content\"><pre>RandomForestRegressor(random_state=0)</pre></div></div></div></div></div></div></div></div></div></div>"
      ],
      "text/plain": [
       "RandomizedSearchCV(estimator=RandomForestRegressor(random_state=0), n_iter=5,\n",
       "                   param_distributions={'max_depth': <scipy.stats._distn_infrastructure.rv_frozen object at 0x7fb949d0d2e0>,\n",
       "                                        'n_estimators': <scipy.stats._distn_infrastructure.rv_frozen object at 0x7fb95b884d60>},\n",
       "                   random_state=0)"
      ]
     },
     "execution_count": 45,
     "metadata": {},
     "output_type": "execute_result"
    }
   ],
   "source": [
    "search.fit(X_train, y_train)\n",
    "\n",
    "#simdide egitim verisini bu objeye fit edelim\n",
    "#search fit yazip daha sonra icine egitim verilerini , ve test verilerini yaziyorum\n",
    "#bu asamada modeli egitmek istiyorum,\n",
    "#calistiriyorum, böylece cesitli parametre kombinasyonlarina göre modeller kuruldu\n"
   ]
  },
  {
   "cell_type": "code",
   "execution_count": 46,
   "id": "45c59554",
   "metadata": {},
   "outputs": [
    {
     "data": {
      "text/plain": [
       "{'max_depth': 6, 'n_estimators': 4}"
      ]
     },
     "execution_count": 46,
     "metadata": {},
     "output_type": "execute_result"
    }
   ],
   "source": [
    "search.best_params_\n",
    "\n",
    "##en iyi parametleri görmek icin best_param yöntemini kullanalim\n",
    "#en iyi model icin parametre degerleri ekrana yazildi\n",
    "#en iyi model icin maksimum derinlik 9, n_estimators(agac sayisida 4 olarak bulduk)\n",
    "\n",
    "#search oblesi normal bir randomForestTahmincisi gibi calisir,cünkü search kurarken yukarda icine \n",
    "#RandomForestRegressor yazdik"
   ]
  },
  {
   "cell_type": "code",
   "execution_count": 47,
   "id": "2c7a3b53",
   "metadata": {},
   "outputs": [
    {
     "data": {
      "text/plain": [
       "0.7788725979660921"
      ]
     },
     "execution_count": 47,
     "metadata": {},
     "output_type": "execute_result"
    }
   ],
   "source": [
    "search.score(X_test,y_test)\n",
    "\n",
    "#simdi bu en iyi parametreler ile, test verisi ile modelim performansini görelim"
   ]
  },
  {
   "cell_type": "code",
   "execution_count": null,
   "id": "97055ea7",
   "metadata": {},
   "outputs": [],
   "source": []
  },
  {
   "cell_type": "code",
   "execution_count": null,
   "id": "e1cf8236",
   "metadata": {},
   "outputs": [],
   "source": []
  },
  {
   "cell_type": "code",
   "execution_count": null,
   "id": "1cbc9490",
   "metadata": {},
   "outputs": [],
   "source": []
  },
  {
   "cell_type": "markdown",
   "id": "2618a9b9",
   "metadata": {},
   "source": [
    "# Preprocessing (veri ön isleme)"
   ]
  },
  {
   "cell_type": "code",
   "execution_count": null,
   "id": "d4d84e98",
   "metadata": {},
   "outputs": [],
   "source": [
    "#!pip install movecolumn\n",
    "import movecolumn as mc\n",
    "df=mc.MoveToLast(df,'DODRace')\n",
    "df.head()\n",
    "\n",
    "# target sütununu columns en sona atiyor,corr'da ve pairplot'ta görmesi kolay oluyor"
   ]
  },
  {
   "cell_type": "markdown",
   "id": "0e762ed6",
   "metadata": {},
   "source": [
    "#### Data Scaling"
   ]
  },
  {
   "cell_type": "code",
   "execution_count": null,
   "id": "0a0e5002",
   "metadata": {},
   "outputs": [],
   "source": [
    "#Veriyi standartlasrima veriyi kücültüp ölceklendirip,örnegin 24 sayisini sclaling ettigimde 1 oldu,\n",
    "#ve diger sayilarda 1 oldu,ama eger veride 24 sayisi 80ci siradaysa yine 80ci sirada kalir"
   ]
  },
  {
   "cell_type": "markdown",
   "id": "0790f51a",
   "metadata": {},
   "source": [
    "1-yol"
   ]
  },
  {
   "cell_type": "code",
   "execution_count": null,
   "id": "4401120f",
   "metadata": {},
   "outputs": [],
   "source": [
    "from sklearn.preprocessing import StandardScaler   "
   ]
  },
  {
   "cell_type": "code",
   "execution_count": null,
   "id": "63fb9ccb",
   "metadata": {},
   "outputs": [],
   "source": [
    "X = [[0,15,2],\n",
    "    [1,-10,3]] "
   ]
  },
  {
   "cell_type": "code",
   "execution_count": null,
   "id": "7ad7f817",
   "metadata": {},
   "outputs": [],
   "source": [
    "StandardScaler().fit(X).transform(X)\n",
    "#burda verimizin yapisi ortalamasi falan degisiyor ama, verinin konumlari ayni kaliyor\n",
    "\n",
    "#burdan görüyorum ki veriler -1 ve 1 degerlerine dönüstü\n",
    "\n",
    "array([[-1.,  1., -1.],\n",
    "       [ 1., -1.,  1.]]) #böyle cikti veriyor"
   ]
  },
  {
   "cell_type": "code",
   "execution_count": null,
   "id": "cc27679b",
   "metadata": {},
   "outputs": [],
   "source": []
  },
  {
   "cell_type": "markdown",
   "id": "392c2c31",
   "metadata": {},
   "source": [
    "2-yol"
   ]
  },
  {
   "cell_type": "code",
   "execution_count": null,
   "id": "81e34195",
   "metadata": {},
   "outputs": [],
   "source": [
    "from sklearn import preprocessing"
   ]
  },
  {
   "cell_type": "code",
   "execution_count": null,
   "id": "7f5f67dc",
   "metadata": {},
   "outputs": [],
   "source": [
    "preprocessing.scale(df)\n",
    "\n",
    "#standartlastirma islemleri verinin orjinal yapisini bozmaz"
   ]
  },
  {
   "cell_type": "code",
   "execution_count": null,
   "id": "ccfae5f3",
   "metadata": {},
   "outputs": [],
   "source": []
  },
  {
   "cell_type": "markdown",
   "id": "783d0289",
   "metadata": {},
   "source": [
    "#### Normallestirme "
   ]
  },
  {
   "cell_type": "code",
   "execution_count": null,
   "id": "2e98af34",
   "metadata": {},
   "outputs": [],
   "source": [
    "from sklearn import preprocessing\n",
    "preprocessing.normalize(df)\n",
    "\n",
    "#degerleri 0 ile 1 arasina dönüstürmek icin kullanilir"
   ]
  },
  {
   "cell_type": "markdown",
   "id": "e186f174",
   "metadata": {},
   "source": [
    "#### Min-Max araliginda dönüstürme"
   ]
  },
  {
   "cell_type": "code",
   "execution_count": null,
   "id": "c2c2c3a3",
   "metadata": {},
   "outputs": [],
   "source": [
    "scaler = preprocessing.MinMaxscaler(feature_range=(10,20))   #10 ve 20 arasinda scaling yapiyoruz \n",
    "\n",
    "scaler.fit_transform(df) #yukarida dönüstürücü kurduk,burda df e uyguladik "
   ]
  },
  {
   "cell_type": "code",
   "execution_count": null,
   "id": "5df9e4b0",
   "metadata": {},
   "outputs": [],
   "source": []
  },
  {
   "cell_type": "code",
   "execution_count": 10,
   "id": "eb811038",
   "metadata": {},
   "outputs": [
    {
     "data": {
      "text/html": [
       "<div>\n",
       "<style scoped>\n",
       "    .dataframe tbody tr th:only-of-type {\n",
       "        vertical-align: middle;\n",
       "    }\n",
       "\n",
       "    .dataframe tbody tr th {\n",
       "        vertical-align: top;\n",
       "    }\n",
       "\n",
       "    .dataframe thead th {\n",
       "        text-align: right;\n",
       "    }\n",
       "</style>\n",
       "<table border=\"1\" class=\"dataframe\">\n",
       "  <thead>\n",
       "    <tr style=\"text-align: right;\">\n",
       "      <th></th>\n",
       "      <th>total_bill</th>\n",
       "      <th>tip</th>\n",
       "      <th>sex</th>\n",
       "      <th>smoker</th>\n",
       "      <th>day</th>\n",
       "      <th>time</th>\n",
       "      <th>size</th>\n",
       "    </tr>\n",
       "  </thead>\n",
       "  <tbody>\n",
       "    <tr>\n",
       "      <th>0</th>\n",
       "      <td>16.99</td>\n",
       "      <td>1.01</td>\n",
       "      <td>Female</td>\n",
       "      <td>No</td>\n",
       "      <td>Sun</td>\n",
       "      <td>Dinner</td>\n",
       "      <td>2</td>\n",
       "    </tr>\n",
       "    <tr>\n",
       "      <th>1</th>\n",
       "      <td>10.34</td>\n",
       "      <td>1.66</td>\n",
       "      <td>Male</td>\n",
       "      <td>No</td>\n",
       "      <td>Sun</td>\n",
       "      <td>Dinner</td>\n",
       "      <td>3</td>\n",
       "    </tr>\n",
       "    <tr>\n",
       "      <th>2</th>\n",
       "      <td>21.01</td>\n",
       "      <td>3.50</td>\n",
       "      <td>Male</td>\n",
       "      <td>No</td>\n",
       "      <td>Sun</td>\n",
       "      <td>Dinner</td>\n",
       "      <td>3</td>\n",
       "    </tr>\n",
       "    <tr>\n",
       "      <th>3</th>\n",
       "      <td>23.68</td>\n",
       "      <td>3.31</td>\n",
       "      <td>Male</td>\n",
       "      <td>No</td>\n",
       "      <td>Sun</td>\n",
       "      <td>Dinner</td>\n",
       "      <td>2</td>\n",
       "    </tr>\n",
       "    <tr>\n",
       "      <th>4</th>\n",
       "      <td>24.59</td>\n",
       "      <td>3.61</td>\n",
       "      <td>Female</td>\n",
       "      <td>No</td>\n",
       "      <td>Sun</td>\n",
       "      <td>Dinner</td>\n",
       "      <td>4</td>\n",
       "    </tr>\n",
       "  </tbody>\n",
       "</table>\n",
       "</div>"
      ],
      "text/plain": [
       "   total_bill   tip     sex smoker  day    time  size\n",
       "0       16.99  1.01  Female     No  Sun  Dinner     2\n",
       "1       10.34  1.66    Male     No  Sun  Dinner     3\n",
       "2       21.01  3.50    Male     No  Sun  Dinner     3\n",
       "3       23.68  3.31    Male     No  Sun  Dinner     2\n",
       "4       24.59  3.61  Female     No  Sun  Dinner     4"
      ]
     },
     "execution_count": 10,
     "metadata": {},
     "output_type": "execute_result"
    }
   ],
   "source": [
    "import seaborn as sns\n",
    "import pandas as ps\n",
    "df = sns.load_dataset('tips')\n",
    "df.head()"
   ]
  },
  {
   "cell_type": "markdown",
   "id": "f04572e9",
   "metadata": {},
   "source": [
    "#### 0-1 verileri arasina dönüstürme "
   ]
  },
  {
   "cell_type": "markdown",
   "id": "6efbf7b5",
   "metadata": {},
   "source": [
    "LabelEncoder modeli ile"
   ]
  },
  {
   "cell_type": "code",
   "execution_count": 11,
   "id": "588c981e",
   "metadata": {},
   "outputs": [
    {
     "data": {
      "text/plain": [
       "array([0, 1, 1, 1, 0, 1, 1, 1, 1, 1, 1, 0, 1, 1, 0, 1, 0, 1, 0, 1, 1, 0,\n",
       "       0, 1, 1, 1, 1, 1, 1, 0, 1, 1, 0, 0, 1, 1, 1, 0, 1, 1, 1, 1, 1, 1,\n",
       "       1, 1, 1, 1, 1, 1, 1, 0, 0, 1, 1, 1, 1, 0, 1, 1, 1, 1, 1, 1, 1, 1,\n",
       "       0, 0, 1, 1, 1, 0, 0, 0, 0, 1, 1, 1, 1, 1, 1, 1, 0, 1, 1, 0, 1, 1,\n",
       "       1, 1, 1, 1, 0, 0, 0, 1, 1, 1, 1, 1, 0, 0, 0, 0, 0, 1, 1, 1, 1, 0,\n",
       "       1, 0, 1, 1, 0, 0, 1, 0, 0, 0, 1, 0, 1, 1, 0, 0, 1, 0, 0, 1, 1, 0,\n",
       "       0, 0, 0, 0, 0, 0, 1, 0, 0, 1, 1, 0, 0, 0, 0, 0, 1, 1, 1, 1, 1, 1,\n",
       "       1, 0, 1, 0, 0, 1, 1, 1, 0, 1, 0, 1, 1, 1, 0, 0, 1, 1, 1, 1, 1, 1,\n",
       "       1, 1, 0, 1, 1, 1, 1, 1, 1, 1, 0, 1, 0, 1, 1, 0, 1, 1, 1, 1, 1, 0,\n",
       "       0, 1, 1, 0, 0, 0, 1, 0, 1, 1, 1, 0, 1, 1, 1, 0, 0, 0, 1, 1, 1, 0,\n",
       "       1, 0, 1, 0, 1, 0, 0, 1, 1, 0, 1, 1, 1, 1, 1, 1, 1, 1, 0, 1, 0, 1,\n",
       "       1, 0])"
      ]
     },
     "execution_count": 11,
     "metadata": {},
     "output_type": "execute_result"
    }
   ],
   "source": [
    "from sklearn.preprocessing import LabelEncoder\n",
    "lbe = LabelEncoder()   #model cagirdim\n",
    "\n",
    "lbe.fit_transform(df['sex'])\n",
    "\n",
    "\n",
    "#ben tip datasindaki sex i,0 ve 1 diye categoriglestirmek istiyorum"
   ]
  },
  {
   "cell_type": "code",
   "execution_count": 13,
   "id": "0498bfd7",
   "metadata": {},
   "outputs": [
    {
     "data": {
      "text/html": [
       "<div>\n",
       "<style scoped>\n",
       "    .dataframe tbody tr th:only-of-type {\n",
       "        vertical-align: middle;\n",
       "    }\n",
       "\n",
       "    .dataframe tbody tr th {\n",
       "        vertical-align: top;\n",
       "    }\n",
       "\n",
       "    .dataframe thead th {\n",
       "        text-align: right;\n",
       "    }\n",
       "</style>\n",
       "<table border=\"1\" class=\"dataframe\">\n",
       "  <thead>\n",
       "    <tr style=\"text-align: right;\">\n",
       "      <th></th>\n",
       "      <th>total_bill</th>\n",
       "      <th>tip</th>\n",
       "      <th>sex</th>\n",
       "      <th>smoker</th>\n",
       "      <th>day</th>\n",
       "      <th>time</th>\n",
       "      <th>size</th>\n",
       "      <th>yeni_sex</th>\n",
       "    </tr>\n",
       "  </thead>\n",
       "  <tbody>\n",
       "    <tr>\n",
       "      <th>0</th>\n",
       "      <td>16.99</td>\n",
       "      <td>1.01</td>\n",
       "      <td>Female</td>\n",
       "      <td>No</td>\n",
       "      <td>Sun</td>\n",
       "      <td>Dinner</td>\n",
       "      <td>2</td>\n",
       "      <td>0</td>\n",
       "    </tr>\n",
       "    <tr>\n",
       "      <th>1</th>\n",
       "      <td>10.34</td>\n",
       "      <td>1.66</td>\n",
       "      <td>Male</td>\n",
       "      <td>No</td>\n",
       "      <td>Sun</td>\n",
       "      <td>Dinner</td>\n",
       "      <td>3</td>\n",
       "      <td>1</td>\n",
       "    </tr>\n",
       "    <tr>\n",
       "      <th>2</th>\n",
       "      <td>21.01</td>\n",
       "      <td>3.50</td>\n",
       "      <td>Male</td>\n",
       "      <td>No</td>\n",
       "      <td>Sun</td>\n",
       "      <td>Dinner</td>\n",
       "      <td>3</td>\n",
       "      <td>1</td>\n",
       "    </tr>\n",
       "    <tr>\n",
       "      <th>3</th>\n",
       "      <td>23.68</td>\n",
       "      <td>3.31</td>\n",
       "      <td>Male</td>\n",
       "      <td>No</td>\n",
       "      <td>Sun</td>\n",
       "      <td>Dinner</td>\n",
       "      <td>2</td>\n",
       "      <td>1</td>\n",
       "    </tr>\n",
       "    <tr>\n",
       "      <th>4</th>\n",
       "      <td>24.59</td>\n",
       "      <td>3.61</td>\n",
       "      <td>Female</td>\n",
       "      <td>No</td>\n",
       "      <td>Sun</td>\n",
       "      <td>Dinner</td>\n",
       "      <td>4</td>\n",
       "      <td>0</td>\n",
       "    </tr>\n",
       "  </tbody>\n",
       "</table>\n",
       "</div>"
      ],
      "text/plain": [
       "   total_bill   tip     sex smoker  day    time  size  yeni_sex\n",
       "0       16.99  1.01  Female     No  Sun  Dinner     2         0\n",
       "1       10.34  1.66    Male     No  Sun  Dinner     3         1\n",
       "2       21.01  3.50    Male     No  Sun  Dinner     3         1\n",
       "3       23.68  3.31    Male     No  Sun  Dinner     2         1\n",
       "4       24.59  3.61  Female     No  Sun  Dinner     4         0"
      ]
     },
     "execution_count": 13,
     "metadata": {},
     "output_type": "execute_result"
    }
   ],
   "source": [
    "df['yeni_sex'] = lbe.fit_transform(df['sex'])  #dönüstürdügünü yeni sutuna atmak iyi olur\n",
    "df.head()"
   ]
  },
  {
   "cell_type": "code",
   "execution_count": null,
   "id": "798ce4f9",
   "metadata": {},
   "outputs": [],
   "source": []
  },
  {
   "cell_type": "markdown",
   "id": "b112f37f",
   "metadata": {},
   "source": [
    "2- cat.codes fonksiyonu ile "
   ]
  },
  {
   "cell_type": "code",
   "execution_count": null,
   "id": "3af3434c",
   "metadata": {},
   "outputs": [],
   "source": [
    "df['sex'] = df['sex'].cat.codes     #yaparsan erkek ve kadinlari 0 ve 1 diye categorilestirir"
   ]
  },
  {
   "cell_type": "code",
   "execution_count": null,
   "id": "369b4d5f",
   "metadata": {},
   "outputs": [],
   "source": []
  },
  {
   "cell_type": "code",
   "execution_count": null,
   "id": "0a1e77e6",
   "metadata": {},
   "outputs": [],
   "source": []
  },
  {
   "cell_type": "code",
   "execution_count": null,
   "id": "6305764e",
   "metadata": {},
   "outputs": [],
   "source": []
  },
  {
   "cell_type": "markdown",
   "id": "4a3308f2",
   "metadata": {},
   "source": [
    "#### istedigine 1 digerlerine 0 verme islemi"
   ]
  },
  {
   "cell_type": "code",
   "execution_count": 15,
   "id": "a3f00b3d",
   "metadata": {},
   "outputs": [
    {
     "data": {
      "text/html": [
       "<div>\n",
       "<style scoped>\n",
       "    .dataframe tbody tr th:only-of-type {\n",
       "        vertical-align: middle;\n",
       "    }\n",
       "\n",
       "    .dataframe tbody tr th {\n",
       "        vertical-align: top;\n",
       "    }\n",
       "\n",
       "    .dataframe thead th {\n",
       "        text-align: right;\n",
       "    }\n",
       "</style>\n",
       "<table border=\"1\" class=\"dataframe\">\n",
       "  <thead>\n",
       "    <tr style=\"text-align: right;\">\n",
       "      <th></th>\n",
       "      <th>total_bill</th>\n",
       "      <th>tip</th>\n",
       "      <th>sex</th>\n",
       "      <th>smoker</th>\n",
       "      <th>day</th>\n",
       "      <th>time</th>\n",
       "      <th>size</th>\n",
       "      <th>yeni_sex</th>\n",
       "      <th>yeni day</th>\n",
       "    </tr>\n",
       "  </thead>\n",
       "  <tbody>\n",
       "    <tr>\n",
       "      <th>0</th>\n",
       "      <td>16.99</td>\n",
       "      <td>1.01</td>\n",
       "      <td>Female</td>\n",
       "      <td>No</td>\n",
       "      <td>Sun</td>\n",
       "      <td>Dinner</td>\n",
       "      <td>2</td>\n",
       "      <td>0</td>\n",
       "      <td>1</td>\n",
       "    </tr>\n",
       "    <tr>\n",
       "      <th>1</th>\n",
       "      <td>10.34</td>\n",
       "      <td>1.66</td>\n",
       "      <td>Male</td>\n",
       "      <td>No</td>\n",
       "      <td>Sun</td>\n",
       "      <td>Dinner</td>\n",
       "      <td>3</td>\n",
       "      <td>1</td>\n",
       "      <td>1</td>\n",
       "    </tr>\n",
       "    <tr>\n",
       "      <th>2</th>\n",
       "      <td>21.01</td>\n",
       "      <td>3.50</td>\n",
       "      <td>Male</td>\n",
       "      <td>No</td>\n",
       "      <td>Sun</td>\n",
       "      <td>Dinner</td>\n",
       "      <td>3</td>\n",
       "      <td>1</td>\n",
       "      <td>1</td>\n",
       "    </tr>\n",
       "    <tr>\n",
       "      <th>3</th>\n",
       "      <td>23.68</td>\n",
       "      <td>3.31</td>\n",
       "      <td>Male</td>\n",
       "      <td>No</td>\n",
       "      <td>Sun</td>\n",
       "      <td>Dinner</td>\n",
       "      <td>2</td>\n",
       "      <td>1</td>\n",
       "      <td>1</td>\n",
       "    </tr>\n",
       "    <tr>\n",
       "      <th>4</th>\n",
       "      <td>24.59</td>\n",
       "      <td>3.61</td>\n",
       "      <td>Female</td>\n",
       "      <td>No</td>\n",
       "      <td>Sun</td>\n",
       "      <td>Dinner</td>\n",
       "      <td>4</td>\n",
       "      <td>0</td>\n",
       "      <td>1</td>\n",
       "    </tr>\n",
       "    <tr>\n",
       "      <th>...</th>\n",
       "      <td>...</td>\n",
       "      <td>...</td>\n",
       "      <td>...</td>\n",
       "      <td>...</td>\n",
       "      <td>...</td>\n",
       "      <td>...</td>\n",
       "      <td>...</td>\n",
       "      <td>...</td>\n",
       "      <td>...</td>\n",
       "    </tr>\n",
       "    <tr>\n",
       "      <th>239</th>\n",
       "      <td>29.03</td>\n",
       "      <td>5.92</td>\n",
       "      <td>Male</td>\n",
       "      <td>No</td>\n",
       "      <td>Sat</td>\n",
       "      <td>Dinner</td>\n",
       "      <td>3</td>\n",
       "      <td>1</td>\n",
       "      <td>0</td>\n",
       "    </tr>\n",
       "    <tr>\n",
       "      <th>240</th>\n",
       "      <td>27.18</td>\n",
       "      <td>2.00</td>\n",
       "      <td>Female</td>\n",
       "      <td>Yes</td>\n",
       "      <td>Sat</td>\n",
       "      <td>Dinner</td>\n",
       "      <td>2</td>\n",
       "      <td>0</td>\n",
       "      <td>0</td>\n",
       "    </tr>\n",
       "    <tr>\n",
       "      <th>241</th>\n",
       "      <td>22.67</td>\n",
       "      <td>2.00</td>\n",
       "      <td>Male</td>\n",
       "      <td>Yes</td>\n",
       "      <td>Sat</td>\n",
       "      <td>Dinner</td>\n",
       "      <td>2</td>\n",
       "      <td>1</td>\n",
       "      <td>0</td>\n",
       "    </tr>\n",
       "    <tr>\n",
       "      <th>242</th>\n",
       "      <td>17.82</td>\n",
       "      <td>1.75</td>\n",
       "      <td>Male</td>\n",
       "      <td>No</td>\n",
       "      <td>Sat</td>\n",
       "      <td>Dinner</td>\n",
       "      <td>2</td>\n",
       "      <td>1</td>\n",
       "      <td>0</td>\n",
       "    </tr>\n",
       "    <tr>\n",
       "      <th>243</th>\n",
       "      <td>18.78</td>\n",
       "      <td>3.00</td>\n",
       "      <td>Female</td>\n",
       "      <td>No</td>\n",
       "      <td>Thur</td>\n",
       "      <td>Dinner</td>\n",
       "      <td>2</td>\n",
       "      <td>0</td>\n",
       "      <td>0</td>\n",
       "    </tr>\n",
       "  </tbody>\n",
       "</table>\n",
       "<p>244 rows × 9 columns</p>\n",
       "</div>"
      ],
      "text/plain": [
       "     total_bill   tip     sex smoker   day    time  size  yeni_sex  yeni day\n",
       "0         16.99  1.01  Female     No   Sun  Dinner     2         0         1\n",
       "1         10.34  1.66    Male     No   Sun  Dinner     3         1         1\n",
       "2         21.01  3.50    Male     No   Sun  Dinner     3         1         1\n",
       "3         23.68  3.31    Male     No   Sun  Dinner     2         1         1\n",
       "4         24.59  3.61  Female     No   Sun  Dinner     4         0         1\n",
       "..          ...   ...     ...    ...   ...     ...   ...       ...       ...\n",
       "239       29.03  5.92    Male     No   Sat  Dinner     3         1         0\n",
       "240       27.18  2.00  Female    Yes   Sat  Dinner     2         0         0\n",
       "241       22.67  2.00    Male    Yes   Sat  Dinner     2         1         0\n",
       "242       17.82  1.75    Male     No   Sat  Dinner     2         1         0\n",
       "243       18.78  3.00  Female     No  Thur  Dinner     2         0         0\n",
       "\n",
       "[244 rows x 9 columns]"
      ]
     },
     "execution_count": 15,
     "metadata": {},
     "output_type": "execute_result"
    }
   ],
   "source": [
    "import numpy as np\n",
    "df['yeni day'] = np.where(df['day'].str.contains('Sun'),1,0)\n",
    "df"
   ]
  },
  {
   "cell_type": "markdown",
   "id": "4de86339",
   "metadata": {},
   "source": [
    "#### Cok degiskenli dönüsüm "
   ]
  },
  {
   "cell_type": "code",
   "execution_count": 18,
   "id": "acf3e57d",
   "metadata": {},
   "outputs": [
    {
     "data": {
      "text/html": [
       "<div>\n",
       "<style scoped>\n",
       "    .dataframe tbody tr th:only-of-type {\n",
       "        vertical-align: middle;\n",
       "    }\n",
       "\n",
       "    .dataframe tbody tr th {\n",
       "        vertical-align: top;\n",
       "    }\n",
       "\n",
       "    .dataframe thead th {\n",
       "        text-align: right;\n",
       "    }\n",
       "</style>\n",
       "<table border=\"1\" class=\"dataframe\">\n",
       "  <thead>\n",
       "    <tr style=\"text-align: right;\">\n",
       "      <th></th>\n",
       "      <th>total_bill</th>\n",
       "      <th>tip</th>\n",
       "      <th>sex</th>\n",
       "      <th>smoker</th>\n",
       "      <th>day</th>\n",
       "      <th>time</th>\n",
       "      <th>size</th>\n",
       "      <th>yeni_sex</th>\n",
       "      <th>yeni day</th>\n",
       "    </tr>\n",
       "  </thead>\n",
       "  <tbody>\n",
       "    <tr>\n",
       "      <th>0</th>\n",
       "      <td>16.99</td>\n",
       "      <td>1.01</td>\n",
       "      <td>Female</td>\n",
       "      <td>No</td>\n",
       "      <td>Sun</td>\n",
       "      <td>Dinner</td>\n",
       "      <td>2</td>\n",
       "      <td>0</td>\n",
       "      <td>1</td>\n",
       "    </tr>\n",
       "    <tr>\n",
       "      <th>1</th>\n",
       "      <td>10.34</td>\n",
       "      <td>1.66</td>\n",
       "      <td>Male</td>\n",
       "      <td>No</td>\n",
       "      <td>Sun</td>\n",
       "      <td>Dinner</td>\n",
       "      <td>3</td>\n",
       "      <td>1</td>\n",
       "      <td>1</td>\n",
       "    </tr>\n",
       "    <tr>\n",
       "      <th>2</th>\n",
       "      <td>21.01</td>\n",
       "      <td>3.50</td>\n",
       "      <td>Male</td>\n",
       "      <td>No</td>\n",
       "      <td>Sun</td>\n",
       "      <td>Dinner</td>\n",
       "      <td>3</td>\n",
       "      <td>1</td>\n",
       "      <td>1</td>\n",
       "    </tr>\n",
       "    <tr>\n",
       "      <th>3</th>\n",
       "      <td>23.68</td>\n",
       "      <td>3.31</td>\n",
       "      <td>Male</td>\n",
       "      <td>No</td>\n",
       "      <td>Sun</td>\n",
       "      <td>Dinner</td>\n",
       "      <td>2</td>\n",
       "      <td>1</td>\n",
       "      <td>1</td>\n",
       "    </tr>\n",
       "    <tr>\n",
       "      <th>4</th>\n",
       "      <td>24.59</td>\n",
       "      <td>3.61</td>\n",
       "      <td>Female</td>\n",
       "      <td>No</td>\n",
       "      <td>Sun</td>\n",
       "      <td>Dinner</td>\n",
       "      <td>4</td>\n",
       "      <td>0</td>\n",
       "      <td>1</td>\n",
       "    </tr>\n",
       "  </tbody>\n",
       "</table>\n",
       "</div>"
      ],
      "text/plain": [
       "   total_bill   tip     sex smoker  day    time  size  yeni_sex  yeni day\n",
       "0       16.99  1.01  Female     No  Sun  Dinner     2         0         1\n",
       "1       10.34  1.66    Male     No  Sun  Dinner     3         1         1\n",
       "2       21.01  3.50    Male     No  Sun  Dinner     3         1         1\n",
       "3       23.68  3.31    Male     No  Sun  Dinner     2         1         1\n",
       "4       24.59  3.61  Female     No  Sun  Dinner     4         0         1"
      ]
     },
     "execution_count": 18,
     "metadata": {},
     "output_type": "execute_result"
    }
   ],
   "source": [
    "from sklearn.preprocessing import LabelEncoder  \n",
    "lbe = LabelEncoder()   #model cagirdim\n",
    "\n",
    "lbe.fit_transform(df['day'])\n",
    "\n",
    "\n",
    "#bu yapacagim islem yukaridaki 0-1 arasina dönüstürme islemi ile ayni ama ilaveten bir iselm daha \n",
    "#yapaagimiz icin yaziyorum, \n",
    "#bu yapacagimiz islemin amaci, Sun ve günleri 0,1,2,3 gibi siniflandirinca ,makina bunu \n",
    "\n",
    "df['yeni_sex'] = lbe.fit_transform(df['sex'])  #dönüstürdügünü yeni sutuna atmak iyi olur\n",
    "df.head()"
   ]
  },
  {
   "cell_type": "markdown",
   "id": "356f04f9",
   "metadata": {},
   "source": [
    "#### one_hot yani get_dummies"
   ]
  },
  {
   "cell_type": "code",
   "execution_count": 22,
   "id": "8d7e7bb7",
   "metadata": {},
   "outputs": [
    {
     "data": {
      "text/html": [
       "<div>\n",
       "<style scoped>\n",
       "    .dataframe tbody tr th:only-of-type {\n",
       "        vertical-align: middle;\n",
       "    }\n",
       "\n",
       "    .dataframe tbody tr th {\n",
       "        vertical-align: top;\n",
       "    }\n",
       "\n",
       "    .dataframe thead th {\n",
       "        text-align: right;\n",
       "    }\n",
       "</style>\n",
       "<table border=\"1\" class=\"dataframe\">\n",
       "  <thead>\n",
       "    <tr style=\"text-align: right;\">\n",
       "      <th></th>\n",
       "      <th>total_bill</th>\n",
       "      <th>tip</th>\n",
       "      <th>smoker</th>\n",
       "      <th>day</th>\n",
       "      <th>time</th>\n",
       "      <th>size</th>\n",
       "      <th>yeni_sex</th>\n",
       "      <th>yeni day</th>\n",
       "      <th>sex_Male</th>\n",
       "      <th>sex_Female</th>\n",
       "    </tr>\n",
       "  </thead>\n",
       "  <tbody>\n",
       "    <tr>\n",
       "      <th>0</th>\n",
       "      <td>16.99</td>\n",
       "      <td>1.01</td>\n",
       "      <td>No</td>\n",
       "      <td>Sun</td>\n",
       "      <td>Dinner</td>\n",
       "      <td>2</td>\n",
       "      <td>0</td>\n",
       "      <td>1</td>\n",
       "      <td>0</td>\n",
       "      <td>1</td>\n",
       "    </tr>\n",
       "    <tr>\n",
       "      <th>1</th>\n",
       "      <td>10.34</td>\n",
       "      <td>1.66</td>\n",
       "      <td>No</td>\n",
       "      <td>Sun</td>\n",
       "      <td>Dinner</td>\n",
       "      <td>3</td>\n",
       "      <td>1</td>\n",
       "      <td>1</td>\n",
       "      <td>1</td>\n",
       "      <td>0</td>\n",
       "    </tr>\n",
       "    <tr>\n",
       "      <th>2</th>\n",
       "      <td>21.01</td>\n",
       "      <td>3.50</td>\n",
       "      <td>No</td>\n",
       "      <td>Sun</td>\n",
       "      <td>Dinner</td>\n",
       "      <td>3</td>\n",
       "      <td>1</td>\n",
       "      <td>1</td>\n",
       "      <td>1</td>\n",
       "      <td>0</td>\n",
       "    </tr>\n",
       "    <tr>\n",
       "      <th>3</th>\n",
       "      <td>23.68</td>\n",
       "      <td>3.31</td>\n",
       "      <td>No</td>\n",
       "      <td>Sun</td>\n",
       "      <td>Dinner</td>\n",
       "      <td>2</td>\n",
       "      <td>1</td>\n",
       "      <td>1</td>\n",
       "      <td>1</td>\n",
       "      <td>0</td>\n",
       "    </tr>\n",
       "    <tr>\n",
       "      <th>4</th>\n",
       "      <td>24.59</td>\n",
       "      <td>3.61</td>\n",
       "      <td>No</td>\n",
       "      <td>Sun</td>\n",
       "      <td>Dinner</td>\n",
       "      <td>4</td>\n",
       "      <td>0</td>\n",
       "      <td>1</td>\n",
       "      <td>0</td>\n",
       "      <td>1</td>\n",
       "    </tr>\n",
       "  </tbody>\n",
       "</table>\n",
       "</div>"
      ],
      "text/plain": [
       "   total_bill   tip smoker  day    time  size  yeni_sex  yeni day  sex_Male  \\\n",
       "0       16.99  1.01     No  Sun  Dinner     2         0         1         0   \n",
       "1       10.34  1.66     No  Sun  Dinner     3         1         1         1   \n",
       "2       21.01  3.50     No  Sun  Dinner     3         1         1         1   \n",
       "3       23.68  3.31     No  Sun  Dinner     2         1         1         1   \n",
       "4       24.59  3.61     No  Sun  Dinner     4         0         1         0   \n",
       "\n",
       "   sex_Female  \n",
       "0           1  \n",
       "1           0  \n",
       "2           0  \n",
       "3           0  \n",
       "4           1  "
      ]
     },
     "execution_count": 22,
     "metadata": {},
     "output_type": "execute_result"
    }
   ],
   "source": [
    "import pandas as pd\n",
    "df_one_hot = pd.get_dummies(df, columns = ['sex'], prefix = ['sex'])  #prefix sex_Male olmasi icin,ön ek\n",
    "df_one_hot.head()\n",
    "\n",
    "#burda iki taneyi yapinca ayni bilgiyi veren 3 sütun oldu,buda kacinmamiz gereken bir durum"
   ]
  },
  {
   "cell_type": "code",
   "execution_count": 23,
   "id": "1122e4ed",
   "metadata": {},
   "outputs": [
    {
     "data": {
      "text/html": [
       "<div>\n",
       "<style scoped>\n",
       "    .dataframe tbody tr th:only-of-type {\n",
       "        vertical-align: middle;\n",
       "    }\n",
       "\n",
       "    .dataframe tbody tr th {\n",
       "        vertical-align: top;\n",
       "    }\n",
       "\n",
       "    .dataframe thead th {\n",
       "        text-align: right;\n",
       "    }\n",
       "</style>\n",
       "<table border=\"1\" class=\"dataframe\">\n",
       "  <thead>\n",
       "    <tr style=\"text-align: right;\">\n",
       "      <th></th>\n",
       "      <th>total_bill</th>\n",
       "      <th>tip</th>\n",
       "      <th>sex</th>\n",
       "      <th>smoker</th>\n",
       "      <th>time</th>\n",
       "      <th>size</th>\n",
       "      <th>yeni_sex</th>\n",
       "      <th>yeni day</th>\n",
       "      <th>day_Thur</th>\n",
       "      <th>day_Fri</th>\n",
       "      <th>day_Sat</th>\n",
       "      <th>day_Sun</th>\n",
       "    </tr>\n",
       "  </thead>\n",
       "  <tbody>\n",
       "    <tr>\n",
       "      <th>0</th>\n",
       "      <td>16.99</td>\n",
       "      <td>1.01</td>\n",
       "      <td>Female</td>\n",
       "      <td>No</td>\n",
       "      <td>Dinner</td>\n",
       "      <td>2</td>\n",
       "      <td>0</td>\n",
       "      <td>1</td>\n",
       "      <td>0</td>\n",
       "      <td>0</td>\n",
       "      <td>0</td>\n",
       "      <td>1</td>\n",
       "    </tr>\n",
       "    <tr>\n",
       "      <th>1</th>\n",
       "      <td>10.34</td>\n",
       "      <td>1.66</td>\n",
       "      <td>Male</td>\n",
       "      <td>No</td>\n",
       "      <td>Dinner</td>\n",
       "      <td>3</td>\n",
       "      <td>1</td>\n",
       "      <td>1</td>\n",
       "      <td>0</td>\n",
       "      <td>0</td>\n",
       "      <td>0</td>\n",
       "      <td>1</td>\n",
       "    </tr>\n",
       "    <tr>\n",
       "      <th>2</th>\n",
       "      <td>21.01</td>\n",
       "      <td>3.50</td>\n",
       "      <td>Male</td>\n",
       "      <td>No</td>\n",
       "      <td>Dinner</td>\n",
       "      <td>3</td>\n",
       "      <td>1</td>\n",
       "      <td>1</td>\n",
       "      <td>0</td>\n",
       "      <td>0</td>\n",
       "      <td>0</td>\n",
       "      <td>1</td>\n",
       "    </tr>\n",
       "    <tr>\n",
       "      <th>3</th>\n",
       "      <td>23.68</td>\n",
       "      <td>3.31</td>\n",
       "      <td>Male</td>\n",
       "      <td>No</td>\n",
       "      <td>Dinner</td>\n",
       "      <td>2</td>\n",
       "      <td>1</td>\n",
       "      <td>1</td>\n",
       "      <td>0</td>\n",
       "      <td>0</td>\n",
       "      <td>0</td>\n",
       "      <td>1</td>\n",
       "    </tr>\n",
       "    <tr>\n",
       "      <th>4</th>\n",
       "      <td>24.59</td>\n",
       "      <td>3.61</td>\n",
       "      <td>Female</td>\n",
       "      <td>No</td>\n",
       "      <td>Dinner</td>\n",
       "      <td>4</td>\n",
       "      <td>0</td>\n",
       "      <td>1</td>\n",
       "      <td>0</td>\n",
       "      <td>0</td>\n",
       "      <td>0</td>\n",
       "      <td>1</td>\n",
       "    </tr>\n",
       "  </tbody>\n",
       "</table>\n",
       "</div>"
      ],
      "text/plain": [
       "   total_bill   tip     sex smoker    time  size  yeni_sex  yeni day  \\\n",
       "0       16.99  1.01  Female     No  Dinner     2         0         1   \n",
       "1       10.34  1.66    Male     No  Dinner     3         1         1   \n",
       "2       21.01  3.50    Male     No  Dinner     3         1         1   \n",
       "3       23.68  3.31    Male     No  Dinner     2         1         1   \n",
       "4       24.59  3.61  Female     No  Dinner     4         0         1   \n",
       "\n",
       "   day_Thur  day_Fri  day_Sat  day_Sun  \n",
       "0         0        0        0        1  \n",
       "1         0        0        0        1  \n",
       "2         0        0        0        1  \n",
       "3         0        0        0        1  \n",
       "4         0        0        0        1  "
      ]
     },
     "execution_count": 23,
     "metadata": {},
     "output_type": "execute_result"
    }
   ],
   "source": [
    "df_one_hot = pd.get_dummies(df, columns = ['day'], prefix = ['day'])\n",
    "df_one_hot.head()\n",
    "\n",
    "#burda kategori sayisi 2 den fazla oldugu icin ,bir sütuna bakarak diger sütunlar bilinemeyek,ve iyi bisey"
   ]
  },
  {
   "cell_type": "markdown",
   "id": "067d33fc",
   "metadata": {},
   "source": [
    "### bir sütunda bir cok bilgi varsa, get_dummies"
   ]
  },
  {
   "cell_type": "code",
   "execution_count": null,
   "id": "067d9a25",
   "metadata": {},
   "outputs": [],
   "source": [
    "Entertainment_Media\n",
    "Bluetooth,Hands-free equipment,On-board comput..\n",
    "\n",
    "#bu sekilde bir sütun varsa, virgülden ayirip, onlarin herbirini bir sütun olarak get_dummies yaptik"
   ]
  },
  {
   "cell_type": "code",
   "execution_count": null,
   "id": "145fa4c7",
   "metadata": {},
   "outputs": [],
   "source": [
    "df = df.join(df[\"Comfort_Convenience\"].str.get_dummies(sep = \",\").add_prefix(\"cc_\"))\n",
    "df = df.join(df[\"Entertainment_Media\"].str.get_dummies(sep = \",\").add_prefix(\"em_\"))\n",
    "df = df.join(df[\"Extras\"].str.get_dummies(sep = \",\").add_prefix(\"ex_\"))\n",
    "df = df.join(df[\"Safety_Security\"].str.get_dummies(sep = \",\").add_prefix(\"ss_\"))"
   ]
  },
  {
   "cell_type": "code",
   "execution_count": null,
   "id": "d3b5998b",
   "metadata": {},
   "outputs": [],
   "source": [
    "df.drop([\"Comfort_Convenience\",\"Entertainment_Media\",\"Extras\",\"Safety_Security\"], axis=1, inplace=True)\n",
    "\n",
    "#yukarda sutun icindekileri ayri bir sütun olarak yazdigimiz icin, ana sütunlarimiza ihtiyacimiz kalmadi"
   ]
  },
  {
   "cell_type": "code",
   "execution_count": null,
   "id": "69bebea7",
   "metadata": {},
   "outputs": [],
   "source": [
    "df = pd.get_dummies(df, drop_first =True) \n",
    "#drop_first =True-> Get_dummies tuzagindan kurtulmak icin, birbiri yerine yazilabilen featuresler silinsin mantigi"
   ]
  },
  {
   "cell_type": "code",
   "execution_count": null,
   "id": "99640d54",
   "metadata": {},
   "outputs": [],
   "source": []
  },
  {
   "cell_type": "code",
   "execution_count": null,
   "id": "6cfc6e6e",
   "metadata": {},
   "outputs": [],
   "source": []
  },
  {
   "cell_type": "markdown",
   "id": "0cb428d5",
   "metadata": {},
   "source": [
    "#### Binarize dönüsüm"
   ]
  },
  {
   "cell_type": "code",
   "execution_count": null,
   "id": "456be3ef",
   "metadata": {},
   "outputs": [],
   "source": [
    "binarizer = preprocessing.Binarizer(threshold = 5).fit(df)  #5in altinadkiler ve üstündekiler diye ayirir\n",
    "\n",
    "binarizer.transform(df)\n",
    "\n",
    "#belli bir esik degeri altindaki verileri 0,üstündekileri 1 yapar"
   ]
  },
  {
   "cell_type": "code",
   "execution_count": null,
   "id": "e2b1c6fd",
   "metadata": {},
   "outputs": [],
   "source": []
  },
  {
   "cell_type": "markdown",
   "id": "213a8f81",
   "metadata": {},
   "source": [
    "### Corr "
   ]
  },
  {
   "cell_type": "code",
   "execution_count": null,
   "id": "0755ea1a",
   "metadata": {},
   "outputs": [],
   "source": [
    "df.corr()['price'].sort_values()[:-1]\n",
    "\n",
    "#burda verideki tüm sütunlarin corr'unu yazdirdik,sonra ['price']yi aldik,siraladik,ve enson satiri almadik,cünkü kendisiyle es"
   ]
  },
  {
   "cell_type": "code",
   "execution_count": null,
   "id": "74f541bc",
   "metadata": {},
   "outputs": [],
   "source": [
    "plt.figure(figsize = (20,10))\n",
    "sns.barplot(x = corr_by_price.index, y = corr_by_price)\n",
    "plt.xticks(rotation=90)\n",
    "plt.tight_layout();\n",
    "\n",
    "#bar'da corr degerlerini görmek istersen"
   ]
  },
  {
   "cell_type": "code",
   "execution_count": null,
   "id": "87e4ba75",
   "metadata": {},
   "outputs": [],
   "source": []
  },
  {
   "cell_type": "code",
   "execution_count": null,
   "id": "2a15c37a",
   "metadata": {},
   "outputs": [],
   "source": []
  },
  {
   "cell_type": "code",
   "execution_count": null,
   "id": "cfbb3a91",
   "metadata": {},
   "outputs": [],
   "source": []
  },
  {
   "cell_type": "code",
   "execution_count": null,
   "id": "19ea475b",
   "metadata": {},
   "outputs": [],
   "source": []
  },
  {
   "cell_type": "code",
   "execution_count": null,
   "id": "2f294eb0",
   "metadata": {},
   "outputs": [],
   "source": []
  },
  {
   "cell_type": "markdown",
   "id": "97fc7d3b",
   "metadata": {},
   "source": [
    "# Scoring"
   ]
  },
  {
   "cell_type": "code",
   "execution_count": null,
   "id": "259c9876",
   "metadata": {},
   "outputs": [],
   "source": [
    "from sklearn.metrics import make_scorer\n",
    "\n",
    "#her bir gözlem için ayrı ayrı skorlara bakmak için make_scorer ile oluştururuz.\n",
    "#bu güzel bir özellik         \n",
    "#belli bir label veya mesela erkek veya kadin olma durumunun ayri ayri scorlarina bakmak istersen bunu kullanabiliyorsun\n",
    "\n",
    "scoring = {'precision-Adelie': make_scorer(precision_score,  average=None, labels=[\"Adelie\"]),\n",
    "           'recall-Adelie': make_scorer(recall_score, average=None, labels =[\"Adelie\"]),\n",
    "           'f1-Adelie': make_scorer(f1_score, average=None, labels = [\"Adelie\"]),\n",
    "          \n",
    "          'precision-Chinstrap': make_scorer(precision_score,  average=None, labels=[\"Chinstrap\"]),\n",
    "          'recall-Chinstrap': make_scorer(recall_score, average=None, labels=[\"Chinstrap\"]),\n",
    "          'f1-Chinstrap': make_scorer(f1_score, average=None, labels=[\"Chinstrap\"]),\n",
    "          \n",
    "          \n",
    "          'precision-Gentoo': make_scorer(precision_score,  average=None, labels=[\"Gentoo\"]),\n",
    "          'recall-Gentoo': make_scorer(recall_score, average=None, labels = [\"Gentoo\"]),\n",
    "          'f1-Gentoo': make_scorer(f1_score, average=None, labels = [\"Gentoo\"]),\n",
    "          \n",
    "          }\n",
    "          #burda asagida bir cok seye bakmak icin yazilmis hazir kod\n",
    "#bu üstekkinden sonuc geliyor,asagidakini de ayri satirda calistirsan cross'lu sonuclar geliyor\n",
    "\n",
    "scores = cross_validate(model, X_train2, y_train2, scoring = scoring, cv = 10)\n",
    "df_scores = pd.DataFrame(scores, index = range(1, 11))\n",
    "df_scores.mean()[2:]          \n",
    "\n",
    "#scorlari asagida "
   ]
  },
  {
   "cell_type": "raw",
   "id": "d3d69ab7",
   "metadata": {},
   "source": [
    "test_precision-Adelie       1.000000\n",
    "test_recall-Adelie          0.980909\n",
    "test_f1-Adelie              0.989975\n",
    "test_precision-Chinstrap    0.983333\n",
    "test_recall-Chinstrap       1.000000\n",
    "test_f1-Chinstrap           0.990909\n",
    "test_precision-Gentoo       0.988889\n",
    "test_recall-Gentoo          1.000000\n",
    "test_f1-Gentoo              0.994118\n",
    "dtype: float64"
   ]
  },
  {
   "cell_type": "raw",
   "id": "eeb281d9",
   "metadata": {},
   "source": []
  },
  {
   "cell_type": "code",
   "execution_count": null,
   "id": "406d0dbd",
   "metadata": {},
   "outputs": [],
   "source": [
    "def report_model(model):\n",
    "    model_pred = model.predict(X_test)\n",
    "    model_train_pred = model.predict(X_train)\n",
    "    print('\\n')\n",
    "    print(\"Test Set\")\n",
    "    print(confusion_matrix(y_test, model_pred))\n",
    "    print('\\n')\n",
    "    print(classification_report(y_test,model_pred))\n",
    "    print('\\n')\n",
    "    print(\"Train Set\")\n",
    "    print(confusion_matrix(y_train, model_train_pred))\n",
    "    print('\\n')\n",
    "    print(classification_report(y_train,model_train_pred))\n",
    "    plt.figure(figsize=(12,8),dpi=100)\n",
    "    plot_tree(model,filled=True, feature_names=X.columns, class_names=df.species.unique());\n",
    "\n",
    "report_model(pruned_tree)   \n",
    "\n",
    "\n",
    "#buda Decision Tree ve Random Forestte kem classification metrik hemde agac cizdirmek icin kullanabilecegin kod blogu\n",
    "#asagida fotosu var"
   ]
  },
  {
   "cell_type": "code",
   "execution_count": null,
   "id": "8e44af22",
   "metadata": {},
   "outputs": [],
   "source": [
    "print(classification_report(y_test,y_pred,labels=np.unique(y_pred)))\n",
    "\n",
    "# buda baska bir yazim sekli"
   ]
  },
  {
   "cell_type": "markdown",
   "id": "5d9728b5",
   "metadata": {},
   "source": [
    "![](2022-10-16-22-40-48.png)"
   ]
  },
  {
   "cell_type": "code",
   "execution_count": null,
   "id": "1bd22fed",
   "metadata": {},
   "outputs": [],
   "source": [
    "scores = cross_validate(model, X_train, y_train, scoring = ['accuracy', 'precision', 'recall', 'f1'], cv = 10)\n",
    "df_scores = pd.DataFrame(scores, index = range(1, 11))\n",
    "\n",
    "df_scores.mean()[2:]\n",
    "\n",
    "# bir modeli fit ettikten sonra Cross'u degerlerini bulmak icin,hangi modelin scorlarini alacaksan .\n",
    "# model kelimesi yerine e´kendi model adini yaz "
   ]
  },
  {
   "cell_type": "code",
   "execution_count": null,
   "id": "07124d4f",
   "metadata": {},
   "outputs": [],
   "source": []
  },
  {
   "cell_type": "code",
   "execution_count": null,
   "id": "a519e2d0",
   "metadata": {},
   "outputs": [],
   "source": []
  },
  {
   "cell_type": "code",
   "execution_count": null,
   "id": "53cc4c36",
   "metadata": {},
   "outputs": [],
   "source": []
  },
  {
   "cell_type": "code",
   "execution_count": null,
   "id": "31485466",
   "metadata": {},
   "outputs": [],
   "source": []
  },
  {
   "cell_type": "code",
   "execution_count": null,
   "id": "aa7060ea",
   "metadata": {},
   "outputs": [],
   "source": []
  },
  {
   "cell_type": "markdown",
   "id": "38a7141f",
   "metadata": {},
   "source": [
    "# Veri görsellestirme "
   ]
  },
  {
   "cell_type": "code",
   "execution_count": null,
   "id": "38362297",
   "metadata": {},
   "outputs": [],
   "source": [
    "plt.plot(x_fit,y_pred);\n",
    "\n",
    "#bu kendi linspace ile olusturdugu x_fit ve onun modelden gelen tahmini olan y_pred\n",
    "# y=ax+b grafigi ciziyor, yani regression"
   ]
  },
  {
   "cell_type": "code",
   "execution_count": null,
   "id": "df1d00d5",
   "metadata": {},
   "outputs": [],
   "source": [
    "plt.scatter(x,y)\n",
    "plt.plot(x_fit,y_pred);\n",
    "\n",
    "\n",
    "#burda x ve y ler baska veri degerleriyle onlari yukarida rng ile buldu\n",
    "#ama x_fit'i linspace ile buldu ve x_fit'Linear Regression modeliyle egiterek y_predleri buldu\n",
    "#burda icinde regression dogrusu bulunan scatter var"
   ]
  },
  {
   "cell_type": "code",
   "execution_count": null,
   "id": "a6805736",
   "metadata": {},
   "outputs": [],
   "source": [
    "sns.pairplot(df, hue = \"Outcome\")\n",
    "plt.show()\n",
    "# bu da target olan Outcome(0 ve 1 ler var icinde) a göre pair plot ciziyor"
   ]
  },
  {
   "cell_type": "code",
   "execution_count": null,
   "id": "aa763f71",
   "metadata": {},
   "outputs": [],
   "source": [
    "df.groupby('year')['price'].mean().plot();\n",
    "\n",
    "#burda yillara göre ev fiyatinin degisimini gördük dogrusal bir grafik ile dogru cikmisti notebookta"
   ]
  },
  {
   "cell_type": "code",
   "execution_count": null,
   "id": "120d6c4f",
   "metadata": {},
   "outputs": [],
   "source": [
    "sns.boxplot(x = 'month', y = 'price', data = df);\n",
    "\n",
    "#aylara göre outlier degerlerini görüyoruz"
   ]
  },
  {
   "cell_type": "code",
   "execution_count": null,
   "id": "ef8cceb7",
   "metadata": {},
   "outputs": [],
   "source": [
    "df.groupby('month')['price'].mean().plot();\n",
    "\n",
    "#aylara göre ev fiytlarinin nasil degisecegini görüyoruz"
   ]
  },
  {
   "cell_type": "code",
   "execution_count": null,
   "id": "1b2727ce",
   "metadata": {},
   "outputs": [],
   "source": [
    "sns.distplot(df['price']);\n",
    "\n",
    "#fiyatlarin nasil dagildigini görebiliyiruz"
   ]
  },
  {
   "cell_type": "code",
   "execution_count": null,
   "id": "353ce70d",
   "metadata": {},
   "outputs": [],
   "source": [
    "plt.figure(figsize = (12, 8))\n",
    "sns.scatterplot(x = 'long', y = 'lat', data = df, hue = 'price');\n",
    "\n",
    "#burda evlerin harita üzerindeki konumlarini görüyoruz.\n",
    "# enlem boylam features oldugu icin , harita seklinde bir cikti aliyoruz,\n",
    "#scatterda dagilimlari aslinda ama harita gibi gözüküyor"
   ]
  },
  {
   "cell_type": "code",
   "execution_count": null,
   "id": "e31015d5",
   "metadata": {},
   "outputs": [],
   "source": [
    "import folium\n",
    "import branca.colormap as cm\n",
    "\n",
    "\n",
    "step_1 = df.price.min()\n",
    "step_2 = df.price.quantile(0.25)\n",
    "step_3 = df.price.quantile(0.50)\n",
    "step_4 = df.price.quantile(0.75)\n",
    "step_5 = df.price.max()\n",
    "\n",
    "\n",
    "\n",
    "\n",
    "m = folium.Map(location=[df[\"lat\"].mean(), df[\"long\"].mean()], zoom_start = 10)\n",
    "colormap = cm.StepColormap(colors=[\"green\",\"yellow\",\"orange\",\"red\"] ,\n",
    "                           index=[step_1, step_2, step_3, step_4, step_5],\n",
    "                           vmin=step_1,\n",
    "                           vmax=step_5)\n",
    "for loc, p in zip(zip(df['lat'], df['long']),df[\"price\"]):\n",
    "      folium.Circle(\n",
    "      location=loc,\n",
    "      radius=1, #yarıçap\n",
    "      fill=True, \n",
    "      color=colormap(p)\n",
    "      ).add_to(m)\n",
    "m\n",
    "#burda enlem ve boylam blgileri verilmis evlerin haritasa konumlarini görebiliyoruz,"
   ]
  },
  {
   "cell_type": "markdown",
   "id": "e57013cb",
   "metadata": {},
   "source": [
    "# Kendi yorumlarim"
   ]
  },
  {
   "cell_type": "code",
   "execution_count": null,
   "id": "df24fa5a",
   "metadata": {},
   "outputs": [],
   "source": [
    "#burda ilk defa bir makine ögrenmesi calismasi yaptim bekledigimden cok kolay geldi bana\n",
    "#bence bunun sebebi modelin zaten hazir olmasindan dolayiydi,\n",
    "#biz sadece erimizi bölüp, egittik ve test ettik, o kendisi degerler buldu\n",
    "\n",
    "#aslinda bununla ilgili ilk izlenimim , güzel bir tahmin yapmasi beni gercekten cok sasirtti,\n",
    "#demekki bizim verdigimiz veriler arasinda bir iliski bulup, ona göre bir tahminde bulunuyor\n",
    "\n",
    "\n",
    "#ama galiba benim gömlünde yatan calisma sekli, modelide benim kuracagim, calisma yöntemleri\n",
    "#oda galiba Derin ögrenme veya sinir aglari konularina giriyor\n",
    "\n",
    "#ama yinede bu calismayi yapmak benim icin güzel bir deneyim oldu"
   ]
  },
  {
   "cell_type": "code",
   "execution_count": null,
   "id": "36b262e7",
   "metadata": {},
   "outputs": [],
   "source": []
  },
  {
   "cell_type": "code",
   "execution_count": null,
   "id": "912a48a9",
   "metadata": {},
   "outputs": [],
   "source": []
  },
  {
   "cell_type": "code",
   "execution_count": null,
   "id": "f67a6e57",
   "metadata": {},
   "outputs": [],
   "source": []
  },
  {
   "cell_type": "code",
   "execution_count": null,
   "id": "b5ed2ecc",
   "metadata": {},
   "outputs": [],
   "source": []
  },
  {
   "cell_type": "markdown",
   "id": "37a466f9",
   "metadata": {},
   "source": [
    "Yapilacaklar \\\n",
    "1- df.corr a bakilacak \\\n",
    "2- heatmap ile bakilabilir  \\\n",
    "3- distplot ile dagilima bakilabilir  \\\n",
    "4- veri train ve test diye bölünecek  \\\n",
    "5- model kurulupLinearRegressin(), egitilecek.fit(X_r  \\\n",
    "6- Tahmin yapilacak  \\\n",
    "7-.plot() ile veriye bir bakilabilir  \\\n",
    "8- R2, MAe, MSE, RMSE degerlerine bakilacak  \\\n",
    "9- Adjusted R\" hesaplanacak  \\\n",
    "10- bir def fonlsiyou veri ölcümlerine bakilabilir"
   ]
  },
  {
   "cell_type": "markdown",
   "id": "4315a04d",
   "metadata": {},
   "source": [
    "# Linear Regression da yapilacak islemler"
   ]
  },
  {
   "cell_type": "code",
   "execution_count": null,
   "id": "9372a234",
   "metadata": {},
   "outputs": [],
   "source": [
    "import numpy as np\n",
    "import pandas as pd\n",
    "\n",
    "import matplotlib.pyplot as plt\n",
    "import seaborn as sns\n",
    "\n",
    "import scipy.stats as stats      #istatistikte yardimci olan\n",
    "plt.rcParams[\"figure.figsize\"] = (10, 6)\n",
    "\n",
    "import warnings\n",
    "warnings.filterwarnings(\"ignore\")"
   ]
  },
  {
   "cell_type": "code",
   "execution_count": null,
   "id": "5c31a38c",
   "metadata": {},
   "outputs": [],
   "source": [
    "for i in df.drop(columns = \"sales\"):\n",
    "    print(f\"corr between sales and {i:<12}: {df.sales.corr(df[i])}\")\n",
    "    #i de columns lari yazdiriyor\n",
    "    #i=12 esittirler altalta gelsin diye\n",
    "\n",
    "    Output:\n",
    "corr between sales and TV          : 0.7822244248616064\n",
    "corr between sales and radio       : 0.5762225745710553\n",
    "corr between sales and newspaper   : 0.22829902637616528\n",
    "corr between sales and total_spend : 0.8677123027017422"
   ]
  },
  {
   "cell_type": "code",
   "execution_count": null,
   "id": "5ce6c862",
   "metadata": {},
   "outputs": [],
   "source": [
    "sns.regplot(x = 'total_spend', y= 'sales', data = df, ci =None)  \n",
    "#regplot ciziyor,dagilim ve regression egrisi"
   ]
  },
  {
   "cell_type": "code",
   "execution_count": null,
   "id": "27f57a74",
   "metadata": {},
   "outputs": [],
   "source": [
    "potential_spend = np.linspace(0, 500, 100)  #bir sayi kümesi olusturma"
   ]
  },
  {
   "cell_type": "code",
   "execution_count": null,
   "id": "18718fa2",
   "metadata": {},
   "outputs": [],
   "source": [
    "import missingno as msno\n",
    "msno.matrix(df);\n",
    "#missigno grafigi icin"
   ]
  },
  {
   "cell_type": "code",
   "execution_count": null,
   "id": "0493d136",
   "metadata": {},
   "outputs": [],
   "source": [
    "sns.heatmap(df.corr(), annot=True);\n",
    "#heatmap icin\n",
    "\n",
    "\n",
    "plt.figure(figsize=(10,8))\n",
    "sns.heatmap(df.corr(), annot=True)\n",
    "plt.show()\n",
    "#buda kücük ayarlari ile beraber yukardakiyle ayni\n",
    "\n",
    "\n",
    "\n",
    "df.corr()[\"Outcome\"].drop(\"Outcome\").sort_values().plot.barh()\n",
    "plt.show()\n",
    "\n",
    "#bu da heatmap te yazan degerlerin barda gösterilmis hali, hangisinin büyük oldugu kolayca görülüyor"
   ]
  },
  {
   "cell_type": "code",
   "execution_count": null,
   "id": "8db4c7ff",
   "metadata": {},
   "outputs": [],
   "source": [
    "from scipy.stats import skew    #skewness grafigi icin\n",
    "\n",
    "for j in df.drop(columns = \"sales\").columns:\n",
    "    g = sns.distplot(df[j], color= \"b\", label= \"Skewness : %.2f\"%(df[j].skew()))\n",
    "    g = g.legend(loc= \"best\")\n",
    "    plt.show()\n",
    "    \n",
    "    \n",
    "    #skewwness 0 a yakin olmasi iyi\n",
    "    \n",
    "    #right skew +1e doğru left skew -1 e doğru"
   ]
  },
  {
   "cell_type": "markdown",
   "id": "ff1aa181",
   "metadata": {},
   "source": [
    "1000 e kadar % 20/30 test % 80/70 train  \\\n",
    "1000 ile 100000 satır arasında %10/20 test %90/80 train  \\\n",
    "100000 ile 100000000 satır arasında %5 test %95 train   \\\n",
    "100000000 üzeri satırlık datada %1 test % 99 train "
   ]
  },
  {
   "cell_type": "code",
   "execution_count": null,
   "id": "5e9cce03",
   "metadata": {},
   "outputs": [],
   "source": []
  },
  {
   "cell_type": "code",
   "execution_count": null,
   "id": "a22a125a",
   "metadata": {},
   "outputs": [],
   "source": []
  },
  {
   "cell_type": "code",
   "execution_count": null,
   "id": "68f84630",
   "metadata": {},
   "outputs": [],
   "source": []
  },
  {
   "cell_type": "markdown",
   "id": "eeae433d",
   "metadata": {},
   "source": [
    "Train test split"
   ]
  },
  {
   "cell_type": "code",
   "execution_count": null,
   "id": "bd7f443a",
   "metadata": {},
   "outputs": [],
   "source": [
    "X = df.drop(columns = \"sales\")\n",
    "y = df[\"sales\"]\n",
    "\n",
    "#target sütununu atiyoruz\n",
    "\n",
    "from sklearn.model_selection import train_test_split\n",
    "\n",
    "X_train, X_test, y_train, y_test = train_test_split(X, y, test_size= 0.3, random_state= 42)\n",
    "\n",
    "#asagidaki kestigi bölümlerin sayilarini cikti olarak veriyor\n",
    "\n",
    "print(\"X Train features shape: {}\\ny Train features shape: {}\\nX Test features shape : {}\\nY Test features shape : {}\".format\n",
    "      (X_train.shape, y_train.shape, X_test.shape, y_test.shape))"
   ]
  },
  {
   "cell_type": "code",
   "execution_count": null,
   "id": "d951dcad",
   "metadata": {},
   "outputs": [],
   "source": [
    "\n"
   ]
  },
  {
   "cell_type": "markdown",
   "id": "805076b9",
   "metadata": {},
   "source": [
    "##### Linear Model kuralim"
   ]
  },
  {
   "cell_type": "code",
   "execution_count": null,
   "id": "22ccfd6d",
   "metadata": {},
   "outputs": [],
   "source": [
    "from sklearn.linear_model import LinearRegression\n",
    "lm = LinearRegression()\n",
    "lm.fit(X_train_scaled, y_train)\n",
    "\n",
    "\n",
    "#asagida tamin yaptiriyoruz\n",
    "y_pred = lm.predict(X_test_scaled) # y_pred alırken yine scaled edilmiş test ve train datalarını alıyoruz\n",
    "y_train_pred = lm.predict(X_train_scaled)"
   ]
  },
  {
   "cell_type": "code",
   "execution_count": null,
   "id": "459df952",
   "metadata": {},
   "outputs": [],
   "source": []
  },
  {
   "cell_type": "markdown",
   "id": "adf1bc3d",
   "metadata": {},
   "source": [
    "##### linearde tahmin yaptiktan sonra hatalari toplu halde görmek icin"
   ]
  },
  {
   "cell_type": "code",
   "execution_count": null,
   "id": "2c4985fb",
   "metadata": {},
   "outputs": [],
   "source": [
    "\n",
    "from sklearn.metrics import mean_absolute_error, mean_squared_error, r2_score\n",
    "\n",
    "def train_val(y_train, y_train_pred, y_test, y_pred, i):  #i asagida fonk.cagirilirken yaziyoruz,ciktida linear yaziyor\n",
    "    \n",
    "    scores = {i+\"_train\": {\"R2\" : r2_score(y_train, y_train_pred), #i ,string ifade ciktida linear yazdiriyor\n",
    "    \"mae\" : mean_absolute_error(y_train, y_train_pred),\n",
    "    \"mse\" : mean_squared_error(y_train, y_train_pred),\n",
    "    \"rmse\" : np.sqrt(mean_squared_error(y_train, y_train_pred))},\n",
    "              \n",
    "    i+\"_test\": {\"R2\" : r2_score(y_test, y_pred),\n",
    "    \"mae\" : mean_absolute_error(y_test, y_pred),\n",
    "    \"mse\" : mean_squared_error(y_test, y_pred),\n",
    "    \"rmse\" : np.sqrt(mean_squared_error(y_test, y_pred))}}\n",
    "    return pd.DataFrame(scores)\n",
    "\n",
    " ls =train_val(y_train, y_train_pred, y_test, y_pred, \"linear\")       # modelin adı\n",
    " ls   \n",
    "----------------------------------\n",
    "Output:\n",
    " \tlinear_train\tlinear_test\n",
    "R2\t0.997607\t    0.764990\n",
    "mae\t0.186213\t    0.665959\n",
    "mse\t0.062968\t    6.634847\n",
    "rms 0.250934\t    2.575820"
   ]
  },
  {
   "cell_type": "code",
   "execution_count": null,
   "id": "ac2bea9f",
   "metadata": {},
   "outputs": [],
   "source": [
    "import seaborn as sns\n",
    "sns.lineplot(data = scores.iloc[:,2:]);    #buda yukardaki degerlerin grafigi"
   ]
  },
  {
   "cell_type": "code",
   "execution_count": null,
   "id": "dfe5d101",
   "metadata": {},
   "outputs": [],
   "source": []
  },
  {
   "cell_type": "code",
   "execution_count": null,
   "id": "b3c152ac",
   "metadata": {},
   "outputs": [],
   "source": [
    "#aldigin ciktilari tek DataFrame de görmek istersen\n",
    "\n",
    "my_dict = {\"Actual\": y_test, \"pred\": y_pred, \"residual\": y_test-y_pred}\n",
    "comparing = pd.DataFrame(my_dict)\n",
    "comparing.head()\n",
    "\n",
    "#eger bunlari  bar grafigi seklinde sembolik görmek istersek\n",
    "result_sample = comparing.head(25)   #ilk 25 taneyi görmek istersen\n",
    "\n",
    "result_sample.plot(kind = \"bar\", figsize=(15,6));    #bar plot ciziyorsun"
   ]
  },
  {
   "cell_type": "code",
   "execution_count": null,
   "id": "56443ac9",
   "metadata": {},
   "outputs": [],
   "source": []
  },
  {
   "cell_type": "code",
   "execution_count": null,
   "id": "0a790ebc",
   "metadata": {},
   "outputs": [],
   "source": []
  },
  {
   "cell_type": "code",
   "execution_count": null,
   "id": "feb1fff7",
   "metadata": {},
   "outputs": [],
   "source": []
  },
  {
   "cell_type": "code",
   "execution_count": null,
   "id": "c6bb1856",
   "metadata": {},
   "outputs": [],
   "source": [
    "lm_df = pd.DataFrame(lm.coef_, columns = [\"lm_coef\"])\n",
    "lm_df.T\n",
    "\n",
    "# tüm sütunlarin katsayilarini gösteriyor coefficent"
   ]
  },
  {
   "cell_type": "code",
   "execution_count": null,
   "id": "a84978ee",
   "metadata": {},
   "outputs": [],
   "source": []
  },
  {
   "cell_type": "code",
   "execution_count": null,
   "id": "f2ef985b",
   "metadata": {},
   "outputs": [],
   "source": []
  },
  {
   "cell_type": "code",
   "execution_count": null,
   "id": "0509e21c",
   "metadata": {},
   "outputs": [],
   "source": [
    "#data da 0.90dan büyük olan corr degerlrini renklendirmek icin\n",
    "def color_red(val):\n",
    "    \n",
    "    if (0.90 < val < 1) or (-1 < val < -0.90):\n",
    "        color = 'red'\n",
    "    elif val == 1 :\n",
    "        color = 'blue'\n",
    "    else:\n",
    "        color = 'black'\n",
    "    return 'color: %s' % color\n",
    "\n",
    "\n",
    "\n",
    "pd.DataFrame(df).corr().style.applymap(color_red)     "
   ]
  },
  {
   "cell_type": "code",
   "execution_count": null,
   "id": "02cfd82b",
   "metadata": {},
   "outputs": [],
   "source": []
  },
  {
   "cell_type": "markdown",
   "id": "85735175",
   "metadata": {},
   "source": [
    "#### Scaling yani standardization ve Normalization"
   ]
  },
  {
   "cell_type": "code",
   "execution_count": null,
   "id": "46cec304",
   "metadata": {},
   "outputs": [],
   "source": [
    "from sklearn.preprocessing import StandardScaler, MinMaxScaler, RobustScaler\n",
    "\n",
    "scaler = StandardScaler() \n",
    "\n",
    "scaler.fit(X_train)                                 #hafizaya aldi,birazdan transform yapacagiz\n",
    "X_train_scaled = scaler.transform(X_train)          # bir üs satırda tutulan işlem bilgilerini x_tarin uygulayıp dönüştrüyoruz\n",
    "X_train_scaled\n",
    "\n",
    "#featureların önemini bulmak için scale yapmak önemli\n",
    "# target e kesinlikle scale uygulanmaz. tereddüt varsa scale yapın\n",
    "#test setine fit yapmiyoruz,sadece transform yapiyoruz"
   ]
  },
  {
   "cell_type": "code",
   "execution_count": 3,
   "id": "4881a0ad",
   "metadata": {},
   "outputs": [],
   "source": [
    "from sklearn.metrics import SCORERS"
   ]
  },
  {
   "cell_type": "code",
   "execution_count": null,
   "id": "c1c72a57",
   "metadata": {},
   "outputs": [],
   "source": []
  },
  {
   "cell_type": "markdown",
   "id": "dcfc035a",
   "metadata": {},
   "source": [
    "\n",
    "## Cross validaton"
   ]
  },
  {
   "cell_type": "code",
   "execution_count": null,
   "id": "1f2b3d36",
   "metadata": {},
   "outputs": [],
   "source": [
    "from sklearn.metrics import SCORERS\n",
    "from sklearn.model_selection import cross_validate, cross_val_score\n",
    "\n",
    "model = LinearRegression() #bunu bir asagidaki satirada yazacak\n",
    "\n",
    "scores = cross_validate(model, X_train_scaled, y_train, scoring = ['r2', \n",
    "                                                                   'neg_mean_absolute_error',\n",
    "                                                                   'neg_mean_squared_error',\n",
    "                                                                   'neg_root_mean_squared_error'], cv = 5)\n",
    "----------------------- #bu asagida görüyoruz,eger böyle ugrasmayip,mean bulmak istiyorsan bir asagida degiskene atayip bul\n",
    "\n",
    "pd.DataFrame(scores, index = range(1,6))  #bu kirmizilarin degerlerini yanyana veriyor,herbir cross icin\n",
    "\n",
    "\tfit_time\tscore_time\ttest_r2\t    test_neg_mean_absolute_error\ttest_neg_mean_squared_error\ttest_neg_root_mean_squared_error\n",
    "1\t0.001707\t0.000735\t0.367902\t-1.271247\t                    -19.204259\t        -4.382266\n",
    "2\t0.001322\t0.000609\t0.879658\t-0.710463\t                    -2.713292\t        -1.647207\n",
    "3\t0.001029\t0.000786\t0.977560\t-0.395033\t                    -0.622901\t        -0.789240\n",
    "4\t0.001823\t0.000611\t0.989369\t-0.418977\t                    -0.289361\t        -0.537923\n",
    "5\t0.000942\t0.000574\t0.166596\t-1.474093\t                    -15.409856\t        -3.925539\n",
    "\n",
    "-------------------------------\n",
    "\n",
    "scores = pd.DataFrame(scores, index=range(1,6)) #0 dan başlatmasın diye 1 verdim indexe\n",
    "scores.iloc[:, 2:].mean()\n",
    "\n",
    "test_r2                             0.676217\n",
    "test_neg_mean_absolute_error       -0.853963\n",
    "test_neg_mean_squared_error        -7.647934\n",
    "test_neg_root_mean_squared_error   -2.256435    #ciktisini veriyor\n",
    "\n",
    "\n",
    "\n"
   ]
  },
  {
   "cell_type": "code",
   "execution_count": null,
   "id": "4aaa1449",
   "metadata": {},
   "outputs": [],
   "source": []
  },
  {
   "cell_type": "code",
   "execution_count": 4,
   "id": "aa4a2b49",
   "metadata": {},
   "outputs": [
    {
     "data": {
      "text/plain": [
       "['explained_variance',\n",
       " 'r2',\n",
       " 'max_error',\n",
       " 'neg_median_absolute_error',\n",
       " 'neg_mean_absolute_error',\n",
       " 'neg_mean_absolute_percentage_error',\n",
       " 'neg_mean_squared_error',\n",
       " 'neg_mean_squared_log_error',\n",
       " 'neg_root_mean_squared_error',\n",
       " 'neg_mean_poisson_deviance',\n",
       " 'neg_mean_gamma_deviance',\n",
       " 'accuracy',\n",
       " 'top_k_accuracy',\n",
       " 'roc_auc',\n",
       " 'roc_auc_ovr',\n",
       " 'roc_auc_ovo',\n",
       " 'roc_auc_ovr_weighted',\n",
       " 'roc_auc_ovo_weighted',\n",
       " 'balanced_accuracy',\n",
       " 'average_precision',\n",
       " 'neg_log_loss',\n",
       " 'neg_brier_score',\n",
       " 'adjusted_rand_score',\n",
       " 'rand_score',\n",
       " 'homogeneity_score',\n",
       " 'completeness_score',\n",
       " 'v_measure_score',\n",
       " 'mutual_info_score',\n",
       " 'adjusted_mutual_info_score',\n",
       " 'normalized_mutual_info_score',\n",
       " 'fowlkes_mallows_score',\n",
       " 'precision',\n",
       " 'precision_macro',\n",
       " 'precision_micro',\n",
       " 'precision_samples',\n",
       " 'precision_weighted',\n",
       " 'recall',\n",
       " 'recall_macro',\n",
       " 'recall_micro',\n",
       " 'recall_samples',\n",
       " 'recall_weighted',\n",
       " 'f1',\n",
       " 'f1_macro',\n",
       " 'f1_micro',\n",
       " 'f1_samples',\n",
       " 'f1_weighted',\n",
       " 'jaccard',\n",
       " 'jaccard_macro',\n",
       " 'jaccard_micro',\n",
       " 'jaccard_samples',\n",
       " 'jaccard_weighted']"
      ]
     },
     "execution_count": 4,
     "metadata": {},
     "output_type": "execute_result"
    }
   ],
   "source": [
    "list(SCORERS.keys())          # score cesitlerini görmek icin"
   ]
  },
  {
   "cell_type": "code",
   "execution_count": null,
   "id": "51d876b4",
   "metadata": {},
   "outputs": [],
   "source": []
  },
  {
   "cell_type": "markdown",
   "id": "7726d4b5",
   "metadata": {},
   "source": [
    "#### Adjusted R2 Score (düzenlenmiş R2 skor)"
   ]
  },
  {
   "cell_type": "code",
   "execution_count": null,
   "id": "a34d2403",
   "metadata": {},
   "outputs": [],
   "source": [
    "def adj_r2(y_test, y_pred, df):\n",
    "    r2 = r2_score(y_test, y_pred)\n",
    "    n = df.shape[0]   # number of observations gözlem\n",
    "    p = df.shape[1]-1 # number of independent variables feature\n",
    "    adj_r2 = 1 - (1-r2)*(n-1)/(n-p-1)\n",
    "    return adj_r2\n",
    "\n",
    "\n",
    "adj_r2(y_test, y_pred, df)      #fonksiyon cagirma sekli"
   ]
  },
  {
   "cell_type": "markdown",
   "id": "b15b1989",
   "metadata": {},
   "source": [
    "#### Hatalari toplu halde görme"
   ]
  },
  {
   "cell_type": "code",
   "execution_count": null,
   "id": "8d15ee21",
   "metadata": {},
   "outputs": [],
   "source": [
    "from sklearn.metrics import mean_absolute_error, mean_squared_error, r2_score\n",
    "\n",
    "\n",
    "def eval_metric(actual, pred):\n",
    "    mae = mean_absolute_error(actual, pred)\n",
    "    mse = mean_squared_error(actual, pred)\n",
    "    rmse = np.sqrt(mean_squared_error(actual, pred))\n",
    "    R2_score = r2_score(actual, pred)\n",
    "    print(\"Model testing performance: \")\n",
    "    print(\"---------------------------\")\n",
    "    print(f\"R2_score \\t: {R2_score}\")\n",
    "    print(f\"MAE \\t\\t: {mae}\")\n",
    "    print(f\"MSE \\t\\t: {mse}\")\n",
    "    print(f\"RMSE \\t\\t: {rmse}\")\n",
    "    \n",
    "eval_metric(y_test, y_pred) \n",
    "\n",
    "\n",
    "Output:\n",
    "Model testing performance: \n",
    "---------------------------\n",
    "R2_score \t: 0.8609466508230368\n",
    "MAE \t\t: 1.5116692224549089\n",
    "MSE \t\t: 3.796797236715219\n",
    "RMSE \t\t: 1.9485372043446385"
   ]
  },
  {
   "cell_type": "code",
   "execution_count": null,
   "id": "4ab8c562",
   "metadata": {},
   "outputs": [],
   "source": []
  },
  {
   "cell_type": "code",
   "execution_count": null,
   "id": "13cff6c0",
   "metadata": {},
   "outputs": [],
   "source": []
  },
  {
   "cell_type": "markdown",
   "id": "ff661064",
   "metadata": {},
   "source": [
    "##### Residuals ,hata paylarinin dagilim grafikleri icin"
   ]
  },
  {
   "cell_type": "code",
   "execution_count": null,
   "id": "ba0159c9",
   "metadata": {},
   "outputs": [],
   "source": [
    "# hatalarin normal dagilima uyup olmadigina bakarak belirliyoruz,scatter ciziyor\n",
    "\n",
    "skew(residuals)    #residuals'larin dagilimini gösteriyor\n",
    "\n",
    "residuals = y_test - y_pred  \n",
    "plt.figure(figsize= (10,6))\n",
    "sns.scatterplot(x = y_test, y = residuals) # residuals\n",
    "plt.axhline(y= 0, color = \"r\", linestyle = \"--\") #horizantal line x=0 egrisi veriyor\n",
    "plt.show()\n",
    "\n",
    "\n",
    "\n",
    "sns.jointplot(x=y_test, y= y_test - y_pred , data=df);  #üstteki scatter veriyor bu joinplot veriyor\n",
    "\n",
    "\n",
    "stats.probplot(residuals, dist = \"norm\", plot=plt); #probplot icin,yilan seklinde oluyordu\n",
    "\n",
    "\n",
    "sns.kdeplot(residuals);   #residuls'larin dagilimi  kdeplot seklinde\n"
   ]
  },
  {
   "cell_type": "code",
   "execution_count": null,
   "id": "ece1fd50",
   "metadata": {},
   "outputs": [],
   "source": [
    "from yellowbrick.regressor import ResidualsPlot\n",
    "\n",
    "model = LinearRegression()\n",
    "visualizer = ResidualsPlot(model)   #joinpllot seklinde veriyor.güzel gösteriyor\n",
    "\n",
    "visualizer.fit(X_train, y_train)  # Fit the training data to the visualizer\n",
    "visualizer.score(X_test, y_test)  # Evaluate the model on the test data\n",
    "visualizer.show();                 # Finalize and render the figure\n",
    "\n",
    "#Yellowbrick AMA scatter tarzi ciziyor\n",
    "\n",
    "------------------------------------ # asagidakide R2 li biseyler cizdiriyor\n",
    "\n",
    "from yellowbrick.regressor import PredictionError\n",
    "model = LinearRegression()\n",
    "visualizer = PredictionError(model)\n",
    "\n",
    "visualizer.fit(X_train, y_train)\n",
    "visualizer.score(X_test, y_test)\n",
    "visualizer.show();\n",
    "\n",
    "#üstüste gelmesi,veya birbirine ne kadar yakinsa,bu istenilen durumdur,\n",
    "#siyah koyu best fit line,"
   ]
  },
  {
   "cell_type": "code",
   "execution_count": null,
   "id": "bbb83696",
   "metadata": {},
   "outputs": [],
   "source": []
  },
  {
   "cell_type": "code",
   "execution_count": null,
   "id": "df640bcd",
   "metadata": {},
   "outputs": [],
   "source": [
    "#sütunlarin katsayilarina bakmak icin\n",
    "final_model = LinearRegression()\n",
    "final_model.fit(X, y)\n",
    "#yukardakiler asagidaki final_modelin ne oldugu görmek icin ekledim\n",
    "coeff_df = pd.DataFrame(final_model.coef_, index = X.columns, columns = [\"Coefficient\"] )\n",
    "coeff_df"
   ]
  },
  {
   "cell_type": "code",
   "execution_count": null,
   "id": "8413d992",
   "metadata": {},
   "outputs": [],
   "source": []
  },
  {
   "cell_type": "code",
   "execution_count": null,
   "id": "b2cfa209",
   "metadata": {},
   "outputs": [],
   "source": []
  },
  {
   "cell_type": "code",
   "execution_count": null,
   "id": "b8e984d8",
   "metadata": {},
   "outputs": [],
   "source": []
  },
  {
   "cell_type": "markdown",
   "id": "a3707031",
   "metadata": {},
   "source": [
    "Z dağılımı olarak da isimlendirilen standart normal dağılım, ortalamanın 0, \\\n",
    "standart sapmanın da 1’e eşit olduğu özel bir normal dağılımdır.  \\\n",
    "Standart normal dağılım, z-puanı adı verilen standartlaştırılmış değerlerin normal dağılımıdır.  \\\n",
    "Z-puanı standart sapma birimleriyle ölçülür. \\\n",
    "\n",
    "Herhangi bir normal dağılım, verilerin standartlaştırılması ile z-dağılımına dönüştürülebilir.  \\\n",
    " Verinin standartlaştırılması, hem farklı standart sapma ve ortalamaya sahip verilerin   \\\n",
    " karşılaştırılmasını kolaylaştırır hem de kolaylıkla olasılık hesabı yapılmasına imkan sağlar.  \\\n",
    " Farklı ölçek/büyüklüğe sahip veriler söz konusu olduğunda standardizasyon işlemi makine öğrenmesi modelleri için de kritiktir. \\\n",
    " Z-puanı, veri setindeki bir gözlemin ortalamadan kaç standart sapma uzaklıkta olduğunu gösterir. \\\n",
    "Pozitif z-skoru, gözlemin ortalamadan büyük olduğunu, \\\n",
    "Negatif z-skoru, gözlemin ortalamadan küçük olduğunu, \\\n",
    "Z-skorunun sıfır olması ise gözlemin ortalamaya eşit olduğunu ifade eder."
   ]
  },
  {
   "cell_type": "code",
   "execution_count": null,
   "id": "dfec6229",
   "metadata": {},
   "outputs": [],
   "source": []
  },
  {
   "cell_type": "code",
   "execution_count": null,
   "id": "d75dfcdd",
   "metadata": {},
   "outputs": [],
   "source": []
  },
  {
   "cell_type": "code",
   "execution_count": null,
   "id": "437c5e5e",
   "metadata": {},
   "outputs": [],
   "source": []
  },
  {
   "cell_type": "markdown",
   "id": "8a667089",
   "metadata": {},
   "source": [
    "## Ridge Regression"
   ]
  },
  {
   "cell_type": "markdown",
   "id": "4b7334d4",
   "metadata": {},
   "source": [
    "Normal bir model gibi adini yazip kuruyoruz \\\n",
    "scaled edilmis test verisiyle fit ettik ve tahminler aldik  \\\n",
    "sonra  train_val fonksiyonuyla hata degerlerine baktik \\\n",
    "biz en sonda degerlere bakarak, Linear mi, Ridge mi, Lasso mu yapacagimiza karar verecegiz "
   ]
  },
  {
   "cell_type": "markdown",
   "id": "8f652024",
   "metadata": {},
   "source": [
    "##### Scaling yaptigimiz datayi vermeliyiz, ver test datasina fit yapmiyoruz, \\n sadece transform yapacagiz\n"
   ]
  },
  {
   "cell_type": "code",
   "execution_count": null,
   "id": "b58fc73b",
   "metadata": {},
   "outputs": [],
   "source": [
    "from sklearn.linear_model import Ridge\n",
    "\n",
    "ridge_model = Ridge(alpha=1, random_state=42)  #model kurduk\n",
    "ridge_model.fit(X_train_scaled, y_train)   #model cagirdik, scaled edilmis X datasiyla"
   ]
  },
  {
   "cell_type": "code",
   "execution_count": null,
   "id": "be0f4e84",
   "metadata": {},
   "outputs": [],
   "source": [
    "y_pred = ridge_model.predict(X_test_scaled)  #test datasina göre tahmin\n",
    "\n",
    "y_train_pred = ridge_model.predict(X_train_scaled)  #train datasina göre tahmin"
   ]
  },
  {
   "cell_type": "code",
   "execution_count": null,
   "id": "ee67be14",
   "metadata": {},
   "outputs": [],
   "source": [
    "rs = train_val(y_train, y_train_pred, y_test, y_pred, \"ridge\")\n",
    "rs\n",
    "#bunlari rs diye atadik ilerde her buldugumuz sonuclari concat ile birlestirecez\n",
    "#train ve test verisinin kendi icindeki hata oranlarini veriyor"
   ]
  },
  {
   "cell_type": "code",
   "execution_count": null,
   "id": "632673e9",
   "metadata": {},
   "outputs": [],
   "source": [
    "pd.concat([ls, rs], axis=1)\n",
    "\n",
    "Output:\n",
    "\tlinear_train\tlinear_test\tridge_train\tridge_test\n",
    "R2\t0.997607\t    0.764990\t0.988677\t0.982511\n",
    "mae\t0.186213\t    0.665959\t0.338149\t0.482446\n",
    "mse\t0.062968\t    6.634847\t0.297970\t0.493743\n",
    "rmse 0.250934\t    2.575820\t0.545866\t0.702669"
   ]
  },
  {
   "cell_type": "markdown",
   "id": "1c6c911a",
   "metadata": {},
   "source": [
    "####  Ridge Cross yapiyoruz alpha=1 alarak"
   ]
  },
  {
   "cell_type": "code",
   "execution_count": null,
   "id": "f6a863fd",
   "metadata": {},
   "outputs": [],
   "source": [
    "model = Ridge(alpha=1, random_state=42) \n",
    "scores = cross_validate(model, X_train_scaled, y_train,\n",
    "                    scoring=['r2', 'neg_mean_absolute_error','neg_mean_squared_error','neg_root_mean_squared_error'], cv=5)"
   ]
  },
  {
   "cell_type": "code",
   "execution_count": null,
   "id": "d626e30c",
   "metadata": {},
   "outputs": [],
   "source": [
    "pd.DataFrame(scores, index = range(1, 6))\n",
    "\n",
    "\n",
    "\n",
    "Output: #bunlar zaten scores icinde olan seyler,onlari DataFrame olarak yaziyoruz\n",
    "\n",
    "fit_time\tscore_time\ttest_r2\ttest_neg_mean_absolute_error\ttest_neg_mean_squared_error\ttest_neg_root_mean_squared_error\n",
    "1\t0.001091\t0.000891\t0.988913\t-0.405789\t-0.336840\t                                -0.580379\n",
    "2\t0.001820\t0.000667\t0.969951\t-0.551469\t-0.677493\t                                -0.823099\n",
    "3\t0.001258\t0.000588\t0.950978\t-0.552320\t-1.360795\t                                -1.166531\n",
    "4\t0.000660\t0.000518\t0.991259\t-0.365106\t-0.237919\t                                -0.487769\n",
    "5\t0.001071\t0.000582\t0.986854\t-0.343011\t-0.243072\t                                -0.493023"
   ]
  },
  {
   "cell_type": "code",
   "execution_count": null,
   "id": "e22aca97",
   "metadata": {},
   "outputs": [],
   "source": [
    "scores = pd.DataFrame(scores, index = range(1, 6))\n",
    "scores.iloc[:,2:].mean()\n",
    "\n",
    "#yukardaki degerlerin mean()'i"
   ]
  },
  {
   "cell_type": "code",
   "execution_count": null,
   "id": "accdb8d4",
   "metadata": {},
   "outputs": [],
   "source": [
    "sns.lineplot(data = scores.iloc[:,2:])\n",
    "plt.show()\n",
    "\n",
    "#yukardaki degerlerin grafigini gösteriyor[:2] nin anlami,yukardaki DataFrame'min ilk ve 2.sütunlari ise yaramayanlar"
   ]
  },
  {
   "cell_type": "code",
   "execution_count": null,
   "id": "0f30609b",
   "metadata": {},
   "outputs": [],
   "source": [
    "rm_df = pd.DataFrame(ridge_model.coef_, columns = [\"ridge_coef_1\"])\n",
    "rm_df\n",
    "\n",
    "#katsayilarin DataFrame olarak görmek istersen"
   ]
  },
  {
   "cell_type": "code",
   "execution_count": null,
   "id": "fa204c60",
   "metadata": {},
   "outputs": [],
   "source": [
    "pd.concat([lm_df,rm_df], axis = 1)\n",
    "\n",
    "#lm deki ve Ridge'ki katsayilari yanyana görmek istersen,nasil degismisler diye"
   ]
  },
  {
   "cell_type": "markdown",
   "id": "d1780975",
   "metadata": {},
   "source": [
    "### Choosing best alpha value with Cross-Validation"
   ]
  },
  {
   "cell_type": "code",
   "execution_count": null,
   "id": "fe75d8f6",
   "metadata": {},
   "outputs": [],
   "source": [
    "alpha_space = np.linspace(0.01, 1, 100)\n",
    "alpha_space\n",
    "#en optimum alpha degerlerine bakalim dedik\n",
    "#bunlardan hangisi diye 100 tane olusturduk"
   ]
  },
  {
   "cell_type": "code",
   "execution_count": null,
   "id": "8e83c24b",
   "metadata": {},
   "outputs": [],
   "source": [
    "from sklearn.linear_model import RidgeCV\n",
    "\n",
    "ridge_cv_model = RidgeCV(alphas=alpha_space, cv = 5, scoring= \"neg_root_mean_squared_error\")\n",
    "#alpha space yukardaki 100 deger\n",
    "#ridge_cv_model bu isimde yeni bir model kurduk ve bununla tahminler yapacagiz"
   ]
  },
  {
   "cell_type": "code",
   "execution_count": null,
   "id": "89ecc77e",
   "metadata": {},
   "outputs": [],
   "source": [
    "ridge_cv_model.fit(X_train_scaled, y_train)  \n",
    "\n",
    "#cross'lu Ridge ile simdi modeli egitiyoruz,fit ediyoruz"
   ]
  },
  {
   "cell_type": "code",
   "execution_count": null,
   "id": "10336213",
   "metadata": {},
   "outputs": [],
   "source": [
    "ridge_cv_model.alpha_    #en iyi alpha sayisi"
   ]
  },
  {
   "cell_type": "code",
   "execution_count": null,
   "id": "61b9eb74",
   "metadata": {},
   "outputs": [],
   "source": [
    "ridge_cv_model.best_score_  #en iyi score ama neyin oldugunu tam anlamadim"
   ]
  },
  {
   "cell_type": "code",
   "execution_count": null,
   "id": "5769bfc2",
   "metadata": {},
   "outputs": [],
   "source": [
    "y_pred = ridge_cv_model.predict(X_test_scaled)\n",
    "\n",
    "y_train_pred = ridge_cv_model.predict(X_train_scaled)\n",
    "\n",
    "#suan tahmin yapiyoruz, ridge_cv_model bunun icinde zaten 0.02 degeri var"
   ]
  },
  {
   "cell_type": "code",
   "execution_count": null,
   "id": "0195895d",
   "metadata": {},
   "outputs": [],
   "source": [
    "rcs = train_val(y_train, y_train_pred, y_test, y_pred, \"ridge_cv\")\n",
    "rcs\n",
    "\n",
    "#hatalarina bakiyoruz"
   ]
  },
  {
   "cell_type": "code",
   "execution_count": null,
   "id": "79813b74",
   "metadata": {},
   "outputs": [],
   "source": [
    "pd.concat([ls, rs, rcs], axis = 1)\n",
    "\n",
    "#yukaridaki buldugumuz degerleri yanyana yazdiriyoruz"
   ]
  },
  {
   "cell_type": "code",
   "execution_count": null,
   "id": "d9782abd",
   "metadata": {},
   "outputs": [],
   "source": [
    "rcm_df = pd.DataFrame(ridge_cv_model.coef_, columns=[\"ridge_cv_coef_0.02\"])\n",
    "rcm_df.head()\n",
    "#0.02 li katsayilara baktik"
   ]
  },
  {
   "cell_type": "code",
   "execution_count": null,
   "id": "07a6b1e1",
   "metadata": {},
   "outputs": [],
   "source": [
    "pd.concat([lm_df,rm_df, rcm_df], axis = 1)\n",
    "\n",
    "#tüm modeller icin olusan katsayilara bakiyoruz"
   ]
  },
  {
   "cell_type": "code",
   "execution_count": null,
   "id": "fb126594",
   "metadata": {},
   "outputs": [],
   "source": []
  },
  {
   "cell_type": "code",
   "execution_count": null,
   "id": "ad63fdd7",
   "metadata": {},
   "outputs": [],
   "source": []
  },
  {
   "cell_type": "markdown",
   "id": "19eb13a5",
   "metadata": {},
   "source": [
    "# Lasso Regression "
   ]
  },
  {
   "cell_type": "code",
   "execution_count": null,
   "id": "7c5ebd72",
   "metadata": {},
   "outputs": [],
   "source": [
    "from sklearn.linear_model import Lasso, LassoCV\n",
    "\n",
    "lasso_model = Lasso(alpha=1, random_state=42)  #Lasso modeli cagirdik.asagida alpha =1 ilede bir Lasso,ve sonrada best alpha ile \n",
    "lasso_model.fit(X_train_scaled, y_train)       # Lasso kurduk"
   ]
  },
  {
   "cell_type": "code",
   "execution_count": null,
   "id": "af7d8267",
   "metadata": {},
   "outputs": [],
   "source": [
    "y_pred = lasso_model.predict(X_test_scaled)\n",
    "y_train_pred = lasso_model.predict(X_train_scaled)\n",
    "\n",
    "#prediction yaptik Lasso'yla"
   ]
  },
  {
   "cell_type": "code",
   "execution_count": null,
   "id": "e90167bb",
   "metadata": {},
   "outputs": [],
   "source": [
    "lss = train_val(y_train, y_train_pred, y_test, y_pred, \"lasso\")\n",
    "lss\n",
    "\n",
    "#underfitting var burda, bunun optimum ile yaparsa düzelecegini biliyorum,\n",
    "#cünkü önceden 98 leri görmüstük"
   ]
  },
  {
   "cell_type": "code",
   "execution_count": null,
   "id": "e52ac126",
   "metadata": {},
   "outputs": [],
   "source": [
    "pd.concat([ls, rs, rcs, lss], axis = 1)\n",
    "\n",
    "#burda herbirinin degerlerini yanyana görecegiz"
   ]
  },
  {
   "cell_type": "markdown",
   "id": "9b9d45ed",
   "metadata": {},
   "source": [
    "### Lasso alpha = 1 ile bir model kuruyoruz, sonra best alpha'yida bulacagiz"
   ]
  },
  {
   "cell_type": "markdown",
   "id": "8087db29",
   "metadata": {},
   "source": [
    "##### Lasso da default alpha 1 oldugu icin, alpha yazmadan ve yazarkenki degerlerimiz ayni cikacak"
   ]
  },
  {
   "cell_type": "code",
   "execution_count": null,
   "id": "70a990a2",
   "metadata": {},
   "outputs": [],
   "source": [
    "model = Lasso(alpha=1, random_state=42)    #alpha=1 li model,yukardaki lasso_model normal olandi,hyperparametresi olmadan\n",
    "scores = cross_validate(model, X_train_scaled, y_train,\n",
    "                        scoring=['r2', 'neg_mean_absolute_error','neg_mean_squared_error','neg_root_mean_squared_error'], cv=5)"
   ]
  },
  {
   "cell_type": "code",
   "execution_count": null,
   "id": "fd69c5d3",
   "metadata": {},
   "outputs": [],
   "source": [
    "pd.DataFrame(scores, index = range(1, 6))\n",
    "\n",
    "#scores icinde kirmizi yazilalarin degerleri var, bunlari DataFrame olarak görüyoruz"
   ]
  },
  {
   "cell_type": "code",
   "execution_count": null,
   "id": "f5c4c125",
   "metadata": {},
   "outputs": [],
   "source": [
    "scores = pd.DataFrame(scores, index = range(1, 6))\n",
    "scores.iloc[:,2:].mean()\n",
    "\n",
    "#bu degerlerin mean() aliyoruz"
   ]
  },
  {
   "cell_type": "code",
   "execution_count": null,
   "id": "a9ebb700",
   "metadata": {},
   "outputs": [],
   "source": [
    "train_val(y_train, y_train_pred, y_test, y_pred, \"lasso\")\n",
    "\n",
    "Output : \n",
    "\tlasso_train\tlasso_test\n",
    "R2\t0.919650\t0.918590\n",
    "mae\t1.018355\t1.017959\n",
    "mse\t2.114491\t2.298390\n",
    "rmse 1.454129\t1.516044"
   ]
  },
  {
   "cell_type": "code",
   "execution_count": null,
   "id": "70f1ca76",
   "metadata": {},
   "outputs": [],
   "source": [
    "sns.lineplot(data = scores.iloc[:,2:])\n",
    "#lasso R2 falan degerlerinin grafigi"
   ]
  },
  {
   "cell_type": "code",
   "execution_count": null,
   "id": "62c5adbe",
   "metadata": {},
   "outputs": [],
   "source": [
    "lasso_model.coef_\n",
    "#lasso iki featuresle yapmis,bu underfittige neden olmus\n",
    "#kac features ile yaptigina bakabiliriz\n",
    "\n",
    "lsm_df = pd.DataFrame(lasso_model.coef_, columns = [\"lasso_coef_1\"])\n",
    "lsm_df  #buda eger coefficent'leri DataFrame olarak görmek istersen"
   ]
  },
  {
   "cell_type": "code",
   "execution_count": null,
   "id": "1cc4fbac",
   "metadata": {},
   "outputs": [],
   "source": [
    "pd.concat([lm_df, rm_df, rcm_df, lsm_df], axis = 1)\n",
    "\n",
    "#katsayilari toplu halde görmek icin, "
   ]
  },
  {
   "cell_type": "code",
   "execution_count": null,
   "id": "af033b54",
   "metadata": {},
   "outputs": [],
   "source": []
  },
  {
   "cell_type": "markdown",
   "id": "dcce73b8",
   "metadata": {},
   "source": [
    "### Choosing best alpha value with Cross-Validation"
   ]
  },
  {
   "cell_type": "code",
   "execution_count": null,
   "id": "64627502",
   "metadata": {},
   "outputs": [],
   "source": [
    "lasso_cv_model = LassoCV(alphas = alpha_space, cv = 5, max_iter=100000, random_state=42) \n",
    "# alpha_space ridge de tanımlandı"
   ]
  },
  {
   "cell_type": "code",
   "execution_count": null,
   "id": "dda4378f",
   "metadata": {},
   "outputs": [],
   "source": [
    "lasso_cv_model.fit(X_train_scaled,y_train)"
   ]
  },
  {
   "cell_type": "code",
   "execution_count": null,
   "id": "13523a6c",
   "metadata": {},
   "outputs": [],
   "source": [
    "lasso_cv_model.alpha_     \n",
    "# 0.01 alt sınırda olsada bunu almak iyidir. daha aşağıda aramak tavsiye edilmez\n",
    "#giderek lineare dogru gider dedi hoca"
   ]
  },
  {
   "cell_type": "code",
   "execution_count": null,
   "id": "c3f88df2",
   "metadata": {},
   "outputs": [],
   "source": [
    "np.where(alpha_space[::-1]==lasso_cv_model.alpha_)\n",
    "\n",
    "Output:\n",
    "(array([99]),)\n",
    "\n",
    "\n",
    "\n",
    "\n",
    "alpha_space[::-1]    #en iyi alpha parametresinin yerini,hangi sirada oldugunu görmek icin,gerek yok ama,bulunsun\n",
    "\n",
    "Output:\n",
    "array([1.  , 0.99, 0.98, 0.97, 0.96, 0.95, 0.94, 0.93, 0.92, 0.91, 0.9 ,\n",
    "       0.89, 0.88, 0.87, 0.86, 0.85, 0.84, 0.83, 0.82, 0.81, 0.8 , 0.79,\n",
    "       0.78, 0.77, 0.76, 0.75, 0.74, 0.73, 0.72, 0.71, 0.7 , 0.69, 0.68,\n",
    "       0.67, 0.66, 0.65, 0.64, 0.63, 0.62, 0.61, 0.6 , 0.59, 0.58, 0.57,\n",
    "       0.56, 0.55, 0.54, 0.53, 0.52, 0.51, 0.5 , 0.49, 0.48, 0.47, 0.46,\n",
    "       0.45, 0.44, 0.43, 0.42, 0.41, 0.4 , 0.39, 0.38, 0.37, 0.36, 0.35,\n",
    "       0.34, 0.33, 0.32, 0.31, 0.3 , 0.29, 0.28, 0.27, 0.26, 0.25, 0.24,\n",
    "       0.23, 0.22, 0.21, 0.2 , 0.19, 0.18, 0.17, 0.16, 0.15, 0.14, 0.13,\n",
    "       0.12, 0.11, 0.1 , 0.09, 0.08, 0.07, 0.06, 0.05, 0.04, 0.03, 0.02,\n",
    "       0.01])"
   ]
  },
  {
   "cell_type": "code",
   "execution_count": null,
   "id": "bb8a22c8",
   "metadata": {},
   "outputs": [],
   "source": [
    "y_pred = lasso_cv_model.predict(X_test_scaled)     #testin tahminleri\n",
    "y_train_pred = lasso_cv_model.predict(X_train_scaled)   #trainin tahminleri\n",
    " \n",
    "# Lasso(alpha =0.01)\n",
    "#alphayi 0.01 bulduktan sonra simdi tahminler yapiyoruz"
   ]
  },
  {
   "cell_type": "code",
   "execution_count": null,
   "id": "26f2c07f",
   "metadata": {},
   "outputs": [],
   "source": [
    "lcs = train_val(y_train, y_train_pred, y_test, y_pred, \"lasso_cv\")\n",
    "lcs  #degerler toplu halde\n",
    "\n",
    "\n",
    "\n",
    "Output:\n",
    "\tlasso_cv_train\tlasso_cv_test\n",
    "R2\t0.988824\t    0.986295\n",
    "mae\t0.339065\t    0.440975\n",
    "mse\t0.294098\t    0.386919\n",
    "rmse 0.542308\t    0.622028"
   ]
  },
  {
   "cell_type": "code",
   "execution_count": null,
   "id": "23f1a8e7",
   "metadata": {},
   "outputs": [],
   "source": [
    "pd.concat([ls,cv_linear,rs, rcs, lss, lcs], axis = 1)\n",
    "#simdiye kadar yapilan tüm modellerin toplu halde yazlmis hali\n",
    "\n",
    "\n",
    "Output:\n",
    "linear_train\tlinear_test\tcv_linear_train\tcv_linear_test\tridge_train\tridge_test\tridge_cv_train\tridge_cv_test\tlasso_train\tlasso_test\tlasso_cv_train\tlasso_cv_test\n",
    "R2\t0.997607\t0.764990\t0.997607\t    0.764990\t    0.988677\t0.982511\t0.994491\t0.983643\t0.919650\t0.918590\t0.988824\t0.986295\n",
    "mae\t0.186213\t0.665959\t0.186213\t    0.665959\t    0.338149\t0.482446\t0.244842\t0.442087\t1.018355\t1.017959\t0.339065\t0.440975\n",
    "mse\t0.062968\t6.634847\t0.062968\t    6.634847\t    0.297970\t0.493743\t0.144977\t0.461803\t2.114491\t2.298390\t0.294098\t0.386919\n",
    "rmse 0.250934\t2.575820\t0.250934\t    2.575820\t    0.545866\t0.702669\t0.380758\t0.679561\t1.454129\t1.516044\t0.542308\t0.622028"
   ]
  },
  {
   "cell_type": "code",
   "execution_count": null,
   "id": "e58fd57d",
   "metadata": {},
   "outputs": [],
   "source": [
    "lasso_cv_model.coef_         # kac sütünla yapmiş bu iyileştirmeyi"
   ]
  },
  {
   "cell_type": "code",
   "execution_count": null,
   "id": "b34dc463",
   "metadata": {},
   "outputs": [],
   "source": [
    "lcm_df = pd.DataFrame(lasso_cv_model.coef_, columns = [\"lasso_cv_coef_0.01\"]) #lasso cv model df bas harfleri"
   ]
  },
  {
   "cell_type": "code",
   "execution_count": null,
   "id": "a24ce1a4",
   "metadata": {},
   "outputs": [],
   "source": [
    "pd.concat([lm_df, rm_df, rcm_df, lsm_df, lcm_df], axis = 1) \n",
    "#katsayilari görüyoruz,her modele göre,hangi model hangi katsayilari kullanmis diye"
   ]
  },
  {
   "cell_type": "code",
   "execution_count": null,
   "id": "a60acec5",
   "metadata": {},
   "outputs": [],
   "source": []
  },
  {
   "cell_type": "code",
   "execution_count": null,
   "id": "044ccf54",
   "metadata": {},
   "outputs": [],
   "source": []
  },
  {
   "cell_type": "markdown",
   "id": "fdb6cf5d",
   "metadata": {},
   "source": [
    "# Decision Tree de hizli bir sekilde sonuc bakma islemleri"
   ]
  },
  {
   "cell_type": "code",
   "execution_count": null,
   "id": "ca9cd733",
   "metadata": {},
   "outputs": [],
   "source": [
    "X_train2, X_test2, y_train2, y_test2 = train_test_split(X2, y, test_size=0.3, random_state=101)"
   ]
  },
  {
   "cell_type": "code",
   "execution_count": null,
   "id": "44136982",
   "metadata": {},
   "outputs": [],
   "source": [
    "DT2_model = DecisionTreeClassifier(random_state=101)"
   ]
  },
  {
   "cell_type": "code",
   "execution_count": null,
   "id": "7d383636",
   "metadata": {},
   "outputs": [],
   "source": [
    "DT2_model.fit(X_train2, y_train2) "
   ]
  },
  {
   "cell_type": "code",
   "execution_count": null,
   "id": "f43b3d46",
   "metadata": {},
   "outputs": [],
   "source": [
    "def eval_metric(model, X_train, y_train, X_test, y_test):\n",
    "    y_train_pred = model.predict(X_train)   #predict yaptiriyoruz\n",
    "    y_pred = model.predict(X_test)\n",
    "    \n",
    "    print(\"Test_Set\")\n",
    "    print(confusion_matrix(y_test, y_pred))\n",
    "    print(classification_report(y_test, y_pred))\n",
    "    print()\n",
    "    print(\"Train_Set\")\n",
    "    print(confusion_matrix(y_train, y_train_pred))\n",
    "    print(classification_report(y_train, y_train_pred))"
   ]
  },
  {
   "cell_type": "code",
   "execution_count": null,
   "id": "ac28fe32",
   "metadata": {},
   "outputs": [],
   "source": [
    "eval_metric(DT2_model, X_train2, y_train2, X_test2, y_test2)\n",
    "\n",
    "Output:\n",
    "Test_Set\n",
    "[[41  0  0]\n",
    " [ 1 22  0]\n",
    " [ 1  0 36]]\n",
    "              precision    recall  f1-score   support\n",
    "\n",
    "      Adelie       0.95      1.00      0.98        41\n",
    "   Chinstrap       1.00      0.96      0.98        23\n",
    "      Gentoo       1.00      0.97      0.99        37\n",
    "\n",
    "    accuracy                           0.98       101\n",
    "   macro avg       0.98      0.98      0.98       101\n",
    "weighted avg       0.98      0.98      0.98       101\n",
    "\n",
    "\n",
    "Train_Set\n",
    "[[105   0   0]\n",
    " [  0  45   0]\n",
    " [  0   0  83]]\n",
    "              precision    recall  f1-score   supportva\n",
    "\n",
    "      Adelie       1.00      1.00      1.00       105\n",
    "   Chinstrap       1.00      1.00      1.00        45\n",
    "      Gentoo       1.00      1.00      1.00        83\n",
    "\n",
    "    accuracy                           1.00       233\n",
    "   macro avg       1.00      1.00      1.00       233\n",
    "weighted avg       1.00      1.00      1.00       233"
   ]
  },
  {
   "cell_type": "code",
   "execution_count": null,
   "id": "2e9a2040",
   "metadata": {},
   "outputs": [],
   "source": [
    "model = DecisionTreeClassifier(random_state=101)\n",
    "\n",
    "scores = cross_validate(model, X_train2, y_train2, scoring = [\"accuracy\", \"precision_micro\", \"recall_micro\", \"f1_micro\"], cv = 10)\n",
    "df_scores = pd.DataFrame(scores, index = range(1, 11))\n",
    "df_scores\n",
    "\n",
    "#crossuna bakma\n",
    "\n",
    "df_scores.mean()[2:] "
   ]
  },
  {
   "cell_type": "code",
   "execution_count": null,
   "id": "ee64d35e",
   "metadata": {},
   "outputs": [],
   "source": [
    "from sklearn.tree import plot_tree\n",
    "plt.figure(figsize=(12,8),dpi=100)\n",
    "plot_tree(DT_model, filled=True, feature_names=X.columns, class_names=df.species.unique());\n",
    "plt.show()\n",
    "\n",
    "#en alt yapraklarda güzel ayirdigini görüyoruz\n",
    "#[1,3,0] orda en büyük olan sinif o yapraga adini veriyor\n",
    "\n",
    "#Gentoo mor\n",
    "#Chinstrap yesil\n",
    "#turuncu Adelle\n",
    "\n",
    "#Decision tree agacini görsellestirmek icin, renkli ve columns isimleriyle"
   ]
  },
  {
   "cell_type": "code",
   "execution_count": null,
   "id": "29dc059e",
   "metadata": {},
   "outputs": [],
   "source": []
  },
  {
   "cell_type": "code",
   "execution_count": null,
   "id": "fdc8b6c5",
   "metadata": {},
   "outputs": [],
   "source": []
  },
  {
   "cell_type": "markdown",
   "id": "749148f8",
   "metadata": {},
   "source": [
    "# SVM Models"
   ]
  },
  {
   "cell_type": "code",
   "execution_count": null,
   "id": "fb451dc7",
   "metadata": {},
   "outputs": [],
   "source": [
    "#bu modelde benim anladiigm, data preprocessing yaptiktan sonra\n",
    "#GridSearch ile model icin en iyi paratmetlereleri bulup,cünkü GridSearch en iyi SVM de calisiyor deniyor\n",
    "#sonra Pipeline ile model kurup tahminlerimizi alabiliriz\n",
    "#sonrada eval metric veya daha baska hazir degerlendirme kodlari ile scorlara bakabiliriz"
   ]
  },
  {
   "cell_type": "code",
   "execution_count": null,
   "id": "dea88165",
   "metadata": {},
   "outputs": [],
   "source": [
    "from svm_margin_plot import plot_svm_boundary\n",
    "\n",
    "#bunu import edince bize o cografya haritasi gii bir grafik cizdiriyor, ve buna bakarak \n",
    "#datayi C ve gamma degerleri nasil sarmalamis görebiliyoruz\n",
    "#eger tram sarmalasmissa iyi degil aslinda bu durumda eger tahmin edilecek veri bu sarmalamanin disinda bir yerdeyse\n",
    "# ozaman dogru tahmin sonuclari alamaycagiz\n",
    "# ve SVM de probability mesafeye bagli olarak ortaya cikan birseydir,Logisticteki gibi degil\n",
    "# merkeze ne kadar yakinsa probability score o kadar yüksek olur\n",
    "#sürüden ayrilani kurt kapar,dis taraftakilerin degeri düsük olabilir"
   ]
  },
  {
   "cell_type": "code",
   "execution_count": null,
   "id": "9fdb3e03",
   "metadata": {},
   "outputs": [],
   "source": []
  },
  {
   "cell_type": "code",
   "execution_count": null,
   "id": "4dc5ab18",
   "metadata": {},
   "outputs": [],
   "source": []
  }
 ],
 "metadata": {
  "kernelspec": {
   "display_name": "Python 3.9.12 ('base')",
   "language": "python",
   "name": "python3"
  },
  "language_info": {
   "codemirror_mode": {
    "name": "ipython",
    "version": 3
   },
   "file_extension": ".py",
   "mimetype": "text/x-python",
   "name": "python",
   "nbconvert_exporter": "python",
   "pygments_lexer": "ipython3",
   "version": "3.9.12"
  },
  "vscode": {
   "interpreter": {
    "hash": "f7c19a79b9aeb8b1cc18eda6778f62d726c8b19540b84d23ad80114035b2e0b4"
   }
  }
 },
 "nbformat": 4,
 "nbformat_minor": 5
}
