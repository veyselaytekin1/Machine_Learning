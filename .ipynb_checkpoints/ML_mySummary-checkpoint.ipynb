{
 "cells": [
  {
   "cell_type": "markdown",
   "id": "1384543c",
   "metadata": {},
   "source": [
    "### Genel bilgiler"
   ]
  },
  {
   "cell_type": "code",
   "execution_count": null,
   "id": "ee9b0385",
   "metadata": {},
   "outputs": [],
   "source": [
    "#eger bizim Targetlerimiz sayisal veri oldugu icin, Linear regression modeli kullanmak daha verimli olur"
   ]
  },
  {
   "cell_type": "code",
   "execution_count": null,
   "id": "acf9b524",
   "metadata": {},
   "outputs": [],
   "source": [
    "#input yani Features ler bagimsiz degiskenlerdir,\n",
    "#Output yani Target bagimli degiskenlerdir, cünkü bunlar cikti oldugu icin, inputlaradan etkileniyorlar\n"
   ]
  },
  {
   "cell_type": "code",
   "execution_count": null,
   "id": "4f32a601",
   "metadata": {},
   "outputs": [],
   "source": []
  },
  {
   "cell_type": "code",
   "execution_count": null,
   "id": "694d24ee",
   "metadata": {},
   "outputs": [],
   "source": []
  },
  {
   "cell_type": "code",
   "execution_count": null,
   "id": "23832d52",
   "metadata": {},
   "outputs": [],
   "source": []
  },
  {
   "cell_type": "code",
   "execution_count": null,
   "id": "5438e1bc",
   "metadata": {},
   "outputs": [],
   "source": []
  },
  {
   "cell_type": "code",
   "execution_count": null,
   "id": "d316c555",
   "metadata": {},
   "outputs": [],
   "source": []
  },
  {
   "cell_type": "code",
   "execution_count": null,
   "id": "d0aeba40",
   "metadata": {},
   "outputs": [],
   "source": []
  },
  {
   "cell_type": "markdown",
   "id": "f14c8a4a",
   "metadata": {},
   "source": [
    "### veri tipini degistirme"
   ]
  },
  {
   "cell_type": "code",
   "execution_count": null,
   "id": "018dbff3",
   "metadata": {},
   "outputs": [],
   "source": [
    "data['region'] = data['region'].astype('category')\n",
    "\n",
    "#burda fazla cesit bile olsa icinde categorye ceviriyor"
   ]
  },
  {
   "cell_type": "code",
   "execution_count": null,
   "id": "8c6a4ecd",
   "metadata": {},
   "outputs": [],
   "source": [
    "data = pd.get_dummies(data)\n",
    "data\n",
    "\n",
    "#get dummies ile veri seti categorical olanlar 0 ve 1 olarak machinenin anlayacagi dile cevriliyor\n",
    "#örnegin erkek olan kisinin satirinda cinsiyet_erkek = 1 cinsiyet_kadin = 0 yaziyor\n",
    "#eger dogu,bati,güney.kuzey kategorileri varsa, herbiri icin olusturuyor, ve güney olan kisinin\n",
    "#region_güney sütunu 1 region_bati sütunu 0.region_dogu sütunu 0 oluyor\n"
   ]
  },
  {
   "cell_type": "code",
   "execution_count": null,
   "id": "303b8d5e",
   "metadata": {},
   "outputs": [],
   "source": []
  },
  {
   "cell_type": "code",
   "execution_count": null,
   "id": "58e1e797",
   "metadata": {},
   "outputs": [],
   "source": []
  },
  {
   "cell_type": "markdown",
   "id": "6a5e7147",
   "metadata": {},
   "source": [
    "### veriyi modele hazir hale getirme"
   ]
  },
  {
   "cell_type": "code",
   "execution_count": null,
   "id": "ac0988f7",
   "metadata": {},
   "outputs": [],
   "source": [
    "y = data['charges']\n",
    "X = data.drop('charges' , axis =1) #icinde charge olmayanlari aliyor\n",
    "\n",
    "#bu sekilde y olanlar bagimli degisken yani sonuclar oldu\n",
    "#X olanlarda bizim Featureslerimiz oldu\n",
    "\n",
    "#X bizim charges haric tüm sütunlarimiz ve biz bunu biraz sonra train ve test olarak ikiye bölecegiz\n",
    "#ve y degiskenimiz ise bizim sonuclarimiz bu veri setinde saglik icin yapilan harcamalar \n",
    "#birazdan bunu da ikiye bölecegiz "
   ]
  },
  {
   "cell_type": "code",
   "execution_count": null,
   "id": "b1069f52",
   "metadata": {},
   "outputs": [],
   "source": [
    "#Training veri setiyle(X) model egitilir, ve test veri setiyle(y) test edilir\n",
    "#veri setini Training ve test diye ayirmak icin  sklearn kütüphanesini kullaniyoruz.\n",
    "#Bu method ile veriyi istedigimiz oranda bölebiliriz\n",
    "#bu veri setini karistirarak parcalama yapar\n",
    "\n",
    "from sklearn.model_selection import train_test_split\n",
    "X_train, X_test, y_train, y_test = train_test_split(X, y, train_size = 0.80, random_state = 1)\n",
    "#bu sekilde verileri %80 train ve %20 test verileri olarak bölüyorum\n",
    "#random_state parametresi kullnilan verileri sabitlemek icin kullanilir\n",
    "#eger bende bu parametreyi kullanirsam, bende hocanin buldugu sonuclarin aynisini bulabilirim\n"
   ]
  },
  {
   "cell_type": "code",
   "execution_count": null,
   "id": "dc160f35",
   "metadata": {},
   "outputs": [],
   "source": []
  },
  {
   "cell_type": "code",
   "execution_count": null,
   "id": "7d73c2a7",
   "metadata": {},
   "outputs": [],
   "source": []
  },
  {
   "cell_type": "code",
   "execution_count": null,
   "id": "fd5998a4",
   "metadata": {},
   "outputs": [],
   "source": []
  },
  {
   "cell_type": "markdown",
   "id": "6af6ef65",
   "metadata": {},
   "source": [
    "### model kurma asamalari"
   ]
  },
  {
   "cell_type": "code",
   "execution_count": null,
   "id": "e8656724",
   "metadata": {},
   "outputs": [],
   "source": [
    "#linear regression modeli icin sklearn'deki linear modelden linear regression modelini import edelim\n",
    "\n",
    "\n",
    "from sklearn.linear_model import LinearRegression \n",
    "\n",
    "#galiba bir makina ögrenmesi modeli import ettik\n",
    "\n",
    "#simdide bu siniftan bir örnek alalim\n",
    "\n",
    "lr = LinearRegression    #busekilde bu siniftan birer örnek almis oldu\n",
    "\n",
    "lr.fit(X_train, y_train)   #egitim icin aldigim verileri aliyorum\n",
    "\n",
    "#simdide egitim verilerini kullanarak modeli kuralim,simdide performansina bakalim diyor\n",
    "\n",
    "\n",
    "#ilginc ama adam modeli kurduk dedi, yani ne demek istedigini halen anlamiyorum"
   ]
  },
  {
   "cell_type": "code",
   "execution_count": null,
   "id": "2ff5a033",
   "metadata": {},
   "outputs": [],
   "source": [
    "#yaptigimiz modelin performansini görmek icin, simdide belirleme katsayisini bulalim\n",
    "#bu deger 1 e nekadar yakinsa model okdar iyidir"
   ]
  },
  {
   "cell_type": "code",
   "execution_count": null,
   "id": "b88d046b",
   "metadata": {},
   "outputs": [],
   "source": []
  },
  {
   "cell_type": "code",
   "execution_count": null,
   "id": "f20396a5",
   "metadata": {},
   "outputs": [],
   "source": []
  },
  {
   "cell_type": "markdown",
   "id": "e40cd1c4",
   "metadata": {},
   "source": [
    "## Validation islemleri"
   ]
  },
  {
   "cell_type": "code",
   "execution_count": null,
   "id": "c6b2914f",
   "metadata": {},
   "outputs": [],
   "source": [
    "lr.score(X_test, y_test).round(3) \n",
    "\n",
    "#simdi modelimizin basari oranini görecegiz, bu komut calisinca modelin r_karesi ekrana yaziliyor\n",
    "#eger modelin r_karesi 0.7 den büyükse model basarili demektir\n",
    "\n",
    "#aslinda bu bir validation islemidir\n",
    "#burda sonucu ölcmek icin test veri kümesini kullaniyoruz,\n",
    "#burda sonuc 0.762 cikti"
   ]
  },
  {
   "cell_type": "code",
   "execution_count": null,
   "id": "2bb2ed63",
   "metadata": {},
   "outputs": [],
   "source": [
    "lr.score(X_train, y_train).round(3)\n",
    "\n",
    "#simdide modelin egitim verileri üzerindeki dogrulugunu görelim\n",
    "#bu degerde 0.7 den büyük ve test veirlerinin r_karesine yakin cikti\n",
    "#egitim verilerinide baktik\n",
    "#burda sonuc 0.748 cikti"
   ]
  },
  {
   "cell_type": "code",
   "execution_count": null,
   "id": "9027fd0e",
   "metadata": {},
   "outputs": [],
   "source": []
  },
  {
   "cell_type": "code",
   "execution_count": null,
   "id": "345ab9aa",
   "metadata": {},
   "outputs": [],
   "source": []
  },
  {
   "cell_type": "code",
   "execution_count": null,
   "id": "b8d812c1",
   "metadata": {},
   "outputs": [],
   "source": []
  },
  {
   "cell_type": "markdown",
   "id": "46322cb7",
   "metadata": {},
   "source": [
    "## Prediction yapiyor"
   ]
  },
  {
   "cell_type": "code",
   "execution_count": null,
   "id": "a16ee442",
   "metadata": {},
   "outputs": [],
   "source": [
    "y_pred = lr.predict(X_test) \n",
    "\n",
    "#predict metoduyla input_testleri modele koyuyorum, suan test modellerine göre tahmin yaptk\n",
    "\n",
    "#simdide modeli degerlendirmek icin bir diger metrik olan hata kareler ortalamasina(mean squared error) bakalim\n",
    "#bunun icin öncelikle  predict metoduyla test verilerini tahmin edelim"
   ]
  },
  {
   "cell_type": "code",
   "execution_count": null,
   "id": "49a5fa44",
   "metadata": {},
   "outputs": [],
   "source": [
    "y_pred\n",
    "\n",
    "#bu benim elindeki verilere bakarak evlerin fiyatlarini tahmin ettigi degerler\n",
    "#biraz sonra mean squered error ile bu tahminlerin dogrulugunu kontrol edecegim\n",
    "#burda cevap olarak  test setimizdeki her bir veri icin bir tahmin verdi, bir sürü sayi yazdi"
   ]
  },
  {
   "cell_type": "code",
   "execution_count": null,
   "id": "d6933172",
   "metadata": {},
   "outputs": [],
   "source": []
  },
  {
   "cell_type": "code",
   "execution_count": null,
   "id": "edf6d3b5",
   "metadata": {},
   "outputs": [],
   "source": []
  },
  {
   "cell_type": "markdown",
   "id": "465d18d0",
   "metadata": {},
   "source": [
    "## mean squred error "
   ]
  },
  {
   "cell_type": "code",
   "execution_count": null,
   "id": "6cd82803",
   "metadata": {},
   "outputs": [],
   "source": [
    "#simdide mean squred error bulacagimiz icin yukarida kütüphanesini import ettim\n",
    "#mean squered error kullanacagim icin, bir kütüphane daha import ediyorum  import math\n",
    "\n",
    "\n",
    "\n",
    "#simdide ortalama kareler hatasinin(mean squred error) karekökünü alacagim\n",
    "\n"
   ]
  },
  {
   "cell_type": "code",
   "execution_count": null,
   "id": "8af435fd",
   "metadata": {},
   "outputs": [],
   "source": [
    "math.sqrt(mean_squared_error(y_test, y_pred))\n",
    "\n",
    "#sqrt ile karesini aliyorum, ve az önce import ettigim (mean_squared_error) metirigide icine yaziyorum\n",
    "#cünkü mean squared karelerini aliyor, bende simdi karekökünü alacagim\n",
    "#burda icine koydugum degiskenler cok öneli \n",
    "#ben hata oranini bulacagim icin. test verilerini ele aliyorum \n",
    "#y_test yani bizim gercek degerlerimiz, saglik icin yapilan harcamalarin gercek degeri\n",
    "#y_pred bizim modelimizin yapmis oldugu tahminler\n",
    "#ve gercekler ile, onun buldugu arasindaki iliskiye bakacagir, kaclik bir standart sapma ile \n",
    "#tahmin ettigne bakalim\n",
    "\n",
    "#5956 lik bir standar hata ile tahmin ediyor\n",
    "\n",
    "#artik bu asamada istedigimiz veriyi modele vererek tahminler yapabilriz\n",
    "#galiba artik modelimiz tahmin yapmayi ögrendi, ve nekadar cok veri verirsek o kadar iyi tahminde bulunacak\n",
    "\n",
    "#cevap bu cikti 5956.454717976427"
   ]
  },
  {
   "cell_type": "code",
   "execution_count": null,
   "id": "791d089d",
   "metadata": {},
   "outputs": [],
   "source": []
  },
  {
   "cell_type": "code",
   "execution_count": null,
   "id": "0e52bba5",
   "metadata": {},
   "outputs": [],
   "source": []
  },
  {
   "cell_type": "code",
   "execution_count": null,
   "id": "a7dd6a75",
   "metadata": {},
   "outputs": [],
   "source": []
  },
  {
   "cell_type": "markdown",
   "id": "f592cb95",
   "metadata": {},
   "source": [
    "### burda verimizin ilk satirini kontrol edelim, gercek deger ile kendi tahminine bakalim"
   ]
  },
  {
   "cell_type": "code",
   "execution_count": null,
   "id": "9a483dac",
   "metadata": {},
   "outputs": [],
   "source": [
    "data_new = X_train[:1]\n",
    "data_new\n",
    "\n",
    "#biz simdi ilk satiri tahmin ediyorum,önce ilk satirimiza bakalim\n",
    "#burda ilk satir 216 indexli veri oldu, neden 1ci indexli gelmesi diye düsündüm\n",
    "#ama galiba adam sklearn kütüphanesiyle. ilgili veriyi karistirarak bölüyor demisti\n",
    "#bellki ondan dolayi 216 geldi\n",
    "\n",
    "\n",
    "lr.predict(data_new)\n",
    "\n",
    "\n",
    "#simdide veriyi tahmin ediyoruz\n",
    "#veriyi tahmin etmek icin predict methodu kullaniliyor\n",
    "#new_data bizim birici satirimiza atadim\n",
    "\n",
    "#tahmini array([10508.41885042])"
   ]
  },
  {
   "cell_type": "code",
   "execution_count": null,
   "id": "985e13f5",
   "metadata": {},
   "outputs": [],
   "source": [
    "y_train[0:1]    #bu da gercek deger ,aslinda gayet güzel tahmin etmis\n",
    "\n",
    "#gercek cevap 216->10355.641"
   ]
  },
  {
   "cell_type": "code",
   "execution_count": null,
   "id": "bf53854b",
   "metadata": {},
   "outputs": [],
   "source": []
  },
  {
   "cell_type": "code",
   "execution_count": null,
   "id": "89935aa2",
   "metadata": {},
   "outputs": [],
   "source": []
  },
  {
   "cell_type": "code",
   "execution_count": null,
   "id": "4aba3359",
   "metadata": {},
   "outputs": [],
   "source": []
  },
  {
   "cell_type": "code",
   "execution_count": null,
   "id": "1d500959",
   "metadata": {},
   "outputs": [],
   "source": []
  },
  {
   "cell_type": "markdown",
   "id": "09d73f6b",
   "metadata": {},
   "source": [
    "## Pipeline"
   ]
  },
  {
   "cell_type": "code",
   "execution_count": 1,
   "id": "368e1750",
   "metadata": {},
   "outputs": [],
   "source": [
    "# kelime anlami boru hatti demek,bunun ile makine ögrenmesi proje adimlarini  birbirine baglayabiliriz\n",
    "\n",
    "#yani veri ön islemeden, model kurmaya kadarki  bütün makine ögrenmesi asamalarini birbirine zincirleyebiliriz\n",
    "#böylece olusturdugumiz pipeline lari hem  baska projeler icin kullanabiliriz, hemde bir hata \n",
    "#aldigimizda daha kolay düzeltebiliriz"
   ]
  },
  {
   "cell_type": "code",
   "execution_count": 2,
   "id": "fc88d237",
   "metadata": {},
   "outputs": [],
   "source": [
    "from sklearn.pipeline import make_pipeline\n",
    "\n",
    "#simdi bir logistic Regression kurmak icin pipeline kullanalim\n",
    "#öncelikle pipeline ni import edelim "
   ]
  },
  {
   "cell_type": "code",
   "execution_count": 3,
   "id": "bb4038f0",
   "metadata": {},
   "outputs": [],
   "source": [
    "from sklearn.linear_model import LogisticRegression\n",
    "\n",
    "#simdide logistic Regressionu import edelim"
   ]
  },
  {
   "cell_type": "code",
   "execution_count": 4,
   "id": "02acca9a",
   "metadata": {},
   "outputs": [],
   "source": [
    "from sklearn.preprocessing import StandardScaler   \n",
    "\n",
    "#bunu import etmedigim icin hata aldim cünkü StandardScaler bir kütüphaneden geliyor\n",
    "#bunu ben asagida bir pipeline kullanarak bir logosticRegression modeli kuracagim \n",
    "##icine StandardScaler yazacagim icin import etmeliyim"
   ]
  },
  {
   "cell_type": "code",
   "execution_count": 5,
   "id": "e04a833b",
   "metadata": {},
   "outputs": [],
   "source": [
    "pipe = make_pipeline(\n",
    "        StandardScaler(),\n",
    "        LogisticRegression())\n",
    "\n",
    "#suan bir pipeline nesnesi olusturalim \n",
    "#ve bu nesne icine islem adimlarini yazalim\n",
    "\n",
    "#pipe diye bir degislen olusturdum, icine make_pipeline fonksiyonunu yaziyorum\n",
    "#bunun icerisine DataScaling icin Standartscaler yaziyorum\n",
    "#sonra model kurmak icin LogisticRegression sinifini yaziyorum\n",
    "\n",
    "#bu sekilde bir boru hatti kurmus olduk"
   ]
  },
  {
   "cell_type": "code",
   "execution_count": 6,
   "id": "6ae9db50",
   "metadata": {},
   "outputs": [],
   "source": [
    "#simdi bu boru hattini kullanmak icin iris veri setini kullanalim\n",
    "#bu scikitlearn icinde yüklüdür,\n",
    "#bu veri seti iris cicegini 3 türüne ait ölcümleri icerir"
   ]
  },
  {
   "cell_type": "code",
   "execution_count": 7,
   "id": "3d9516d0",
   "metadata": {},
   "outputs": [],
   "source": [
    "from sklearn.datasets import load_iris\n",
    "\n",
    "#scikitlearn e yüklü gelen dataset i cagiriyoruz"
   ]
  },
  {
   "cell_type": "code",
   "execution_count": 8,
   "id": "4769b0ce",
   "metadata": {},
   "outputs": [
    {
     "data": {
      "text/plain": [
       "{'data': array([[5.1, 3.5, 1.4, 0.2],\n",
       "        [4.9, 3. , 1.4, 0.2],\n",
       "        [4.7, 3.2, 1.3, 0.2],\n",
       "        [4.6, 3.1, 1.5, 0.2],\n",
       "        [5. , 3.6, 1.4, 0.2],\n",
       "        [5.4, 3.9, 1.7, 0.4],\n",
       "        [4.6, 3.4, 1.4, 0.3],\n",
       "        [5. , 3.4, 1.5, 0.2],\n",
       "        [4.4, 2.9, 1.4, 0.2],\n",
       "        [4.9, 3.1, 1.5, 0.1],\n",
       "        [5.4, 3.7, 1.5, 0.2],\n",
       "        [4.8, 3.4, 1.6, 0.2],\n",
       "        [4.8, 3. , 1.4, 0.1],\n",
       "        [4.3, 3. , 1.1, 0.1],\n",
       "        [5.8, 4. , 1.2, 0.2],\n",
       "        [5.7, 4.4, 1.5, 0.4],\n",
       "        [5.4, 3.9, 1.3, 0.4],\n",
       "        [5.1, 3.5, 1.4, 0.3],\n",
       "        [5.7, 3.8, 1.7, 0.3],\n",
       "        [5.1, 3.8, 1.5, 0.3],\n",
       "        [5.4, 3.4, 1.7, 0.2],\n",
       "        [5.1, 3.7, 1.5, 0.4],\n",
       "        [4.6, 3.6, 1. , 0.2],\n",
       "        [5.1, 3.3, 1.7, 0.5],\n",
       "        [4.8, 3.4, 1.9, 0.2],\n",
       "        [5. , 3. , 1.6, 0.2],\n",
       "        [5. , 3.4, 1.6, 0.4],\n",
       "        [5.2, 3.5, 1.5, 0.2],\n",
       "        [5.2, 3.4, 1.4, 0.2],\n",
       "        [4.7, 3.2, 1.6, 0.2],\n",
       "        [4.8, 3.1, 1.6, 0.2],\n",
       "        [5.4, 3.4, 1.5, 0.4],\n",
       "        [5.2, 4.1, 1.5, 0.1],\n",
       "        [5.5, 4.2, 1.4, 0.2],\n",
       "        [4.9, 3.1, 1.5, 0.2],\n",
       "        [5. , 3.2, 1.2, 0.2],\n",
       "        [5.5, 3.5, 1.3, 0.2],\n",
       "        [4.9, 3.6, 1.4, 0.1],\n",
       "        [4.4, 3. , 1.3, 0.2],\n",
       "        [5.1, 3.4, 1.5, 0.2],\n",
       "        [5. , 3.5, 1.3, 0.3],\n",
       "        [4.5, 2.3, 1.3, 0.3],\n",
       "        [4.4, 3.2, 1.3, 0.2],\n",
       "        [5. , 3.5, 1.6, 0.6],\n",
       "        [5.1, 3.8, 1.9, 0.4],\n",
       "        [4.8, 3. , 1.4, 0.3],\n",
       "        [5.1, 3.8, 1.6, 0.2],\n",
       "        [4.6, 3.2, 1.4, 0.2],\n",
       "        [5.3, 3.7, 1.5, 0.2],\n",
       "        [5. , 3.3, 1.4, 0.2],\n",
       "        [7. , 3.2, 4.7, 1.4],\n",
       "        [6.4, 3.2, 4.5, 1.5],\n",
       "        [6.9, 3.1, 4.9, 1.5],\n",
       "        [5.5, 2.3, 4. , 1.3],\n",
       "        [6.5, 2.8, 4.6, 1.5],\n",
       "        [5.7, 2.8, 4.5, 1.3],\n",
       "        [6.3, 3.3, 4.7, 1.6],\n",
       "        [4.9, 2.4, 3.3, 1. ],\n",
       "        [6.6, 2.9, 4.6, 1.3],\n",
       "        [5.2, 2.7, 3.9, 1.4],\n",
       "        [5. , 2. , 3.5, 1. ],\n",
       "        [5.9, 3. , 4.2, 1.5],\n",
       "        [6. , 2.2, 4. , 1. ],\n",
       "        [6.1, 2.9, 4.7, 1.4],\n",
       "        [5.6, 2.9, 3.6, 1.3],\n",
       "        [6.7, 3.1, 4.4, 1.4],\n",
       "        [5.6, 3. , 4.5, 1.5],\n",
       "        [5.8, 2.7, 4.1, 1. ],\n",
       "        [6.2, 2.2, 4.5, 1.5],\n",
       "        [5.6, 2.5, 3.9, 1.1],\n",
       "        [5.9, 3.2, 4.8, 1.8],\n",
       "        [6.1, 2.8, 4. , 1.3],\n",
       "        [6.3, 2.5, 4.9, 1.5],\n",
       "        [6.1, 2.8, 4.7, 1.2],\n",
       "        [6.4, 2.9, 4.3, 1.3],\n",
       "        [6.6, 3. , 4.4, 1.4],\n",
       "        [6.8, 2.8, 4.8, 1.4],\n",
       "        [6.7, 3. , 5. , 1.7],\n",
       "        [6. , 2.9, 4.5, 1.5],\n",
       "        [5.7, 2.6, 3.5, 1. ],\n",
       "        [5.5, 2.4, 3.8, 1.1],\n",
       "        [5.5, 2.4, 3.7, 1. ],\n",
       "        [5.8, 2.7, 3.9, 1.2],\n",
       "        [6. , 2.7, 5.1, 1.6],\n",
       "        [5.4, 3. , 4.5, 1.5],\n",
       "        [6. , 3.4, 4.5, 1.6],\n",
       "        [6.7, 3.1, 4.7, 1.5],\n",
       "        [6.3, 2.3, 4.4, 1.3],\n",
       "        [5.6, 3. , 4.1, 1.3],\n",
       "        [5.5, 2.5, 4. , 1.3],\n",
       "        [5.5, 2.6, 4.4, 1.2],\n",
       "        [6.1, 3. , 4.6, 1.4],\n",
       "        [5.8, 2.6, 4. , 1.2],\n",
       "        [5. , 2.3, 3.3, 1. ],\n",
       "        [5.6, 2.7, 4.2, 1.3],\n",
       "        [5.7, 3. , 4.2, 1.2],\n",
       "        [5.7, 2.9, 4.2, 1.3],\n",
       "        [6.2, 2.9, 4.3, 1.3],\n",
       "        [5.1, 2.5, 3. , 1.1],\n",
       "        [5.7, 2.8, 4.1, 1.3],\n",
       "        [6.3, 3.3, 6. , 2.5],\n",
       "        [5.8, 2.7, 5.1, 1.9],\n",
       "        [7.1, 3. , 5.9, 2.1],\n",
       "        [6.3, 2.9, 5.6, 1.8],\n",
       "        [6.5, 3. , 5.8, 2.2],\n",
       "        [7.6, 3. , 6.6, 2.1],\n",
       "        [4.9, 2.5, 4.5, 1.7],\n",
       "        [7.3, 2.9, 6.3, 1.8],\n",
       "        [6.7, 2.5, 5.8, 1.8],\n",
       "        [7.2, 3.6, 6.1, 2.5],\n",
       "        [6.5, 3.2, 5.1, 2. ],\n",
       "        [6.4, 2.7, 5.3, 1.9],\n",
       "        [6.8, 3. , 5.5, 2.1],\n",
       "        [5.7, 2.5, 5. , 2. ],\n",
       "        [5.8, 2.8, 5.1, 2.4],\n",
       "        [6.4, 3.2, 5.3, 2.3],\n",
       "        [6.5, 3. , 5.5, 1.8],\n",
       "        [7.7, 3.8, 6.7, 2.2],\n",
       "        [7.7, 2.6, 6.9, 2.3],\n",
       "        [6. , 2.2, 5. , 1.5],\n",
       "        [6.9, 3.2, 5.7, 2.3],\n",
       "        [5.6, 2.8, 4.9, 2. ],\n",
       "        [7.7, 2.8, 6.7, 2. ],\n",
       "        [6.3, 2.7, 4.9, 1.8],\n",
       "        [6.7, 3.3, 5.7, 2.1],\n",
       "        [7.2, 3.2, 6. , 1.8],\n",
       "        [6.2, 2.8, 4.8, 1.8],\n",
       "        [6.1, 3. , 4.9, 1.8],\n",
       "        [6.4, 2.8, 5.6, 2.1],\n",
       "        [7.2, 3. , 5.8, 1.6],\n",
       "        [7.4, 2.8, 6.1, 1.9],\n",
       "        [7.9, 3.8, 6.4, 2. ],\n",
       "        [6.4, 2.8, 5.6, 2.2],\n",
       "        [6.3, 2.8, 5.1, 1.5],\n",
       "        [6.1, 2.6, 5.6, 1.4],\n",
       "        [7.7, 3. , 6.1, 2.3],\n",
       "        [6.3, 3.4, 5.6, 2.4],\n",
       "        [6.4, 3.1, 5.5, 1.8],\n",
       "        [6. , 3. , 4.8, 1.8],\n",
       "        [6.9, 3.1, 5.4, 2.1],\n",
       "        [6.7, 3.1, 5.6, 2.4],\n",
       "        [6.9, 3.1, 5.1, 2.3],\n",
       "        [5.8, 2.7, 5.1, 1.9],\n",
       "        [6.8, 3.2, 5.9, 2.3],\n",
       "        [6.7, 3.3, 5.7, 2.5],\n",
       "        [6.7, 3. , 5.2, 2.3],\n",
       "        [6.3, 2.5, 5. , 1.9],\n",
       "        [6.5, 3. , 5.2, 2. ],\n",
       "        [6.2, 3.4, 5.4, 2.3],\n",
       "        [5.9, 3. , 5.1, 1.8]]),\n",
       " 'target': array([0, 0, 0, 0, 0, 0, 0, 0, 0, 0, 0, 0, 0, 0, 0, 0, 0, 0, 0, 0, 0, 0,\n",
       "        0, 0, 0, 0, 0, 0, 0, 0, 0, 0, 0, 0, 0, 0, 0, 0, 0, 0, 0, 0, 0, 0,\n",
       "        0, 0, 0, 0, 0, 0, 1, 1, 1, 1, 1, 1, 1, 1, 1, 1, 1, 1, 1, 1, 1, 1,\n",
       "        1, 1, 1, 1, 1, 1, 1, 1, 1, 1, 1, 1, 1, 1, 1, 1, 1, 1, 1, 1, 1, 1,\n",
       "        1, 1, 1, 1, 1, 1, 1, 1, 1, 1, 1, 1, 2, 2, 2, 2, 2, 2, 2, 2, 2, 2,\n",
       "        2, 2, 2, 2, 2, 2, 2, 2, 2, 2, 2, 2, 2, 2, 2, 2, 2, 2, 2, 2, 2, 2,\n",
       "        2, 2, 2, 2, 2, 2, 2, 2, 2, 2, 2, 2, 2, 2, 2, 2, 2, 2]),\n",
       " 'frame': None,\n",
       " 'target_names': array(['setosa', 'versicolor', 'virginica'], dtype='<U10'),\n",
       " 'DESCR': '.. _iris_dataset:\\n\\nIris plants dataset\\n--------------------\\n\\n**Data Set Characteristics:**\\n\\n    :Number of Instances: 150 (50 in each of three classes)\\n    :Number of Attributes: 4 numeric, predictive attributes and the class\\n    :Attribute Information:\\n        - sepal length in cm\\n        - sepal width in cm\\n        - petal length in cm\\n        - petal width in cm\\n        - class:\\n                - Iris-Setosa\\n                - Iris-Versicolour\\n                - Iris-Virginica\\n                \\n    :Summary Statistics:\\n\\n    ============== ==== ==== ======= ===== ====================\\n                    Min  Max   Mean    SD   Class Correlation\\n    ============== ==== ==== ======= ===== ====================\\n    sepal length:   4.3  7.9   5.84   0.83    0.7826\\n    sepal width:    2.0  4.4   3.05   0.43   -0.4194\\n    petal length:   1.0  6.9   3.76   1.76    0.9490  (high!)\\n    petal width:    0.1  2.5   1.20   0.76    0.9565  (high!)\\n    ============== ==== ==== ======= ===== ====================\\n\\n    :Missing Attribute Values: None\\n    :Class Distribution: 33.3% for each of 3 classes.\\n    :Creator: R.A. Fisher\\n    :Donor: Michael Marshall (MARSHALL%PLU@io.arc.nasa.gov)\\n    :Date: July, 1988\\n\\nThe famous Iris database, first used by Sir R.A. Fisher. The dataset is taken\\nfrom Fisher\\'s paper. Note that it\\'s the same as in R, but not as in the UCI\\nMachine Learning Repository, which has two wrong data points.\\n\\nThis is perhaps the best known database to be found in the\\npattern recognition literature.  Fisher\\'s paper is a classic in the field and\\nis referenced frequently to this day.  (See Duda & Hart, for example.)  The\\ndata set contains 3 classes of 50 instances each, where each class refers to a\\ntype of iris plant.  One class is linearly separable from the other 2; the\\nlatter are NOT linearly separable from each other.\\n\\n.. topic:: References\\n\\n   - Fisher, R.A. \"The use of multiple measurements in taxonomic problems\"\\n     Annual Eugenics, 7, Part II, 179-188 (1936); also in \"Contributions to\\n     Mathematical Statistics\" (John Wiley, NY, 1950).\\n   - Duda, R.O., & Hart, P.E. (1973) Pattern Classification and Scene Analysis.\\n     (Q327.D83) John Wiley & Sons.  ISBN 0-471-22361-1.  See page 218.\\n   - Dasarathy, B.V. (1980) \"Nosing Around the Neighborhood: A New System\\n     Structure and Classification Rule for Recognition in Partially Exposed\\n     Environments\".  IEEE Transactions on Pattern Analysis and Machine\\n     Intelligence, Vol. PAMI-2, No. 1, 67-71.\\n   - Gates, G.W. (1972) \"The Reduced Nearest Neighbor Rule\".  IEEE Transactions\\n     on Information Theory, May 1972, 431-433.\\n   - See also: 1988 MLC Proceedings, 54-64.  Cheeseman et al\"s AUTOCLASS II\\n     conceptual clustering system finds 3 classes in the data.\\n   - Many, many more ...',\n",
       " 'feature_names': ['sepal length (cm)',\n",
       "  'sepal width (cm)',\n",
       "  'petal length (cm)',\n",
       "  'petal width (cm)'],\n",
       " 'filename': 'iris.csv',\n",
       " 'data_module': 'sklearn.datasets.data'}"
      ]
     },
     "execution_count": 8,
     "metadata": {},
     "output_type": "execute_result"
    }
   ],
   "source": [
    "from sklearn import datasets    \n",
    "\n",
    "iris = datasets.load_iris()\n",
    "iris\n",
    "\n",
    "\n",
    "#ben veri setini görmek istedim hatta pd.DataFrame(iris)\n",
    "#yapip tablo seklinde görmek istedim ama hata aldim, sütun basina veriler bir boyutlu olmali dedi"
   ]
  },
  {
   "cell_type": "code",
   "execution_count": 9,
   "id": "3c756ccb",
   "metadata": {},
   "outputs": [],
   "source": [
    "X ,y = load_iris(return_X_y=True)\n",
    "#bununla Xler input(Features) oldu,ve y ler target(output) oldu\n",
    "#zaten kendisi return_X_y diyerekX(input)ve y(target) diye döndürecegim diyor\n",
    "\n",
    "#simdi iris veri setindeki girdi ve cikti degiskeneleri olusturalim\n",
    "#X ve y degiskenlerini yazdiktan sonra load_iris fonksiyonunu yaziyorum\n",
    "#X ve y girdi ve cikti degiskenlerini döndürmek icin ,return_X_y=True True olarak ayarliyorum\n",
    "#bu sekilde verideki girdi ve cikti degiskenlerini olusturdum\n"
   ]
  },
  {
   "cell_type": "code",
   "execution_count": 10,
   "id": "d96ba822",
   "metadata": {},
   "outputs": [],
   "source": [
    "from sklearn.model_selection import train_test_split\n",
    "\n",
    "X_train, X_test, y_train, y_test = train_test_split(X, y, random_state=0)\n",
    "\n",
    "\n",
    "#makine ögrenmesi analizleri icin veri seti train ve test diye ikiye ayrilir\n",
    "#bu default olarak veri setini %75 test %25 test olarak ayirir\n",
    "#simdi veri setimizi ikiye ayiralim\n",
    "#random_state hocayla ayni degerleri bulmak icin\n",
    "#bu islemi yukarida veri bölme altinda yaptik ama pipeline islerken yiine lazim oldugu icin bir daha yapiyorum\n"
   ]
  },
  {
   "cell_type": "code",
   "execution_count": 11,
   "id": "913f8d34",
   "metadata": {},
   "outputs": [
    {
     "data": {
      "text/html": [
       "<style>#sk-container-id-1 {color: black;background-color: white;}#sk-container-id-1 pre{padding: 0;}#sk-container-id-1 div.sk-toggleable {background-color: white;}#sk-container-id-1 label.sk-toggleable__label {cursor: pointer;display: block;width: 100%;margin-bottom: 0;padding: 0.3em;box-sizing: border-box;text-align: center;}#sk-container-id-1 label.sk-toggleable__label-arrow:before {content: \"▸\";float: left;margin-right: 0.25em;color: #696969;}#sk-container-id-1 label.sk-toggleable__label-arrow:hover:before {color: black;}#sk-container-id-1 div.sk-estimator:hover label.sk-toggleable__label-arrow:before {color: black;}#sk-container-id-1 div.sk-toggleable__content {max-height: 0;max-width: 0;overflow: hidden;text-align: left;background-color: #f0f8ff;}#sk-container-id-1 div.sk-toggleable__content pre {margin: 0.2em;color: black;border-radius: 0.25em;background-color: #f0f8ff;}#sk-container-id-1 input.sk-toggleable__control:checked~div.sk-toggleable__content {max-height: 200px;max-width: 100%;overflow: auto;}#sk-container-id-1 input.sk-toggleable__control:checked~label.sk-toggleable__label-arrow:before {content: \"▾\";}#sk-container-id-1 div.sk-estimator input.sk-toggleable__control:checked~label.sk-toggleable__label {background-color: #d4ebff;}#sk-container-id-1 div.sk-label input.sk-toggleable__control:checked~label.sk-toggleable__label {background-color: #d4ebff;}#sk-container-id-1 input.sk-hidden--visually {border: 0;clip: rect(1px 1px 1px 1px);clip: rect(1px, 1px, 1px, 1px);height: 1px;margin: -1px;overflow: hidden;padding: 0;position: absolute;width: 1px;}#sk-container-id-1 div.sk-estimator {font-family: monospace;background-color: #f0f8ff;border: 1px dotted black;border-radius: 0.25em;box-sizing: border-box;margin-bottom: 0.5em;}#sk-container-id-1 div.sk-estimator:hover {background-color: #d4ebff;}#sk-container-id-1 div.sk-parallel-item::after {content: \"\";width: 100%;border-bottom: 1px solid gray;flex-grow: 1;}#sk-container-id-1 div.sk-label:hover label.sk-toggleable__label {background-color: #d4ebff;}#sk-container-id-1 div.sk-serial::before {content: \"\";position: absolute;border-left: 1px solid gray;box-sizing: border-box;top: 0;bottom: 0;left: 50%;z-index: 0;}#sk-container-id-1 div.sk-serial {display: flex;flex-direction: column;align-items: center;background-color: white;padding-right: 0.2em;padding-left: 0.2em;position: relative;}#sk-container-id-1 div.sk-item {position: relative;z-index: 1;}#sk-container-id-1 div.sk-parallel {display: flex;align-items: stretch;justify-content: center;background-color: white;position: relative;}#sk-container-id-1 div.sk-item::before, #sk-container-id-1 div.sk-parallel-item::before {content: \"\";position: absolute;border-left: 1px solid gray;box-sizing: border-box;top: 0;bottom: 0;left: 50%;z-index: -1;}#sk-container-id-1 div.sk-parallel-item {display: flex;flex-direction: column;z-index: 1;position: relative;background-color: white;}#sk-container-id-1 div.sk-parallel-item:first-child::after {align-self: flex-end;width: 50%;}#sk-container-id-1 div.sk-parallel-item:last-child::after {align-self: flex-start;width: 50%;}#sk-container-id-1 div.sk-parallel-item:only-child::after {width: 0;}#sk-container-id-1 div.sk-dashed-wrapped {border: 1px dashed gray;margin: 0 0.4em 0.5em 0.4em;box-sizing: border-box;padding-bottom: 0.4em;background-color: white;}#sk-container-id-1 div.sk-label label {font-family: monospace;font-weight: bold;display: inline-block;line-height: 1.2em;}#sk-container-id-1 div.sk-label-container {text-align: center;}#sk-container-id-1 div.sk-container {/* jupyter's `normalize.less` sets `[hidden] { display: none; }` but bootstrap.min.css set `[hidden] { display: none !important; }` so we also need the `!important` here to be able to override the default hidden behavior on the sphinx rendered scikit-learn.org. See: https://github.com/scikit-learn/scikit-learn/issues/21755 */display: inline-block !important;position: relative;}#sk-container-id-1 div.sk-text-repr-fallback {display: none;}</style><div id=\"sk-container-id-1\" class=\"sk-top-container\"><div class=\"sk-text-repr-fallback\"><pre>Pipeline(steps=[(&#x27;standardscaler&#x27;, StandardScaler()),\n",
       "                (&#x27;logisticregression&#x27;, LogisticRegression())])</pre><b>In a Jupyter environment, please rerun this cell to show the HTML representation or trust the notebook. <br />On GitHub, the HTML representation is unable to render, please try loading this page with nbviewer.org.</b></div><div class=\"sk-container\" hidden><div class=\"sk-item sk-dashed-wrapped\"><div class=\"sk-label-container\"><div class=\"sk-label sk-toggleable\"><input class=\"sk-toggleable__control sk-hidden--visually\" id=\"sk-estimator-id-1\" type=\"checkbox\" ><label for=\"sk-estimator-id-1\" class=\"sk-toggleable__label sk-toggleable__label-arrow\">Pipeline</label><div class=\"sk-toggleable__content\"><pre>Pipeline(steps=[(&#x27;standardscaler&#x27;, StandardScaler()),\n",
       "                (&#x27;logisticregression&#x27;, LogisticRegression())])</pre></div></div></div><div class=\"sk-serial\"><div class=\"sk-item\"><div class=\"sk-estimator sk-toggleable\"><input class=\"sk-toggleable__control sk-hidden--visually\" id=\"sk-estimator-id-2\" type=\"checkbox\" ><label for=\"sk-estimator-id-2\" class=\"sk-toggleable__label sk-toggleable__label-arrow\">StandardScaler</label><div class=\"sk-toggleable__content\"><pre>StandardScaler()</pre></div></div></div><div class=\"sk-item\"><div class=\"sk-estimator sk-toggleable\"><input class=\"sk-toggleable__control sk-hidden--visually\" id=\"sk-estimator-id-3\" type=\"checkbox\" ><label for=\"sk-estimator-id-3\" class=\"sk-toggleable__label sk-toggleable__label-arrow\">LogisticRegression</label><div class=\"sk-toggleable__content\"><pre>LogisticRegression()</pre></div></div></div></div></div></div></div>"
      ],
      "text/plain": [
       "Pipeline(steps=[('standardscaler', StandardScaler()),\n",
       "                ('logisticregression', LogisticRegression())])"
      ]
     },
     "execution_count": 11,
     "metadata": {},
     "output_type": "execute_result"
    }
   ],
   "source": [
    "pipe.fit(X_train, y_train)\n",
    "#bu asamada olsturdugum pipeline ile iris veri seti arasindaki baglantiyi kuruyorum.\n",
    "\n",
    "#simdi fit methode ile modeli kuralim\n",
    "#bunun icin olusturdugum pipeline kullanacagim\n",
    "#bu modeli kurmak icin yukarida olusturdugum pipeline ni kullaniyorum\n",
    "#pipe diye olusturdugum degiskenimi yaziyorum ve bu metodun icine egitim verilerini yaziyorum\n",
    "\n",
    "#bu komutu calistirdigimda islem adimlari ekrana yaziliyor\n",
    "\n",
    "#alltaki ciktidan sunu anlayabiliriz\n",
    "#veriler önce Standartsclaer ile ölceklendirildi\n",
    "#daha sonra logistic regression modeli kuruldu"
   ]
  },
  {
   "cell_type": "code",
   "execution_count": 12,
   "id": "39bdb0b1",
   "metadata": {},
   "outputs": [],
   "source": [
    "#simdi test veri seti kullanarak modeli test edelim\n",
    "#modelin performansini ölcmek icin cesitli metrikler kullanabiliriz,\n",
    "#biz burada  accuracy score metrigini kullanmak istiyorum"
   ]
  },
  {
   "cell_type": "code",
   "execution_count": 14,
   "id": "a5600100",
   "metadata": {},
   "outputs": [],
   "source": [
    "from sklearn.metrics import accuracy_score\n",
    "\n",
    "#accuracy(akkoriisii) score fonksiyonunu import edelim"
   ]
  },
  {
   "cell_type": "code",
   "execution_count": 15,
   "id": "f94c6cc3",
   "metadata": {},
   "outputs": [
    {
     "data": {
      "text/plain": [
       "0.9736842105263158"
      ]
     },
     "execution_count": 15,
     "metadata": {},
     "output_type": "execute_result"
    }
   ],
   "source": [
    "accuracy_score(pipe.predict(X_test), y_test)\n",
    "\n",
    "#accuracy ölcüm yapar, ben icine pipe.predict yazarak test verilerinin tahminlerini ölcmek istiyorum\n",
    "#(X_test) bunu yazarak test verilerini kurdugumuz modele göre ölcmek istiyorum\n",
    "#daha sonra gercek degerlerle(y_test) \n",
    "\n",
    "#pipe.predict(X_test) icine sadece X_test yazdik, yani X_test verilerini tahmin ediyor\n",
    "#ve yanina y_test yazarak ikisi arasindaki tahmin basarisini ölcüyor\n",
    "#bu cikti modelimizi dogruluk scoru,%97 oraninda tahmin yapiyor"
   ]
  },
  {
   "cell_type": "code",
   "execution_count": null,
   "id": "7656aa40",
   "metadata": {},
   "outputs": [],
   "source": []
  },
  {
   "cell_type": "markdown",
   "id": "791d9e36",
   "metadata": {},
   "source": [
    "## Model Evaluation "
   ]
  },
  {
   "cell_type": "code",
   "execution_count": 32,
   "id": "a235bf5f",
   "metadata": {},
   "outputs": [],
   "source": [
    "#kullandigimiz modeli degerlendirmek icin test seti kullandik\n",
    "#zaten test seti olusturmak icin train_test_split_ fonksiyonunu kullanmistik\n",
    "#model degerlendirmek icin sklearnin bir cok araci vardir\n",
    "#biz burada sklearnin cross_validate(capraz dogrulama) fonksiyonunu kullanacagiz"
   ]
  },
  {
   "cell_type": "code",
   "execution_count": 33,
   "id": "9fe9c68d",
   "metadata": {},
   "outputs": [],
   "source": [
    "#biz egitim ve test diye verimizi ayirirken, örnegin %75 train %25 test diye ayiriyoruz, \n",
    "#peki neden o yüzde %25 olanlar train'e giremiyorlar, onlarn sucu ne ?\n",
    "#iste burada cross_validation bu adaletsizlgi ortadan kaldiriyor "
   ]
  },
  {
   "cell_type": "code",
   "execution_count": 34,
   "id": "1893908a",
   "metadata": {},
   "outputs": [],
   "source": [
    "from sklearn.datasets  import make_regression\n",
    "\n",
    "#sklearn icindeki make_regression ile istigegim gibi oyuncak veriler olusturabilirim\n",
    "\n",
    "#sklearnin dataset modülünden make regression fonksiyonunu import ediyorum\n",
    "#simdi bu fonksiyonu kullanarak girdi ve cikti degiskenlerini olusturalim\n",
    "\n",
    "X, y = make_regression(n_samples=1000, random_state=0)\n",
    "\n",
    "#X ve y degiskenlerimi yazip, make_regression fonksiyonuu yaziyorum\n",
    "#örneklem sayisi olarak 1000 yaziyorum\n",
    "#bu sekilde girdi ve cikti degiskenlerini olusturduk\n",
    "#burda y yani sonuc degiskenimiz sayisal tipte\n",
    "#sonuc sayisal tipte oldugu icin Linear Regression modeli kurabiliriz\n"
   ]
  },
  {
   "cell_type": "code",
   "execution_count": 35,
   "id": "e9a9234e",
   "metadata": {},
   "outputs": [],
   "source": [
    "from sklearn.linear_model import LinearRegression\n",
    "\n",
    "#öncelikle Linear Regression modelini import edelim\n",
    "#ve Linear Regression sinifini import edelim"
   ]
  },
  {
   "cell_type": "code",
   "execution_count": 36,
   "id": "388f6fb1",
   "metadata": {},
   "outputs": [],
   "source": [
    "lr = LinearRegression()\n",
    "\n",
    "#simdide bu Linear Regression sinifindan bir  model alalim."
   ]
  },
  {
   "cell_type": "code",
   "execution_count": 37,
   "id": "88c23676",
   "metadata": {},
   "outputs": [],
   "source": [
    "#normalde bu modele lr.fit(X_train, y_train) ile veri setini fit ediyorduk"
   ]
  },
  {
   "cell_type": "code",
   "execution_count": 38,
   "id": "c1e01e15",
   "metadata": {},
   "outputs": [],
   "source": [
    "#ama simdi burda croos_validation teknigi ile yapacagiz\n",
    "#ama önce bu cross_validate fonksiyonunu  import edelim\n",
    "\n",
    "\n",
    "from sklearn.model_selection import cross_validate\n",
    "\n",
    "#simdi bu fonksiyonumuzu kullanarak modelimizi kuralim"
   ]
  },
  {
   "cell_type": "code",
   "execution_count": 39,
   "id": "8e3f48e8",
   "metadata": {},
   "outputs": [],
   "source": [
    "result = cross_validate(lr, X, y)\n",
    "\n",
    "#öncelikle result adli bir degiskene aliyorum\n",
    "#cross_validate fonksiyonunu cagiriyorum\n",
    "#bu fonksiyon icine öncelikle madelimizin adini yaziyorum\n",
    "#daha sonra Girdi ve sonuc degiskelerini yaziyorum,bunlar yukarida olusturulmustu(n_sample yazan yerde)\n",
    "\n",
    "#cross_validate fonksiyonu veri setini bes parcaya ayirir ve bu parcalara göre islem yapar"
   ]
  },
  {
   "cell_type": "code",
   "execution_count": 40,
   "id": "88fa759e",
   "metadata": {},
   "outputs": [
    {
     "data": {
      "text/plain": [
       "array([1., 1., 1., 1., 1.])"
      ]
     },
     "execution_count": 40,
     "metadata": {},
     "output_type": "execute_result"
    }
   ],
   "source": [
    "result['test_score']\n",
    "\n",
    "\n",
    "#simdi bu parcalarin test scorelarina bakalim\n",
    "#burda ayirdigi bes parcaninda model performansi 1 cikti\n",
    "#kurulan model test verilerini %100 oraninda tahmin etti\n",
    "#veri seti. basit oldugu icin model harika calisiyor"
   ]
  },
  {
   "cell_type": "code",
   "execution_count": null,
   "id": "689fefea",
   "metadata": {},
   "outputs": [],
   "source": []
  },
  {
   "cell_type": "markdown",
   "id": "5ed862d6",
   "metadata": {},
   "source": [
    "## Automatic Parameter Searches (otomatik parametre secimi)"
   ]
  },
  {
   "cell_type": "code",
   "execution_count": null,
   "id": "d956a1f3",
   "metadata": {},
   "outputs": [],
   "source": [
    "#Sklearn deki modellerin bütün parametreleri ile oynayabilirsiniz\n",
    "#modelin ayarlanabilir parametrelerine hiper parametre denir\n",
    "#Hiper parametreler ile, model icin egitilen parametreleri birbirine karistirmayin dedi\n",
    "#iyi bir model kurmak icin Hiper parametre ayari yapmak cok önemlidir\n",
    "\n",
    "#örnegin random forest regression(aile soy agaci gibi bir agac semasi) tahmincisinin  n_estimators diye bir parametresi vardir\n",
    "#bu parametre ormandaki agac sayisini belirler\n",
    "#bu parametre degeri modelin performansini cok fazla etkiler\n",
    "#eger agac sayisini kücük alirsak, iyi bir model elde edemeyiz\n",
    "#eger agac sayisini fazla alirsan, bu seferde komplex bir model kurariz, ve ezberleme problemi cikar\n",
    "#bu parametrenin dengeli bir deerini bulmamiz gerekir"
   ]
  },
  {
   "cell_type": "code",
   "execution_count": null,
   "id": "016923d9",
   "metadata": {},
   "outputs": [],
   "source": [
    "#Random Forest Regression icin diger önemli bir parametre max depth tir.\n",
    "#bu her bir agacin derinligidir,o aile soy agacinda olan alt agaclar gibi, internette sekli var\n",
    "#bu degerinde ince ince ayarlanmasi gerekir\n",
    "\n",
    "#sklearnde en iyi paremetre kombinasyonunu bulmak icin, cesitli araclar sunar "
   ]
  },
  {
   "cell_type": "code",
   "execution_count": null,
   "id": "d70ca38d",
   "metadata": {},
   "outputs": [],
   "source": [
    "#simdi Random Forest modelinin en iyi kombinasyonunu bulmak icin ramdom ..... teknigini kullanalim\n",
    "#bunu göstermek icin California da cesitli degiskenlere göre  California Hausing veri setine bakalim"
   ]
  },
  {
   "cell_type": "code",
   "execution_count": 41,
   "id": "a2a16937",
   "metadata": {},
   "outputs": [],
   "source": [
    "from sklearn.datasets import fetch_california_housing\n",
    "\n",
    "#bu veri setini internetten cekelim, ama önce bu fonsiyonu import edelim"
   ]
  },
  {
   "cell_type": "code",
   "execution_count": 42,
   "id": "118ec2b6",
   "metadata": {},
   "outputs": [],
   "source": [
    "X, y = fetch_california_housing(return_X_y=True)\n",
    "\n",
    "#bu fonsiyonu kullanarak girdi ve sonuc degiskenlerini olusturalim\n",
    "#x ve ya degiskenlerini yazdiktan sonra fetch california fonksiyonunu cagiriyorum\n",
    "#girdi ve cikti degiskenlerimi olusturmak icin bunu yapiyorum,asagida dataset in kendisi var "
   ]
  },
  {
   "cell_type": "code",
   "execution_count": 56,
   "id": "f94fbe20",
   "metadata": {},
   "outputs": [
    {
     "data": {
      "text/html": [
       "<div>\n",
       "<style scoped>\n",
       "    .dataframe tbody tr th:only-of-type {\n",
       "        vertical-align: middle;\n",
       "    }\n",
       "\n",
       "    .dataframe tbody tr th {\n",
       "        vertical-align: top;\n",
       "    }\n",
       "\n",
       "    .dataframe thead th {\n",
       "        text-align: right;\n",
       "    }\n",
       "</style>\n",
       "<table border=\"1\" class=\"dataframe\">\n",
       "  <thead>\n",
       "    <tr style=\"text-align: right;\">\n",
       "      <th></th>\n",
       "      <th>MedInc</th>\n",
       "      <th>HouseAge</th>\n",
       "      <th>AveRooms</th>\n",
       "      <th>AveBedrms</th>\n",
       "      <th>Population</th>\n",
       "      <th>AveOccup</th>\n",
       "      <th>Latitude</th>\n",
       "      <th>Longitude</th>\n",
       "      <th>target</th>\n",
       "    </tr>\n",
       "  </thead>\n",
       "  <tbody>\n",
       "    <tr>\n",
       "      <th>0</th>\n",
       "      <td>8.3252</td>\n",
       "      <td>41.0</td>\n",
       "      <td>6.984127</td>\n",
       "      <td>1.023810</td>\n",
       "      <td>322.0</td>\n",
       "      <td>2.555556</td>\n",
       "      <td>37.88</td>\n",
       "      <td>-122.23</td>\n",
       "      <td>4.526</td>\n",
       "    </tr>\n",
       "    <tr>\n",
       "      <th>1</th>\n",
       "      <td>8.3014</td>\n",
       "      <td>21.0</td>\n",
       "      <td>6.238137</td>\n",
       "      <td>0.971880</td>\n",
       "      <td>2401.0</td>\n",
       "      <td>2.109842</td>\n",
       "      <td>37.86</td>\n",
       "      <td>-122.22</td>\n",
       "      <td>3.585</td>\n",
       "    </tr>\n",
       "    <tr>\n",
       "      <th>2</th>\n",
       "      <td>7.2574</td>\n",
       "      <td>52.0</td>\n",
       "      <td>8.288136</td>\n",
       "      <td>1.073446</td>\n",
       "      <td>496.0</td>\n",
       "      <td>2.802260</td>\n",
       "      <td>37.85</td>\n",
       "      <td>-122.24</td>\n",
       "      <td>3.521</td>\n",
       "    </tr>\n",
       "    <tr>\n",
       "      <th>3</th>\n",
       "      <td>5.6431</td>\n",
       "      <td>52.0</td>\n",
       "      <td>5.817352</td>\n",
       "      <td>1.073059</td>\n",
       "      <td>558.0</td>\n",
       "      <td>2.547945</td>\n",
       "      <td>37.85</td>\n",
       "      <td>-122.25</td>\n",
       "      <td>3.413</td>\n",
       "    </tr>\n",
       "    <tr>\n",
       "      <th>4</th>\n",
       "      <td>3.8462</td>\n",
       "      <td>52.0</td>\n",
       "      <td>6.281853</td>\n",
       "      <td>1.081081</td>\n",
       "      <td>565.0</td>\n",
       "      <td>2.181467</td>\n",
       "      <td>37.85</td>\n",
       "      <td>-122.25</td>\n",
       "      <td>3.422</td>\n",
       "    </tr>\n",
       "  </tbody>\n",
       "</table>\n",
       "</div>"
      ],
      "text/plain": [
       "   MedInc  HouseAge  AveRooms  AveBedrms  Population  AveOccup  Latitude  \\\n",
       "0  8.3252      41.0  6.984127   1.023810       322.0  2.555556     37.88   \n",
       "1  8.3014      21.0  6.238137   0.971880      2401.0  2.109842     37.86   \n",
       "2  7.2574      52.0  8.288136   1.073446       496.0  2.802260     37.85   \n",
       "3  5.6431      52.0  5.817352   1.073059       558.0  2.547945     37.85   \n",
       "4  3.8462      52.0  6.281853   1.081081       565.0  2.181467     37.85   \n",
       "\n",
       "   Longitude  target  \n",
       "0    -122.23   4.526  \n",
       "1    -122.22   3.585  \n",
       "2    -122.24   3.521  \n",
       "3    -122.25   3.413  \n",
       "4    -122.25   3.422  "
      ]
     },
     "execution_count": 56,
     "metadata": {},
     "output_type": "execute_result"
    }
   ],
   "source": [
    "from sklearn.datasets import fetch_california_housing\n",
    "import pandas as pd\n",
    "import numpy as np\n",
    "housing_data = fetch_california_housing()\n",
    "df = pd.DataFrame(np.c_[housing_data.data, housing_data.target], columns=housing_data.feature_names + [\"target\"])\n",
    "df.head()\n",
    "\n",
    "\n",
    "#internetten buldum veri setini görmek icin, asagida kendim DataFrame cevirdim ama sütun isimlerini \n",
    "#göremiyordum"
   ]
  },
  {
   "cell_type": "code",
   "execution_count": null,
   "id": "681ad29d",
   "metadata": {},
   "outputs": [],
   "source": []
  },
  {
   "cell_type": "code",
   "execution_count": 57,
   "id": "3a772fd8",
   "metadata": {},
   "outputs": [],
   "source": [
    "import pandas as pd"
   ]
  },
  {
   "cell_type": "code",
   "execution_count": 58,
   "id": "aeda4608",
   "metadata": {},
   "outputs": [
    {
     "data": {
      "text/html": [
       "<div>\n",
       "<style scoped>\n",
       "    .dataframe tbody tr th:only-of-type {\n",
       "        vertical-align: middle;\n",
       "    }\n",
       "\n",
       "    .dataframe tbody tr th {\n",
       "        vertical-align: top;\n",
       "    }\n",
       "\n",
       "    .dataframe thead th {\n",
       "        text-align: right;\n",
       "    }\n",
       "</style>\n",
       "<table border=\"1\" class=\"dataframe\">\n",
       "  <thead>\n",
       "    <tr style=\"text-align: right;\">\n",
       "      <th></th>\n",
       "      <th>0</th>\n",
       "      <th>1</th>\n",
       "      <th>2</th>\n",
       "      <th>3</th>\n",
       "      <th>4</th>\n",
       "      <th>5</th>\n",
       "      <th>6</th>\n",
       "      <th>7</th>\n",
       "    </tr>\n",
       "  </thead>\n",
       "  <tbody>\n",
       "    <tr>\n",
       "      <th>0</th>\n",
       "      <td>8.3252</td>\n",
       "      <td>41.0</td>\n",
       "      <td>6.984127</td>\n",
       "      <td>1.023810</td>\n",
       "      <td>322.0</td>\n",
       "      <td>2.555556</td>\n",
       "      <td>37.88</td>\n",
       "      <td>-122.23</td>\n",
       "    </tr>\n",
       "    <tr>\n",
       "      <th>1</th>\n",
       "      <td>8.3014</td>\n",
       "      <td>21.0</td>\n",
       "      <td>6.238137</td>\n",
       "      <td>0.971880</td>\n",
       "      <td>2401.0</td>\n",
       "      <td>2.109842</td>\n",
       "      <td>37.86</td>\n",
       "      <td>-122.22</td>\n",
       "    </tr>\n",
       "    <tr>\n",
       "      <th>2</th>\n",
       "      <td>7.2574</td>\n",
       "      <td>52.0</td>\n",
       "      <td>8.288136</td>\n",
       "      <td>1.073446</td>\n",
       "      <td>496.0</td>\n",
       "      <td>2.802260</td>\n",
       "      <td>37.85</td>\n",
       "      <td>-122.24</td>\n",
       "    </tr>\n",
       "    <tr>\n",
       "      <th>3</th>\n",
       "      <td>5.6431</td>\n",
       "      <td>52.0</td>\n",
       "      <td>5.817352</td>\n",
       "      <td>1.073059</td>\n",
       "      <td>558.0</td>\n",
       "      <td>2.547945</td>\n",
       "      <td>37.85</td>\n",
       "      <td>-122.25</td>\n",
       "    </tr>\n",
       "    <tr>\n",
       "      <th>4</th>\n",
       "      <td>3.8462</td>\n",
       "      <td>52.0</td>\n",
       "      <td>6.281853</td>\n",
       "      <td>1.081081</td>\n",
       "      <td>565.0</td>\n",
       "      <td>2.181467</td>\n",
       "      <td>37.85</td>\n",
       "      <td>-122.25</td>\n",
       "    </tr>\n",
       "  </tbody>\n",
       "</table>\n",
       "</div>"
      ],
      "text/plain": [
       "        0     1         2         3       4         5      6       7\n",
       "0  8.3252  41.0  6.984127  1.023810   322.0  2.555556  37.88 -122.23\n",
       "1  8.3014  21.0  6.238137  0.971880  2401.0  2.109842  37.86 -122.22\n",
       "2  7.2574  52.0  8.288136  1.073446   496.0  2.802260  37.85 -122.24\n",
       "3  5.6431  52.0  5.817352  1.073059   558.0  2.547945  37.85 -122.25\n",
       "4  3.8462  52.0  6.281853  1.081081   565.0  2.181467  37.85 -122.25"
      ]
     },
     "execution_count": 58,
     "metadata": {},
     "output_type": "execute_result"
    }
   ],
   "source": [
    "X_new = pd.DataFrame(X)\n",
    "X_new.head()"
   ]
  },
  {
   "cell_type": "code",
   "execution_count": 55,
   "id": "d83775a7",
   "metadata": {},
   "outputs": [
    {
     "data": {
      "text/html": [
       "<div>\n",
       "<style scoped>\n",
       "    .dataframe tbody tr th:only-of-type {\n",
       "        vertical-align: middle;\n",
       "    }\n",
       "\n",
       "    .dataframe tbody tr th {\n",
       "        vertical-align: top;\n",
       "    }\n",
       "\n",
       "    .dataframe thead th {\n",
       "        text-align: right;\n",
       "    }\n",
       "</style>\n",
       "<table border=\"1\" class=\"dataframe\">\n",
       "  <thead>\n",
       "    <tr style=\"text-align: right;\">\n",
       "      <th></th>\n",
       "      <th>0</th>\n",
       "    </tr>\n",
       "  </thead>\n",
       "  <tbody>\n",
       "    <tr>\n",
       "      <th>0</th>\n",
       "      <td>4.526</td>\n",
       "    </tr>\n",
       "    <tr>\n",
       "      <th>1</th>\n",
       "      <td>3.585</td>\n",
       "    </tr>\n",
       "    <tr>\n",
       "      <th>2</th>\n",
       "      <td>3.521</td>\n",
       "    </tr>\n",
       "    <tr>\n",
       "      <th>3</th>\n",
       "      <td>3.413</td>\n",
       "    </tr>\n",
       "    <tr>\n",
       "      <th>4</th>\n",
       "      <td>3.422</td>\n",
       "    </tr>\n",
       "  </tbody>\n",
       "</table>\n",
       "</div>"
      ],
      "text/plain": [
       "       0\n",
       "0  4.526\n",
       "1  3.585\n",
       "2  3.521\n",
       "3  3.413\n",
       "4  3.422"
      ]
     },
     "execution_count": 55,
     "metadata": {},
     "output_type": "execute_result"
    }
   ],
   "source": [
    "y_new = pd.DataFrame(y)\n",
    "y_new.head() # bu target mis mesela ,yani sonuclar, "
   ]
  },
  {
   "cell_type": "code",
   "execution_count": null,
   "id": "4466cf0d",
   "metadata": {},
   "outputs": [],
   "source": [
    "#yukarida veri setini input ve output olarak ayirmistik, simdide bunlari Train ve test olarak bölelim"
   ]
  },
  {
   "cell_type": "code",
   "execution_count": 60,
   "id": "6c5efde4",
   "metadata": {},
   "outputs": [],
   "source": [
    "X_train, X_test, y_train, y_test = train_test_split(X, y, random_state=0)"
   ]
  },
  {
   "cell_type": "code",
   "execution_count": 61,
   "id": "45fbc006",
   "metadata": {},
   "outputs": [],
   "source": [
    "from sklearn.model_selection import RandomizedSearchCV\n",
    "\n",
    "#simdi Random_forest modelindeki en iyi paremetre kombinasyonu icin RandomizedSearcCV teknigini kullaniyorum\n",
    "#bu teknikte rastgele degerler kullanilir"
   ]
  },
  {
   "cell_type": "code",
   "execution_count": null,
   "id": "5a9f5e40",
   "metadata": {},
   "outputs": [],
   "source": [
    "from scipy.stats import randint\n",
    "\n",
    "#simdi n_estmatre ve max depth parametleri icin rastgele degerler üretelim\n",
    "#rastgele degerler üretmek icin Scipy daki Randint fonsiyonunu import edelim\n",
    "#Randint ile rastgele tamsayilar elde edebiliriz"
   ]
  },
  {
   "cell_type": "code",
   "execution_count": null,
   "id": "14ef2539",
   "metadata": {},
   "outputs": [],
   "source": []
  },
  {
   "cell_type": "code",
   "execution_count": null,
   "id": "8cdf2b6c",
   "metadata": {},
   "outputs": [],
   "source": [
    "#https://www.youtube.com/watch?v=WImdihp3dkU&list=PLfMRLSpipmfuumcvO3fObVAUpSqYAcZmF&index=7\n",
    "23 dakika"
   ]
  },
  {
   "cell_type": "code",
   "execution_count": null,
   "id": "baf77b65",
   "metadata": {},
   "outputs": [],
   "source": []
  },
  {
   "cell_type": "code",
   "execution_count": null,
   "id": "1c3b9638",
   "metadata": {},
   "outputs": [],
   "source": []
  },
  {
   "cell_type": "code",
   "execution_count": null,
   "id": "1900c56b",
   "metadata": {},
   "outputs": [],
   "source": []
  },
  {
   "cell_type": "markdown",
   "id": "cb0f3644",
   "metadata": {},
   "source": [
    "## Preprocessing (veri ön isleme)"
   ]
  },
  {
   "cell_type": "markdown",
   "id": "e4d124bd",
   "metadata": {},
   "source": [
    "### Data Scaling"
   ]
  },
  {
   "cell_type": "code",
   "execution_count": null,
   "id": "daea13f6",
   "metadata": {},
   "outputs": [],
   "source": [
    "#simdi scikitlearn ile veri ön isleme yapalim  kurabiliriz hemde daha hizli model egitebilirim\n",
    "#veri ölcekleme veri isleme asamalarindan biridir\n",
    "#verileri ölceklendirmek icin, STANDARTLASTIRMA  ve NORMALLESTIRME gibi cesitli teknikler vardir\n",
    "#verileri standartlastirmak icin StandardScaler bu kütüphaneyi import edelim"
   ]
  },
  {
   "cell_type": "code",
   "execution_count": null,
   "id": "fe9f67de",
   "metadata": {},
   "outputs": [],
   "source": [
    "from sklearn.preprocessing import StandardScaler    #StandartScaler sinifini import edelim"
   ]
  },
  {
   "cell_type": "code",
   "execution_count": null,
   "id": "a28954c6",
   "metadata": {},
   "outputs": [],
   "source": [
    "X = [[0,15,2],\n",
    "    [1,-10,3]] "
   ]
  },
  {
   "cell_type": "code",
   "execution_count": null,
   "id": "303f733a",
   "metadata": {},
   "outputs": [],
   "source": [
    "StandardScaler().fit(X).transform(X)\n",
    "\n",
    "#simdi fit methodu ile parametleri egitelim ve transform methodu ile verileri ölcekleyelim\n",
    "#burda fit methodu parametreleri egitecek bu egitilen parametlere göre  \n",
    "#sonra transform methodunu kullanarak X degiskenindeki verileri  ölcekleyecem\n",
    "\n",
    "#burdan görüyorum ki veriler -1 ve 1 degerlerine dönüstü\n",
    "\n",
    "array([[-1.,  1., -1.],\n",
    "       [ 1., -1.,  1.]]) #böyle cikti veriyor"
   ]
  },
  {
   "cell_type": "code",
   "execution_count": null,
   "id": "f9933f25",
   "metadata": {},
   "outputs": [],
   "source": []
  },
  {
   "cell_type": "code",
   "execution_count": null,
   "id": "7f5f67dc",
   "metadata": {},
   "outputs": [],
   "source": []
  },
  {
   "cell_type": "code",
   "execution_count": null,
   "id": "21af13da",
   "metadata": {},
   "outputs": [],
   "source": []
  },
  {
   "cell_type": "code",
   "execution_count": null,
   "id": "f5d151c0",
   "metadata": {},
   "outputs": [],
   "source": []
  },
  {
   "cell_type": "code",
   "execution_count": null,
   "id": "44d53e3a",
   "metadata": {},
   "outputs": [],
   "source": []
  },
  {
   "cell_type": "code",
   "execution_count": null,
   "id": "393522ab",
   "metadata": {},
   "outputs": [],
   "source": []
  },
  {
   "cell_type": "markdown",
   "id": "e57013cb",
   "metadata": {},
   "source": [
    "# Kendi yorumlarim"
   ]
  },
  {
   "cell_type": "code",
   "execution_count": null,
   "id": "df24fa5a",
   "metadata": {},
   "outputs": [],
   "source": [
    "#burda ilk defa bir makine ögrenmesi calismasi yaptim bekledigimden cok kolay geldi bana\n",
    "#bence bunun sebebi modelin zaten hazir olmasindan dolayiydi,\n",
    "#biz sadece erimizi bölüp, egittik ve test ettik, o kendisi degerler buldu\n",
    "\n",
    "#aslinda bununla ilgili ilk izlenimim , güzel bir tahmin yapmasi beni gercekten cok sasirtti,\n",
    "#demekki bizim verdigimiz veriler arasinda bir iliski bulup, ona göre bir tahminde bulunuyor\n",
    "\n",
    "\n",
    "#ama galiba benim gömlünde yatan calisma sekli, modelide benim kuracagim, calisma yöntemleri\n",
    "#oda galiba Derin ögrenme veya sinir aglari konularina giriyor\n",
    "\n",
    "#ama yinede bu calismayi yapmak benim icin güzel bir deneyim oldu"
   ]
  },
  {
   "cell_type": "code",
   "execution_count": null,
   "id": "36b262e7",
   "metadata": {},
   "outputs": [],
   "source": []
  },
  {
   "cell_type": "code",
   "execution_count": null,
   "id": "4315a04d",
   "metadata": {},
   "outputs": [],
   "source": []
  },
  {
   "cell_type": "code",
   "execution_count": null,
   "id": "5c31a38c",
   "metadata": {},
   "outputs": [],
   "source": []
  },
  {
   "cell_type": "code",
   "execution_count": null,
   "id": "5ce6c862",
   "metadata": {},
   "outputs": [],
   "source": []
  }
 ],
 "metadata": {
  "kernelspec": {
   "display_name": "Python 3 (ipykernel)",
   "language": "python",
   "name": "python3"
  },
  "language_info": {
   "codemirror_mode": {
    "name": "ipython",
    "version": 3
   },
   "file_extension": ".py",
   "mimetype": "text/x-python",
   "name": "python",
   "nbconvert_exporter": "python",
   "pygments_lexer": "ipython3",
   "version": "3.9.12"
  }
 },
 "nbformat": 4,
 "nbformat_minor": 5
}
