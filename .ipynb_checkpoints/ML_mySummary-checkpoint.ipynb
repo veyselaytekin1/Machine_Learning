{
 "cells": [
  {
   "cell_type": "markdown",
   "id": "1384543c",
   "metadata": {},
   "source": [
    "### Genel bilgiler"
   ]
  },
  {
   "cell_type": "code",
   "execution_count": null,
   "id": "ee9b0385",
   "metadata": {},
   "outputs": [],
   "source": [
    "#eger bizim Targetlerimiz sayisal veri oldugu icin, Linear regression modeli kullanmak daha verimli olur"
   ]
  },
  {
   "cell_type": "code",
   "execution_count": null,
   "id": "acf9b524",
   "metadata": {},
   "outputs": [],
   "source": [
    "#input yani Features ler bagimsiz degiskenlerdir,\n",
    "#Output yani Target bagimli degiskenlerdir, cünkü bunlar cikti oldugu icin, inputlaradan etkileniyorlar\n"
   ]
  },
  {
   "cell_type": "code",
   "execution_count": null,
   "id": "4f32a601",
   "metadata": {},
   "outputs": [],
   "source": [
    "#makina ögrenmesi algoritmalarina Estimator(Estimeetıır) denir"
   ]
  },
  {
   "cell_type": "code",
   "execution_count": null,
   "id": "04177edc",
   "metadata": {},
   "outputs": [],
   "source": [
    "# toarray returns an ndarray; \n",
    "# todense returns a matrix. \n",
    "#If you want a matrix, use todense; otherwise, use toarray."
   ]
  },
  {
   "cell_type": "markdown",
   "id": "cd7e8c69",
   "metadata": {},
   "source": [
    "hiperparametrelerle ilgili bilgi"
   ]
  },
  {
   "cell_type": "code",
   "execution_count": null,
   "id": "23f63693",
   "metadata": {},
   "outputs": [],
   "source": [
    "#kullanaagimiz model sinifina karar verdikten sonra ,bazi parametreleri kendimiz belirleyebiliriz\n",
    "#belirleyecegimiz parametrelere hiper parametre denir \n",
    "#örnegin model kurarken sabit olacak mi,model normallestirilecek mi,\n",
    "#modelde kullanmak istedigin regülerlestirme seviyesi nekadar olacak\n",
    "#bu gibi sorulari cevaplamak icin hiper parametreleri kulanabiliriz\n",
    "#model kurulmadan önce hiper parametreler belirlenir\n",
    "#hiper parametreler ön tanimli parametrelerin üzerine yazilir\n",
    "#hiper parametreleri yazmazsak, default parametreler gecerli olur\n",
    "#örnegin LinearRegressionda  Linearregression sinifini örnekleyelim\n",
    "#bunun icin model isminde bir degisken alalim ve LinearRegression sinifini yazalim"
   ]
  },
  {
   "cell_type": "code",
   "execution_count": null,
   "id": "23832d52",
   "metadata": {},
   "outputs": [],
   "source": [
    "from sklearn.datasets import load_iris\n",
    "import pandas as pd\n",
    "\n",
    "data = load_iris()\n",
    "df = pd.DataFrame(data.data, columns=data.feature_names)\n",
    "df.head()\n",
    "\n",
    "\n",
    "#iris veri setini cagirma syntaxi\n",
    "\n",
    "iris_df = pd.DataFrame(X_train, columns = iris.feature_names)\n",
    "#tirendaz da bu sekilde features isimleriyle cagirdi"
   ]
  },
  {
   "cell_type": "markdown",
   "id": "c8452310",
   "metadata": {},
   "source": [
    "### oyuncak veri olusturma "
   ]
  },
  {
   "cell_type": "code",
   "execution_count": null,
   "id": "c8adba2b",
   "metadata": {},
   "outputs": [],
   "source": [
    "rng = np.random.RandomState(42)\n",
    "x = 10*rng.rand(50)\n",
    "\n",
    "#rand ,rastgele degerler verirken uniform yani tekdüze düzenli degerler verir,dagilimi düz olur,tepe olmaz\n",
    "#model islemlerini göstermek icin basit dogrusal regresyonu kullanalim\n",
    "#öncelikle matplotlib ve numpyi import edelim\n",
    "# veriyi sabitlemek icin numpy daki random_state methodunu kullanaliim \n",
    "\n",
    "#simdide x degiskenini olusturalim\n",
    "#x = 10 carpi rng.rand(50) icine 50 tane deger alacagimizi belirtmek icin 50 yazdim\n",
    "#daha sonra y = 2*x eksi 1 arti rng nokta randn yazip icine 50 deger alacagimizi belirtmek icin 50 yazdik \n",
    "#simdide iki degiskenin scatter grafigini cizelim\n",
    "\n",
    "\n",
    "\n",
    "y = 2*x-1+rng.randn(50)   \n",
    "\n",
    "#bu 2x -1 demek daliba oluturdugumuz xleri kullanarak farkli deger olusturmak icin\n",
    "#randn rastgele degerler verirken normal dagilim yapan degerler veriyor\n",
    "\n",
    "\n"
   ]
  },
  {
   "cell_type": "code",
   "execution_count": null,
   "id": "c48cf59e",
   "metadata": {},
   "outputs": [],
   "source": [
    "x_fit = np.linspace(0,11)\n",
    "x_fit\n",
    "\n",
    "#bunun icin predict methodu kullanilir\n",
    "#bu methodu göstermek icin öncelikle   x eksenini -1 ile 11 arasinda 50 parcaya bölelim\n",
    "#ve x_fit degiskenine atayalim\n",
    "#simdi bu degerleri X_fite atayip, ve bir boyutlu dizi haline getirelim\n",
    "\n",
    "#eger bunu 2D yapmak icin\n",
    "X_fit =x_fit[:,np.newaxis]\n",
    "X_fit[:5]\n",
    "\n",
    "#önemli olan nokta bu iki boyutlu numpy arrayi yani dataFrame degil bunun icin head() calismadi\n",
    "#ben kendim ilk besini görmek icin [:5] ekledim"
   ]
  },
  {
   "cell_type": "code",
   "execution_count": null,
   "id": "2fbc8da7",
   "metadata": {},
   "outputs": [],
   "source": []
  },
  {
   "cell_type": "code",
   "execution_count": null,
   "id": "1d561844",
   "metadata": {},
   "outputs": [],
   "source": []
  },
  {
   "cell_type": "markdown",
   "id": "f14c8a4a",
   "metadata": {},
   "source": [
    "### veri tipini degistirme"
   ]
  },
  {
   "cell_type": "code",
   "execution_count": null,
   "id": "018dbff3",
   "metadata": {},
   "outputs": [],
   "source": [
    "data['region'] = data['region'].astype('category')\n",
    "\n",
    "#burda fazla cesit bile olsa icinde categorye ceviriyor"
   ]
  },
  {
   "cell_type": "code",
   "execution_count": null,
   "id": "8c6a4ecd",
   "metadata": {},
   "outputs": [],
   "source": [
    "data = pd.get_dummies(data)\n",
    "data\n",
    "\n",
    "#get dummies ile veri seti categorical olanlar 0 ve 1 olarak machinenin anlayacagi dile cevriliyor\n",
    "#örnegin erkek olan kisinin satirinda cinsiyet_erkek = 1 cinsiyet_kadin = 0 yaziyor\n",
    "#eger dogu,bati,güney.kuzey kategorileri varsa, herbiri icin olusturuyor, ve güney olan kisinin\n",
    "#region_güney sütunu 1 region_bati sütunu 0.region_dogu sütunu 0 oluyor\n"
   ]
  },
  {
   "cell_type": "markdown",
   "id": "440d1a4a",
   "metadata": {},
   "source": [
    "## veri setindeki bosluklari doldurma islemleri"
   ]
  },
  {
   "cell_type": "markdown",
   "id": "4ef435d4",
   "metadata": {},
   "source": [
    "Tahmine dayali deger atama yöntemleri "
   ]
  },
  {
   "cell_type": "code",
   "execution_count": 3,
   "id": "a52b25d8",
   "metadata": {
    "collapsed": true
   },
   "outputs": [
    {
     "name": "stdout",
     "output_type": "stream",
     "text": [
      "Collecting missingno\n",
      "  Using cached missingno-0.5.1-py3-none-any.whl (8.7 kB)\n",
      "Requirement already satisfied: scipy in /Users/veyselaytekin/opt/anaconda3/lib/python3.9/site-packages (from missingno) (1.7.3)\n",
      "Requirement already satisfied: seaborn in /Users/veyselaytekin/opt/anaconda3/lib/python3.9/site-packages (from missingno) (0.11.2)\n",
      "Requirement already satisfied: numpy in /Users/veyselaytekin/opt/anaconda3/lib/python3.9/site-packages (from missingno) (1.21.5)\n",
      "Requirement already satisfied: matplotlib in /Users/veyselaytekin/opt/anaconda3/lib/python3.9/site-packages (from missingno) (3.5.1)\n",
      "Requirement already satisfied: packaging>=20.0 in /Users/veyselaytekin/opt/anaconda3/lib/python3.9/site-packages (from matplotlib->missingno) (21.3)\n",
      "Requirement already satisfied: pillow>=6.2.0 in /Users/veyselaytekin/opt/anaconda3/lib/python3.9/site-packages (from matplotlib->missingno) (9.0.1)\n",
      "Requirement already satisfied: pyparsing>=2.2.1 in /Users/veyselaytekin/opt/anaconda3/lib/python3.9/site-packages (from matplotlib->missingno) (3.0.4)\n",
      "Requirement already satisfied: python-dateutil>=2.7 in /Users/veyselaytekin/opt/anaconda3/lib/python3.9/site-packages (from matplotlib->missingno) (2.8.2)\n",
      "Requirement already satisfied: kiwisolver>=1.0.1 in /Users/veyselaytekin/opt/anaconda3/lib/python3.9/site-packages (from matplotlib->missingno) (1.3.2)\n",
      "Requirement already satisfied: fonttools>=4.22.0 in /Users/veyselaytekin/opt/anaconda3/lib/python3.9/site-packages (from matplotlib->missingno) (4.25.0)\n",
      "Requirement already satisfied: cycler>=0.10 in /Users/veyselaytekin/opt/anaconda3/lib/python3.9/site-packages (from matplotlib->missingno) (0.11.0)\n",
      "Requirement already satisfied: six>=1.5 in /Users/veyselaytekin/opt/anaconda3/lib/python3.9/site-packages (from python-dateutil>=2.7->matplotlib->missingno) (1.16.0)\n",
      "Requirement already satisfied: pandas>=0.23 in /Users/veyselaytekin/opt/anaconda3/lib/python3.9/site-packages (from seaborn->missingno) (1.4.2)\n",
      "Requirement already satisfied: pytz>=2020.1 in /Users/veyselaytekin/opt/anaconda3/lib/python3.9/site-packages (from pandas>=0.23->seaborn->missingno) (2021.3)\n",
      "Installing collected packages: missingno\n",
      "Successfully installed missingno-0.5.1\n",
      "Note: you may need to restart the kernel to use updated packages.\n"
     ]
    }
   ],
   "source": [
    "#pip install missingno"
   ]
  },
  {
   "cell_type": "code",
   "execution_count": 1,
   "id": "add50b2c",
   "metadata": {},
   "outputs": [
    {
     "name": "stdout",
     "output_type": "stream",
     "text": [
      "   survived  pclass   age  sibsp  parch     fare\n",
      "0         0       3  22.0      1      0   7.2500\n",
      "1         1       1  38.0      1      0  71.2833\n",
      "2         1       3  26.0      0      0   7.9250\n",
      "3         1       1  35.0      1      0  53.1000\n",
      "4         0       3  35.0      0      0   8.0500\n"
     ]
    },
    {
     "data": {
      "text/plain": [
       "survived      0\n",
       "pclass        0\n",
       "age         177\n",
       "sibsp         0\n",
       "parch         0\n",
       "fare          0\n",
       "dtype: int64"
      ]
     },
     "execution_count": 1,
     "metadata": {},
     "output_type": "execute_result"
    }
   ],
   "source": [
    "import seaborn as sns   #titanigi cagirmak icin\n",
    "import missingno as msno\n",
    "df = sns.load_dataset('titanic')    #veri seti geldi\n",
    "df = df.select_dtypes(include = ['float64','int64']) #type int yapti\n",
    "print(df.head())\n",
    "df.isnull().sum()   #177 age degeri null"
   ]
  },
  {
   "cell_type": "code",
   "execution_count": 12,
   "id": "73769340",
   "metadata": {},
   "outputs": [
    {
     "name": "stdout",
     "output_type": "stream",
     "text": [
      "Collecting ycimpute\n",
      "  Using cached ycimpute-0.2-py3-none-any.whl (35 kB)\n",
      "Requirement already satisfied: numpy>=1.10 in /Users/veyselaytekin/opt/anaconda3/lib/python3.9/site-packages (from ycimpute) (1.21.5)\n",
      "Requirement already satisfied: scipy in /Users/veyselaytekin/opt/anaconda3/lib/python3.9/site-packages (from ycimpute) (1.7.3)\n",
      "Requirement already satisfied: six in /Users/veyselaytekin/opt/anaconda3/lib/python3.9/site-packages (from ycimpute) (1.16.0)\n",
      "Requirement already satisfied: scikit-learn>=0.17.1 in /Users/veyselaytekin/opt/anaconda3/lib/python3.9/site-packages (from ycimpute) (1.1.2)\n",
      "Collecting torch>=1.1.0\n",
      "  Using cached torch-1.12.1-cp39-none-macosx_10_9_x86_64.whl (133.8 MB)\n",
      "Requirement already satisfied: joblib>=1.0.0 in /Users/veyselaytekin/opt/anaconda3/lib/python3.9/site-packages (from scikit-learn>=0.17.1->ycimpute) (1.1.0)\n",
      "Requirement already satisfied: threadpoolctl>=2.0.0 in /Users/veyselaytekin/opt/anaconda3/lib/python3.9/site-packages (from scikit-learn>=0.17.1->ycimpute) (2.2.0)\n",
      "Requirement already satisfied: typing-extensions in /Users/veyselaytekin/opt/anaconda3/lib/python3.9/site-packages (from torch>=1.1.0->ycimpute) (4.1.1)\n",
      "Installing collected packages: torch, ycimpute\n",
      "Successfully installed torch-1.12.1 ycimpute-0.2\n",
      "Note: you may need to restart the kernel to use updated packages.\n"
     ]
    }
   ],
   "source": [
    "# !pip install ycimpute"
   ]
  },
  {
   "cell_type": "markdown",
   "id": "4878a555",
   "metadata": {},
   "source": [
    "### 1- KNNimput ile"
   ]
  },
  {
   "cell_type": "code",
   "execution_count": 3,
   "id": "1b18388f",
   "metadata": {},
   "outputs": [],
   "source": [
    "from ycimpute.imputer import knnimput"
   ]
  },
  {
   "cell_type": "code",
   "execution_count": 4,
   "id": "82fbca46",
   "metadata": {},
   "outputs": [],
   "source": [
    "var_names = list(df)\n",
    "\n",
    "#knnimput bizden nparray bekliyor,bunun icin önce sütun isimlerini saklamamiz gerekiyor"
   ]
  },
  {
   "cell_type": "code",
   "execution_count": 5,
   "id": "7ebef2c4",
   "metadata": {},
   "outputs": [
    {
     "data": {
      "text/plain": [
       "['survived', 'pclass', 'age', 'sibsp', 'parch', 'fare']"
      ]
     },
     "execution_count": 5,
     "metadata": {},
     "output_type": "execute_result"
    }
   ],
   "source": [
    "var_names   #bunu ilerde DataFrame olustururken columns isminde cagiracaz"
   ]
  },
  {
   "cell_type": "code",
   "execution_count": 13,
   "id": "c3e8f02c",
   "metadata": {},
   "outputs": [],
   "source": [
    "import numpy as np\n",
    "n_df = np.array(df)  #veriyi nparray'e cevirdik"
   ]
  },
  {
   "cell_type": "code",
   "execution_count": 14,
   "id": "92c3a645",
   "metadata": {},
   "outputs": [
    {
     "data": {
      "text/plain": [
       "array([[ 0.    ,  3.    , 22.    ,  1.    ,  0.    ,  7.25  ],\n",
       "       [ 1.    ,  1.    , 38.    ,  1.    ,  0.    , 71.2833],\n",
       "       [ 1.    ,  3.    , 26.    ,  0.    ,  0.    ,  7.925 ],\n",
       "       [ 1.    ,  1.    , 35.    ,  1.    ,  0.    , 53.1   ],\n",
       "       [ 0.    ,  3.    , 35.    ,  0.    ,  0.    ,  8.05  ],\n",
       "       [ 0.    ,  3.    ,     nan,  0.    ,  0.    ,  8.4583]])"
      ]
     },
     "execution_count": 14,
     "metadata": {},
     "output_type": "execute_result"
    }
   ],
   "source": [
    "n_df[0:6]"
   ]
  },
  {
   "cell_type": "code",
   "execution_count": 15,
   "id": "57200139",
   "metadata": {},
   "outputs": [
    {
     "data": {
      "text/plain": [
       "numpy.ndarray"
      ]
     },
     "execution_count": 15,
     "metadata": {},
     "output_type": "execute_result"
    }
   ],
   "source": [
    "type(n_df)"
   ]
  },
  {
   "cell_type": "code",
   "execution_count": 27,
   "id": "58e1e797",
   "metadata": {},
   "outputs": [
    {
     "name": "stdout",
     "output_type": "stream",
     "text": [
      "Imputing row 1/891 with 0 missing, elapsed time: 0.111\n",
      "Imputing row 101/891 with 0 missing, elapsed time: 0.112\n",
      "Imputing row 201/891 with 0 missing, elapsed time: 0.112\n",
      "Imputing row 301/891 with 1 missing, elapsed time: 0.113\n",
      "Imputing row 401/891 with 0 missing, elapsed time: 0.113\n",
      "Imputing row 501/891 with 0 missing, elapsed time: 0.114\n",
      "Imputing row 601/891 with 0 missing, elapsed time: 0.115\n",
      "Imputing row 701/891 with 0 missing, elapsed time: 0.115\n",
      "Imputing row 801/891 with 0 missing, elapsed time: 0.116\n"
     ]
    }
   ],
   "source": [
    "dff = knnimput.KNN(k = 4).complete(n_df) #doldurma islemini yapacak\n",
    "\n",
    "#4 komsuluk degeri,4 komsuya göre yapiyor"
   ]
  },
  {
   "cell_type": "code",
   "execution_count": 28,
   "id": "9eb855e9",
   "metadata": {},
   "outputs": [
    {
     "data": {
      "text/plain": [
       "array([[ 0.    ,  3.    , 22.    ,  1.    ,  0.    ,  7.25  ],\n",
       "       [ 1.    ,  1.    , 38.    ,  1.    ,  0.    , 71.2833],\n",
       "       [ 1.    ,  3.    , 26.    ,  0.    ,  0.    ,  7.925 ],\n",
       "       [ 1.    ,  1.    , 35.    ,  1.    ,  0.    , 53.1   ],\n",
       "       [ 0.    ,  3.    , 35.    ,  0.    ,  0.    ,  8.05  ],\n",
       "       [ 0.    ,  3.    ,     nan,  0.    ,  0.    ,  8.4583]])"
      ]
     },
     "execution_count": 28,
     "metadata": {},
     "output_type": "execute_result"
    }
   ],
   "source": [
    "n_df[0:6]   #burda nan görüyorum ama asagida nan'i doldurmus"
   ]
  },
  {
   "cell_type": "code",
   "execution_count": 29,
   "id": "b8ba7d7b",
   "metadata": {},
   "outputs": [],
   "source": [
    "import pandas as pd\n",
    "df2 = pd.DataFrame(dff,columns = var_names)"
   ]
  },
  {
   "cell_type": "code",
   "execution_count": 30,
   "id": "a0528d4a",
   "metadata": {},
   "outputs": [
    {
     "data": {
      "text/html": [
       "<div>\n",
       "<style scoped>\n",
       "    .dataframe tbody tr th:only-of-type {\n",
       "        vertical-align: middle;\n",
       "    }\n",
       "\n",
       "    .dataframe tbody tr th {\n",
       "        vertical-align: top;\n",
       "    }\n",
       "\n",
       "    .dataframe thead th {\n",
       "        text-align: right;\n",
       "    }\n",
       "</style>\n",
       "<table border=\"1\" class=\"dataframe\">\n",
       "  <thead>\n",
       "    <tr style=\"text-align: right;\">\n",
       "      <th></th>\n",
       "      <th>survived</th>\n",
       "      <th>pclass</th>\n",
       "      <th>age</th>\n",
       "      <th>sibsp</th>\n",
       "      <th>parch</th>\n",
       "      <th>fare</th>\n",
       "    </tr>\n",
       "  </thead>\n",
       "  <tbody>\n",
       "    <tr>\n",
       "      <th>0</th>\n",
       "      <td>0.0</td>\n",
       "      <td>3.0</td>\n",
       "      <td>22.000</td>\n",
       "      <td>1.0</td>\n",
       "      <td>0.0</td>\n",
       "      <td>7.2500</td>\n",
       "    </tr>\n",
       "    <tr>\n",
       "      <th>1</th>\n",
       "      <td>1.0</td>\n",
       "      <td>1.0</td>\n",
       "      <td>38.000</td>\n",
       "      <td>1.0</td>\n",
       "      <td>0.0</td>\n",
       "      <td>71.2833</td>\n",
       "    </tr>\n",
       "    <tr>\n",
       "      <th>2</th>\n",
       "      <td>1.0</td>\n",
       "      <td>3.0</td>\n",
       "      <td>26.000</td>\n",
       "      <td>0.0</td>\n",
       "      <td>0.0</td>\n",
       "      <td>7.9250</td>\n",
       "    </tr>\n",
       "    <tr>\n",
       "      <th>3</th>\n",
       "      <td>1.0</td>\n",
       "      <td>1.0</td>\n",
       "      <td>35.000</td>\n",
       "      <td>1.0</td>\n",
       "      <td>0.0</td>\n",
       "      <td>53.1000</td>\n",
       "    </tr>\n",
       "    <tr>\n",
       "      <th>4</th>\n",
       "      <td>0.0</td>\n",
       "      <td>3.0</td>\n",
       "      <td>35.000</td>\n",
       "      <td>0.0</td>\n",
       "      <td>0.0</td>\n",
       "      <td>8.0500</td>\n",
       "    </tr>\n",
       "    <tr>\n",
       "      <th>5</th>\n",
       "      <td>0.0</td>\n",
       "      <td>3.0</td>\n",
       "      <td>39.375</td>\n",
       "      <td>0.0</td>\n",
       "      <td>0.0</td>\n",
       "      <td>8.4583</td>\n",
       "    </tr>\n",
       "  </tbody>\n",
       "</table>\n",
       "</div>"
      ],
      "text/plain": [
       "   survived  pclass     age  sibsp  parch     fare\n",
       "0       0.0     3.0  22.000    1.0    0.0   7.2500\n",
       "1       1.0     1.0  38.000    1.0    0.0  71.2833\n",
       "2       1.0     3.0  26.000    0.0    0.0   7.9250\n",
       "3       1.0     1.0  35.000    1.0    0.0  53.1000\n",
       "4       0.0     3.0  35.000    0.0    0.0   8.0500\n",
       "5       0.0     3.0  39.375    0.0    0.0   8.4583"
      ]
     },
     "execution_count": 30,
     "metadata": {},
     "output_type": "execute_result"
    }
   ],
   "source": [
    "df2.head(6)"
   ]
  },
  {
   "cell_type": "code",
   "execution_count": 31,
   "id": "31c43b27",
   "metadata": {},
   "outputs": [
    {
     "data": {
      "text/plain": [
       "survived    0\n",
       "pclass      0\n",
       "age         0\n",
       "sibsp       0\n",
       "parch       0\n",
       "fare        0\n",
       "dtype: int64"
      ]
     },
     "execution_count": 31,
     "metadata": {},
     "output_type": "execute_result"
    }
   ],
   "source": [
    "df2.isnull().sum()   #nan'lar KNN ile yakindaki sayilarla dolduruldu"
   ]
  },
  {
   "cell_type": "markdown",
   "id": "b5827146",
   "metadata": {},
   "source": [
    "###  2-Random Forest ile nan'lari doldur"
   ]
  },
  {
   "cell_type": "code",
   "execution_count": 3,
   "id": "067daae0",
   "metadata": {},
   "outputs": [
    {
     "data": {
      "text/plain": [
       "survived      0\n",
       "pclass        0\n",
       "age         177\n",
       "sibsp         0\n",
       "parch         0\n",
       "fare          0\n",
       "dtype: int64"
      ]
     },
     "execution_count": 3,
     "metadata": {},
     "output_type": "execute_result"
    }
   ],
   "source": [
    "import seaborn as sns   #titanigi cagirmak icin\n",
    "import missingno as msno\n",
    "df = sns.load_dataset('titanic')    #veri seti geldi\n",
    "df = df.select_dtypes(include = ['float64','int64']) #type int yapti\n",
    "df.isnull().sum()"
   ]
  },
  {
   "cell_type": "code",
   "execution_count": 4,
   "id": "1392d9be",
   "metadata": {},
   "outputs": [
    {
     "data": {
      "text/html": [
       "<div>\n",
       "<style scoped>\n",
       "    .dataframe tbody tr th:only-of-type {\n",
       "        vertical-align: middle;\n",
       "    }\n",
       "\n",
       "    .dataframe tbody tr th {\n",
       "        vertical-align: top;\n",
       "    }\n",
       "\n",
       "    .dataframe thead th {\n",
       "        text-align: right;\n",
       "    }\n",
       "</style>\n",
       "<table border=\"1\" class=\"dataframe\">\n",
       "  <thead>\n",
       "    <tr style=\"text-align: right;\">\n",
       "      <th></th>\n",
       "      <th>survived</th>\n",
       "      <th>pclass</th>\n",
       "      <th>age</th>\n",
       "      <th>sibsp</th>\n",
       "      <th>parch</th>\n",
       "      <th>fare</th>\n",
       "    </tr>\n",
       "  </thead>\n",
       "  <tbody>\n",
       "    <tr>\n",
       "      <th>0</th>\n",
       "      <td>0</td>\n",
       "      <td>3</td>\n",
       "      <td>22.0</td>\n",
       "      <td>1</td>\n",
       "      <td>0</td>\n",
       "      <td>7.2500</td>\n",
       "    </tr>\n",
       "    <tr>\n",
       "      <th>1</th>\n",
       "      <td>1</td>\n",
       "      <td>1</td>\n",
       "      <td>38.0</td>\n",
       "      <td>1</td>\n",
       "      <td>0</td>\n",
       "      <td>71.2833</td>\n",
       "    </tr>\n",
       "    <tr>\n",
       "      <th>2</th>\n",
       "      <td>1</td>\n",
       "      <td>3</td>\n",
       "      <td>26.0</td>\n",
       "      <td>0</td>\n",
       "      <td>0</td>\n",
       "      <td>7.9250</td>\n",
       "    </tr>\n",
       "    <tr>\n",
       "      <th>3</th>\n",
       "      <td>1</td>\n",
       "      <td>1</td>\n",
       "      <td>35.0</td>\n",
       "      <td>1</td>\n",
       "      <td>0</td>\n",
       "      <td>53.1000</td>\n",
       "    </tr>\n",
       "    <tr>\n",
       "      <th>4</th>\n",
       "      <td>0</td>\n",
       "      <td>3</td>\n",
       "      <td>35.0</td>\n",
       "      <td>0</td>\n",
       "      <td>0</td>\n",
       "      <td>8.0500</td>\n",
       "    </tr>\n",
       "  </tbody>\n",
       "</table>\n",
       "</div>"
      ],
      "text/plain": [
       "   survived  pclass   age  sibsp  parch     fare\n",
       "0         0       3  22.0      1      0   7.2500\n",
       "1         1       1  38.0      1      0  71.2833\n",
       "2         1       3  26.0      0      0   7.9250\n",
       "3         1       1  35.0      1      0  53.1000\n",
       "4         0       3  35.0      0      0   8.0500"
      ]
     },
     "execution_count": 4,
     "metadata": {},
     "output_type": "execute_result"
    }
   ],
   "source": [
    "df.head()"
   ]
  },
  {
   "cell_type": "code",
   "execution_count": 7,
   "id": "3d5328c8",
   "metadata": {},
   "outputs": [
    {
     "data": {
      "text/html": [
       "<div>\n",
       "<style scoped>\n",
       "    .dataframe tbody tr th:only-of-type {\n",
       "        vertical-align: middle;\n",
       "    }\n",
       "\n",
       "    .dataframe tbody tr th {\n",
       "        vertical-align: top;\n",
       "    }\n",
       "\n",
       "    .dataframe thead th {\n",
       "        text-align: right;\n",
       "    }\n",
       "</style>\n",
       "<table border=\"1\" class=\"dataframe\">\n",
       "  <thead>\n",
       "    <tr style=\"text-align: right;\">\n",
       "      <th></th>\n",
       "      <th>survived</th>\n",
       "      <th>pclass</th>\n",
       "      <th>age</th>\n",
       "      <th>sibsp</th>\n",
       "      <th>parch</th>\n",
       "      <th>fare</th>\n",
       "    </tr>\n",
       "  </thead>\n",
       "  <tbody>\n",
       "    <tr>\n",
       "      <th>0</th>\n",
       "      <td>0</td>\n",
       "      <td>3</td>\n",
       "      <td>22.0</td>\n",
       "      <td>1</td>\n",
       "      <td>0</td>\n",
       "      <td>7.2500</td>\n",
       "    </tr>\n",
       "    <tr>\n",
       "      <th>1</th>\n",
       "      <td>1</td>\n",
       "      <td>1</td>\n",
       "      <td>38.0</td>\n",
       "      <td>1</td>\n",
       "      <td>0</td>\n",
       "      <td>71.2833</td>\n",
       "    </tr>\n",
       "    <tr>\n",
       "      <th>2</th>\n",
       "      <td>1</td>\n",
       "      <td>3</td>\n",
       "      <td>26.0</td>\n",
       "      <td>0</td>\n",
       "      <td>0</td>\n",
       "      <td>7.9250</td>\n",
       "    </tr>\n",
       "    <tr>\n",
       "      <th>3</th>\n",
       "      <td>1</td>\n",
       "      <td>1</td>\n",
       "      <td>35.0</td>\n",
       "      <td>1</td>\n",
       "      <td>0</td>\n",
       "      <td>53.1000</td>\n",
       "    </tr>\n",
       "    <tr>\n",
       "      <th>4</th>\n",
       "      <td>0</td>\n",
       "      <td>3</td>\n",
       "      <td>35.0</td>\n",
       "      <td>0</td>\n",
       "      <td>0</td>\n",
       "      <td>8.0500</td>\n",
       "    </tr>\n",
       "    <tr>\n",
       "      <th>...</th>\n",
       "      <td>...</td>\n",
       "      <td>...</td>\n",
       "      <td>...</td>\n",
       "      <td>...</td>\n",
       "      <td>...</td>\n",
       "      <td>...</td>\n",
       "    </tr>\n",
       "    <tr>\n",
       "      <th>95</th>\n",
       "      <td>0</td>\n",
       "      <td>3</td>\n",
       "      <td>NaN</td>\n",
       "      <td>0</td>\n",
       "      <td>0</td>\n",
       "      <td>8.0500</td>\n",
       "    </tr>\n",
       "    <tr>\n",
       "      <th>96</th>\n",
       "      <td>0</td>\n",
       "      <td>1</td>\n",
       "      <td>71.0</td>\n",
       "      <td>0</td>\n",
       "      <td>0</td>\n",
       "      <td>34.6542</td>\n",
       "    </tr>\n",
       "    <tr>\n",
       "      <th>97</th>\n",
       "      <td>1</td>\n",
       "      <td>1</td>\n",
       "      <td>23.0</td>\n",
       "      <td>0</td>\n",
       "      <td>1</td>\n",
       "      <td>63.3583</td>\n",
       "    </tr>\n",
       "    <tr>\n",
       "      <th>98</th>\n",
       "      <td>1</td>\n",
       "      <td>2</td>\n",
       "      <td>34.0</td>\n",
       "      <td>0</td>\n",
       "      <td>1</td>\n",
       "      <td>23.0000</td>\n",
       "    </tr>\n",
       "    <tr>\n",
       "      <th>99</th>\n",
       "      <td>0</td>\n",
       "      <td>2</td>\n",
       "      <td>34.0</td>\n",
       "      <td>1</td>\n",
       "      <td>0</td>\n",
       "      <td>26.0000</td>\n",
       "    </tr>\n",
       "  </tbody>\n",
       "</table>\n",
       "<p>100 rows × 6 columns</p>\n",
       "</div>"
      ],
      "text/plain": [
       "    survived  pclass   age  sibsp  parch     fare\n",
       "0          0       3  22.0      1      0   7.2500\n",
       "1          1       1  38.0      1      0  71.2833\n",
       "2          1       3  26.0      0      0   7.9250\n",
       "3          1       1  35.0      1      0  53.1000\n",
       "4          0       3  35.0      0      0   8.0500\n",
       "..       ...     ...   ...    ...    ...      ...\n",
       "95         0       3   NaN      0      0   8.0500\n",
       "96         0       1  71.0      0      0  34.6542\n",
       "97         1       1  23.0      0      1  63.3583\n",
       "98         1       2  34.0      0      1  23.0000\n",
       "99         0       2  34.0      1      0  26.0000\n",
       "\n",
       "[100 rows x 6 columns]"
      ]
     },
     "execution_count": 7,
     "metadata": {},
     "output_type": "execute_result"
    }
   ],
   "source": [
    "df.head(100)"
   ]
  },
  {
   "cell_type": "code",
   "execution_count": null,
   "id": "ba4ff948",
   "metadata": {},
   "outputs": [],
   "source": []
  },
  {
   "cell_type": "code",
   "execution_count": null,
   "id": "4834b339",
   "metadata": {},
   "outputs": [],
   "source": []
  },
  {
   "cell_type": "markdown",
   "id": "6a5e7147",
   "metadata": {},
   "source": [
    "### veriyi modele hazir hale getirme"
   ]
  },
  {
   "cell_type": "code",
   "execution_count": null,
   "id": "ac0988f7",
   "metadata": {},
   "outputs": [],
   "source": [
    "y = data['charges']\n",
    "X = data.drop('charges' , axis =1) #icinde charge olmayanlari aliyor\n",
    "\n",
    "#bu sekilde y olanlar bagimli degisken yani sonuclar oldu\n",
    "#X olanlarda bizim Featureslerimiz oldu\n",
    "\n",
    "#X bizim charges haric tüm sütunlarimiz ve biz bunu biraz sonra train ve test olarak ikiye bölecegiz\n",
    "#ve y degiskenimiz ise bizim sonuclarimiz bu veri setinde saglik icin yapilan harcamalar \n",
    "#birazdan bunu da ikiye bölecegiz "
   ]
  },
  {
   "cell_type": "code",
   "execution_count": null,
   "id": "b1069f52",
   "metadata": {},
   "outputs": [],
   "source": [
    "#Training veri setiyle(X) model egitilir, ve test veri setiyle(y) test edilir\n",
    "#veri setini Training ve test diye ayirmak icin  sklearn kütüphanesini kullaniyoruz.\n",
    "#Bu method ile veriyi istedigimiz oranda bölebiliriz\n",
    "#bu veri setini karistirarak parcalama yapar\n",
    "\n",
    "from sklearn.model_selection import train_test_split\n",
    "X_train, X_test, y_train, y_test = train_test_split(X, y, train_size = 0.80, random_state = 1)\n",
    "#bu sekilde verileri %80 train ve %20 test verileri olarak bölüyorum\n",
    "#random_state parametresi kullnilan verileri sabitlemek icin kullanilir\n",
    "#eger bende bu parametreyi kullanirsam, bende hocanin buldugu sonuclarin aynisini bulabilirim\n"
   ]
  },
  {
   "cell_type": "code",
   "execution_count": null,
   "id": "dc160f35",
   "metadata": {},
   "outputs": [],
   "source": [
    "rng = np.random.RandomState(42)\n",
    "x = 10*rng.rand(50) \n",
    "#x i böyle olusturmustu\n",
    "\n",
    "\n",
    "\n",
    "\n",
    "\n",
    "X = x[:,np.newaxis]  #newaxis iki boyuta cikariyor array'i\n",
    "X[:5]  #ilk besini görmek isteedim, bu iki boyutlu array oldugu icin head() olmuyor\n",
    "\n",
    "#burdaki X ,yukarida \n",
    "#rng = np.random.RandomState(42)\n",
    "#x = 10*rng.rand(50)\n",
    "#ile kurdugumuz x in \n",
    "\n",
    "#bu adimda yukarida olusturdugum  x i->x = 10*rng.rand(50) düzenlemem gerekiyor\n",
    "#X e esitleyip, x iki nokta yazip, np.new axis yazip bir yapisina bakalim\n",
    "\n",
    "#burda yukaridakinden farkli olarak her birini köseli parantez icine aldi\n",
    "# boyut eklemis diyebiliriz\n",
    "#asagida bir denemeyle sebebini ögrendim,eger x i boyut ekleyip X e dönüstürmezsem, hata veriyor\n",
    "#ve 2D olan bir veri gir gir diyor\n",
    "#biz iris le falan calisirken, onlar zaten DataFrame olarak geliyorlar\n",
    "\n",
    "#ValueError: Expected 2D array, got 1D array instead:\n",
    "\n",
    "#bu sekilde iki boyutlu features matrisi olusturmus olduk\n",
    "#bu X te 50 tane örneklem ve bir tane feature var"
   ]
  },
  {
   "cell_type": "code",
   "execution_count": null,
   "id": "7d73c2a7",
   "metadata": {},
   "outputs": [],
   "source": [
    "model.coef_\n",
    "#aslinda bu bizim denklemimizin egimi, yani galiba a katsayisidir(coefficient)\n",
    "\n",
    "#sklearnde modelin attribute'larina alt tire eklenir\n",
    "array([1.98007544])\n"
   ]
  },
  {
   "cell_type": "code",
   "execution_count": null,
   "id": "f1fb7aed",
   "metadata": {},
   "outputs": [],
   "source": [
    "model.intercept_\n",
    "\n",
    "#modelimizin sabiti ekrana yazildi\n",
    "-0.7351792394028802"
   ]
  },
  {
   "cell_type": "code",
   "execution_count": null,
   "id": "b7602cc7",
   "metadata": {},
   "outputs": [],
   "source": []
  },
  {
   "cell_type": "code",
   "execution_count": null,
   "id": "ae22a9b8",
   "metadata": {},
   "outputs": [],
   "source": []
  },
  {
   "cell_type": "code",
   "execution_count": null,
   "id": "fd5998a4",
   "metadata": {},
   "outputs": [],
   "source": []
  },
  {
   "cell_type": "markdown",
   "id": "6af6ef65",
   "metadata": {},
   "source": [
    "### model kurma asamalari"
   ]
  },
  {
   "cell_type": "code",
   "execution_count": null,
   "id": "e8656724",
   "metadata": {},
   "outputs": [],
   "source": [
    "#linear regression modeli icin sklearn'deki linear modelden linear regression modelini import edelim\n",
    "\n",
    "\n",
    "from sklearn.linear_model import LinearRegression \n",
    "\n",
    "#galiba bir makina ögrenmesi modeli import ettik\n",
    "\n",
    "#simdide bu siniftan bir örnek alalim\n",
    "\n",
    "lr = LinearRegression    #busekilde bu siniftan birer örnek almis oldu\n",
    "\n",
    "lr.fit(X_train, y_train)   #egitim icin aldigim verileri aliyorum,aslinda bu adimda modeli egitmis olacagiz\n",
    "                           #fit yapinca egitime geciyoruz\n",
    "\n",
    "#simdide egitim verilerini kullanarak modeli kuralim,simdide performansina bakalim diyor\n",
    "\n",
    "\n",
    "#ilginc ama adam modeli kurduk dedi, yani ne demek istedigini halen anlamiyorum(ilk yazdigim not :)"
   ]
  },
  {
   "cell_type": "code",
   "execution_count": null,
   "id": "2ff5a033",
   "metadata": {},
   "outputs": [],
   "source": [
    "#yaptigimiz modelin performansini görmek icin, simdide belirleme katsayisini bulalim\n",
    "#bu deger 1 e nekadar yakinsa model okdar iyidir"
   ]
  },
  {
   "cell_type": "code",
   "execution_count": null,
   "id": "b88d046b",
   "metadata": {},
   "outputs": [],
   "source": [
    "model = LinearRegression(fit_intercept=True)\n",
    "model\n",
    "\n",
    "#modeli kurduk\n",
    "##icerisine fit_intercept argümanina True yazalim .\n",
    "#intercept true demek y=ax+b dogrusunda b yi etkin almak demektir\n",
    "#eger fit_intercept=False alirsa, sanki b yokmus gibi y=ax dosrusu cizerdi\n",
    "#sonra modeli ekrana yazdiralim \n",
    "#suan modelle ilgili herhangi bir veri analizi yapmadik\n",
    "#sadece bir model olusturduk"
   ]
  },
  {
   "cell_type": "code",
   "execution_count": null,
   "id": "f20396a5",
   "metadata": {},
   "outputs": [],
   "source": []
  },
  {
   "cell_type": "markdown",
   "id": "e40cd1c4",
   "metadata": {},
   "source": [
    "## Validation islemleri"
   ]
  },
  {
   "cell_type": "code",
   "execution_count": null,
   "id": "c6b2914f",
   "metadata": {},
   "outputs": [],
   "source": [
    "lr.score(X_test, y_test).round(3) \n",
    "\n",
    "#simdi modelimizin basari oranini görecegiz, bu komut calisinca modelin r_karesi ekrana yaziliyor\n",
    "#eger modelin r_karesi 0.7 den büyükse model basarili demektir\n",
    "\n",
    "#aslinda bu bir validation islemidir\n",
    "#burda sonucu ölcmek icin test veri kümesini kullaniyoruz,\n",
    "#burda sonuc 0.762 cikti\n",
    "\n",
    "\n",
    "#burda güzel bir gözlemim oldu eger veri setini %90 olarak ayirirsam, train.score daha yüksek cikti\n",
    "#ama test.score biraz düstü, demekki test icinde verinin fazla olmasi iyi bisey ama egitilmesi daha\n",
    "#önemli sanki\n",
    "\n",
    "#ama ilginc bir sekilde math.sqrt(mean_squared_error(y_test, y_pred)) buda 5956 iken 6565 a yükseldi"
   ]
  },
  {
   "cell_type": "code",
   "execution_count": null,
   "id": "2bb2ed63",
   "metadata": {},
   "outputs": [],
   "source": [
    "lr.score(X_train, y_train).round(3)\n",
    "\n",
    "#simdide modelin egitim verileri üzerindeki dogrulugunu görelim\n",
    "#bu degerde 0.7 den büyük ve test verilerinin r_karesine yakin cikti\n",
    "#egitim verilerinide baktik\n",
    "#burda sonuc 0.748 cikti"
   ]
  },
  {
   "cell_type": "code",
   "execution_count": null,
   "id": "9027fd0e",
   "metadata": {},
   "outputs": [],
   "source": []
  },
  {
   "cell_type": "code",
   "execution_count": null,
   "id": "345ab9aa",
   "metadata": {},
   "outputs": [],
   "source": []
  },
  {
   "cell_type": "code",
   "execution_count": null,
   "id": "b8d812c1",
   "metadata": {},
   "outputs": [],
   "source": []
  },
  {
   "cell_type": "markdown",
   "id": "46322cb7",
   "metadata": {},
   "source": [
    "## Prediction yapiyor"
   ]
  },
  {
   "cell_type": "code",
   "execution_count": null,
   "id": "a16ee442",
   "metadata": {},
   "outputs": [],
   "source": [
    "y_pred = lr.predict(X_test) \n",
    "\n",
    "#predict metoduyla input_testleri modele koyuyorum, suan test modellerine göre tahmin yaptk\n",
    "\n",
    "#simdide modeli degerlendirmek icin bir diger metrik olan hata kareler ortalamasina(mean squared error) bakalim\n",
    "#bunun icin öncelikle  predict metoduyla test verilerini tahmin edelim"
   ]
  },
  {
   "cell_type": "code",
   "execution_count": null,
   "id": "49a5fa44",
   "metadata": {},
   "outputs": [],
   "source": [
    "y_pred\n",
    "\n",
    "#bu benim elindeki verilere bakarak evlerin fiyatlarini tahmin ettigi degerler\n",
    "#biraz sonra mean squered error ile bu tahminlerin dogrulugunu kontrol edecegim\n",
    "#burda cevap olarak  test setimizdeki her bir veri icin bir tahmin verdi, bir sürü sayi yazdi"
   ]
  },
  {
   "cell_type": "code",
   "execution_count": null,
   "id": "d6933172",
   "metadata": {},
   "outputs": [],
   "source": []
  },
  {
   "cell_type": "code",
   "execution_count": null,
   "id": "edf6d3b5",
   "metadata": {},
   "outputs": [],
   "source": []
  },
  {
   "cell_type": "markdown",
   "id": "465d18d0",
   "metadata": {},
   "source": [
    "## mean squred error "
   ]
  },
  {
   "cell_type": "code",
   "execution_count": null,
   "id": "6cd82803",
   "metadata": {},
   "outputs": [],
   "source": [
    "#simdide mean squred error bulacagimiz icin yukarida kütüphanesini import ettim\n",
    "#mean squered error kullanacagim icin, bir kütüphane daha import ediyorum  import math\n",
    "\n",
    "\n",
    "\n",
    "#simdide ortalama kareler hatasinin(mean squred error) karekökünü alacagim\n",
    "\n"
   ]
  },
  {
   "cell_type": "code",
   "execution_count": null,
   "id": "8af435fd",
   "metadata": {},
   "outputs": [],
   "source": [
    "math.sqrt(mean_squared_error(y_test, y_pred))\n",
    "\n",
    "#sqrt ile karesini aliyorum, ve az önce import ettigim (mean_squared_error) metriginide icine yaziyorum\n",
    "#cünkü mean squared karelerini aliyor, bende simdi karekökünü alacagim\n",
    "#burda icine koydugum degiskenler cok öneli \n",
    "#ben hata oranini bulacagim icin. test verilerini ele aliyorum \n",
    "#y_test yani bizim gercek degerlerimiz, saglik icin yapilan harcamalarin gercek degeri\n",
    "#y_pred bizim modelimizin yapmis oldugu tahminler\n",
    "#ve gercekler ile, onun buldugu arasindaki iliskiye bakacagir, kaclik bir standart sapma ile \n",
    "#tahmin ettigne bakalim\n",
    "\n",
    "#5956 lik bir standar hata ile tahmin ediyor\n",
    "\n",
    "#artik bu asamada istedigimiz veriyi modele vererek tahminler yapabilriz\n",
    "#galiba artik modelimiz tahmin yapmayi ögrendi, ve nekadar cok veri verirsek o kadar iyi tahminde bulunacak\n",
    "\n",
    "#cevap bu cikti 5956.454717976427"
   ]
  },
  {
   "cell_type": "code",
   "execution_count": null,
   "id": "791d089d",
   "metadata": {},
   "outputs": [],
   "source": []
  },
  {
   "cell_type": "code",
   "execution_count": null,
   "id": "0e52bba5",
   "metadata": {},
   "outputs": [],
   "source": []
  },
  {
   "cell_type": "code",
   "execution_count": null,
   "id": "a7dd6a75",
   "metadata": {},
   "outputs": [],
   "source": []
  },
  {
   "cell_type": "markdown",
   "id": "f592cb95",
   "metadata": {},
   "source": [
    "### burda verimizin ilk satirini kontrol edelim, gercek deger ile kendi tahminine bakalim"
   ]
  },
  {
   "cell_type": "code",
   "execution_count": null,
   "id": "9a483dac",
   "metadata": {},
   "outputs": [],
   "source": [
    "data_new = X_train[:1]\n",
    "data_new\n",
    "\n",
    "#biz simdi ilk satiri tahmin ediyorum,önce ilk satirimiza bakalim\n",
    "#burda ilk satir 216 indexli veri oldu, neden 1ci indexli gelmesi diye düsündüm\n",
    "#ama galiba adam sklearn kütüphanesiyle. ilgili veriyi karistirarak bölüyor demisti\n",
    "#bellki ondan dolayi 216 geldi\n",
    "\n",
    "\n",
    "lr.predict(data_new)\n",
    "\n",
    "\n",
    "#simdide veriyi tahmin ediyoruz\n",
    "#veriyi tahmin etmek icin predict methodu kullaniliyor\n",
    "#new_data bizim birici satirimiza atadim\n",
    "\n",
    "#tahmini array([10508.41885042])"
   ]
  },
  {
   "cell_type": "code",
   "execution_count": null,
   "id": "985e13f5",
   "metadata": {},
   "outputs": [],
   "source": [
    "y_train[0:1]    #bu da gercek deger ,aslinda gayet güzel tahmin etmis\n",
    "\n",
    "#gercek cevap 216->10355.641"
   ]
  },
  {
   "cell_type": "code",
   "execution_count": null,
   "id": "bf53854b",
   "metadata": {},
   "outputs": [],
   "source": []
  },
  {
   "cell_type": "code",
   "execution_count": null,
   "id": "89935aa2",
   "metadata": {},
   "outputs": [],
   "source": []
  },
  {
   "cell_type": "code",
   "execution_count": null,
   "id": "4aba3359",
   "metadata": {},
   "outputs": [],
   "source": []
  },
  {
   "cell_type": "code",
   "execution_count": null,
   "id": "1d500959",
   "metadata": {},
   "outputs": [],
   "source": []
  },
  {
   "cell_type": "markdown",
   "id": "09d73f6b",
   "metadata": {},
   "source": [
    "## Pipeline"
   ]
  },
  {
   "cell_type": "code",
   "execution_count": 1,
   "id": "368e1750",
   "metadata": {},
   "outputs": [],
   "source": [
    "# kelime anlami boru hatti demek,bunun ile makine ögrenmesi proje adimlarini  birbirine baglayabiliriz\n",
    "\n",
    "#yani veri ön islemeden, model kurmaya kadarki  bütün makine ögrenmesi asamalarini birbirine zincirleyebiliriz\n",
    "#böylece olusturdugumiz pipeline lari hem  baska projeler icin kullanabiliriz, hemde bir hata \n",
    "#aldigimizda daha kolay düzeltebiliriz"
   ]
  },
  {
   "cell_type": "code",
   "execution_count": 2,
   "id": "fc88d237",
   "metadata": {},
   "outputs": [],
   "source": [
    "from sklearn.pipeline import make_pipeline\n",
    "\n",
    "#simdi bir logistic Regression kurmak icin pipeline kullanalim\n",
    "#öncelikle pipeline ni import edelim "
   ]
  },
  {
   "cell_type": "code",
   "execution_count": 3,
   "id": "bb4038f0",
   "metadata": {},
   "outputs": [],
   "source": [
    "from sklearn.linear_model import LogisticRegression\n",
    "\n",
    "#simdide logistic Regressionu import edelim"
   ]
  },
  {
   "cell_type": "code",
   "execution_count": 4,
   "id": "02acca9a",
   "metadata": {},
   "outputs": [],
   "source": [
    "from sklearn.preprocessing import StandardScaler   \n",
    "\n",
    "#bunu import etmedigim icin hata aldim cünkü StandardScaler bir kütüphaneden geliyor\n",
    "#bunu ben asagida bir pipeline kullanarak bir logosticRegression modeli kuracagim \n",
    "##icine StandardScaler yazacagim icin import etmeliyim"
   ]
  },
  {
   "cell_type": "code",
   "execution_count": 5,
   "id": "e04a833b",
   "metadata": {},
   "outputs": [],
   "source": [
    "pipe = make_pipeline(\n",
    "        StandardScaler(),\n",
    "        LogisticRegression())\n",
    "\n",
    "#suan bir pipeline nesnesi olusturalim ,aslinda asagida bu pipe bizim modelimiz olacak\n",
    "#cünkü pipe.fit() ile modeli egitecegim, icinde LogisticRegression yazdigi icin model oldu\n",
    "#ve bu nesne icine islem adimlarini yazalim\n",
    "\n",
    "#pipe diye bir degislen olusturdum, icine make_pipeline fonksiyonunu yaziyorum\n",
    "#bunun icerisine DataScaling icin Standartscaler yaziyorum\n",
    "#sonra model kurmak icin LogisticRegression sinifini yaziyorum\n",
    "\n",
    "#bu sekilde bir boru hatti kurmus olduk"
   ]
  },
  {
   "cell_type": "code",
   "execution_count": 6,
   "id": "6ae9db50",
   "metadata": {},
   "outputs": [],
   "source": [
    "#simdi bu boru hattini kullanmak icin iris veri setini kullanalim\n",
    "#bu scikitlearn icinde yüklüdür,\n",
    "#bu veri seti iris cicegini 3 türüne ait ölcümleri icerir"
   ]
  },
  {
   "cell_type": "code",
   "execution_count": 7,
   "id": "3d9516d0",
   "metadata": {},
   "outputs": [],
   "source": [
    "from sklearn.datasets import load_iris\n",
    "\n",
    "#scikitlearn e yüklü gelen dataset i cagiriyoruz"
   ]
  },
  {
   "cell_type": "code",
   "execution_count": 8,
   "id": "4769b0ce",
   "metadata": {},
   "outputs": [
    {
     "data": {
      "text/plain": [
       "{'data': array([[5.1, 3.5, 1.4, 0.2],\n",
       "        [4.9, 3. , 1.4, 0.2],\n",
       "        [4.7, 3.2, 1.3, 0.2],\n",
       "        [4.6, 3.1, 1.5, 0.2],\n",
       "        [5. , 3.6, 1.4, 0.2],\n",
       "        [5.4, 3.9, 1.7, 0.4],\n",
       "        [4.6, 3.4, 1.4, 0.3],\n",
       "        [5. , 3.4, 1.5, 0.2],\n",
       "        [4.4, 2.9, 1.4, 0.2],\n",
       "        [4.9, 3.1, 1.5, 0.1],\n",
       "        [5.4, 3.7, 1.5, 0.2],\n",
       "        [4.8, 3.4, 1.6, 0.2],\n",
       "        [4.8, 3. , 1.4, 0.1],\n",
       "        [4.3, 3. , 1.1, 0.1],\n",
       "        [5.8, 4. , 1.2, 0.2],\n",
       "        [5.7, 4.4, 1.5, 0.4],\n",
       "        [5.4, 3.9, 1.3, 0.4],\n",
       "        [5.1, 3.5, 1.4, 0.3],\n",
       "        [5.7, 3.8, 1.7, 0.3],\n",
       "        [5.1, 3.8, 1.5, 0.3],\n",
       "        [5.4, 3.4, 1.7, 0.2],\n",
       "        [5.1, 3.7, 1.5, 0.4],\n",
       "        [4.6, 3.6, 1. , 0.2],\n",
       "        [5.1, 3.3, 1.7, 0.5],\n",
       "        [4.8, 3.4, 1.9, 0.2],\n",
       "        [5. , 3. , 1.6, 0.2],\n",
       "        [5. , 3.4, 1.6, 0.4],\n",
       "        [5.2, 3.5, 1.5, 0.2],\n",
       "        [5.2, 3.4, 1.4, 0.2],\n",
       "        [4.7, 3.2, 1.6, 0.2],\n",
       "        [4.8, 3.1, 1.6, 0.2],\n",
       "        [5.4, 3.4, 1.5, 0.4],\n",
       "        [5.2, 4.1, 1.5, 0.1],\n",
       "        [5.5, 4.2, 1.4, 0.2],\n",
       "        [4.9, 3.1, 1.5, 0.2],\n",
       "        [5. , 3.2, 1.2, 0.2],\n",
       "        [5.5, 3.5, 1.3, 0.2],\n",
       "        [4.9, 3.6, 1.4, 0.1],\n",
       "        [4.4, 3. , 1.3, 0.2],\n",
       "        [5.1, 3.4, 1.5, 0.2],\n",
       "        [5. , 3.5, 1.3, 0.3],\n",
       "        [4.5, 2.3, 1.3, 0.3],\n",
       "        [4.4, 3.2, 1.3, 0.2],\n",
       "        [5. , 3.5, 1.6, 0.6],\n",
       "        [5.1, 3.8, 1.9, 0.4],\n",
       "        [4.8, 3. , 1.4, 0.3],\n",
       "        [5.1, 3.8, 1.6, 0.2],\n",
       "        [4.6, 3.2, 1.4, 0.2],\n",
       "        [5.3, 3.7, 1.5, 0.2],\n",
       "        [5. , 3.3, 1.4, 0.2],\n",
       "        [7. , 3.2, 4.7, 1.4],\n",
       "        [6.4, 3.2, 4.5, 1.5],\n",
       "        [6.9, 3.1, 4.9, 1.5],\n",
       "        [5.5, 2.3, 4. , 1.3],\n",
       "        [6.5, 2.8, 4.6, 1.5],\n",
       "        [5.7, 2.8, 4.5, 1.3],\n",
       "        [6.3, 3.3, 4.7, 1.6],\n",
       "        [4.9, 2.4, 3.3, 1. ],\n",
       "        [6.6, 2.9, 4.6, 1.3],\n",
       "        [5.2, 2.7, 3.9, 1.4],\n",
       "        [5. , 2. , 3.5, 1. ],\n",
       "        [5.9, 3. , 4.2, 1.5],\n",
       "        [6. , 2.2, 4. , 1. ],\n",
       "        [6.1, 2.9, 4.7, 1.4],\n",
       "        [5.6, 2.9, 3.6, 1.3],\n",
       "        [6.7, 3.1, 4.4, 1.4],\n",
       "        [5.6, 3. , 4.5, 1.5],\n",
       "        [5.8, 2.7, 4.1, 1. ],\n",
       "        [6.2, 2.2, 4.5, 1.5],\n",
       "        [5.6, 2.5, 3.9, 1.1],\n",
       "        [5.9, 3.2, 4.8, 1.8],\n",
       "        [6.1, 2.8, 4. , 1.3],\n",
       "        [6.3, 2.5, 4.9, 1.5],\n",
       "        [6.1, 2.8, 4.7, 1.2],\n",
       "        [6.4, 2.9, 4.3, 1.3],\n",
       "        [6.6, 3. , 4.4, 1.4],\n",
       "        [6.8, 2.8, 4.8, 1.4],\n",
       "        [6.7, 3. , 5. , 1.7],\n",
       "        [6. , 2.9, 4.5, 1.5],\n",
       "        [5.7, 2.6, 3.5, 1. ],\n",
       "        [5.5, 2.4, 3.8, 1.1],\n",
       "        [5.5, 2.4, 3.7, 1. ],\n",
       "        [5.8, 2.7, 3.9, 1.2],\n",
       "        [6. , 2.7, 5.1, 1.6],\n",
       "        [5.4, 3. , 4.5, 1.5],\n",
       "        [6. , 3.4, 4.5, 1.6],\n",
       "        [6.7, 3.1, 4.7, 1.5],\n",
       "        [6.3, 2.3, 4.4, 1.3],\n",
       "        [5.6, 3. , 4.1, 1.3],\n",
       "        [5.5, 2.5, 4. , 1.3],\n",
       "        [5.5, 2.6, 4.4, 1.2],\n",
       "        [6.1, 3. , 4.6, 1.4],\n",
       "        [5.8, 2.6, 4. , 1.2],\n",
       "        [5. , 2.3, 3.3, 1. ],\n",
       "        [5.6, 2.7, 4.2, 1.3],\n",
       "        [5.7, 3. , 4.2, 1.2],\n",
       "        [5.7, 2.9, 4.2, 1.3],\n",
       "        [6.2, 2.9, 4.3, 1.3],\n",
       "        [5.1, 2.5, 3. , 1.1],\n",
       "        [5.7, 2.8, 4.1, 1.3],\n",
       "        [6.3, 3.3, 6. , 2.5],\n",
       "        [5.8, 2.7, 5.1, 1.9],\n",
       "        [7.1, 3. , 5.9, 2.1],\n",
       "        [6.3, 2.9, 5.6, 1.8],\n",
       "        [6.5, 3. , 5.8, 2.2],\n",
       "        [7.6, 3. , 6.6, 2.1],\n",
       "        [4.9, 2.5, 4.5, 1.7],\n",
       "        [7.3, 2.9, 6.3, 1.8],\n",
       "        [6.7, 2.5, 5.8, 1.8],\n",
       "        [7.2, 3.6, 6.1, 2.5],\n",
       "        [6.5, 3.2, 5.1, 2. ],\n",
       "        [6.4, 2.7, 5.3, 1.9],\n",
       "        [6.8, 3. , 5.5, 2.1],\n",
       "        [5.7, 2.5, 5. , 2. ],\n",
       "        [5.8, 2.8, 5.1, 2.4],\n",
       "        [6.4, 3.2, 5.3, 2.3],\n",
       "        [6.5, 3. , 5.5, 1.8],\n",
       "        [7.7, 3.8, 6.7, 2.2],\n",
       "        [7.7, 2.6, 6.9, 2.3],\n",
       "        [6. , 2.2, 5. , 1.5],\n",
       "        [6.9, 3.2, 5.7, 2.3],\n",
       "        [5.6, 2.8, 4.9, 2. ],\n",
       "        [7.7, 2.8, 6.7, 2. ],\n",
       "        [6.3, 2.7, 4.9, 1.8],\n",
       "        [6.7, 3.3, 5.7, 2.1],\n",
       "        [7.2, 3.2, 6. , 1.8],\n",
       "        [6.2, 2.8, 4.8, 1.8],\n",
       "        [6.1, 3. , 4.9, 1.8],\n",
       "        [6.4, 2.8, 5.6, 2.1],\n",
       "        [7.2, 3. , 5.8, 1.6],\n",
       "        [7.4, 2.8, 6.1, 1.9],\n",
       "        [7.9, 3.8, 6.4, 2. ],\n",
       "        [6.4, 2.8, 5.6, 2.2],\n",
       "        [6.3, 2.8, 5.1, 1.5],\n",
       "        [6.1, 2.6, 5.6, 1.4],\n",
       "        [7.7, 3. , 6.1, 2.3],\n",
       "        [6.3, 3.4, 5.6, 2.4],\n",
       "        [6.4, 3.1, 5.5, 1.8],\n",
       "        [6. , 3. , 4.8, 1.8],\n",
       "        [6.9, 3.1, 5.4, 2.1],\n",
       "        [6.7, 3.1, 5.6, 2.4],\n",
       "        [6.9, 3.1, 5.1, 2.3],\n",
       "        [5.8, 2.7, 5.1, 1.9],\n",
       "        [6.8, 3.2, 5.9, 2.3],\n",
       "        [6.7, 3.3, 5.7, 2.5],\n",
       "        [6.7, 3. , 5.2, 2.3],\n",
       "        [6.3, 2.5, 5. , 1.9],\n",
       "        [6.5, 3. , 5.2, 2. ],\n",
       "        [6.2, 3.4, 5.4, 2.3],\n",
       "        [5.9, 3. , 5.1, 1.8]]),\n",
       " 'target': array([0, 0, 0, 0, 0, 0, 0, 0, 0, 0, 0, 0, 0, 0, 0, 0, 0, 0, 0, 0, 0, 0,\n",
       "        0, 0, 0, 0, 0, 0, 0, 0, 0, 0, 0, 0, 0, 0, 0, 0, 0, 0, 0, 0, 0, 0,\n",
       "        0, 0, 0, 0, 0, 0, 1, 1, 1, 1, 1, 1, 1, 1, 1, 1, 1, 1, 1, 1, 1, 1,\n",
       "        1, 1, 1, 1, 1, 1, 1, 1, 1, 1, 1, 1, 1, 1, 1, 1, 1, 1, 1, 1, 1, 1,\n",
       "        1, 1, 1, 1, 1, 1, 1, 1, 1, 1, 1, 1, 2, 2, 2, 2, 2, 2, 2, 2, 2, 2,\n",
       "        2, 2, 2, 2, 2, 2, 2, 2, 2, 2, 2, 2, 2, 2, 2, 2, 2, 2, 2, 2, 2, 2,\n",
       "        2, 2, 2, 2, 2, 2, 2, 2, 2, 2, 2, 2, 2, 2, 2, 2, 2, 2]),\n",
       " 'frame': None,\n",
       " 'target_names': array(['setosa', 'versicolor', 'virginica'], dtype='<U10'),\n",
       " 'DESCR': '.. _iris_dataset:\\n\\nIris plants dataset\\n--------------------\\n\\n**Data Set Characteristics:**\\n\\n    :Number of Instances: 150 (50 in each of three classes)\\n    :Number of Attributes: 4 numeric, predictive attributes and the class\\n    :Attribute Information:\\n        - sepal length in cm\\n        - sepal width in cm\\n        - petal length in cm\\n        - petal width in cm\\n        - class:\\n                - Iris-Setosa\\n                - Iris-Versicolour\\n                - Iris-Virginica\\n                \\n    :Summary Statistics:\\n\\n    ============== ==== ==== ======= ===== ====================\\n                    Min  Max   Mean    SD   Class Correlation\\n    ============== ==== ==== ======= ===== ====================\\n    sepal length:   4.3  7.9   5.84   0.83    0.7826\\n    sepal width:    2.0  4.4   3.05   0.43   -0.4194\\n    petal length:   1.0  6.9   3.76   1.76    0.9490  (high!)\\n    petal width:    0.1  2.5   1.20   0.76    0.9565  (high!)\\n    ============== ==== ==== ======= ===== ====================\\n\\n    :Missing Attribute Values: None\\n    :Class Distribution: 33.3% for each of 3 classes.\\n    :Creator: R.A. Fisher\\n    :Donor: Michael Marshall (MARSHALL%PLU@io.arc.nasa.gov)\\n    :Date: July, 1988\\n\\nThe famous Iris database, first used by Sir R.A. Fisher. The dataset is taken\\nfrom Fisher\\'s paper. Note that it\\'s the same as in R, but not as in the UCI\\nMachine Learning Repository, which has two wrong data points.\\n\\nThis is perhaps the best known database to be found in the\\npattern recognition literature.  Fisher\\'s paper is a classic in the field and\\nis referenced frequently to this day.  (See Duda & Hart, for example.)  The\\ndata set contains 3 classes of 50 instances each, where each class refers to a\\ntype of iris plant.  One class is linearly separable from the other 2; the\\nlatter are NOT linearly separable from each other.\\n\\n.. topic:: References\\n\\n   - Fisher, R.A. \"The use of multiple measurements in taxonomic problems\"\\n     Annual Eugenics, 7, Part II, 179-188 (1936); also in \"Contributions to\\n     Mathematical Statistics\" (John Wiley, NY, 1950).\\n   - Duda, R.O., & Hart, P.E. (1973) Pattern Classification and Scene Analysis.\\n     (Q327.D83) John Wiley & Sons.  ISBN 0-471-22361-1.  See page 218.\\n   - Dasarathy, B.V. (1980) \"Nosing Around the Neighborhood: A New System\\n     Structure and Classification Rule for Recognition in Partially Exposed\\n     Environments\".  IEEE Transactions on Pattern Analysis and Machine\\n     Intelligence, Vol. PAMI-2, No. 1, 67-71.\\n   - Gates, G.W. (1972) \"The Reduced Nearest Neighbor Rule\".  IEEE Transactions\\n     on Information Theory, May 1972, 431-433.\\n   - See also: 1988 MLC Proceedings, 54-64.  Cheeseman et al\"s AUTOCLASS II\\n     conceptual clustering system finds 3 classes in the data.\\n   - Many, many more ...',\n",
       " 'feature_names': ['sepal length (cm)',\n",
       "  'sepal width (cm)',\n",
       "  'petal length (cm)',\n",
       "  'petal width (cm)'],\n",
       " 'filename': 'iris.csv',\n",
       " 'data_module': 'sklearn.datasets.data'}"
      ]
     },
     "execution_count": 8,
     "metadata": {},
     "output_type": "execute_result"
    }
   ],
   "source": [
    "from sklearn import datasets    \n",
    "\n",
    "iris = datasets.load_iris()\n",
    "iris\n",
    "\n",
    "\n",
    "#ben veri setini görmek istedim hatta pd.DataFrame(iris)\n",
    "#yapip tablo seklinde görmek istedim ama hata aldim, sütun basina veriler bir boyutlu olmali dedi"
   ]
  },
  {
   "cell_type": "code",
   "execution_count": 9,
   "id": "3c756ccb",
   "metadata": {},
   "outputs": [],
   "source": [
    "X ,y = load_iris(return_X_y=True)\n",
    "#bununla Xler input(Features) oldu,ve y ler target(output) oldu\n",
    "#zaten kendisi return_X_y diyerekX(input)ve y(target) diye döndürecegim diyor\n",
    "\n",
    "#simdi iris veri setindeki girdi ve cikti degiskeneleri olusturalim\n",
    "#X ve y degiskenlerini yazdiktan sonra load_iris fonksiyonunu yaziyorum\n",
    "#X ve y girdi ve cikti degiskenlerini döndürmek icin ,return_X_y=True True olarak ayarliyorum\n",
    "#bu sekilde verideki girdi ve cikti degiskenlerini olusturdum\n"
   ]
  },
  {
   "cell_type": "code",
   "execution_count": 33,
   "id": "d96ba822",
   "metadata": {},
   "outputs": [],
   "source": [
    "from sklearn.model_selection import train_test_split\n",
    "\n",
    "X_train, X_test, y_train, y_test = train_test_split(X, y, random_state=0)\n",
    "\n",
    "\n",
    "#makine ögrenmesi analizleri icin veri seti train ve test diye ikiye ayrilir\n",
    "#bu default olarak veri setini %75 test %25 test olarak ayirir\n",
    "#simdi veri setimizi ikiye ayiralim\n",
    "#random_state hocayla ayni degerleri bulmak icin\n",
    "#bu islemi yukarida veri bölme altinda yaptik ama pipeline islerken yiine lazim oldugu icin bir daha yapiyorum\n"
   ]
  },
  {
   "cell_type": "code",
   "execution_count": 11,
   "id": "913f8d34",
   "metadata": {},
   "outputs": [
    {
     "data": {
      "text/html": [
       "<style>#sk-container-id-1 {color: black;background-color: white;}#sk-container-id-1 pre{padding: 0;}#sk-container-id-1 div.sk-toggleable {background-color: white;}#sk-container-id-1 label.sk-toggleable__label {cursor: pointer;display: block;width: 100%;margin-bottom: 0;padding: 0.3em;box-sizing: border-box;text-align: center;}#sk-container-id-1 label.sk-toggleable__label-arrow:before {content: \"▸\";float: left;margin-right: 0.25em;color: #696969;}#sk-container-id-1 label.sk-toggleable__label-arrow:hover:before {color: black;}#sk-container-id-1 div.sk-estimator:hover label.sk-toggleable__label-arrow:before {color: black;}#sk-container-id-1 div.sk-toggleable__content {max-height: 0;max-width: 0;overflow: hidden;text-align: left;background-color: #f0f8ff;}#sk-container-id-1 div.sk-toggleable__content pre {margin: 0.2em;color: black;border-radius: 0.25em;background-color: #f0f8ff;}#sk-container-id-1 input.sk-toggleable__control:checked~div.sk-toggleable__content {max-height: 200px;max-width: 100%;overflow: auto;}#sk-container-id-1 input.sk-toggleable__control:checked~label.sk-toggleable__label-arrow:before {content: \"▾\";}#sk-container-id-1 div.sk-estimator input.sk-toggleable__control:checked~label.sk-toggleable__label {background-color: #d4ebff;}#sk-container-id-1 div.sk-label input.sk-toggleable__control:checked~label.sk-toggleable__label {background-color: #d4ebff;}#sk-container-id-1 input.sk-hidden--visually {border: 0;clip: rect(1px 1px 1px 1px);clip: rect(1px, 1px, 1px, 1px);height: 1px;margin: -1px;overflow: hidden;padding: 0;position: absolute;width: 1px;}#sk-container-id-1 div.sk-estimator {font-family: monospace;background-color: #f0f8ff;border: 1px dotted black;border-radius: 0.25em;box-sizing: border-box;margin-bottom: 0.5em;}#sk-container-id-1 div.sk-estimator:hover {background-color: #d4ebff;}#sk-container-id-1 div.sk-parallel-item::after {content: \"\";width: 100%;border-bottom: 1px solid gray;flex-grow: 1;}#sk-container-id-1 div.sk-label:hover label.sk-toggleable__label {background-color: #d4ebff;}#sk-container-id-1 div.sk-serial::before {content: \"\";position: absolute;border-left: 1px solid gray;box-sizing: border-box;top: 0;bottom: 0;left: 50%;z-index: 0;}#sk-container-id-1 div.sk-serial {display: flex;flex-direction: column;align-items: center;background-color: white;padding-right: 0.2em;padding-left: 0.2em;position: relative;}#sk-container-id-1 div.sk-item {position: relative;z-index: 1;}#sk-container-id-1 div.sk-parallel {display: flex;align-items: stretch;justify-content: center;background-color: white;position: relative;}#sk-container-id-1 div.sk-item::before, #sk-container-id-1 div.sk-parallel-item::before {content: \"\";position: absolute;border-left: 1px solid gray;box-sizing: border-box;top: 0;bottom: 0;left: 50%;z-index: -1;}#sk-container-id-1 div.sk-parallel-item {display: flex;flex-direction: column;z-index: 1;position: relative;background-color: white;}#sk-container-id-1 div.sk-parallel-item:first-child::after {align-self: flex-end;width: 50%;}#sk-container-id-1 div.sk-parallel-item:last-child::after {align-self: flex-start;width: 50%;}#sk-container-id-1 div.sk-parallel-item:only-child::after {width: 0;}#sk-container-id-1 div.sk-dashed-wrapped {border: 1px dashed gray;margin: 0 0.4em 0.5em 0.4em;box-sizing: border-box;padding-bottom: 0.4em;background-color: white;}#sk-container-id-1 div.sk-label label {font-family: monospace;font-weight: bold;display: inline-block;line-height: 1.2em;}#sk-container-id-1 div.sk-label-container {text-align: center;}#sk-container-id-1 div.sk-container {/* jupyter's `normalize.less` sets `[hidden] { display: none; }` but bootstrap.min.css set `[hidden] { display: none !important; }` so we also need the `!important` here to be able to override the default hidden behavior on the sphinx rendered scikit-learn.org. See: https://github.com/scikit-learn/scikit-learn/issues/21755 */display: inline-block !important;position: relative;}#sk-container-id-1 div.sk-text-repr-fallback {display: none;}</style><div id=\"sk-container-id-1\" class=\"sk-top-container\"><div class=\"sk-text-repr-fallback\"><pre>Pipeline(steps=[(&#x27;standardscaler&#x27;, StandardScaler()),\n",
       "                (&#x27;logisticregression&#x27;, LogisticRegression())])</pre><b>In a Jupyter environment, please rerun this cell to show the HTML representation or trust the notebook. <br />On GitHub, the HTML representation is unable to render, please try loading this page with nbviewer.org.</b></div><div class=\"sk-container\" hidden><div class=\"sk-item sk-dashed-wrapped\"><div class=\"sk-label-container\"><div class=\"sk-label sk-toggleable\"><input class=\"sk-toggleable__control sk-hidden--visually\" id=\"sk-estimator-id-1\" type=\"checkbox\" ><label for=\"sk-estimator-id-1\" class=\"sk-toggleable__label sk-toggleable__label-arrow\">Pipeline</label><div class=\"sk-toggleable__content\"><pre>Pipeline(steps=[(&#x27;standardscaler&#x27;, StandardScaler()),\n",
       "                (&#x27;logisticregression&#x27;, LogisticRegression())])</pre></div></div></div><div class=\"sk-serial\"><div class=\"sk-item\"><div class=\"sk-estimator sk-toggleable\"><input class=\"sk-toggleable__control sk-hidden--visually\" id=\"sk-estimator-id-2\" type=\"checkbox\" ><label for=\"sk-estimator-id-2\" class=\"sk-toggleable__label sk-toggleable__label-arrow\">StandardScaler</label><div class=\"sk-toggleable__content\"><pre>StandardScaler()</pre></div></div></div><div class=\"sk-item\"><div class=\"sk-estimator sk-toggleable\"><input class=\"sk-toggleable__control sk-hidden--visually\" id=\"sk-estimator-id-3\" type=\"checkbox\" ><label for=\"sk-estimator-id-3\" class=\"sk-toggleable__label sk-toggleable__label-arrow\">LogisticRegression</label><div class=\"sk-toggleable__content\"><pre>LogisticRegression()</pre></div></div></div></div></div></div></div>"
      ],
      "text/plain": [
       "Pipeline(steps=[('standardscaler', StandardScaler()),\n",
       "                ('logisticregression', LogisticRegression())])"
      ]
     },
     "execution_count": 11,
     "metadata": {},
     "output_type": "execute_result"
    }
   ],
   "source": [
    "pipe.fit(X_train, y_train)\n",
    "#bu asamada olsturdugum pipeline ile iris veri seti arasindaki baglantiyi kuruyorum.\n",
    "\n",
    "#simdi fit methode ile modeli kuralim\n",
    "#bunun icin olusturdugum pipeline kullanacagim\n",
    "#bu modeli kurmak icin yukarida olusturdugum pipeline ni kullaniyorum\n",
    "#pipe diye olusturdugum degiskenimi yaziyorum ve bu metodun icine egitim verilerini yaziyorum\n",
    "\n",
    "#bu komutu calistirdigimda islem adimlari ekrana yaziliyor\n",
    "\n",
    "#alltaki ciktidan sunu anlayabiliriz\n",
    "#veriler önce Standartsclaer ile ölceklendirildi\n",
    "#daha sonra logistic regression modeli kuruldu"
   ]
  },
  {
   "cell_type": "code",
   "execution_count": 12,
   "id": "39bdb0b1",
   "metadata": {},
   "outputs": [],
   "source": [
    "#simdi test veri seti kullanarak modeli test edelim\n",
    "#modelin performansini ölcmek icin cesitli metrikler kullanabiliriz,\n",
    "#biz burada  accuracy score metrigini kullanmak istiyorum"
   ]
  },
  {
   "cell_type": "code",
   "execution_count": 14,
   "id": "a5600100",
   "metadata": {},
   "outputs": [],
   "source": [
    "from sklearn.metrics import accuracy_score\n",
    "\n",
    "#accuracy(akkoriisii) score fonksiyonunu import edelim"
   ]
  },
  {
   "cell_type": "code",
   "execution_count": 15,
   "id": "f94c6cc3",
   "metadata": {},
   "outputs": [
    {
     "data": {
      "text/plain": [
       "0.9736842105263158"
      ]
     },
     "execution_count": 15,
     "metadata": {},
     "output_type": "execute_result"
    }
   ],
   "source": [
    "accuracy_score(pipe.predict(X_test), y_test)\n",
    "\n",
    "#accuracy ölcüm yapar, ben icine pipe.predict yazarak test verilerinin tahminlerini ölcmek istiyorum\n",
    "#(X_test) bunu yazarak test verilerini kurdugumuz modele göre ölcmek istiyorum\n",
    "#daha sonra gercek degerlerle(y_test) \n",
    "\n",
    "#pipe.predict(X_test) icine sadece X_test yazdik, yani X_test verilerini tahmin ediyor\n",
    "#ve yanina y_test yazarak ikisi arasindaki tahmin basarisini ölcüyor\n",
    "#bu cikti modelimizi dogruluk scoru,%97 oraninda tahmin yapiyor"
   ]
  },
  {
   "cell_type": "code",
   "execution_count": null,
   "id": "7816a397",
   "metadata": {},
   "outputs": [],
   "source": []
  },
  {
   "cell_type": "markdown",
   "id": "39c3c122",
   "metadata": {},
   "source": [
    "## Model Evaluation "
   ]
  },
  {
   "cell_type": "code",
   "execution_count": 1,
   "id": "855053fb",
   "metadata": {},
   "outputs": [],
   "source": [
    "#kullandigimiz modeli degerlendirmek icin test seti kullandik\n",
    "#zaten test seti olusturmak icin train_test_split_ fonksiyonunu kullanmistik\n",
    "#model degerlendirmek icin sklearnin bir cok araci vardir\n",
    "#biz burada sklearnin cross_validate(capraz dogrulama) fonksiyonunu kullanacagiz"
   ]
  },
  {
   "cell_type": "code",
   "execution_count": 2,
   "id": "052959b7",
   "metadata": {},
   "outputs": [],
   "source": [
    "#biz egitim ve test diye verimizi ayirirken, örnegin %75 train %25 test diye ayiriyoruz, \n",
    "#peki neden o yüzde %25 olanlar train'e giremiyorlar, onlarn sucu ne ?\n",
    "#iste burada cross_validation bu adaletsizlgi ortadan kaldiriyor "
   ]
  },
  {
   "cell_type": "code",
   "execution_count": 13,
   "id": "67da64f0",
   "metadata": {},
   "outputs": [],
   "source": [
    "from sklearn.datasets  import make_regression\n",
    "\n",
    "#sklearn icindeki make_regression ile istidegim gibi oyuncak veriler olusturabilirim\n",
    "\n",
    "#sklearnin dataset modülünden make regression fonksiyonunu import ediyorum\n",
    "#simdi bu fonksiyonu kullanarak girdi ve cikti degiskenlerini olusturalim\n",
    "\n",
    "X, y = make_regression(n_samples=1000, random_state=0)\n",
    "\n",
    "#X ve y degiskenlerimi yazip, make_regression fonksiyonuu yaziyorum\n",
    "#örneklem sayisi olarak 1000 yaziyorum\n",
    "#bu sekilde girdi ve cikti degiskenlerini olusturduk\n",
    "#burda y yani sonuc degiskenimiz sayisal tipte\n",
    "#sonuc sayisal tipte oldugu icin Linear Regression modeli kurabiliriz\n",
    "\n",
    "\n",
    "\n",
    "import pandas as pd"
   ]
  },
  {
   "cell_type": "code",
   "execution_count": 15,
   "id": "497379a3",
   "metadata": {},
   "outputs": [
    {
     "data": {
      "text/html": [
       "<div>\n",
       "<style scoped>\n",
       "    .dataframe tbody tr th:only-of-type {\n",
       "        vertical-align: middle;\n",
       "    }\n",
       "\n",
       "    .dataframe tbody tr th {\n",
       "        vertical-align: top;\n",
       "    }\n",
       "\n",
       "    .dataframe thead th {\n",
       "        text-align: right;\n",
       "    }\n",
       "</style>\n",
       "<table border=\"1\" class=\"dataframe\">\n",
       "  <thead>\n",
       "    <tr style=\"text-align: right;\">\n",
       "      <th></th>\n",
       "      <th>0</th>\n",
       "      <th>1</th>\n",
       "      <th>2</th>\n",
       "      <th>3</th>\n",
       "      <th>4</th>\n",
       "      <th>5</th>\n",
       "      <th>6</th>\n",
       "      <th>7</th>\n",
       "      <th>8</th>\n",
       "      <th>9</th>\n",
       "      <th>...</th>\n",
       "      <th>90</th>\n",
       "      <th>91</th>\n",
       "      <th>92</th>\n",
       "      <th>93</th>\n",
       "      <th>94</th>\n",
       "      <th>95</th>\n",
       "      <th>96</th>\n",
       "      <th>97</th>\n",
       "      <th>98</th>\n",
       "      <th>99</th>\n",
       "    </tr>\n",
       "  </thead>\n",
       "  <tbody>\n",
       "    <tr>\n",
       "      <th>0</th>\n",
       "      <td>0.419297</td>\n",
       "      <td>-1.548930</td>\n",
       "      <td>0.652187</td>\n",
       "      <td>-0.494083</td>\n",
       "      <td>-0.201393</td>\n",
       "      <td>-0.839818</td>\n",
       "      <td>1.724759</td>\n",
       "      <td>1.042198</td>\n",
       "      <td>-0.516023</td>\n",
       "      <td>0.390785</td>\n",
       "      <td>...</td>\n",
       "      <td>-0.184231</td>\n",
       "      <td>0.167096</td>\n",
       "      <td>0.893098</td>\n",
       "      <td>0.288486</td>\n",
       "      <td>0.225738</td>\n",
       "      <td>-1.407032</td>\n",
       "      <td>0.478204</td>\n",
       "      <td>-0.813684</td>\n",
       "      <td>-2.038843</td>\n",
       "      <td>0.900003</td>\n",
       "    </tr>\n",
       "    <tr>\n",
       "      <th>1</th>\n",
       "      <td>-2.069472</td>\n",
       "      <td>0.727128</td>\n",
       "      <td>0.097597</td>\n",
       "      <td>-0.891146</td>\n",
       "      <td>-0.482779</td>\n",
       "      <td>0.233355</td>\n",
       "      <td>-1.886981</td>\n",
       "      <td>0.803849</td>\n",
       "      <td>0.077035</td>\n",
       "      <td>-0.952394</td>\n",
       "      <td>...</td>\n",
       "      <td>-0.338259</td>\n",
       "      <td>-1.209114</td>\n",
       "      <td>2.710790</td>\n",
       "      <td>-0.123498</td>\n",
       "      <td>-1.556324</td>\n",
       "      <td>1.229999</td>\n",
       "      <td>-0.875929</td>\n",
       "      <td>-0.359781</td>\n",
       "      <td>-0.745139</td>\n",
       "      <td>-0.550506</td>\n",
       "    </tr>\n",
       "    <tr>\n",
       "      <th>2</th>\n",
       "      <td>-0.375960</td>\n",
       "      <td>0.664144</td>\n",
       "      <td>1.022392</td>\n",
       "      <td>1.303181</td>\n",
       "      <td>-1.098289</td>\n",
       "      <td>-1.083427</td>\n",
       "      <td>0.122531</td>\n",
       "      <td>1.094167</td>\n",
       "      <td>-0.711286</td>\n",
       "      <td>-1.426938</td>\n",
       "      <td>...</td>\n",
       "      <td>-0.932570</td>\n",
       "      <td>-0.281575</td>\n",
       "      <td>-1.431798</td>\n",
       "      <td>-0.965954</td>\n",
       "      <td>-0.147637</td>\n",
       "      <td>2.285601</td>\n",
       "      <td>1.710837</td>\n",
       "      <td>0.504815</td>\n",
       "      <td>-2.832012</td>\n",
       "      <td>-0.799786</td>\n",
       "    </tr>\n",
       "    <tr>\n",
       "      <th>3</th>\n",
       "      <td>0.317490</td>\n",
       "      <td>0.464113</td>\n",
       "      <td>-0.334165</td>\n",
       "      <td>-0.918614</td>\n",
       "      <td>-1.025451</td>\n",
       "      <td>0.237365</td>\n",
       "      <td>-0.188368</td>\n",
       "      <td>1.123532</td>\n",
       "      <td>0.483046</td>\n",
       "      <td>0.027773</td>\n",
       "      <td>...</td>\n",
       "      <td>0.391121</td>\n",
       "      <td>-0.858193</td>\n",
       "      <td>0.415863</td>\n",
       "      <td>1.083776</td>\n",
       "      <td>0.196285</td>\n",
       "      <td>-0.099130</td>\n",
       "      <td>-0.819252</td>\n",
       "      <td>0.245648</td>\n",
       "      <td>0.408164</td>\n",
       "      <td>0.387600</td>\n",
       "    </tr>\n",
       "    <tr>\n",
       "      <th>4</th>\n",
       "      <td>0.509688</td>\n",
       "      <td>-1.270666</td>\n",
       "      <td>0.799706</td>\n",
       "      <td>0.149877</td>\n",
       "      <td>-1.752411</td>\n",
       "      <td>0.914337</td>\n",
       "      <td>1.017711</td>\n",
       "      <td>0.659393</td>\n",
       "      <td>-0.100313</td>\n",
       "      <td>1.043305</td>\n",
       "      <td>...</td>\n",
       "      <td>1.251918</td>\n",
       "      <td>-0.994213</td>\n",
       "      <td>1.383385</td>\n",
       "      <td>-0.987929</td>\n",
       "      <td>-1.489558</td>\n",
       "      <td>0.521859</td>\n",
       "      <td>1.950441</td>\n",
       "      <td>0.081874</td>\n",
       "      <td>-0.711578</td>\n",
       "      <td>0.489642</td>\n",
       "    </tr>\n",
       "    <tr>\n",
       "      <th>...</th>\n",
       "      <td>...</td>\n",
       "      <td>...</td>\n",
       "      <td>...</td>\n",
       "      <td>...</td>\n",
       "      <td>...</td>\n",
       "      <td>...</td>\n",
       "      <td>...</td>\n",
       "      <td>...</td>\n",
       "      <td>...</td>\n",
       "      <td>...</td>\n",
       "      <td>...</td>\n",
       "      <td>...</td>\n",
       "      <td>...</td>\n",
       "      <td>...</td>\n",
       "      <td>...</td>\n",
       "      <td>...</td>\n",
       "      <td>...</td>\n",
       "      <td>...</td>\n",
       "      <td>...</td>\n",
       "      <td>...</td>\n",
       "      <td>...</td>\n",
       "    </tr>\n",
       "    <tr>\n",
       "      <th>995</th>\n",
       "      <td>0.891819</td>\n",
       "      <td>0.435541</td>\n",
       "      <td>-0.810227</td>\n",
       "      <td>0.670611</td>\n",
       "      <td>-1.623346</td>\n",
       "      <td>-1.338903</td>\n",
       "      <td>0.255528</td>\n",
       "      <td>-0.605118</td>\n",
       "      <td>0.805729</td>\n",
       "      <td>-0.139326</td>\n",
       "      <td>...</td>\n",
       "      <td>-0.101640</td>\n",
       "      <td>0.072698</td>\n",
       "      <td>0.483091</td>\n",
       "      <td>0.347399</td>\n",
       "      <td>0.702212</td>\n",
       "      <td>-0.565856</td>\n",
       "      <td>-0.997224</td>\n",
       "      <td>2.579235</td>\n",
       "      <td>1.029243</td>\n",
       "      <td>-0.207327</td>\n",
       "    </tr>\n",
       "    <tr>\n",
       "      <th>996</th>\n",
       "      <td>-2.789053</td>\n",
       "      <td>-0.557806</td>\n",
       "      <td>1.531156</td>\n",
       "      <td>0.039429</td>\n",
       "      <td>0.746314</td>\n",
       "      <td>0.604961</td>\n",
       "      <td>0.057811</td>\n",
       "      <td>0.585777</td>\n",
       "      <td>-0.814779</td>\n",
       "      <td>-0.555979</td>\n",
       "      <td>...</td>\n",
       "      <td>-0.472787</td>\n",
       "      <td>0.184586</td>\n",
       "      <td>2.457113</td>\n",
       "      <td>-0.913528</td>\n",
       "      <td>0.561651</td>\n",
       "      <td>0.244965</td>\n",
       "      <td>0.286306</td>\n",
       "      <td>1.235200</td>\n",
       "      <td>-0.167529</td>\n",
       "      <td>-0.923800</td>\n",
       "    </tr>\n",
       "    <tr>\n",
       "      <th>997</th>\n",
       "      <td>-0.771920</td>\n",
       "      <td>-1.336676</td>\n",
       "      <td>-0.727338</td>\n",
       "      <td>0.526064</td>\n",
       "      <td>0.238853</td>\n",
       "      <td>-0.362950</td>\n",
       "      <td>0.210848</td>\n",
       "      <td>-0.993085</td>\n",
       "      <td>2.014365</td>\n",
       "      <td>0.157832</td>\n",
       "      <td>...</td>\n",
       "      <td>0.912699</td>\n",
       "      <td>-1.127435</td>\n",
       "      <td>0.188963</td>\n",
       "      <td>-0.746948</td>\n",
       "      <td>0.835274</td>\n",
       "      <td>0.687572</td>\n",
       "      <td>-0.471065</td>\n",
       "      <td>-0.598303</td>\n",
       "      <td>-0.609862</td>\n",
       "      <td>1.692430</td>\n",
       "    </tr>\n",
       "    <tr>\n",
       "      <th>998</th>\n",
       "      <td>0.671984</td>\n",
       "      <td>-1.507334</td>\n",
       "      <td>1.176222</td>\n",
       "      <td>0.168564</td>\n",
       "      <td>-0.287386</td>\n",
       "      <td>-0.324610</td>\n",
       "      <td>1.537601</td>\n",
       "      <td>0.567301</td>\n",
       "      <td>-0.419512</td>\n",
       "      <td>-0.419253</td>\n",
       "      <td>...</td>\n",
       "      <td>0.367350</td>\n",
       "      <td>-0.106061</td>\n",
       "      <td>-0.224038</td>\n",
       "      <td>-1.761234</td>\n",
       "      <td>0.158606</td>\n",
       "      <td>-1.457594</td>\n",
       "      <td>1.766742</td>\n",
       "      <td>2.059215</td>\n",
       "      <td>-1.111404</td>\n",
       "      <td>0.017875</td>\n",
       "    </tr>\n",
       "    <tr>\n",
       "      <th>999</th>\n",
       "      <td>1.103343</td>\n",
       "      <td>-0.595319</td>\n",
       "      <td>-0.298318</td>\n",
       "      <td>-0.450707</td>\n",
       "      <td>-0.956773</td>\n",
       "      <td>1.344417</td>\n",
       "      <td>-0.088448</td>\n",
       "      <td>-0.582038</td>\n",
       "      <td>-0.063962</td>\n",
       "      <td>-1.317637</td>\n",
       "      <td>...</td>\n",
       "      <td>0.045685</td>\n",
       "      <td>0.377932</td>\n",
       "      <td>0.076354</td>\n",
       "      <td>0.650736</td>\n",
       "      <td>0.686663</td>\n",
       "      <td>-0.310990</td>\n",
       "      <td>1.253474</td>\n",
       "      <td>-0.897065</td>\n",
       "      <td>-0.115467</td>\n",
       "      <td>-1.299286</td>\n",
       "    </tr>\n",
       "  </tbody>\n",
       "</table>\n",
       "<p>1000 rows × 100 columns</p>\n",
       "</div>"
      ],
      "text/plain": [
       "           0         1         2         3         4         5         6   \\\n",
       "0    0.419297 -1.548930  0.652187 -0.494083 -0.201393 -0.839818  1.724759   \n",
       "1   -2.069472  0.727128  0.097597 -0.891146 -0.482779  0.233355 -1.886981   \n",
       "2   -0.375960  0.664144  1.022392  1.303181 -1.098289 -1.083427  0.122531   \n",
       "3    0.317490  0.464113 -0.334165 -0.918614 -1.025451  0.237365 -0.188368   \n",
       "4    0.509688 -1.270666  0.799706  0.149877 -1.752411  0.914337  1.017711   \n",
       "..        ...       ...       ...       ...       ...       ...       ...   \n",
       "995  0.891819  0.435541 -0.810227  0.670611 -1.623346 -1.338903  0.255528   \n",
       "996 -2.789053 -0.557806  1.531156  0.039429  0.746314  0.604961  0.057811   \n",
       "997 -0.771920 -1.336676 -0.727338  0.526064  0.238853 -0.362950  0.210848   \n",
       "998  0.671984 -1.507334  1.176222  0.168564 -0.287386 -0.324610  1.537601   \n",
       "999  1.103343 -0.595319 -0.298318 -0.450707 -0.956773  1.344417 -0.088448   \n",
       "\n",
       "           7         8         9   ...        90        91        92  \\\n",
       "0    1.042198 -0.516023  0.390785  ... -0.184231  0.167096  0.893098   \n",
       "1    0.803849  0.077035 -0.952394  ... -0.338259 -1.209114  2.710790   \n",
       "2    1.094167 -0.711286 -1.426938  ... -0.932570 -0.281575 -1.431798   \n",
       "3    1.123532  0.483046  0.027773  ...  0.391121 -0.858193  0.415863   \n",
       "4    0.659393 -0.100313  1.043305  ...  1.251918 -0.994213  1.383385   \n",
       "..        ...       ...       ...  ...       ...       ...       ...   \n",
       "995 -0.605118  0.805729 -0.139326  ... -0.101640  0.072698  0.483091   \n",
       "996  0.585777 -0.814779 -0.555979  ... -0.472787  0.184586  2.457113   \n",
       "997 -0.993085  2.014365  0.157832  ...  0.912699 -1.127435  0.188963   \n",
       "998  0.567301 -0.419512 -0.419253  ...  0.367350 -0.106061 -0.224038   \n",
       "999 -0.582038 -0.063962 -1.317637  ...  0.045685  0.377932  0.076354   \n",
       "\n",
       "           93        94        95        96        97        98        99  \n",
       "0    0.288486  0.225738 -1.407032  0.478204 -0.813684 -2.038843  0.900003  \n",
       "1   -0.123498 -1.556324  1.229999 -0.875929 -0.359781 -0.745139 -0.550506  \n",
       "2   -0.965954 -0.147637  2.285601  1.710837  0.504815 -2.832012 -0.799786  \n",
       "3    1.083776  0.196285 -0.099130 -0.819252  0.245648  0.408164  0.387600  \n",
       "4   -0.987929 -1.489558  0.521859  1.950441  0.081874 -0.711578  0.489642  \n",
       "..        ...       ...       ...       ...       ...       ...       ...  \n",
       "995  0.347399  0.702212 -0.565856 -0.997224  2.579235  1.029243 -0.207327  \n",
       "996 -0.913528  0.561651  0.244965  0.286306  1.235200 -0.167529 -0.923800  \n",
       "997 -0.746948  0.835274  0.687572 -0.471065 -0.598303 -0.609862  1.692430  \n",
       "998 -1.761234  0.158606 -1.457594  1.766742  2.059215 -1.111404  0.017875  \n",
       "999  0.650736  0.686663 -0.310990  1.253474 -0.897065 -0.115467 -1.299286  \n",
       "\n",
       "[1000 rows x 100 columns]"
      ]
     },
     "execution_count": 15,
     "metadata": {},
     "output_type": "execute_result"
    }
   ],
   "source": [
    "X_DataFrame_hali = pd.DataFrame(X)\n",
    "X_DataFrame_hali\n",
    "\n",
    "\n",
    "##waaaw ben burda yukaridaki n_sample nin nasil bir veri verdigine bakmak istedim,\n",
    "#cok büyük bir veri seti veriyormus meger,99 sütunlu ve 100 satirli bisey"
   ]
  },
  {
   "cell_type": "code",
   "execution_count": 16,
   "id": "323cb8f6",
   "metadata": {},
   "outputs": [
    {
     "data": {
      "text/html": [
       "<div>\n",
       "<style scoped>\n",
       "    .dataframe tbody tr th:only-of-type {\n",
       "        vertical-align: middle;\n",
       "    }\n",
       "\n",
       "    .dataframe tbody tr th {\n",
       "        vertical-align: top;\n",
       "    }\n",
       "\n",
       "    .dataframe thead th {\n",
       "        text-align: right;\n",
       "    }\n",
       "</style>\n",
       "<table border=\"1\" class=\"dataframe\">\n",
       "  <thead>\n",
       "    <tr style=\"text-align: right;\">\n",
       "      <th></th>\n",
       "      <th>0</th>\n",
       "    </tr>\n",
       "  </thead>\n",
       "  <tbody>\n",
       "    <tr>\n",
       "      <th>0</th>\n",
       "      <td>-204.057963</td>\n",
       "    </tr>\n",
       "    <tr>\n",
       "      <th>1</th>\n",
       "      <td>-376.325761</td>\n",
       "    </tr>\n",
       "    <tr>\n",
       "      <th>2</th>\n",
       "      <td>23.730193</td>\n",
       "    </tr>\n",
       "    <tr>\n",
       "      <th>3</th>\n",
       "      <td>112.558992</td>\n",
       "    </tr>\n",
       "    <tr>\n",
       "      <th>4</th>\n",
       "      <td>69.487381</td>\n",
       "    </tr>\n",
       "    <tr>\n",
       "      <th>...</th>\n",
       "      <td>...</td>\n",
       "    </tr>\n",
       "    <tr>\n",
       "      <th>995</th>\n",
       "      <td>-60.400713</td>\n",
       "    </tr>\n",
       "    <tr>\n",
       "      <th>996</th>\n",
       "      <td>292.442159</td>\n",
       "    </tr>\n",
       "    <tr>\n",
       "      <th>997</th>\n",
       "      <td>-275.195873</td>\n",
       "    </tr>\n",
       "    <tr>\n",
       "      <th>998</th>\n",
       "      <td>-48.093344</td>\n",
       "    </tr>\n",
       "    <tr>\n",
       "      <th>999</th>\n",
       "      <td>337.762690</td>\n",
       "    </tr>\n",
       "  </tbody>\n",
       "</table>\n",
       "<p>1000 rows × 1 columns</p>\n",
       "</div>"
      ],
      "text/plain": [
       "              0\n",
       "0   -204.057963\n",
       "1   -376.325761\n",
       "2     23.730193\n",
       "3    112.558992\n",
       "4     69.487381\n",
       "..          ...\n",
       "995  -60.400713\n",
       "996  292.442159\n",
       "997 -275.195873\n",
       "998  -48.093344\n",
       "999  337.762690\n",
       "\n",
       "[1000 rows x 1 columns]"
      ]
     },
     "execution_count": 16,
     "metadata": {},
     "output_type": "execute_result"
    }
   ],
   "source": [
    "y_DataFrame_hali = pd.DataFrame(y)\n",
    "y_DataFrame_hali\n",
    "\n",
    "\n",
    "#y yi de yine bir sütunlu ve 100 satirli verdi, demekkki x in 99 olmasi sebebi, bununla toplam 100 oluyor"
   ]
  },
  {
   "cell_type": "code",
   "execution_count": null,
   "id": "99b38ee1",
   "metadata": {},
   "outputs": [],
   "source": []
  },
  {
   "cell_type": "code",
   "execution_count": 17,
   "id": "2b443054",
   "metadata": {},
   "outputs": [],
   "source": [
    "from sklearn.linear_model import LinearRegression\n",
    "\n",
    "#öncelikle Linear Regression modelini import edelim\n",
    "#ve Linear Regression sinifini import edelim"
   ]
  },
  {
   "cell_type": "code",
   "execution_count": 18,
   "id": "2471d3cb",
   "metadata": {},
   "outputs": [],
   "source": [
    "lr = LinearRegression()\n",
    "\n",
    "#simdide bu Linear Regression sinifindan bir  model alalim."
   ]
  },
  {
   "cell_type": "code",
   "execution_count": 19,
   "id": "c44fd794",
   "metadata": {},
   "outputs": [],
   "source": [
    "#normalde bu modele lr.fit(X_train, y_train) ile veri setini fit ediyorduk"
   ]
  },
  {
   "cell_type": "code",
   "execution_count": 20,
   "id": "fa10abbc",
   "metadata": {},
   "outputs": [],
   "source": [
    "#ama simdi burda croos_validation teknigi ile yapacagiz\n",
    "#ama önce bu cross_validate fonksiyonunu  import edelim\n",
    "\n",
    "\n",
    "from sklearn.model_selection import cross_validate\n",
    "\n",
    "#simdi bu fonksiyonumuzu kullanarak modelimizi kuralim"
   ]
  },
  {
   "cell_type": "code",
   "execution_count": 21,
   "id": "34801c17",
   "metadata": {},
   "outputs": [],
   "source": [
    "result = cross_validate(lr, X, y)\n",
    "\n",
    "#öncelikle result adli bir degiskene aliyorum\n",
    "#cross_validate fonksiyonunu cagiriyorum\n",
    "#bu fonksiyon icine öncelikle madelimizin adini yaziyorum\n",
    "#daha sonra Girdi ve sonuc degiskelerini yaziyorum,bunlar yukarida olusturulmustu(n_sample yazan yerde)\n",
    "\n",
    "#cross_validate fonksiyonu veri setini bes parcaya ayirir ve bu parcalara göre islem yapar"
   ]
  },
  {
   "cell_type": "code",
   "execution_count": 22,
   "id": "0f83e0c2",
   "metadata": {},
   "outputs": [
    {
     "data": {
      "text/plain": [
       "array([1., 1., 1., 1., 1.])"
      ]
     },
     "execution_count": 22,
     "metadata": {},
     "output_type": "execute_result"
    }
   ],
   "source": [
    "result['test_score']\n",
    "\n",
    "\n",
    "#simdi bu parcalarin test scorelarina bakalim\n",
    "#burda ayirdigi bes parcaninda model performansi 1 cikti\n",
    "#kurulan model test verilerini %100 oraninda tahmin etti\n",
    "#veri seti. basit oldugu icin model harika calisiyor"
   ]
  },
  {
   "cell_type": "code",
   "execution_count": 25,
   "id": "90f9b40c",
   "metadata": {},
   "outputs": [
    {
     "data": {
      "text/html": [
       "<div>\n",
       "<style scoped>\n",
       "    .dataframe tbody tr th:only-of-type {\n",
       "        vertical-align: middle;\n",
       "    }\n",
       "\n",
       "    .dataframe tbody tr th {\n",
       "        vertical-align: top;\n",
       "    }\n",
       "\n",
       "    .dataframe thead th {\n",
       "        text-align: right;\n",
       "    }\n",
       "</style>\n",
       "<table border=\"1\" class=\"dataframe\">\n",
       "  <thead>\n",
       "    <tr style=\"text-align: right;\">\n",
       "      <th></th>\n",
       "      <th>fit_time</th>\n",
       "      <th>score_time</th>\n",
       "      <th>test_score</th>\n",
       "    </tr>\n",
       "  </thead>\n",
       "  <tbody>\n",
       "    <tr>\n",
       "      <th>0</th>\n",
       "      <td>0.007779</td>\n",
       "      <td>0.000757</td>\n",
       "      <td>1.0</td>\n",
       "    </tr>\n",
       "    <tr>\n",
       "      <th>1</th>\n",
       "      <td>0.008317</td>\n",
       "      <td>0.000420</td>\n",
       "      <td>1.0</td>\n",
       "    </tr>\n",
       "    <tr>\n",
       "      <th>2</th>\n",
       "      <td>0.006406</td>\n",
       "      <td>0.000891</td>\n",
       "      <td>1.0</td>\n",
       "    </tr>\n",
       "    <tr>\n",
       "      <th>3</th>\n",
       "      <td>0.007300</td>\n",
       "      <td>0.000622</td>\n",
       "      <td>1.0</td>\n",
       "    </tr>\n",
       "    <tr>\n",
       "      <th>4</th>\n",
       "      <td>0.003414</td>\n",
       "      <td>0.000333</td>\n",
       "      <td>1.0</td>\n",
       "    </tr>\n",
       "  </tbody>\n",
       "</table>\n",
       "</div>"
      ],
      "text/plain": [
       "   fit_time  score_time  test_score\n",
       "0  0.007779    0.000757         1.0\n",
       "1  0.008317    0.000420         1.0\n",
       "2  0.006406    0.000891         1.0\n",
       "3  0.007300    0.000622         1.0\n",
       "4  0.003414    0.000333         1.0"
      ]
     },
     "execution_count": 25,
     "metadata": {},
     "output_type": "execute_result"
    }
   ],
   "source": [
    "result_DataFrame_hali = pd.DataFrame(result)\n",
    "result_DataFrame_hali\n",
    "\n",
    "#buda bize veridgi resultlarin ne olduklari\n",
    "#hocanin söyledigi gibi, bes parcaya ayiriyor, ve bu parcalara göre islem yapiyor"
   ]
  },
  {
   "cell_type": "code",
   "execution_count": null,
   "id": "979a2104",
   "metadata": {},
   "outputs": [],
   "source": []
  },
  {
   "cell_type": "code",
   "execution_count": null,
   "id": "a7936b33",
   "metadata": {},
   "outputs": [],
   "source": []
  },
  {
   "cell_type": "markdown",
   "id": "827e7ada",
   "metadata": {},
   "source": [
    "## Automatic Parameter Searches (otomatik parametre secimi)"
   ]
  },
  {
   "cell_type": "code",
   "execution_count": null,
   "id": "4cb60344",
   "metadata": {},
   "outputs": [],
   "source": [
    "#Sklearn deki modellerin bütün parametreleri ile oynayabilirsiniz\n",
    "#modelin ayarlanabilir parametrelerine hiper parametre denir\n",
    "#Hiper parametreler ile, model icin egitilen parametreleri birbirine karistirmayin dedi\n",
    "#iyi bir model kurmak icin Hiper parametre ayari yapmak cok önemlidir\n",
    "\n",
    "#örnegin random forest regression(aile soy agaci gibi bir agac semasi) tahmincisinin \n",
    "#n_estimators diye bir parametresi vardir\n",
    "#bu parametre ormandaki agac sayisini belirler\n",
    "#bu parametre degeri modelin performansini cok fazla etkiler\n",
    "#eger agac sayisini kücük alirsak, iyi bir model elde edemeyiz\n",
    "#eger agac sayisini fazla alirsan, bu seferde komplex bir model kurariz, ve ezberleme problemi cikar\n",
    "#bu parametrenin dengeli bir degerini bulmamiz gerekir"
   ]
  },
  {
   "cell_type": "code",
   "execution_count": null,
   "id": "efcce7b9",
   "metadata": {},
   "outputs": [],
   "source": [
    "#Random Forest Regression icin diger önemli bir parametre max depth tir.\n",
    "#bu her bir agacin derinligidir,o aile soy agacinda olan alt agaclar gibi, internette sekli var\n",
    "#bu degerinde ince ince ayarlanmasi gerekir\n",
    "\n",
    "#sklearnde en iyi paremetre kombinasyonunu bulmak icin, cesitli araclar sunar "
   ]
  },
  {
   "cell_type": "code",
   "execution_count": null,
   "id": "3de42a31",
   "metadata": {},
   "outputs": [],
   "source": [
    "#simdi Random Forest modelinin en iyi kombinasyonunu bulmak icin ramdom ..... teknigini kullanalim\n",
    "#bunu göstermek icin California da cesitli degiskenlere göre  California Hausing veri setine bakalim"
   ]
  },
  {
   "cell_type": "code",
   "execution_count": 41,
   "id": "5a1d6ade",
   "metadata": {},
   "outputs": [],
   "source": [
    "from sklearn.datasets import fetch_california_housing\n",
    "\n",
    "#bu veri setini internetten cekelim, ama önce bu fonsiyonu import edelim"
   ]
  },
  {
   "cell_type": "code",
   "execution_count": 42,
   "id": "0a7c9f5c",
   "metadata": {},
   "outputs": [],
   "source": [
    "X, y = fetch_california_housing(return_X_y=True)\n",
    "\n",
    "#bu fonsiyonu kullanarak girdi ve sonuc degiskenlerini olusturalim\n",
    "#x ve ya degiskenlerini yazdiktan sonra fetch california fonksiyonunu cagiriyorum\n",
    "#girdi ve cikti degiskenlerimi olusturmak icin bunu yapiyorum,asagida dataset in kendisi var "
   ]
  },
  {
   "cell_type": "code",
   "execution_count": 56,
   "id": "9e70b3e2",
   "metadata": {},
   "outputs": [
    {
     "data": {
      "text/html": [
       "<div>\n",
       "<style scoped>\n",
       "    .dataframe tbody tr th:only-of-type {\n",
       "        vertical-align: middle;\n",
       "    }\n",
       "\n",
       "    .dataframe tbody tr th {\n",
       "        vertical-align: top;\n",
       "    }\n",
       "\n",
       "    .dataframe thead th {\n",
       "        text-align: right;\n",
       "    }\n",
       "</style>\n",
       "<table border=\"1\" class=\"dataframe\">\n",
       "  <thead>\n",
       "    <tr style=\"text-align: right;\">\n",
       "      <th></th>\n",
       "      <th>MedInc</th>\n",
       "      <th>HouseAge</th>\n",
       "      <th>AveRooms</th>\n",
       "      <th>AveBedrms</th>\n",
       "      <th>Population</th>\n",
       "      <th>AveOccup</th>\n",
       "      <th>Latitude</th>\n",
       "      <th>Longitude</th>\n",
       "      <th>target</th>\n",
       "    </tr>\n",
       "  </thead>\n",
       "  <tbody>\n",
       "    <tr>\n",
       "      <th>0</th>\n",
       "      <td>8.3252</td>\n",
       "      <td>41.0</td>\n",
       "      <td>6.984127</td>\n",
       "      <td>1.023810</td>\n",
       "      <td>322.0</td>\n",
       "      <td>2.555556</td>\n",
       "      <td>37.88</td>\n",
       "      <td>-122.23</td>\n",
       "      <td>4.526</td>\n",
       "    </tr>\n",
       "    <tr>\n",
       "      <th>1</th>\n",
       "      <td>8.3014</td>\n",
       "      <td>21.0</td>\n",
       "      <td>6.238137</td>\n",
       "      <td>0.971880</td>\n",
       "      <td>2401.0</td>\n",
       "      <td>2.109842</td>\n",
       "      <td>37.86</td>\n",
       "      <td>-122.22</td>\n",
       "      <td>3.585</td>\n",
       "    </tr>\n",
       "    <tr>\n",
       "      <th>2</th>\n",
       "      <td>7.2574</td>\n",
       "      <td>52.0</td>\n",
       "      <td>8.288136</td>\n",
       "      <td>1.073446</td>\n",
       "      <td>496.0</td>\n",
       "      <td>2.802260</td>\n",
       "      <td>37.85</td>\n",
       "      <td>-122.24</td>\n",
       "      <td>3.521</td>\n",
       "    </tr>\n",
       "    <tr>\n",
       "      <th>3</th>\n",
       "      <td>5.6431</td>\n",
       "      <td>52.0</td>\n",
       "      <td>5.817352</td>\n",
       "      <td>1.073059</td>\n",
       "      <td>558.0</td>\n",
       "      <td>2.547945</td>\n",
       "      <td>37.85</td>\n",
       "      <td>-122.25</td>\n",
       "      <td>3.413</td>\n",
       "    </tr>\n",
       "    <tr>\n",
       "      <th>4</th>\n",
       "      <td>3.8462</td>\n",
       "      <td>52.0</td>\n",
       "      <td>6.281853</td>\n",
       "      <td>1.081081</td>\n",
       "      <td>565.0</td>\n",
       "      <td>2.181467</td>\n",
       "      <td>37.85</td>\n",
       "      <td>-122.25</td>\n",
       "      <td>3.422</td>\n",
       "    </tr>\n",
       "  </tbody>\n",
       "</table>\n",
       "</div>"
      ],
      "text/plain": [
       "   MedInc  HouseAge  AveRooms  AveBedrms  Population  AveOccup  Latitude  \\\n",
       "0  8.3252      41.0  6.984127   1.023810       322.0  2.555556     37.88   \n",
       "1  8.3014      21.0  6.238137   0.971880      2401.0  2.109842     37.86   \n",
       "2  7.2574      52.0  8.288136   1.073446       496.0  2.802260     37.85   \n",
       "3  5.6431      52.0  5.817352   1.073059       558.0  2.547945     37.85   \n",
       "4  3.8462      52.0  6.281853   1.081081       565.0  2.181467     37.85   \n",
       "\n",
       "   Longitude  target  \n",
       "0    -122.23   4.526  \n",
       "1    -122.22   3.585  \n",
       "2    -122.24   3.521  \n",
       "3    -122.25   3.413  \n",
       "4    -122.25   3.422  "
      ]
     },
     "execution_count": 56,
     "metadata": {},
     "output_type": "execute_result"
    }
   ],
   "source": [
    "from sklearn.datasets import fetch_california_housing\n",
    "import pandas as pd\n",
    "import numpy as np\n",
    "housing_data = fetch_california_housing()\n",
    "df = pd.DataFrame(np.c_[housing_data.data, housing_data.target], columns=housing_data.feature_names + [\"target\"])\n",
    "df.head()\n",
    "\n",
    "\n",
    "#internetten buldum veri setini görmek icin, asagida kendim DataFrame cevirdim ama sütun isimlerini \n",
    "#göremiyordum"
   ]
  },
  {
   "cell_type": "code",
   "execution_count": null,
   "id": "aadbf1b3",
   "metadata": {},
   "outputs": [],
   "source": []
  },
  {
   "cell_type": "code",
   "execution_count": 57,
   "id": "63854fc0",
   "metadata": {},
   "outputs": [],
   "source": [
    "import pandas as pd"
   ]
  },
  {
   "cell_type": "code",
   "execution_count": 58,
   "id": "afbd2185",
   "metadata": {},
   "outputs": [
    {
     "data": {
      "text/html": [
       "<div>\n",
       "<style scoped>\n",
       "    .dataframe tbody tr th:only-of-type {\n",
       "        vertical-align: middle;\n",
       "    }\n",
       "\n",
       "    .dataframe tbody tr th {\n",
       "        vertical-align: top;\n",
       "    }\n",
       "\n",
       "    .dataframe thead th {\n",
       "        text-align: right;\n",
       "    }\n",
       "</style>\n",
       "<table border=\"1\" class=\"dataframe\">\n",
       "  <thead>\n",
       "    <tr style=\"text-align: right;\">\n",
       "      <th></th>\n",
       "      <th>0</th>\n",
       "      <th>1</th>\n",
       "      <th>2</th>\n",
       "      <th>3</th>\n",
       "      <th>4</th>\n",
       "      <th>5</th>\n",
       "      <th>6</th>\n",
       "      <th>7</th>\n",
       "    </tr>\n",
       "  </thead>\n",
       "  <tbody>\n",
       "    <tr>\n",
       "      <th>0</th>\n",
       "      <td>8.3252</td>\n",
       "      <td>41.0</td>\n",
       "      <td>6.984127</td>\n",
       "      <td>1.023810</td>\n",
       "      <td>322.0</td>\n",
       "      <td>2.555556</td>\n",
       "      <td>37.88</td>\n",
       "      <td>-122.23</td>\n",
       "    </tr>\n",
       "    <tr>\n",
       "      <th>1</th>\n",
       "      <td>8.3014</td>\n",
       "      <td>21.0</td>\n",
       "      <td>6.238137</td>\n",
       "      <td>0.971880</td>\n",
       "      <td>2401.0</td>\n",
       "      <td>2.109842</td>\n",
       "      <td>37.86</td>\n",
       "      <td>-122.22</td>\n",
       "    </tr>\n",
       "    <tr>\n",
       "      <th>2</th>\n",
       "      <td>7.2574</td>\n",
       "      <td>52.0</td>\n",
       "      <td>8.288136</td>\n",
       "      <td>1.073446</td>\n",
       "      <td>496.0</td>\n",
       "      <td>2.802260</td>\n",
       "      <td>37.85</td>\n",
       "      <td>-122.24</td>\n",
       "    </tr>\n",
       "    <tr>\n",
       "      <th>3</th>\n",
       "      <td>5.6431</td>\n",
       "      <td>52.0</td>\n",
       "      <td>5.817352</td>\n",
       "      <td>1.073059</td>\n",
       "      <td>558.0</td>\n",
       "      <td>2.547945</td>\n",
       "      <td>37.85</td>\n",
       "      <td>-122.25</td>\n",
       "    </tr>\n",
       "    <tr>\n",
       "      <th>4</th>\n",
       "      <td>3.8462</td>\n",
       "      <td>52.0</td>\n",
       "      <td>6.281853</td>\n",
       "      <td>1.081081</td>\n",
       "      <td>565.0</td>\n",
       "      <td>2.181467</td>\n",
       "      <td>37.85</td>\n",
       "      <td>-122.25</td>\n",
       "    </tr>\n",
       "  </tbody>\n",
       "</table>\n",
       "</div>"
      ],
      "text/plain": [
       "        0     1         2         3       4         5      6       7\n",
       "0  8.3252  41.0  6.984127  1.023810   322.0  2.555556  37.88 -122.23\n",
       "1  8.3014  21.0  6.238137  0.971880  2401.0  2.109842  37.86 -122.22\n",
       "2  7.2574  52.0  8.288136  1.073446   496.0  2.802260  37.85 -122.24\n",
       "3  5.6431  52.0  5.817352  1.073059   558.0  2.547945  37.85 -122.25\n",
       "4  3.8462  52.0  6.281853  1.081081   565.0  2.181467  37.85 -122.25"
      ]
     },
     "execution_count": 58,
     "metadata": {},
     "output_type": "execute_result"
    }
   ],
   "source": [
    "X_new = pd.DataFrame(X)\n",
    "X_new.head()\n",
    "\n",
    "#bu aslinda hemen yukaridaki tablonun 6 ya kadarki olan kismi"
   ]
  },
  {
   "cell_type": "code",
   "execution_count": 55,
   "id": "89cd49f3",
   "metadata": {},
   "outputs": [
    {
     "data": {
      "text/html": [
       "<div>\n",
       "<style scoped>\n",
       "    .dataframe tbody tr th:only-of-type {\n",
       "        vertical-align: middle;\n",
       "    }\n",
       "\n",
       "    .dataframe tbody tr th {\n",
       "        vertical-align: top;\n",
       "    }\n",
       "\n",
       "    .dataframe thead th {\n",
       "        text-align: right;\n",
       "    }\n",
       "</style>\n",
       "<table border=\"1\" class=\"dataframe\">\n",
       "  <thead>\n",
       "    <tr style=\"text-align: right;\">\n",
       "      <th></th>\n",
       "      <th>0</th>\n",
       "    </tr>\n",
       "  </thead>\n",
       "  <tbody>\n",
       "    <tr>\n",
       "      <th>0</th>\n",
       "      <td>4.526</td>\n",
       "    </tr>\n",
       "    <tr>\n",
       "      <th>1</th>\n",
       "      <td>3.585</td>\n",
       "    </tr>\n",
       "    <tr>\n",
       "      <th>2</th>\n",
       "      <td>3.521</td>\n",
       "    </tr>\n",
       "    <tr>\n",
       "      <th>3</th>\n",
       "      <td>3.413</td>\n",
       "    </tr>\n",
       "    <tr>\n",
       "      <th>4</th>\n",
       "      <td>3.422</td>\n",
       "    </tr>\n",
       "  </tbody>\n",
       "</table>\n",
       "</div>"
      ],
      "text/plain": [
       "       0\n",
       "0  4.526\n",
       "1  3.585\n",
       "2  3.521\n",
       "3  3.413\n",
       "4  3.422"
      ]
     },
     "execution_count": 55,
     "metadata": {},
     "output_type": "execute_result"
    }
   ],
   "source": [
    "y_new = pd.DataFrame(y)\n",
    "y_new.head() # bu target mis mesela ,yani sonuclar, "
   ]
  },
  {
   "cell_type": "code",
   "execution_count": null,
   "id": "bceb420c",
   "metadata": {},
   "outputs": [],
   "source": [
    "#yukarida veri setini input ve output olarak ayirmistik, simdide bunlari Train ve test olarak bölelim"
   ]
  },
  {
   "cell_type": "code",
   "execution_count": 34,
   "id": "2a2036f9",
   "metadata": {},
   "outputs": [],
   "source": [
    "X_train, X_test, y_train, y_test = train_test_split(X, y, random_state=0)"
   ]
  },
  {
   "cell_type": "code",
   "execution_count": 35,
   "id": "f9abc13e",
   "metadata": {},
   "outputs": [],
   "source": [
    "from sklearn.model_selection import RandomizedSearchCV\n",
    "\n",
    "#simdi Random_forest modelindeki en iyi paremetre kombinasyonu icin RandomizedSearcCV teknigini kullaniyorum\n",
    "#bu teknikte rastgele degerler kullanilir"
   ]
  },
  {
   "cell_type": "code",
   "execution_count": 36,
   "id": "3ecfd289",
   "metadata": {},
   "outputs": [],
   "source": [
    "from scipy.stats import randint\n",
    "\n",
    "#simdi n_estmatre ve max depth parametleri icin rastgele degerler üretelim\n",
    "#rastgele degerler üretmek icin Scipy daki Randint fonsiyonunu import edelim\n",
    "#Randint ile rastgele tamsayilar elde edebiliriz\n",
    "\n",
    "#n_estmatre agac sayisiydi,max_depth te o agacin derinligiydi\n",
    "#simdi biz ragtgele degerler üreterek hangi kombinasyonun iyi oldugunu görecegiz"
   ]
  },
  {
   "cell_type": "code",
   "execution_count": 43,
   "id": "f1fad24a",
   "metadata": {},
   "outputs": [],
   "source": [
    "param_distributions = {'n_estimators' : randint(1,5),\n",
    "                       'max_depth' : randint(5,10)}\n",
    "\n",
    "#simdi randint fonksiyonunu kullanrak parametlerimiz icin rastgele degerler üretelim\n",
    "#bunun icin bir dictinary yapisi kullanacagim\n",
    "#param_distributions yazsiktan sonra süslü parantezleri acip,icine n_estmatre yazdiktan sonra \n",
    "#icine 1den 5 e kadar olan rastgele degerler üretmesi icin, randint(1,5) yaziyorum\n",
    "#daha sonra max depth yazip bunun icinde 5 ile 10 arasinda rastgele degerler\n",
    "#üretmesi icin randint(5,10) yaziyorum\n"
   ]
  },
  {
   "cell_type": "code",
   "execution_count": 44,
   "id": "405e0189",
   "metadata": {},
   "outputs": [],
   "source": [
    "from sklearn.ensemble import RandomForestRegressor\n",
    "\n",
    "search = RandomizedSearchCV(\n",
    "    estimator = \n",
    "    #(random_state=0),\n",
    "    n_iter=5,\n",
    "    param_distributions = param_distributions,\n",
    "    random_state=0\n",
    "    )\n",
    "#bununla bir RandomizedSearchCV objesi olusturdum ve icine algoritma \n",
    "\n",
    "#simdi bir search cv objesi olusturalim,bunun icin search yazdiktan sonra \n",
    "#RandomizedSearchCV ve icine estimator yaziyorum,ve icine RandomForestRegressor algoritmasini yaziyorum\n",
    "#ama bunu import etmeyi unut'mayalim\n",
    "#daha sonra n_iter argümani icin 5 degerini kullaniyor,n_iter paramaetre sayisini ifade eder\n",
    "#normalde n_iter default olarak 10 olur\n",
    "#daha sonra biraz önce olusturdugum distribution degiskenini giriyorum\n",
    "#ve bunuda param_distribution degiskenine atiyorum ve bununda random state argümanina 0 yaziyorum"
   ]
  },
  {
   "cell_type": "code",
   "execution_count": 45,
   "id": "157a571e",
   "metadata": {},
   "outputs": [
    {
     "data": {
      "text/html": [
       "<style>#sk-container-id-1 {color: black;background-color: white;}#sk-container-id-1 pre{padding: 0;}#sk-container-id-1 div.sk-toggleable {background-color: white;}#sk-container-id-1 label.sk-toggleable__label {cursor: pointer;display: block;width: 100%;margin-bottom: 0;padding: 0.3em;box-sizing: border-box;text-align: center;}#sk-container-id-1 label.sk-toggleable__label-arrow:before {content: \"▸\";float: left;margin-right: 0.25em;color: #696969;}#sk-container-id-1 label.sk-toggleable__label-arrow:hover:before {color: black;}#sk-container-id-1 div.sk-estimator:hover label.sk-toggleable__label-arrow:before {color: black;}#sk-container-id-1 div.sk-toggleable__content {max-height: 0;max-width: 0;overflow: hidden;text-align: left;background-color: #f0f8ff;}#sk-container-id-1 div.sk-toggleable__content pre {margin: 0.2em;color: black;border-radius: 0.25em;background-color: #f0f8ff;}#sk-container-id-1 input.sk-toggleable__control:checked~div.sk-toggleable__content {max-height: 200px;max-width: 100%;overflow: auto;}#sk-container-id-1 input.sk-toggleable__control:checked~label.sk-toggleable__label-arrow:before {content: \"▾\";}#sk-container-id-1 div.sk-estimator input.sk-toggleable__control:checked~label.sk-toggleable__label {background-color: #d4ebff;}#sk-container-id-1 div.sk-label input.sk-toggleable__control:checked~label.sk-toggleable__label {background-color: #d4ebff;}#sk-container-id-1 input.sk-hidden--visually {border: 0;clip: rect(1px 1px 1px 1px);clip: rect(1px, 1px, 1px, 1px);height: 1px;margin: -1px;overflow: hidden;padding: 0;position: absolute;width: 1px;}#sk-container-id-1 div.sk-estimator {font-family: monospace;background-color: #f0f8ff;border: 1px dotted black;border-radius: 0.25em;box-sizing: border-box;margin-bottom: 0.5em;}#sk-container-id-1 div.sk-estimator:hover {background-color: #d4ebff;}#sk-container-id-1 div.sk-parallel-item::after {content: \"\";width: 100%;border-bottom: 1px solid gray;flex-grow: 1;}#sk-container-id-1 div.sk-label:hover label.sk-toggleable__label {background-color: #d4ebff;}#sk-container-id-1 div.sk-serial::before {content: \"\";position: absolute;border-left: 1px solid gray;box-sizing: border-box;top: 0;bottom: 0;left: 50%;z-index: 0;}#sk-container-id-1 div.sk-serial {display: flex;flex-direction: column;align-items: center;background-color: white;padding-right: 0.2em;padding-left: 0.2em;position: relative;}#sk-container-id-1 div.sk-item {position: relative;z-index: 1;}#sk-container-id-1 div.sk-parallel {display: flex;align-items: stretch;justify-content: center;background-color: white;position: relative;}#sk-container-id-1 div.sk-item::before, #sk-container-id-1 div.sk-parallel-item::before {content: \"\";position: absolute;border-left: 1px solid gray;box-sizing: border-box;top: 0;bottom: 0;left: 50%;z-index: -1;}#sk-container-id-1 div.sk-parallel-item {display: flex;flex-direction: column;z-index: 1;position: relative;background-color: white;}#sk-container-id-1 div.sk-parallel-item:first-child::after {align-self: flex-end;width: 50%;}#sk-container-id-1 div.sk-parallel-item:last-child::after {align-self: flex-start;width: 50%;}#sk-container-id-1 div.sk-parallel-item:only-child::after {width: 0;}#sk-container-id-1 div.sk-dashed-wrapped {border: 1px dashed gray;margin: 0 0.4em 0.5em 0.4em;box-sizing: border-box;padding-bottom: 0.4em;background-color: white;}#sk-container-id-1 div.sk-label label {font-family: monospace;font-weight: bold;display: inline-block;line-height: 1.2em;}#sk-container-id-1 div.sk-label-container {text-align: center;}#sk-container-id-1 div.sk-container {/* jupyter's `normalize.less` sets `[hidden] { display: none; }` but bootstrap.min.css set `[hidden] { display: none !important; }` so we also need the `!important` here to be able to override the default hidden behavior on the sphinx rendered scikit-learn.org. See: https://github.com/scikit-learn/scikit-learn/issues/21755 */display: inline-block !important;position: relative;}#sk-container-id-1 div.sk-text-repr-fallback {display: none;}</style><div id=\"sk-container-id-1\" class=\"sk-top-container\"><div class=\"sk-text-repr-fallback\"><pre>RandomizedSearchCV(estimator=RandomForestRegressor(random_state=0), n_iter=5,\n",
       "                   param_distributions={&#x27;max_depth&#x27;: &lt;scipy.stats._distn_infrastructure.rv_frozen object at 0x7fb949d0d2e0&gt;,\n",
       "                                        &#x27;n_estimators&#x27;: &lt;scipy.stats._distn_infrastructure.rv_frozen object at 0x7fb95b884d60&gt;},\n",
       "                   random_state=0)</pre><b>In a Jupyter environment, please rerun this cell to show the HTML representation or trust the notebook. <br />On GitHub, the HTML representation is unable to render, please try loading this page with nbviewer.org.</b></div><div class=\"sk-container\" hidden><div class=\"sk-item sk-dashed-wrapped\"><div class=\"sk-label-container\"><div class=\"sk-label sk-toggleable\"><input class=\"sk-toggleable__control sk-hidden--visually\" id=\"sk-estimator-id-1\" type=\"checkbox\" ><label for=\"sk-estimator-id-1\" class=\"sk-toggleable__label sk-toggleable__label-arrow\">RandomizedSearchCV</label><div class=\"sk-toggleable__content\"><pre>RandomizedSearchCV(estimator=RandomForestRegressor(random_state=0), n_iter=5,\n",
       "                   param_distributions={&#x27;max_depth&#x27;: &lt;scipy.stats._distn_infrastructure.rv_frozen object at 0x7fb949d0d2e0&gt;,\n",
       "                                        &#x27;n_estimators&#x27;: &lt;scipy.stats._distn_infrastructure.rv_frozen object at 0x7fb95b884d60&gt;},\n",
       "                   random_state=0)</pre></div></div></div><div class=\"sk-parallel\"><div class=\"sk-parallel-item\"><div class=\"sk-item\"><div class=\"sk-label-container\"><div class=\"sk-label sk-toggleable\"><input class=\"sk-toggleable__control sk-hidden--visually\" id=\"sk-estimator-id-2\" type=\"checkbox\" ><label for=\"sk-estimator-id-2\" class=\"sk-toggleable__label sk-toggleable__label-arrow\">estimator: RandomForestRegressor</label><div class=\"sk-toggleable__content\"><pre>RandomForestRegressor(random_state=0)</pre></div></div></div><div class=\"sk-serial\"><div class=\"sk-item\"><div class=\"sk-estimator sk-toggleable\"><input class=\"sk-toggleable__control sk-hidden--visually\" id=\"sk-estimator-id-3\" type=\"checkbox\" ><label for=\"sk-estimator-id-3\" class=\"sk-toggleable__label sk-toggleable__label-arrow\">RandomForestRegressor</label><div class=\"sk-toggleable__content\"><pre>RandomForestRegressor(random_state=0)</pre></div></div></div></div></div></div></div></div></div></div>"
      ],
      "text/plain": [
       "RandomizedSearchCV(estimator=RandomForestRegressor(random_state=0), n_iter=5,\n",
       "                   param_distributions={'max_depth': <scipy.stats._distn_infrastructure.rv_frozen object at 0x7fb949d0d2e0>,\n",
       "                                        'n_estimators': <scipy.stats._distn_infrastructure.rv_frozen object at 0x7fb95b884d60>},\n",
       "                   random_state=0)"
      ]
     },
     "execution_count": 45,
     "metadata": {},
     "output_type": "execute_result"
    }
   ],
   "source": [
    "search.fit(X_train, y_train)\n",
    "\n",
    "#simdide egitim verisini bu objeye fit edelim\n",
    "#search fit yazip daha sonra icine egitim verilerini , ve test verilerini yaziyorum\n",
    "#bu asamada modeli egitmek istiyorum,\n",
    "#calistiriyorum, böylece cesitli parametre kombinasyonlarina göre modeller kuruldu\n"
   ]
  },
  {
   "cell_type": "code",
   "execution_count": 46,
   "id": "45c59554",
   "metadata": {},
   "outputs": [
    {
     "data": {
      "text/plain": [
       "{'max_depth': 6, 'n_estimators': 4}"
      ]
     },
     "execution_count": 46,
     "metadata": {},
     "output_type": "execute_result"
    }
   ],
   "source": [
    "search.best_params_\n",
    "\n",
    "##en iyi parametleri görmek icin best_param yöntemini kullanalim\n",
    "#search yazip best_param_ i yaziyorum\n",
    "#en iyi model icin parametre degerleri ekrana yazildi\n",
    "#en iyi model icin maksimum derinlik 9, n_estimators(agac sayisida 4 olarak bulduk)\n",
    "\n",
    "#searc oblesi normal bir randomForestTahmincisi gibi calisir,cünkü search kurarken yukarda icine \n",
    "#RandomForestRegressor yazdik"
   ]
  },
  {
   "cell_type": "code",
   "execution_count": 47,
   "id": "2c7a3b53",
   "metadata": {},
   "outputs": [
    {
     "data": {
      "text/plain": [
       "0.7788725979660921"
      ]
     },
     "execution_count": 47,
     "metadata": {},
     "output_type": "execute_result"
    }
   ],
   "source": [
    "search.score(X_test,y_test)\n",
    "\n",
    "#simdi bu en iyi parametreler ile, test verisi ile modelim performansini görelim"
   ]
  },
  {
   "cell_type": "code",
   "execution_count": null,
   "id": "97055ea7",
   "metadata": {},
   "outputs": [],
   "source": []
  },
  {
   "cell_type": "code",
   "execution_count": null,
   "id": "e1cf8236",
   "metadata": {},
   "outputs": [],
   "source": []
  },
  {
   "cell_type": "code",
   "execution_count": null,
   "id": "1cbc9490",
   "metadata": {},
   "outputs": [],
   "source": []
  },
  {
   "cell_type": "markdown",
   "id": "2618a9b9",
   "metadata": {},
   "source": [
    "## Preprocessing (veri ön isleme)"
   ]
  },
  {
   "cell_type": "markdown",
   "id": "0e762ed6",
   "metadata": {},
   "source": [
    "### Data Scaling"
   ]
  },
  {
   "cell_type": "code",
   "execution_count": null,
   "id": "0a0e5002",
   "metadata": {},
   "outputs": [],
   "source": [
    "#simdi scikitlearn ile veri ön isleme yapalim  kurabiliriz hemde daha hizli model egitebilirim\n",
    "#veri ölcekleme veri isleme asamalarindan biridir\n",
    "#verileri ölceklendirmek icin, STANDARTLASTIRMA  ve NORMALLESTIRME gibi cesitli teknikler vardir\n",
    "#verileri standartlastirmak icin StandardScaler bu kütüphaneyi import edelim"
   ]
  },
  {
   "cell_type": "code",
   "execution_count": null,
   "id": "4401120f",
   "metadata": {},
   "outputs": [],
   "source": [
    "from sklearn.preprocessing import StandardScaler    #StandartScaler sinifini import edelim"
   ]
  },
  {
   "cell_type": "code",
   "execution_count": null,
   "id": "63fb9ccb",
   "metadata": {},
   "outputs": [],
   "source": [
    "X = [[0,15,2],\n",
    "    [1,-10,3]] "
   ]
  },
  {
   "cell_type": "code",
   "execution_count": null,
   "id": "7ad7f817",
   "metadata": {},
   "outputs": [],
   "source": [
    "StandardScaler().fit(X).transform(X)\n",
    "\n",
    "#simdi fit methodu ile parametleri egitelim ve transform methodu ile verileri ölcekleyelim\n",
    "#burda fit methodu parametreleri egitecek bu egitilen parametlere göre  \n",
    "#sonra transform methodunu kullanarak X degiskenindeki verileri  ölcekleyecem\n",
    "\n",
    "#burdan görüyorum ki veriler -1 ve 1 degerlerine dönüstü\n",
    "\n",
    "array([[-1.,  1., -1.],\n",
    "       [ 1., -1.,  1.]]) #böyle cikti veriyor"
   ]
  },
  {
   "cell_type": "code",
   "execution_count": null,
   "id": "cc27679b",
   "metadata": {},
   "outputs": [],
   "source": []
  },
  {
   "cell_type": "code",
   "execution_count": null,
   "id": "7f5f67dc",
   "metadata": {},
   "outputs": [],
   "source": []
  },
  {
   "cell_type": "markdown",
   "id": "38a7141f",
   "metadata": {},
   "source": [
    "## Veri görsellestirme "
   ]
  },
  {
   "cell_type": "code",
   "execution_count": null,
   "id": "38362297",
   "metadata": {},
   "outputs": [],
   "source": [
    "plt.plot(x_fit,y_pred);\n",
    "\n",
    "#bu kendi linspace ile olusturdugu x_fit ve onun modelden gelen tahmini olan y_pred\n",
    "# y=ax+b grafigi ciziyor, yani regression"
   ]
  },
  {
   "cell_type": "code",
   "execution_count": null,
   "id": "df1d00d5",
   "metadata": {},
   "outputs": [],
   "source": [
    "plt.scatter(x,y)\n",
    "plt.plot(x_fit,y_pred);\n",
    "\n",
    "\n",
    "#burda x ve y ler baska veri degerleriyle onlari yukarida rng ile buldu\n",
    "#ama x_fit'i linspace ile buldu ve x_fit'Linear Regression modeliyle egiterek y_predleri buldu\n",
    "#burda icinde regression dogrusu bulunan scatter var"
   ]
  },
  {
   "cell_type": "code",
   "execution_count": null,
   "id": "a6805736",
   "metadata": {},
   "outputs": [],
   "source": []
  },
  {
   "cell_type": "markdown",
   "id": "e57013cb",
   "metadata": {},
   "source": [
    "# Kendi yorumlarim"
   ]
  },
  {
   "cell_type": "code",
   "execution_count": null,
   "id": "df24fa5a",
   "metadata": {},
   "outputs": [],
   "source": [
    "#burda ilk defa bir makine ögrenmesi calismasi yaptim bekledigimden cok kolay geldi bana\n",
    "#bence bunun sebebi modelin zaten hazir olmasindan dolayiydi,\n",
    "#biz sadece erimizi bölüp, egittik ve test ettik, o kendisi degerler buldu\n",
    "\n",
    "#aslinda bununla ilgili ilk izlenimim , güzel bir tahmin yapmasi beni gercekten cok sasirtti,\n",
    "#demekki bizim verdigimiz veriler arasinda bir iliski bulup, ona göre bir tahminde bulunuyor\n",
    "\n",
    "\n",
    "#ama galiba benim gömlünde yatan calisma sekli, modelide benim kuracagim, calisma yöntemleri\n",
    "#oda galiba Derin ögrenme veya sinir aglari konularina giriyor\n",
    "\n",
    "#ama yinede bu calismayi yapmak benim icin güzel bir deneyim oldu"
   ]
  },
  {
   "cell_type": "code",
   "execution_count": null,
   "id": "36b262e7",
   "metadata": {},
   "outputs": [],
   "source": []
  },
  {
   "cell_type": "code",
   "execution_count": null,
   "id": "4315a04d",
   "metadata": {},
   "outputs": [],
   "source": []
  },
  {
   "cell_type": "code",
   "execution_count": null,
   "id": "5c31a38c",
   "metadata": {},
   "outputs": [],
   "source": []
  },
  {
   "cell_type": "code",
   "execution_count": null,
   "id": "5ce6c862",
   "metadata": {},
   "outputs": [],
   "source": []
  }
 ],
 "metadata": {
  "kernelspec": {
   "display_name": "Python 3 (ipykernel)",
   "language": "python",
   "name": "python3"
  },
  "language_info": {
   "codemirror_mode": {
    "name": "ipython",
    "version": 3
   },
   "file_extension": ".py",
   "mimetype": "text/x-python",
   "name": "python",
   "nbconvert_exporter": "python",
   "pygments_lexer": "ipython3",
   "version": "3.9.12"
  }
 },
 "nbformat": 4,
 "nbformat_minor": 5
}
